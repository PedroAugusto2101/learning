{
 "cells": [
  {
   "cell_type": "markdown",
   "metadata": {},
   "source": [
    "# Supervised Learning Model Representation"
   ]
  },
  {
   "cell_type": "markdown",
   "metadata": {},
   "source": [
    "## 🎯 Learning Objectives\n",
    "\n",
    "In this notebook, you will:\n",
    "- Understand the structure of a supervised ML model\n",
    "- Learn common mathematical notations in ML\n",
    "- Implement and visualize a simple linear model\n",
    "- Apply modular code practices for ML development\n",
    "- Generate predictions using your model\n",
    "- Follow best practices for scalable ML projects"
   ]
  },
  {
   "cell_type": "markdown",
   "metadata": {},
   "source": [
    "## 🔤 Common Notation\n",
    "\n",
    "| Symbol | Meaning | Python Equivalent |\n",
    "|--------|---------|-------------------|\n",
    "| $x$ | Feature (scalar) | `x` |\n",
    "| $\\mathbf{x}$ | Feature vector | `x_train[i]` |\n",
    "| $y$ | Label or target | `y_train[i]` |\n",
    "| $m$ | Number of examples | `len(x_train)` |\n",
    "| $n$ | Features per example | `x.shape[1]` |\n",
    "| $x^{(i)}$ | $i$-th example | `x_train[i]` |\n",
    "| $y^{(i)}$ | Label for $x^{(i)}$ | `y_train[i]` |\n",
    "| $w$ | Weight vector | `w` |\n",
    "| $b$ | Bias term | `b` |\n",
    "| $\\hat{y}$ or $f_{w,b}(x)$ | Prediction | `w * x + b` |"
   ]
  },
  {
   "cell_type": "markdown",
   "metadata": {},
   "source": [
    "## 🧩 Basic Model Equation\n",
    "\n",
    "A typical linear regression model follows:\n",
    "\n",
    "$$\\hat{y} = f_{w,b}(x) = w \\cdot x + b$$"
   ]
  },
  {
   "cell_type": "markdown",
   "metadata": {},
   "source": [
    "## 🛠️ Required Libraries"
   ]
  },
  {
   "cell_type": "code",
   "execution_count": null,
   "metadata": {},
   "outputs": [],
   "source": [
    "import numpy as np\n",
    "import matplotlib.pyplot as plt\n",
    "from sklearn.linear_model import LinearRegression"
   ]
  },
  {
   "cell_type": "markdown",
   "metadata": {},
   "source": [
    "## 📁 Example Dataset"
   ]
  },
  {
   "cell_type": "code",
   "execution_count": null,
   "metadata": {},
   "outputs": [],
   "source": [
    "x_train = np.array([1.0, 2.0]).reshape(-1, 1)\n",
    "y_train = np.array([300.0, 500.0])\n",
    "\n",
    "print(x_train)\n",
    "print(y_train)"
   ]
  },
  {
   "cell_type": "markdown",
   "metadata": {},
   "source": [
    "## 📉 Visualizing the Data"
   ]
  },
  {
   "cell_type": "code",
   "execution_count": null,
   "metadata": {},
   "outputs": [],
   "source": [
    "plt.scatter(x_train, y_train, color='red', marker='x')\n",
    "plt.xlabel('Size (1000 sqft)')\n",
    "plt.ylabel('Price ($1000s)')\n",
    "plt.title('Housing Prices')\n",
    "plt.show()"
   ]
  },
  {
   "cell_type": "markdown",
   "metadata": {},
   "source": [
    "## 🔄 Model Function"
   ]
  },
  {
   "cell_type": "code",
   "execution_count": null,
   "metadata": {},
   "outputs": [],
   "source": [
    "def compute_model_output(x, w, b):\n",
    "    \"\"\"Compute linear model predictions\"\"\"\n",
    "    return np.dot(x, w) + b"
   ]
  },
  {
   "cell_type": "markdown",
   "metadata": {},
   "source": [
    "## ⚙️ Model Training"
   ]
  },
  {
   "cell_type": "code",
   "execution_count": null,
   "metadata": {},
   "outputs": [],
   "source": [
    "# Manual parameters\n",
    "w = np.array([200])\n",
    "b = 100\n",
    "preds = compute_model_output(x_train, w, b)\n",
    "print(preds)"
   ]
  },
  {
   "cell_type": "code",
   "execution_count": null,
   "metadata": {},
   "outputs": [],
   "source": [
    "# Using sklearn\n",
    "model = LinearRegression()\n",
    "model.fit(x_train, y_train)\n",
    "w = model.coef_\n",
    "b = model.intercept_"
   ]
  },
  {
   "cell_type": "markdown",
   "metadata": {},
   "source": [
    "## 📈 Model Fit Visualization"
   ]
  },
  {
   "cell_type": "code",
   "execution_count": null,
   "metadata": {},
   "outputs": [],
   "source": [
    "plt.scatter(x_train, y_train, marker='x', color='red', label='Actual')\n",
    "plt.plot(x_train, compute_model_output(x_train, w, b), label='Prediction', color='blue')\n",
    "plt.xlabel(\"Size (1000 sqft)\")\n",
    "plt.ylabel(\"Price ($1000s)\")\n",
    "plt.title(\"Linear Regression Fit\")\n",
    "plt.legend()\n",
    "plt.show()"
   ]
  },
  {
   "cell_type": "markdown",
   "metadata": {},
   "source": [
    "## 🔍 Predictions"
   ]
  },
  {
   "cell_type": "code",
   "execution_count": null,
   "metadata": {},
   "outputs": [],
   "source": [
    "x_test = np.array([[1.7]])\n",
    "predicted_price = compute_model_output(x_test, w, b)\n",
    "print(f\"Predicted price: ${predicted_price[0]:.0f} thousand dollars\")"
   ]
  },
  {
   "cell_type": "markdown",
   "metadata": {},
   "source": [
    "## 🗂️ Recommended Project Structure\n",
    "\n",
    "```\n",
    "ml_project/\n",
    "├── data/\n",
    "├── notebooks/\n",
    "├── models/\n",
    "├── utils/\n",
    "├── src/\n",
    "│   ├── train.py\n",
    "│   ├── predict.py\n",
    "│   └── model.py\n",
    "├── requirements.txt\n",
    "└── README.md\n",
    "```"
   ]
  },
  {
   "cell_type": "markdown",
   "metadata": {},
   "source": [
    "## 🚀 Typical ML Pipeline\n",
    "\n",
    "1. Data Collection  \n",
    "2. Data Exploration  \n",
    "3. Feature Engineering  \n",
    "4. Model Definition  \n",
    "5. Model Training  \n",
    "6. Model Evaluation  \n",
    "7. Prediction  \n",
    "8. Deployment  \n",
    "9. Monitoring  "
   ]
  },
  {
   "cell_type": "markdown",
   "metadata": {},
   "source": [
    "## ✅ Best Practices\n",
    "\n",
    "- Use vectorized computations\n",
    "- Split data into train/test\n",
    "- Automate workflows using pipelines\n",
    "- Use cross-validation for evaluation\n",
    "- Track and log experiments\n",
    "- Keep code modular and clean"
   ]
  },
  {
   "cell_type": "markdown",
   "metadata": {},
   "source": [
    "## 📌 Summary\n",
    "\n",
    "- Models map inputs $x$ to outputs $y$ via parameters $w$ and $b$  \n",
    "- Linear regression is defined as $\\hat{y} = wx + b$  \n",
    "- Visualizations help interpret model behavior  \n",
    "- Clean structure supports scalability"
   ]
  }
 ],
 "metadata": {
  "kernelspec": {
   "display_name": "Python 3",
   "language": "python",
   "name": "python3"
  },
  "language_info": {
   "name": "python",
   "version": ""
  }
 },
 "nbformat": 4,
 "nbformat_minor": 5
}
