{
 "cells": [
  {
   "cell_type": "markdown",
   "metadata": {
    "application/vnd.databricks.v1+cell": {
     "cellMetadata": {
      "byteLimit": 2048000,
      "rowLimit": 10000
     },
     "inputWidgets": {},
     "nuid": "67dd2032-f474-4d98-ae43-17e03bdc3b7a",
     "showTitle": false,
     "tableResultSettingsMap": {},
     "title": ""
    }
   },
   "source": [
    "# Pyspark Fundamentos\n",
    "---"
   ]
  },
  {
   "cell_type": "markdown",
   "metadata": {
    "application/vnd.databricks.v1+cell": {
     "cellMetadata": {
      "byteLimit": 2048000,
      "rowLimit": 10000
     },
     "inputWidgets": {},
     "nuid": "a0b94886-3e5b-4e8f-a887-59af313f99f3",
     "showTitle": false,
     "tableResultSettingsMap": {},
     "title": ""
    }
   },
   "source": [
    "## O que é o Databricks?\n",
    "- Plataforma de análise baseada no Apache Spark;\n",
    "- Possui fluxos de trabalho simplificados e um workspace interativo que permite a colaboração entre cientistas, engenheiros e analistas de dados;\n",
    "- Suporta desenvolvimento em Python, Scala, R e SQL;\n",
    "- O Databricks é uma ferramenta paga, disponível no Azure, AWS e Google Cloude Platform;"
   ]
  },
  {
   "cell_type": "markdown",
   "metadata": {
    "application/vnd.databricks.v1+cell": {
     "cellMetadata": {
      "byteLimit": 2048000,
      "rowLimit": 10000
     },
     "inputWidgets": {},
     "nuid": "5c7c6e8a-c284-4c96-8668-ebb28ccbef73",
     "showTitle": false,
     "tableResultSettingsMap": {},
     "title": ""
    }
   },
   "source": [
    "## PySpark\n",
    "- Apache Spark - escrito na linguagem Scala;\n",
    "- Criado para apoiar a colaboração do Apache Spark e Python - é uma API Python para Spark"
   ]
  },
  {
   "cell_type": "code",
   "execution_count": 2,
   "metadata": {},
   "outputs": [],
   "source": [
    "import os\n",
    "import sys"
   ]
  },
  {
   "cell_type": "code",
   "execution_count": null,
   "metadata": {},
   "outputs": [],
   "source": [
    "from pyspark.sql import SparkSession"
   ]
  },
  {
   "cell_type": "markdown",
   "metadata": {
    "application/vnd.databricks.v1+cell": {
     "cellMetadata": {
      "byteLimit": 2048000,
      "rowLimit": 10000
     },
     "inputWidgets": {},
     "nuid": "dc5b2779-7217-464e-a666-39404ca69e1b",
     "showTitle": false,
     "tableResultSettingsMap": {},
     "title": ""
    }
   },
   "source": [
    "## Criar DF / ler arquivo\n",
    "---"
   ]
  },
  {
   "cell_type": "code",
   "execution_count": 0,
   "metadata": {
    "application/vnd.databricks.v1+cell": {
     "cellMetadata": {
      "byteLimit": 2048000,
      "rowLimit": 10000
     },
     "inputWidgets": {},
     "nuid": "2ac472ae-6daa-41d6-93e7-1e84abb3461a",
     "showTitle": false,
     "tableResultSettingsMap": {},
     "title": ""
    }
   },
   "outputs": [],
   "source": [
    "# header=True -> define a primeira linha como cabeçalho\n",
    "# inferSchema=True -> define o tipo das colunas automaticamente\n",
    "df = spark.read.csv(\"/Volumes/lcb_qas_sandbox_comercial/pedro_silva/learning/wc2018-players.csv\", header=True, inferSchema=True)\n"
   ]
  },
  {
   "cell_type": "markdown",
   "metadata": {
    "application/vnd.databricks.v1+cell": {
     "cellMetadata": {},
     "inputWidgets": {},
     "nuid": "5b23f86a-9aff-45c7-bb1e-3e5bee48ae75",
     "showTitle": false,
     "tableResultSettingsMap": {},
     "title": ""
    }
   },
   "source": [
    "## Exibir DF\n",
    "---"
   ]
  },
  {
   "cell_type": "code",
   "execution_count": 0,
   "metadata": {
    "application/vnd.databricks.v1+cell": {
     "cellMetadata": {
      "byteLimit": 2048000,
      "rowLimit": 10000
     },
     "inputWidgets": {},
     "nuid": "3c9fb62d-c42c-4e2d-9fea-39f048cfe929",
     "showTitle": false,
     "tableResultSettingsMap": {},
     "title": ""
    }
   },
   "outputs": [
    {
     "name": "stdout",
     "output_type": "stream",
     "text": [
      "+---------+---+----+------------------+----------+----------+--------------------+------+------+\n",
      "|     Team|  #|Pos.| FIFA Popular Name|Birth Date|Shirt Name|                Club|Height|Weight|\n",
      "+---------+---+----+------------------+----------+----------+--------------------+------+------+\n",
      "|Argentina|  3|  DF|TAGLIAFICO Nicolas|1992-08-31|TAGLIAFICO|      AFC Ajax (NED)|   169|    65|\n",
      "|Argentina| 22|  MF|    PAVON Cristian|1996-01-21|     PAVÓN|CA Boca Juniors (...|   169|    65|\n",
      "|Argentina| 15|  MF|    LANZINI Manuel|1993-02-15|   LANZINI|West Ham United F...|   167|    66|\n",
      "|Argentina| 18|  DF|    SALVIO Eduardo|1990-07-13|    SALVIO|    SL Benfica (POR)|   167|    69|\n",
      "|Argentina| 10|  FW|      MESSI Lionel|1987-06-24|     MESSI|  FC Barcelona (ESP)|   170|    72|\n",
      "+---------+---+----+------------------+----------+----------+--------------------+------+------+\n",
      "only showing top 5 rows\n",
      "\n"
     ]
    }
   ],
   "source": [
    "# default value do .show() é 20\n",
    "df.show(5)"
   ]
  },
  {
   "cell_type": "code",
   "execution_count": 0,
   "metadata": {
    "application/vnd.databricks.v1+cell": {
     "cellMetadata": {
      "byteLimit": 2048000,
      "rowLimit": 10000
     },
     "inputWidgets": {},
     "nuid": "a11ed162-498c-4bc3-af97-46be359a3146",
     "showTitle": false,
     "tableResultSettingsMap": {},
     "title": ""
    }
   },
   "outputs": [
    {
     "data": {
      "text/html": [
       "<style scoped>\n",
       "  .table-result-container {\n",
       "    max-height: 300px;\n",
       "    overflow: auto;\n",
       "  }\n",
       "  table, th, td {\n",
       "    border: 1px solid black;\n",
       "    border-collapse: collapse;\n",
       "  }\n",
       "  th, td {\n",
       "    padding: 5px;\n",
       "  }\n",
       "  th {\n",
       "    text-align: left;\n",
       "  }\n",
       "</style><div class='table-result-container'><table class='table-result'><thead style='background-color: white'><tr><th>Team</th><th>#</th><th>Pos.</th><th>FIFA Popular Name</th><th>Birth Date</th><th>Shirt Name</th><th>Club</th><th>Height</th><th>Weight</th></tr></thead><tbody><tr><td>Argentina</td><td>3</td><td>DF</td><td>TAGLIAFICO Nicolas</td><td>1992-08-31</td><td>TAGLIAFICO</td><td>AFC Ajax (NED)</td><td>169</td><td>65</td></tr><tr><td>Argentina</td><td>22</td><td>MF</td><td>PAVON Cristian</td><td>1996-01-21</td><td>PAVÓN</td><td>CA Boca Juniors (ARG)</td><td>169</td><td>65</td></tr><tr><td>Argentina</td><td>15</td><td>MF</td><td>LANZINI Manuel</td><td>1993-02-15</td><td>LANZINI</td><td>West Ham United FC (ENG)</td><td>167</td><td>66</td></tr><tr><td>Argentina</td><td>18</td><td>DF</td><td>SALVIO Eduardo</td><td>1990-07-13</td><td>SALVIO</td><td>SL Benfica (POR)</td><td>167</td><td>69</td></tr><tr><td>Argentina</td><td>10</td><td>FW</td><td>MESSI Lionel</td><td>1987-06-24</td><td>MESSI</td><td>FC Barcelona (ESP)</td><td>170</td><td>72</td></tr><tr><td>Argentina</td><td>4</td><td>DF</td><td>ANSALDI Cristian</td><td>1986-09-20</td><td>ANSALDI</td><td>Torino FC (ITA)</td><td>181</td><td>73</td></tr><tr><td>Argentina</td><td>5</td><td>MF</td><td>BIGLIA Lucas</td><td>1986-01-30</td><td>BIGLIA</td><td>AC Milan (ITA)</td><td>175</td><td>73</td></tr><tr><td>Argentina</td><td>7</td><td>MF</td><td>BANEGA Ever</td><td>1988-06-29</td><td>BANEGA</td><td>Sevilla FC (ESP)</td><td>175</td><td>73</td></tr><tr><td>Argentina</td><td>14</td><td>DF</td><td>MASCHERANO Javier</td><td>1984-06-08</td><td>MASCHERANO</td><td>Hebei China Fortune FC (CHN)</td><td>174</td><td>73</td></tr><tr><td>Argentina</td><td>21</td><td>FW</td><td>DYBALA Paulo</td><td>1993-11-15</td><td>DYBALA</td><td>Juventus FC (ITA)</td><td>177</td><td>73</td></tr><tr><td>Argentina</td><td>19</td><td>FW</td><td>AGUERO Sergio</td><td>1988-06-02</td><td>AGÜERO</td><td>Manchester City FC (ENG)</td><td>172</td><td>74</td></tr><tr><td>Argentina</td><td>9</td><td>FW</td><td>HIGUAIN Gonzalo</td><td>1987-12-10</td><td>HIGUAÍN</td><td>Juventus FC (ITA)</td><td>184</td><td>75</td></tr><tr><td>Argentina</td><td>11</td><td>MF</td><td>DI MARIA Angel</td><td>1988-02-14</td><td>DI MARÍA</td><td>Paris Saint-Germain FC (FRA)</td><td>178</td><td>75</td></tr><tr><td>Argentina</td><td>20</td><td>MF</td><td>LO CELSO Giovani</td><td>1996-04-09</td><td>LO CELSO</td><td>Paris Saint-Germain FC (FRA)</td><td>177</td><td>75</td></tr><tr><td>Argentina</td><td>13</td><td>MF</td><td>MEZA Maximiliano</td><td>1992-12-15</td><td>MEZA</td><td>CA Independiente (ARG)</td><td>180</td><td>76</td></tr><tr><td>Argentina</td><td>8</td><td>DF</td><td>ACUNA Marcos</td><td>1991-10-28</td><td>ACUÑA</td><td>Sporting CP (POR)</td><td>172</td><td>77</td></tr><tr><td>Argentina</td><td>23</td><td>GK</td><td>CABALLERO Wilfredo</td><td>1981-09-28</td><td>CABALLERO</td><td>Chelsea FC (ENG)</td><td>186</td><td>80</td></tr><tr><td>Argentina</td><td>2</td><td>DF</td><td>MERCADO Gabriel</td><td>1987-03-18</td><td>MERCADO</td><td>Sevilla FC (ESP)</td><td>181</td><td>81</td></tr><tr><td>Argentina</td><td>17</td><td>DF</td><td>OTAMENDI Nicolas</td><td>1988-02-12</td><td>OTAMENDI</td><td>Manchester City FC (ENG)</td><td>181</td><td>81</td></tr><tr><td>Argentina</td><td>16</td><td>DF</td><td>ROJO Marcos</td><td>1990-03-20</td><td>ROJO</td><td>Manchester United FC (ENG)</td><td>189</td><td>82</td></tr><tr><td>Argentina</td><td>6</td><td>DF</td><td>FAZIO Federico</td><td>1987-03-17</td><td>FAZIO</td><td>AS Roma (ITA)</td><td>199</td><td>85</td></tr><tr><td>Argentina</td><td>12</td><td>GK</td><td>ARMANI Franco</td><td>1986-10-16</td><td>ARMANI</td><td>CA River Plate (ARG)</td><td>189</td><td>85</td></tr><tr><td>Argentina</td><td>1</td><td>GK</td><td>GUZMAN Nahuel</td><td>1986-02-10</td><td>GUZMÁN</td><td>Tigres UANL (MEX)</td><td>192</td><td>90</td></tr><tr><td>Australia</td><td>16</td><td>DF</td><td>BEHICH Aziz</td><td>1990-12-16</td><td>BEHICH</td><td>Bursaspor (TUR)</td><td>170</td><td>63</td></tr><tr><td>Australia</td><td>10</td><td>FW</td><td>KRUSE Robbie</td><td>1988-10-05</td><td>KRUSE</td><td>VfL Bochum (GER)</td><td>180</td><td>66</td></tr><tr><td>Australia</td><td>19</td><td>DF</td><td>RISDON Joshua</td><td>1992-07-27</td><td>RISDON</td><td>WS Wanderers FC (AUS)</td><td>169</td><td>70</td></tr><tr><td>Australia</td><td>3</td><td>DF</td><td>MEREDITH James</td><td>1988-04-05</td><td>MEREDITH</td><td>Millwall FC (ENG)</td><td>179</td><td>71</td></tr><tr><td>Australia</td><td>13</td><td>MF</td><td>MOOY Aaron</td><td>1990-09-15</td><td>MOOY</td><td>Huddersfield Town FC (ENG)</td><td>173</td><td>72</td></tr><tr><td>Australia</td><td>14</td><td>FW</td><td>MacLAREN Jamie</td><td>1993-07-29</td><td>MACLAREN</td><td>Hibernian FC (SCO)</td><td>178</td><td>72</td></tr><tr><td>Australia</td><td>21</td><td>FW</td><td>PETRATOS Dimitrios</td><td>1992-11-10</td><td>PETRATOS</td><td>Newcastle United Jets FC (AUS)</td><td>176</td><td>72</td></tr><tr><td>Australia</td><td>17</td><td>FW</td><td>ARZANI Daniel</td><td>1999-01-04</td><td>ARZANI</td><td>Melbourne City FC (AUS)</td><td>171</td><td>73</td></tr><tr><td>Australia</td><td>4</td><td>FW</td><td>CAHILL Tim</td><td>1979-12-06</td><td>CAHILL</td><td>Millwall FC (ENG)</td><td>180</td><td>76</td></tr><tr><td>Australia</td><td>8</td><td>MF</td><td>LUONGO Massimo</td><td>1992-09-25</td><td>LUONGO</td><td>Queens Park Rangers FC (ENG)</td><td>176</td><td>76</td></tr><tr><td>Australia</td><td>20</td><td>DF</td><td>SAINSBURY Trent</td><td>1992-01-05</td><td>SAINSBURY</td><td>Grasshopper Club (SUI)</td><td>183</td><td>76</td></tr><tr><td>Australia</td><td>22</td><td>MF</td><td>IRVINE Jackson</td><td>1993-03-07</td><td>IRVINE</td><td>Hull City FC (ENG)</td><td>180</td><td>77</td></tr><tr><td>Australia</td><td>5</td><td>DF</td><td>MILLIGAN Mark</td><td>1985-08-04</td><td>MILLIGAN</td><td>Al Ahli SC (KSA)</td><td>178</td><td>78</td></tr><tr><td>Australia</td><td>15</td><td>MF</td><td>JEDINAK Mile</td><td>1984-08-03</td><td>JEDINAK</td><td>Aston Villa FC (ENG)</td><td>188</td><td>78</td></tr><tr><td>Australia</td><td>9</td><td>FW</td><td>JURIC Tomi</td><td>1991-07-22</td><td>JURIC</td><td>FC Luzern (SUI)</td><td>190</td><td>80</td></tr><tr><td>Australia</td><td>1</td><td>GK</td><td>RYAN Mathew</td><td>1992-04-08</td><td>RYAN</td><td>Brighton & Hove Albion FC (ENG)</td><td>184</td><td>82</td></tr><tr><td>Australia</td><td>6</td><td>DF</td><td>JURMAN Matthew</td><td>1989-12-08</td><td>JURMAN</td><td>Suwon Samsung Bluewings FC (KOR)</td><td>190</td><td>83</td></tr><tr><td>Australia</td><td>7</td><td>FW</td><td>LECKIE Mathew</td><td>1991-02-04</td><td>LECKIE</td><td>Hertha BSC (GER)</td><td>181</td><td>84</td></tr><tr><td>Australia</td><td>2</td><td>DF</td><td>DEGENEK Milos</td><td>1994-04-28</td><td>DEGENEK</td><td>Yokohama F-Marinos (JPN)</td><td>187</td><td>85</td></tr><tr><td>Australia</td><td>11</td><td>FW</td><td>NABBOUT Andrew</td><td>1992-12-17</td><td>NABBOUT</td><td>Urawa Reds (JPN)</td><td>178</td><td>85</td></tr><tr><td>Australia</td><td>12</td><td>GK</td><td>JONES Brad</td><td>1982-03-19</td><td>JONES</td><td>Feyenoord Rotterdam (NED)</td><td>193</td><td>87</td></tr><tr><td>Australia</td><td>23</td><td>MF</td><td>ROGIC Tom</td><td>1992-12-16</td><td>ROGIC</td><td>Celtic FC (SCO)</td><td>189</td><td>88</td></tr><tr><td>Australia</td><td>18</td><td>GK</td><td>VUKOVIC Danny</td><td>1985-03-27</td><td>VUKOVIC</td><td>KRC Genk (BEL)</td><td>187</td><td>94</td></tr><tr><td>Belgium</td><td>14</td><td>FW</td><td>MERTENS Dries</td><td>1987-05-06</td><td>MERTENS</td><td>SSC Napoli (ITA)</td><td>169</td><td>61</td></tr><tr><td>Belgium</td><td>11</td><td>MF</td><td>CARRASCO Yannick</td><td>1993-09-04</td><td>CARRASCO</td><td>Dalian Yifang FC (CHN)</td><td>180</td><td>67</td></tr><tr><td>Belgium</td><td>7</td><td>MF</td><td>DE BRUYNE Kevin</td><td>1991-06-28</td><td>DE BRUYNE</td><td>Manchester City FC (ENG)</td><td>181</td><td>70</td></tr><tr><td>Belgium</td><td>16</td><td>MF</td><td>HAZARD Thorgan</td><td>1993-03-29</td><td>T. HAZARD</td><td>VfL Borussia Mönchengladbach (GER)</td><td>174</td><td>70</td></tr><tr><td>Belgium</td><td>17</td><td>MF</td><td>TIELEMANS Youri</td><td>1997-05-07</td><td>TIELEMANS</td><td>AS Monaco (FRA)</td><td>176</td><td>72</td></tr><tr><td>Belgium</td><td>6</td><td>MF</td><td>WITSEL Axel</td><td>1989-01-12</td><td>WITSEL</td><td>Tianjin Quanjian FC (CHN)</td><td>186</td><td>73</td></tr><tr><td>Belgium</td><td>10</td><td>FW</td><td>HAZARD Eden</td><td>1991-01-07</td><td>E. HAZARD</td><td>Chelsea FC (ENG)</td><td>173</td><td>74</td></tr><tr><td>Belgium</td><td>18</td><td>FW</td><td>JANUZAJ Adnan</td><td>1995-02-05</td><td>JANUZAJ</td><td>Real Sociedad (ESP)</td><td>180</td><td>75</td></tr><tr><td>Belgium</td><td>23</td><td>DF</td><td>DENDONCKER Leander</td><td>1995-04-15</td><td>DENDONCKER</td><td>RSC Anderlecht (BEL)</td><td>188</td><td>76</td></tr><tr><td>Belgium</td><td>21</td><td>FW</td><td>BATSHUAYI Michy</td><td>1993-10-02</td><td>BATSHUAYI</td><td>Borussia Dortmund (GER)</td><td>185</td><td>78</td></tr><tr><td>Belgium</td><td>3</td><td>DF</td><td>VERMAELEN Thomas</td><td>1985-11-14</td><td>VERMAELEN</td><td>FC Barcelona (ESP)</td><td>183</td><td>80</td></tr><tr><td>Belgium</td><td>2</td><td>DF</td><td>ALDERWEIRELD Toby</td><td>1989-03-02</td><td>ALDERWEIRELD</td><td>Tottenham Hotspur FC (ENG)</td><td>186</td><td>81</td></tr><tr><td>Belgium</td><td>19</td><td>MF</td><td>DEMBELE Moussa</td><td>1987-07-16</td><td>DEMBELE</td><td>Tottenham Hotspur FC (ENG)</td><td>185</td><td>82</td></tr><tr><td>Belgium</td><td>20</td><td>DF</td><td>BOYATA Dedryck</td><td>1990-11-28</td><td>BOYATA</td><td>Celtic FC (SCO)</td><td>188</td><td>84</td></tr><tr><td>Belgium</td><td>4</td><td>DF</td><td>KOMPANY Vincent</td><td>1986-04-10</td><td>KOMPANY</td><td>Manchester City FC (ENG)</td><td>190</td><td>85</td></tr><tr><td>Belgium</td><td>8</td><td>MF</td><td>FELLAINI Marouane</td><td>1987-11-22</td><td>FELLAINI</td><td>Manchester United FC (ENG)</td><td>194</td><td>85</td></tr><tr><td>Belgium</td><td>22</td><td>MF</td><td>CHADLI Nacer</td><td>1989-08-02</td><td>CHADLI</td><td>West Bromwich Albion FC (ENG)</td><td>187</td><td>85</td></tr><tr><td>Belgium</td><td>5</td><td>DF</td><td>VERTONGHEN Jan</td><td>1987-04-24</td><td>VERTONGHEN</td><td>Tottenham Hotspur FC (ENG)</td><td>189</td><td>86</td></tr><tr><td>Belgium</td><td>13</td><td>GK</td><td>CASTEELS Koen</td><td>1992-06-25</td><td>CASTEELS</td><td>VfL Wolfsburg (GER)</td><td>197</td><td>86</td></tr><tr><td>Belgium</td><td>12</td><td>GK</td><td>MIGNOLET Simon</td><td>1988-03-06</td><td>MIGNOLET</td><td>Liverpool FC (ENG)</td><td>193</td><td>87</td></tr><tr><td>Belgium</td><td>15</td><td>DF</td><td>MEUNIER Thomas</td><td>1991-09-12</td><td>MEUNIER</td><td>Paris Saint-Germain FC (FRA)</td><td>190</td><td>88</td></tr><tr><td>Belgium</td><td>1</td><td>GK</td><td>COURTOIS Thibaut</td><td>1992-05-11</td><td>COURTOIS</td><td>Chelsea FC (ENG)</td><td>199</td><td>91</td></tr><tr><td>Belgium</td><td>9</td><td>FW</td><td>LUKAKU Romelu</td><td>1993-05-13</td><td>R. LUKAKU</td><td>Manchester United FC (ENG)</td><td>190</td><td>94</td></tr><tr><td>Brazil</td><td>18</td><td>MF</td><td>FRED</td><td>1993-03-05</td><td>FRED</td><td>FC Shakhtar Donetsk (UKR)</td><td>169</td><td>64</td></tr><tr><td>Brazil</td><td>21</td><td>FW</td><td>TAISON</td><td>1988-01-13</td><td>TAISON</td><td>FC Shakhtar Donetsk (UKR)</td><td>172</td><td>64</td></tr><tr><td>Brazil</td><td>17</td><td>MF</td><td>FERNANDINHO</td><td>1985-05-04</td><td>FERNANDINHO</td><td>Manchester City FC (ENG)</td><td>179</td><td>67</td></tr><tr><td>Brazil</td><td>22</td><td>DF</td><td>FAGNER</td><td>1989-06-11</td><td>FAGNER</td><td>SC Corinthians (BRA)</td><td>168</td><td>67</td></tr><tr><td>Brazil</td><td>10</td><td>FW</td><td>NEYMAR</td><td>1992-02-05</td><td>NEYMAR JR</td><td>Paris Saint-Germain FC (FRA)</td><td>175</td><td>68</td></tr><tr><td>Brazil</td><td>11</td><td>MF</td><td>PHILIPPE COUTINHO</td><td>1992-06-12</td><td>P. COUTINHO</td><td>FC Barcelona (ESP)</td><td>172</td><td>68</td></tr><tr><td>Brazil</td><td>7</td><td>FW</td><td>DOUGLAS COSTA</td><td>1990-09-14</td><td>D. COSTA</td><td>Juventus FC (ITA)</td><td>182</td><td>70</td></tr><tr><td>Brazil</td><td>6</td><td>DF</td><td>FILIPE LUIS</td><td>1985-08-09</td><td>FILIPE LUIS</td><td>Atletico Madrid (ESP)</td><td>182</td><td>73</td></tr><tr><td>Brazil</td><td>9</td><td>FW</td><td>GABRIEL JESUS</td><td>1997-04-03</td><td>G. JESUS</td><td>Manchester City FC (ENG)</td><td>175</td><td>73</td></tr><tr><td>Brazil</td><td>13</td><td>DF</td><td>MARQUINHOS</td><td>1994-05-14</td><td>MARQUINHOS</td><td>Paris Saint-Germain FC (FRA)</td><td>183</td><td>75</td></tr><tr><td>Brazil</td><td>20</td><td>FW</td><td>ROBERTO FIRMINO</td><td>1991-10-02</td><td>FIRMINO</td><td>Liverpool FC (ENG)</td><td>181</td><td>76</td></tr><tr><td>Brazil</td><td>19</td><td>MF</td><td>WILLIAN</td><td>1988-08-09</td><td>WILLIAN</td><td>Chelsea FC (ENG)</td><td>175</td><td>77</td></tr><tr><td>Brazil</td><td>3</td><td>DF</td><td>MIRANDA</td><td>1984-09-07</td><td>MIRANDA</td><td>FC Internazionale (ITA)</td><td>186</td><td>78</td></tr><tr><td>Brazil</td><td>14</td><td>DF</td><td>DANILO</td><td>1991-07-15</td><td>DANILO</td><td>Manchester City FC (ENG)</td><td>184</td><td>78</td></tr><tr><td>Brazil</td><td>2</td><td>DF</td><td>THIAGO SILVA</td><td>1984-09-22</td><td>T. SILVA</td><td>Paris Saint-Germain FC (FRA)</td><td>183</td><td>79</td></tr><tr><td>Brazil</td><td>12</td><td>DF</td><td>MARCELO</td><td>1988-05-12</td><td>MARCELO</td><td>Real Madrid CF (ESP)</td><td>174</td><td>80</td></tr><tr><td>Brazil</td><td>15</td><td>MF</td><td>PAULINHO</td><td>1988-07-25</td><td>PAULINHO</td><td>FC Barcelona (ESP)</td><td>181</td><td>81</td></tr><tr><td>Brazil</td><td>4</td><td>DF</td><td>PEDRO GEROMEL</td><td>1985-09-21</td><td>GEROMEL</td><td>Grêmio FBPA (BRA)</td><td>190</td><td>84</td></tr><tr><td>Brazil</td><td>5</td><td>MF</td><td>CASEMIRO</td><td>1992-02-23</td><td>CASEMIRO</td><td>Real Madrid CF (ESP)</td><td>185</td><td>84</td></tr><tr><td>Brazil</td><td>8</td><td>MF</td><td>RENATO AUGUSTO</td><td>1988-02-08</td><td>R. AUGUSTO</td><td>Beijing Guoan (CHN)</td><td>186</td><td>86</td></tr><tr><td>Brazil</td><td>23</td><td>GK</td><td>EDERSON</td><td>1993-08-17</td><td>EDERSON</td><td>Manchester City FC (ENG)</td><td>188</td><td>86</td></tr><tr><td>Brazil</td><td>1</td><td>GK</td><td>ALISSON</td><td>1992-10-02</td><td>A. BECKER</td><td>AS Roma (ITA)</td><td>193</td><td>91</td></tr><tr><td>Brazil</td><td>16</td><td>GK</td><td>CASSIO</td><td>1987-06-06</td><td>CASSIO</td><td>SC Corinthians (BRA)</td><td>195</td><td>92</td></tr><tr><td>Colombia</td><td>20</td><td>MF</td><td>QUINTERO Juan</td><td>1993-01-18</td><td>J. QUINTERO</td><td>CA River Plate (ARG)</td><td>169</td><td>64</td></tr><tr><td>Colombia</td><td>17</td><td>DF</td><td>MOJICA Johan</td><td>1992-08-21</td><td>J. MOJICA</td><td>Girona FC (ESP)</td><td>185</td><td>66</td></tr><tr><td>Colombia</td><td>16</td><td>MF</td><td>LERMA Jefferson</td><td>1994-10-25</td><td>J. LERMA</td><td>Levante UD (ESP)</td><td>179</td><td>70</td></tr><tr><td>Colombia</td><td>4</td><td>DF</td><td>ARIAS Santiago</td><td>1992-01-13</td><td>ARIAS</td><td>PSV Eindhoven (NED)</td><td>177</td><td>71</td></tr><tr><td>Colombia</td><td>15</td><td>MF</td><td>URIBE Mateus</td><td>1991-03-21</td><td>M. URIBE</td><td>Club América (MEX)</td><td>182</td><td>71</td></tr><tr><td>Colombia</td><td>9</td><td>FW</td><td>FALCAO Radamel</td><td>1986-02-10</td><td>FALCAO</td><td>AS Monaco (FRA)</td><td>177</td><td>72</td></tr><tr><td>Colombia</td><td>11</td><td>MF</td><td>CUADRADO Juan</td><td>1988-05-26</td><td>CUADRADO</td><td>Juventus FC (ITA)</td><td>179</td><td>72</td></tr><tr><td>Colombia</td><td>18</td><td>DF</td><td>FABRA Frank</td><td>1991-02-22</td><td>FABRA</td><td>CA Boca Juniors (ARG)</td><td>172</td><td>72</td></tr><tr><td>Colombia</td><td>21</td><td>FW</td><td>IZQUIERDO Jose</td><td>1992-07-07</td><td>IZQUIERDO</td><td>Brighton & Hove Albion FC (ENG)</td><td>171</td><td>73</td></tr><tr><td>Colombia</td><td>5</td><td>MF</td><td>BARRIOS  Wilmar</td><td>1993-10-16</td><td>BARRIOS</td><td>CA Boca Juniors (ARG)</td><td>178</td><td>74</td></tr><tr><td>Colombia</td><td>19</td><td>FW</td><td>BORJA Miguel</td><td>1993-01-26</td><td>M. BORJA</td><td>SE Palmeiras (BRA)</td><td>183</td><td>74</td></tr><tr><td>Colombia</td><td>10</td><td>MF</td><td>RODRIGUEZ James</td><td>1991-07-12</td><td>JAMES</td><td>FC Bayern München (GER)</td><td>180</td><td>75</td></tr><tr><td>Colombia</td><td>7</td><td>FW</td><td>BACCA Carlos</td><td>1986-09-08</td><td>BACCA</td><td>Villarreal CF (ESP)</td><td>181</td><td>77</td></tr><tr><td>Colombia</td><td>14</td><td>FW</td><td>MURIEL Luis</td><td>1991-04-16</td><td>L. MURIEL</td><td>Sevilla FC (ESP)</td><td>178</td><td>79</td></tr><tr><td>Colombia</td><td>1</td><td>GK</td><td>OSPINA David</td><td>1988-08-31</td><td>OSPINA</td><td>Arsenal FC (ENG)</td><td>183</td><td>80</td></tr><tr><td>Colombia</td><td>3</td><td>DF</td><td>MURILLO Oscar</td><td>1988-04-18</td><td>O. MURILLO</td><td>CF Pachuca (MEX)</td><td>184</td><td>80</td></tr><tr><td>Colombia</td><td>12</td><td>GK</td><td>VARGAS Camilo</td><td>1989-03-09</td><td>C. VARGAS</td><td>AC Deportivo Cali (COL)</td><td>185</td><td>80</td></tr><tr><td>Colombia</td><td>22</td><td>GK</td><td>CUADRADO Jose</td><td>1985-06-01</td><td>J.F. CUADRADO</td><td>CD Once Caldas (COL)</td><td>180</td><td>80</td></tr><tr><td>Colombia</td><td>23</td><td>DF</td><td>SANCHEZ Davinson</td><td>1996-06-12</td><td>D. SANCHEZ</td><td>Tottenham Hotspur FC (ENG)</td><td>187</td><td>81</td></tr><tr><td>Colombia</td><td>2</td><td>DF</td><td>ZAPATA Cristian</td><td>1986-09-30</td><td>C. ZAPATA</td><td>AC Milan (ITA)</td><td>187</td><td>82</td></tr><tr><td>Colombia</td><td>6</td><td>MF</td><td>SANCHEZ Carlos</td><td>1986-02-06</td><td>C. SANCHEZ</td><td>RCD Espanyol (ESP)</td><td>182</td><td>82</td></tr><tr><td>Colombia</td><td>8</td><td>MF</td><td>AGUILAR Abel</td><td>1985-01-06</td><td>AGUILAR T.</td><td>AC Deportivo Cali (COL)</td><td>185</td><td>82</td></tr><tr><td>Colombia</td><td>13</td><td>DF</td><td>MINA Yerry</td><td>1994-09-23</td><td>Y. MINA</td><td>FC Barcelona (ESP)</td><td>194</td><td>95</td></tr><tr><td>Costa Rica</td><td>7</td><td>MF</td><td>BOLANOS Christian</td><td>1984-05-17</td><td>C. BOLAÑOS</td><td>Deportivo Saprissa (CRC)</td><td>178</td><td>67</td></tr><tr><td>Costa Rica</td><td>16</td><td>DF</td><td>GAMBOA Cristian</td><td>1989-10-24</td><td>C. GAMBOA</td><td>Celtic FC (SCO)</td><td>175</td><td>67</td></tr><tr><td>Costa Rica</td><td>17</td><td>MF</td><td>TEJEDA Yeltsin</td><td>1992-03-17</td><td>Y. TEJEDA</td><td>FC Lausanne-Sport (SUI)</td><td>179</td><td>67</td></tr><tr><td>Costa Rica</td><td>4</td><td>DF</td><td>SMITH Ian</td><td>1998-03-06</td><td>I. SMITH</td><td>IFK Norrkoping FK (SWE)</td><td>177</td><td>68</td></tr><tr><td>Costa Rica</td><td>8</td><td>DF</td><td>OVIEDO Bryan</td><td>1990-02-18</td><td>B. OVIEDO</td><td>Sunderland AFC (ENG)</td><td>172</td><td>70</td></tr><tr><td>Costa Rica</td><td>13</td><td>MF</td><td>WALLACE Rodney</td><td>1988-06-17</td><td>R. WALLACE</td><td>New York City FC (USA)</td><td>180</td><td>70</td></tr><tr><td>Costa Rica</td><td>21</td><td>FW</td><td>URENA Marcos</td><td>1990-03-05</td><td>M. UREÑA</td><td>Los Angeles FC (USA)</td><td>181</td><td>70</td></tr><tr><td>Costa Rica</td><td>22</td><td>DF</td><td>MATARRITA Ronald</td><td>1994-07-09</td><td>R. MATARRITA</td><td>New York City FC (USA)</td><td>175</td><td>70</td></tr><tr><td>Costa Rica</td><td>23</td><td>GK</td><td>MOREIRA Leonel</td><td>1990-04-02</td><td>L. MOREIRA</td><td>CS Herediano (CRC)</td><td>179</td><td>70</td></tr><tr><td>Costa Rica</td><td>12</td><td>FW</td><td>CAMPBELL Joel</td><td>1992-06-26</td><td>J. CAMPBELL</td><td>Real Betis (ESP)</td><td>178</td><td>71</td></tr><tr><td>Costa Rica</td><td>18</td><td>GK</td><td>PEMBERTON Patrick</td><td>1982-04-24</td><td>P. PEMBERTON</td><td>LD Alajuelense (CRC)</td><td>178</td><td>72</td></tr><tr><td>Costa Rica</td><td>10</td><td>MF</td><td>RUIZ Bryan</td><td>1985-08-18</td><td>BRYAN</td><td>Sporting CP (POR)</td><td>187</td><td>73</td></tr><tr><td>Costa Rica</td><td>2</td><td>DF</td><td>ACOSTA Johnny</td><td>1983-07-21</td><td>J. ACOSTA</td><td>Rionegro Águilas (COL)</td><td>176</td><td>75</td></tr><tr><td>Costa Rica</td><td>9</td><td>MF</td><td>COLINDRES Daniel</td><td>1985-01-10</td><td>D. COLINDRES</td><td>Deportivo Saprissa (CRC)</td><td>180</td><td>75</td></tr><tr><td>Costa Rica</td><td>11</td><td>FW</td><td>VENEGAS Johan</td><td>1988-11-27</td><td>J. VENEGAS</td><td>Deportivo Saprissa (CRC)</td><td>183</td><td>76</td></tr><tr><td>Costa Rica</td><td>3</td><td>DF</td><td>GONZALEZ Giancarlo</td><td>1988-02-08</td><td>G. GONZALEZ</td><td>Bologna FC (ITA)</td><td>186</td><td>78</td></tr><tr><td>Costa Rica</td><td>15</td><td>DF</td><td>CALVO Francisco</td><td>1992-07-08</td><td>F. CALVO</td><td>Minnesota United FC (USA)</td><td>180</td><td>78</td></tr><tr><td>Costa Rica</td><td>20</td><td>MF</td><td>GUZMAN David</td><td>1990-02-18</td><td>D. GUZMAN</td><td>Portland Timbers (USA)</td><td>176</td><td>78</td></tr><tr><td>Costa Rica</td><td>5</td><td>MF</td><td>BORGES Celso</td><td>1988-05-27</td><td>C. BORGES</td><td>Deportivo La Coruña (ESP)</td><td>187</td><td>79</td></tr><tr><td>Costa Rica</td><td>1</td><td>GK</td><td>NAVAS Keylor</td><td>1986-12-15</td><td>K. NAVAS</td><td>Real Madrid CF (ESP)</td><td>185</td><td>80</td></tr><tr><td>Costa Rica</td><td>6</td><td>DF</td><td>DUARTE Oscar</td><td>1989-06-03</td><td>O. DUARTE</td><td>RCD Espanyol (ESP)</td><td>186</td><td>81</td></tr><tr><td>Costa Rica</td><td>14</td><td>MF</td><td>AZOFEIFA Randall</td><td>1984-12-30</td><td>R. AZOFEIFA</td><td>CS Herediano (CRC)</td><td>182</td><td>83</td></tr><tr><td>Costa Rica</td><td>19</td><td>DF</td><td>WASTON Kendall</td><td>1988-01-01</td><td>K. WASTON</td><td>Vancouver Whitecaps FC (CAN)</td><td>196</td><td>87</td></tr><tr><td>Croatia</td><td>10</td><td>MF</td><td>MODRIC Luka</td><td>1985-09-09</td><td>MODRIĆ</td><td>Real Madrid CF (ESP)</td><td>172</td><td>66</td></tr><tr><td>Croatia</td><td>11</td><td>MF</td><td>BROZOVIC Marcelo</td><td>1992-11-16</td><td>BROZOVIĆ</td><td>FC Internazionale (ITA)</td><td>181</td><td>68</td></tr><tr><td>Croatia</td><td>22</td><td>DF</td><td>PIVARIC Josip</td><td>1989-01-30</td><td>PIVARIĆ</td><td>FC Dynamo Kyiv (UKR)</td><td>176</td><td>69</td></tr><tr><td>Croatia</td><td>9</td><td>FW</td><td>KRAMARIC Andrej</td><td>1991-06-19</td><td>KRAMARIĆ</td><td>TSG 1899 Hoffenheim (GER)</td><td>177</td><td>73</td></tr><tr><td>Croatia</td><td>2</td><td>DF</td><td>VRSALJKO Sime</td><td>1992-01-10</td><td>VRSALJKO</td><td>Atletico Madrid (ESP)</td><td>181</td><td>76</td></tr><tr><td>Croatia</td><td>19</td><td>MF</td><td>BADELJ Milan</td><td>1989-02-25</td><td>BADELJ</td><td>ACF Fiorentina (ITA)</td><td>186</td><td>76</td></tr><tr><td>Croatia</td><td>21</td><td>DF</td><td>VIDA Domagoj</td><td>1989-04-29</td><td>VIDA</td><td>Besiktas JK (TUR)</td><td>184</td><td>76</td></tr><tr><td>Croatia</td><td>3</td><td>DF</td><td>STRINIC Ivan</td><td>1987-07-17</td><td>STRINIĆ</td><td>UC Sampdoria (ITA)</td><td>186</td><td>78</td></tr><tr><td>Croatia</td><td>7</td><td>MF</td><td>RAKITIC Ivan</td><td>1988-03-10</td><td>RAKITIĆ</td><td>FC Barcelona (ESP)</td><td>184</td><td>78</td></tr><tr><td>Croatia</td><td>8</td><td>MF</td><td>KOVACIC Mateo</td><td>1994-05-06</td><td>KOVAČIĆ</td><td>Real Madrid CF (ESP)</td><td>178</td><td>78</td></tr><tr><td>Croatia</td><td>14</td><td>MF</td><td>BRADARIC Filip</td><td>1992-01-11</td><td>BRADARIĆ</td><td>HNK Rijeka (CRO)</td><td>186</td><td>78</td></tr><tr><td>Croatia</td><td>18</td><td>FW</td><td>REBIC Ante</td><td>1993-09-21</td><td>REBIĆ</td><td>Eintracht Frankfurt (GER)</td><td>185</td><td>78</td></tr><tr><td>Croatia</td><td>4</td><td>FW</td><td>PERISIC Ivan</td><td>1989-02-02</td><td>PERIŠIĆ</td><td>FC Internazionale (ITA)</td><td>186</td><td>81</td></tr><tr><td>Croatia</td><td>13</td><td>DF</td><td>JEDVAJ Tin</td><td>1995-11-28</td><td>JEDVAJ</td><td>Bayer 04 Leverkusen (GER)</td><td>184</td><td>81</td></tr><tr><td>Croatia</td><td>16</td><td>FW</td><td>KALINIC Nikola</td><td>1988-01-05</td><td>N. KALINIĆ</td><td>AC Milan (ITA)</td><td>187</td><td>81</td></tr><tr><td>Croatia</td><td>1</td><td>GK</td><td>LIVAKOVIC Dominik</td><td>1995-01-09</td><td>LIVAKOVIĆ</td><td>GNK Dinamo Zagreb (CRO)</td><td>188</td><td>82</td></tr><tr><td>Croatia</td><td>20</td><td>FW</td><td>PJACA Marko</td><td>1995-05-06</td><td>PJACA</td><td>FC Schalke 04 (GER)</td><td>186</td><td>83</td></tr><tr><td>Croatia</td><td>5</td><td>DF</td><td>CORLUKA Vedran</td><td>1986-02-05</td><td>ĆORLUKA</td><td>FC Lokomotiv Moscow (RUS)</td><td>192</td><td>84</td></tr><tr><td>Croatia</td><td>6</td><td>DF</td><td>LOVREN Dejan</td><td>1989-07-05</td><td>LOVREN</td><td>Liverpool FC (ENG)</td><td>188</td><td>84</td></tr><tr><td>Croatia</td><td>23</td><td>GK</td><td>SUBASIC Danijel</td><td>1984-10-27</td><td>SUBAŠIĆ</td><td>AS Monaco (FRA)</td><td>191</td><td>84</td></tr><tr><td>Croatia</td><td>17</td><td>FW</td><td>MANDZUKIC Mario</td><td>1986-05-21</td><td>MANDŽUKIĆ</td><td>Juventus FC (ITA)</td><td>190</td><td>85</td></tr><tr><td>Croatia</td><td>15</td><td>DF</td><td>CALETA-CAR Duje</td><td>1996-09-17</td><td>ĆALETA-CAR</td><td>FC Red Bull Salzburg (AUT)</td><td>192</td><td>89</td></tr><tr><td>Croatia</td><td>12</td><td>GK</td><td>KALINIC Lovre</td><td>1990-04-03</td><td>L. KALINIĆ</td><td>KAA Gent (BEL)</td><td>201</td><td>96</td></tr><tr><td>Denmark</td><td>2</td><td>MF</td><td>KROHN-DEHLI Michael</td><td>1983-06-06</td><td>KROHN-DEHLI</td><td>Deportivo La Coruña (ESP)</td><td>171</td><td>69</td></tr><tr><td>Denmark</td><td>23</td><td>FW</td><td>SISTO Pione</td><td>1995-02-04</td><td>SISTO</td><td>Celta Vigo (ESP)</td><td>173</td><td>69</td></tr><tr><td>Denmark</td><td>11</td><td>FW</td><td>BRAITHWAITE Martin</td><td>1991-06-05</td><td>BRAITHWAITE</td><td>FC Girondins Bordeaux (FRA)</td><td>180</td><td>73</td></tr><tr><td>Denmark</td><td>10</td><td>MF</td><td>ERIKSEN Christian</td><td>1992-02-14</td><td>ERIKSEN</td><td>Tottenham Hotspur FC (ENG)</td><td>181</td><td>76</td></tr><tr><td>Denmark</td><td>8</td><td>MF</td><td>DELANEY Thomas</td><td>1991-09-03</td><td>DELANEY</td><td>SV Werder Bremen (GER)</td><td>180</td><td>78</td></tr><tr><td>Denmark</td><td>7</td><td>MF</td><td>KVIST William</td><td>1985-02-24</td><td>KVIST</td><td>FC Kobenhavn (DEN)</td><td>185</td><td>80</td></tr><tr><td>Denmark</td><td>15</td><td>FW</td><td>FISCHER Viktor</td><td>1994-06-09</td><td>FISCHER</td><td>FC Kobenhavn (DEN)</td><td>181</td><td>80</td></tr><tr><td>Denmark</td><td>19</td><td>MF</td><td>SCHONE Lasse</td><td>1986-05-27</td><td>SCHÖNE</td><td>AFC Ajax (NED)</td><td>178</td><td>80</td></tr><tr><td>Denmark</td><td>14</td><td>DF</td><td>DALSGAARD Henrik</td><td>1989-07-27</td><td>DALSGAARD</td><td>Brentford FC (ENG)</td><td>190</td><td>81</td></tr><tr><td>Denmark</td><td>5</td><td>DF</td><td>KNUDSEN Jonas</td><td>1992-09-16</td><td>KNUDSEN</td><td>Ipswich Town FC (ENG)</td><td>187</td><td>82</td></tr><tr><td>Denmark</td><td>17</td><td>DF</td><td>STRYGER LARSEN Jens</td><td>1991-02-21</td><td>STRYGER</td><td>Udinese Calcio (ITA)</td><td>182</td><td>82</td></tr><tr><td>Denmark</td><td>4</td><td>DF</td><td>KJAER Simon</td><td>1989-03-26</td><td>KJÆR</td><td>Sevilla FC (ESP)</td><td>191</td><td>84</td></tr><tr><td>Denmark</td><td>20</td><td>FW</td><td>POULSEN Yussuf Yurary</td><td>1994-06-15</td><td>YURARY</td><td>RB Leipzig (GER)</td><td>193</td><td>84</td></tr><tr><td>Denmark</td><td>6</td><td>DF</td><td>CHRISTENSEN Andreas</td><td>1996-04-10</td><td>CHRISTENSEN</td><td>Chelsea FC (ENG)</td><td>192</td><td>85</td></tr><tr><td>Denmark</td><td>12</td><td>FW</td><td>DOLBERG Kasper</td><td>1997-10-06</td><td>DOLBERG</td><td>AFC Ajax (NED)</td><td>187</td><td>85</td></tr><tr><td>Denmark</td><td>13</td><td>DF</td><td>JORGENSEN Mathias</td><td>1990-04-23</td><td>M. JØRGENSEN</td><td>Huddersfield Town FC (ENG)</td><td>191</td><td>85</td></tr><tr><td>Denmark</td><td>18</td><td>MF</td><td>LERAGER Lukas</td><td>1993-07-12</td><td>LERAGER</td><td>FC Girondins Bordeaux (FRA)</td><td>186</td><td>85</td></tr><tr><td>Denmark</td><td>22</td><td>GK</td><td>RONNOW Frederik</td><td>1992-08-04</td><td>RØNNOW</td><td>Brondby IF (DEN)</td><td>190</td><td>85</td></tr><tr><td>Denmark</td><td>9</td><td>FW</td><td>JORGENSEN Nicolai</td><td>1991-01-15</td><td>N. JØRGENSEN</td><td>Feyenoord Rotterdam (NED)</td><td>194</td><td>86</td></tr><tr><td>Denmark</td><td>16</td><td>GK</td><td>LOSSL Jonas</td><td>1989-02-01</td><td>LÖSSL</td><td>Huddersfield Town FC (ENG)</td><td>195</td><td>90</td></tr><tr><td>Denmark</td><td>21</td><td>FW</td><td>CORNELIUS Andreas</td><td>1993-03-16</td><td>CORNELIUS</td><td>Atalanta Bergamo (ITA)</td><td>195</td><td>91</td></tr><tr><td>Denmark</td><td>1</td><td>GK</td><td>SCHMEICHEL Kasper</td><td>1986-11-05</td><td>SCHMEICHEL</td><td>Leicester City FC (ENG)</td><td>190</td><td>92</td></tr><tr><td>Denmark</td><td>3</td><td>DF</td><td>VESTERGAARD Jannik</td><td>1992-08-03</td><td>VESTERGAARD</td><td>VfL Borussia Mönchengladbach (GER)</td><td>200</td><td>98</td></tr><tr><td>Egypt</td><td>8</td><td>MF</td><td>TAREK HAMED</td><td>1988-10-24</td><td>TAREK HAMED</td><td>Zamalek (EGY)</td><td>169</td><td>67</td></tr><tr><td>Egypt</td><td>4</td><td>MF</td><td>OMAR GABER</td><td>1992-01-30</td><td>O. GABER</td><td>Los Angeles FC (USA)</td><td>175</td><td>71</td></tr><tr><td>Egypt</td><td>10</td><td>FW</td><td>MOHAMED SALAH</td><td>1992-06-15</td><td>M SALAH</td><td>Liverpool FC (ENG)</td><td>175</td><td>71</td></tr><tr><td>Egypt</td><td>13</td><td>DF</td><td>MOHAMED ABDELSHAFY</td><td>1985-07-01</td><td>ABDELSHAFY</td><td>Al Fateh FC (KSA)</td><td>171</td><td>72</td></tr><tr><td>Egypt</td><td>15</td><td>DF</td><td>MAHMOUD HAMDY</td><td>1995-06-01</td><td>M. HAMDY</td><td>Zamalek (EGY)</td><td>173</td><td>72</td></tr><tr><td>Egypt</td><td>12</td><td>DF</td><td>AYMAN ASHRAF</td><td>1991-04-09</td><td>A. ASHRAF</td><td>Al Ahly SC (EGY)</td><td>176</td><td>73</td></tr><tr><td>Egypt</td><td>17</td><td>MF</td><td>MOHAMED ELNENY</td><td>1992-07-11</td><td>M. ELNENY</td><td>Arsenal FC (ENG)</td><td>181</td><td>74</td></tr><tr><td>Egypt</td><td>5</td><td>MF</td><td>SAM MORSY</td><td>1991-09-10</td><td>MORSY</td><td>Wigan Athletic FC (ENG)</td><td>173</td><td>75</td></tr><tr><td>Egypt</td><td>19</td><td>MF</td><td>ABDALLA SAID</td><td>1985-07-13</td><td>ABDALLA</td><td>Kuopion PS (FIN)</td><td>176</td><td>75</td></tr><tr><td>Egypt</td><td>3</td><td>DF</td><td>AHMED ELMOHAMADY</td><td>1987-09-09</td><td>ELMOHAMADY</td><td>Aston Villa FC (ENG)</td><td>183</td><td>76</td></tr><tr><td>Egypt</td><td>7</td><td>DF</td><td>AHMED FATHI</td><td>1984-11-10</td><td>A. FATHI</td><td>Al Ahly SC (EGY)</td><td>176</td><td>76</td></tr><tr><td>Egypt</td><td>11</td><td>FW</td><td>KAHRABA</td><td>1994-04-13</td><td>M. KAHRABA</td><td>Al-Ittihad FC (KSA)</td><td>182</td><td>76</td></tr><tr><td>Egypt</td><td>14</td><td>FW</td><td>RAMADAN SOBHY</td><td>1997-01-23</td><td>RAMADAN</td><td>Stoke City FC (ENG)</td><td>183</td><td>77</td></tr><tr><td>Egypt</td><td>21</td><td>MF</td><td>TREZEGUET</td><td>1994-10-01</td><td>M. TREZEGUET</td><td>Kasimpasa SK (TUR)</td><td>181</td><td>77</td></tr><tr><td>Egypt</td><td>22</td><td>FW</td><td>AMR WARDA</td><td>1993-09-17</td><td>WARDA</td><td>Atromitos FC (GRE)</td><td>179</td><td>77</td></tr><tr><td>Egypt</td><td>18</td><td>FW</td><td>SHIKABALA</td><td>1986-03-05</td><td>SHIKABALA</td><td>Al Raed SC (KSA)</td><td>183</td><td>80</td></tr><tr><td>Egypt</td><td>9</td><td>FW</td><td>MARWAN MOHSEN</td><td>1989-02-26</td><td>MARWAN</td><td>Al Ahly SC (EGY)</td><td>185</td><td>81</td></tr><tr><td>Egypt</td><td>20</td><td>DF</td><td>SAMIR SAAD</td><td>1989-04-01</td><td>S. SAMIR</td><td>Al Ahly SC (EGY)</td><td>183</td><td>82</td></tr><tr><td>Egypt</td><td>23</td><td>GK</td><td>MOHAMED ELSHENAWY</td><td>1988-12-18</td><td>M. ELSHENAWY</td><td>Al Ahly SC (EGY)</td><td>191</td><td>86</td></tr><tr><td>Egypt</td><td>2</td><td>DF</td><td>ALI GABR</td><td>1989-01-01</td><td>ALI GABR</td><td>West Bromwich Albion FC (ENG)</td><td>191</td><td>88</td></tr><tr><td>Egypt</td><td>1</td><td>GK</td><td>ESSAM EL HADARY</td><td>1973-01-15</td><td>ELHADARY</td><td>Al Taawoun FC (KSA)</td><td>190</td><td>90</td></tr><tr><td>Egypt</td><td>16</td><td>GK</td><td>SHERIF EKRAMY</td><td>1983-07-10</td><td>EKRAMY</td><td>Al Ahly SC (EGY)</td><td>193</td><td>93</td></tr><tr><td>Egypt</td><td>6</td><td>DF</td><td>AHMED HEGAZY</td><td>1991-01-25</td><td>A. HEGAZY</td><td>West Bromwich Albion FC (ENG)</td><td>194</td><td>95</td></tr><tr><td>England</td><td>7</td><td>MF</td><td>LINGARD Jesse</td><td>1992-12-15</td><td>LINGARD</td><td>Manchester United FC (ENG)</td><td>175</td><td>60</td></tr><tr><td>England</td><td>10</td><td>FW</td><td>STERLING Raheem</td><td>1994-12-08</td><td>STERLING</td><td>Manchester City FC (ENG)</td><td>170</td><td>70</td></tr><tr><td>England</td><td>22</td><td>DF</td><td>ALEXANDER-ARNOLD Trent</td><td>1998-10-07</td><td>ALEXANDER-ARNOLD</td><td>Liverpool FC (ENG)</td><td>175</td><td>70</td></tr><tr><td>England</td><td>1</td><td>GK</td><td>PICKFORD Jordan</td><td>1994-03-07</td><td>PICKFORD</td><td>Everton FC (ENG)</td><td>185</td><td>72</td></tr><tr><td>England</td><td>5</td><td>DF</td><td>STONES John</td><td>1994-05-28</td><td>STONES</td><td>Manchester City FC (ENG)</td><td>188</td><td>72</td></tr><tr><td>England</td><td>12</td><td>DF</td><td>TRIPPIER Kieran</td><td>1990-09-19</td><td>TRIPPIER</td><td>Tottenham Hotspur FC (ENG)</td><td>178</td><td>72</td></tr><tr><td>England</td><td>16</td><td>DF</td><td>JONES Phil</td><td>1992-02-21</td><td>JONES</td><td>Manchester United FC (ENG)</td><td>182</td><td>72</td></tr><tr><td>England</td><td>21</td><td>MF</td><td>LOFTUS-CHEEK Ruben</td><td>1996-01-23</td><td>LOFTUS-CHEEK</td><td>Chelsea FC (ENG)</td><td>190</td><td>73</td></tr><tr><td>England</td><td>3</td><td>DF</td><td>ROSE Danny</td><td>1990-07-02</td><td>ROSE</td><td>Tottenham Hotspur FC (ENG)</td><td>173</td><td>76</td></tr><tr><td>England</td><td>20</td><td>MF</td><td>ALLI Dele</td><td>1996-04-11</td><td>DELE</td><td>Tottenham Hotspur FC (ENG)</td><td>188</td><td>76</td></tr><tr><td>England</td><td>23</td><td>GK</td><td>POPE Nick</td><td>1992-04-19</td><td>POPE</td><td>Burnley FC (ENG)</td><td>191</td><td>76</td></tr><tr><td>England</td><td>14</td><td>FW</td><td>WELBECK Danny</td><td>1990-11-26</td><td>WELBECK</td><td>Arsenal FC (ENG)</td><td>184</td><td>78</td></tr><tr><td>England</td><td>17</td><td>DF</td><td>DELPH Fabian</td><td>1989-11-21</td><td>DELPH</td><td>Manchester City FC (ENG)</td><td>174</td><td>78</td></tr><tr><td>England</td><td>18</td><td>DF</td><td>YOUNG Ashley</td><td>1985-07-09</td><td>YOUNG</td><td>Manchester United FC (ENG)</td><td>175</td><td>78</td></tr><tr><td>England</td><td>19</td><td>FW</td><td>RASHFORD Marcus</td><td>1997-10-31</td><td>RASHFORD</td><td>Manchester United FC (ENG)</td><td>180</td><td>78</td></tr><tr><td>England</td><td>11</td><td>FW</td><td>VARDY Jamie</td><td>1987-01-11</td><td>VARDY</td><td>Leicester City FC (ENG)</td><td>178</td><td>80</td></tr><tr><td>England</td><td>8</td><td>MF</td><td>HENDERSON Jordan</td><td>1990-06-17</td><td>HENDERSON</td><td>Liverpool FC (ENG)</td><td>183</td><td>82</td></tr><tr><td>England</td><td>2</td><td>DF</td><td>WALKER Kyle</td><td>1990-05-28</td><td>WALKER</td><td>Manchester City FC (ENG)</td><td>178</td><td>83</td></tr><tr><td>England</td><td>15</td><td>DF</td><td>CAHILL Gary</td><td>1985-12-19</td><td>CAHILL</td><td>Chelsea FC (ENG)</td><td>191</td><td>85</td></tr><tr><td>England</td><td>4</td><td>MF</td><td>DIER Eric</td><td>1994-01-15</td><td>DIER</td><td>Tottenham Hotspur FC (ENG)</td><td>188</td><td>90</td></tr><tr><td>England</td><td>13</td><td>GK</td><td>BUTLAND Jack</td><td>1993-03-10</td><td>BUTLAND</td><td>Stoke City FC (ENG)</td><td>196</td><td>96</td></tr><tr><td>England</td><td>6</td><td>DF</td><td>MAGUIRE Harry</td><td>1993-03-05</td><td>MAGUIRE</td><td>Leicester City FC (ENG)</td><td>193</td><td>98</td></tr><tr><td>England</td><td>9</td><td>FW</td><td>KANE Harry</td><td>1993-07-28</td><td>KANE</td><td>Tottenham Hotspur FC (ENG)</td><td>188</td><td>98</td></tr><tr><td>France</td><td>8</td><td>FW</td><td>LEMAR Thomas</td><td>1995-11-12</td><td>LEMAR</td><td>AS Monaco (FRA)</td><td>172</td><td>65</td></tr><tr><td>France</td><td>11</td><td>FW</td><td>DEMBELE Ousmane</td><td>1997-05-15</td><td>DEMBELE</td><td>FC Barcelona (ESP)</td><td>178</td><td>70</td></tr><tr><td>France</td><td>13</td><td>MF</td><td>KANTE Ngolo</td><td>1991-03-29</td><td>KANTE</td><td>Chelsea FC (ENG)</td><td>168</td><td>70</td></tr><tr><td>France</td><td>7</td><td>FW</td><td>GRIEZMANN Antoine</td><td>1991-03-21</td><td>GRIEZMANN</td><td>Atletico Madrid (ESP)</td><td>174</td><td>72</td></tr><tr><td>France</td><td>14</td><td>MF</td><td>MATUIDI Blaise</td><td>1987-04-09</td><td>MATUIDI</td><td>Juventus FC (ITA)</td><td>180</td><td>74</td></tr><tr><td>France</td><td>2</td><td>DF</td><td>PAVARD Benjamin</td><td>1996-03-28</td><td>PAVARD</td><td>VfB Stuttgart (GER)</td><td>186</td><td>76</td></tr><tr><td>France</td><td>18</td><td>FW</td><td>FEKIR Nabil</td><td>1993-07-18</td><td>FEKIR</td><td>Olympique Lyon (FRA)</td><td>173</td><td>76</td></tr><tr><td>France</td><td>20</td><td>FW</td><td>THAUVIN Florian</td><td>1993-01-26</td><td>THAUVIN</td><td>Olympique Marseille (FRA)</td><td>180</td><td>76</td></tr><tr><td>France</td><td>21</td><td>DF</td><td>HERNANDEZ Lucas</td><td>1996-02-14</td><td>HERNANDEZ</td><td>Atletico Madrid (ESP)</td><td>183</td><td>76</td></tr><tr><td>France</td><td>3</td><td>DF</td><td>KIMPEMBE Presnel</td><td>1995-08-13</td><td>KIMPEMBE</td><td>Paris Saint-Germain FC (FRA)</td><td>182</td><td>78</td></tr><tr><td>France</td><td>10</td><td>FW</td><td>MBAPPE Kylian</td><td>1998-12-20</td><td>MBAPPE</td><td>Paris Saint-Germain FC (FRA)</td><td>178</td><td>78</td></tr><tr><td>France</td><td>4</td><td>DF</td><td>VARANE Raphael</td><td>1993-04-25</td><td>VARANE</td><td>Real Madrid CF (ESP)</td><td>191</td><td>79</td></tr><tr><td>France</td><td>19</td><td>DF</td><td>SIDIBE Djibril</td><td>1992-07-29</td><td>SIDIBE</td><td>AS Monaco (FRA)</td><td>184</td><td>81</td></tr><tr><td>France</td><td>1</td><td>GK</td><td>LLORIS Hugo</td><td>1986-12-26</td><td>LLORIS</td><td>Tottenham Hotspur FC (ENG)</td><td>188</td><td>82</td></tr><tr><td>France</td><td>12</td><td>MF</td><td>TOLISSO Corentin</td><td>1994-08-03</td><td>TOLISSO</td><td>FC Bayern München (GER)</td><td>180</td><td>82</td></tr><tr><td>France</td><td>5</td><td>DF</td><td>UMTITI Samuel</td><td>1993-11-14</td><td>UMTITI</td><td>FC Barcelona (ESP)</td><td>183</td><td>84</td></tr><tr><td>France</td><td>22</td><td>DF</td><td>MENDY Benjamin</td><td>1994-07-17</td><td>MENDY</td><td>Manchester City FC (ENG)</td><td>183</td><td>84</td></tr><tr><td>France</td><td>6</td><td>MF</td><td>POGBA Paul</td><td>1993-03-15</td><td>POGBA</td><td>Manchester United FC (ENG)</td><td>191</td><td>86</td></tr><tr><td>France</td><td>15</td><td>MF</td><td>NZONZI Steven</td><td>1988-12-15</td><td>NZONZI</td><td>Sevilla FC (ESP)</td><td>197</td><td>87</td></tr><tr><td>France</td><td>16</td><td>GK</td><td>MANDANDA Steve</td><td>1985-03-28</td><td>MANDANDA</td><td>Olympique Marseille (FRA)</td><td>187</td><td>88</td></tr><tr><td>France</td><td>17</td><td>DF</td><td>RAMI Adil</td><td>1985-12-27</td><td>RAMI</td><td>Olympique Marseille (FRA)</td><td>190</td><td>90</td></tr><tr><td>France</td><td>9</td><td>FW</td><td>GIROUD Olivier</td><td>1986-09-30</td><td>GIROUD</td><td>Chelsea FC (ENG)</td><td>193</td><td>91</td></tr><tr><td>France</td><td>23</td><td>GK</td><td>AREOLA Alphonse</td><td>1993-02-27</td><td>AREOLA</td><td>Paris Saint-Germain FC (FRA)</td><td>195</td><td>95</td></tr><tr><td>Germany</td><td>11</td><td>FW</td><td>REUS Marco</td><td>1989-05-31</td><td>REUS</td><td>Borussia Dortmund (GER)</td><td>180</td><td>67</td></tr><tr><td>Germany</td><td>10</td><td>MF</td><td>OEZIL Mesut</td><td>1988-10-15</td><td>ÖZIL</td><td>Arsenal FC (ENG)</td><td>180</td><td>70</td></tr><tr><td>Germany</td><td>18</td><td>DF</td><td>KIMMICH Joshua</td><td>1995-02-08</td><td>KIMMICH</td><td>FC Bayern München (GER)</td><td>176</td><td>72</td></tr><tr><td>Germany</td><td>7</td><td>MF</td><td>DRAXLER Julian</td><td>1993-09-20</td><td>DRAXLER</td><td>Paris Saint-Germain FC (FRA)</td><td>185</td><td>74</td></tr><tr><td>Germany</td><td>19</td><td>MF</td><td>RUDY Sebastian</td><td>1990-02-28</td><td>RUDY</td><td>FC Bayern München (GER)</td><td>179</td><td>74</td></tr><tr><td>Germany</td><td>3</td><td>DF</td><td>HECTOR Jonas</td><td>1990-05-27</td><td>HECTOR</td><td>1. FC Köln (GER)</td><td>185</td><td>75</td></tr><tr><td>Germany</td><td>9</td><td>FW</td><td>WERNER Timo</td><td>1996-03-06</td><td>WERNER</td><td>RB Leipzig (GER)</td><td>181</td><td>75</td></tr><tr><td>Germany</td><td>13</td><td>MF</td><td>MUELLER Thomas</td><td>1989-09-13</td><td>MÜLLER</td><td>FC Bayern München (GER)</td><td>186</td><td>75</td></tr><tr><td>Germany</td><td>2</td><td>DF</td><td>PLATTENHARDT Marvin</td><td>1992-01-26</td><td>PLATTENHARDT</td><td>Hertha BSC (GER)</td><td>181</td><td>76</td></tr><tr><td>Germany</td><td>14</td><td>MF</td><td>GORETZKA Leon</td><td>1995-02-06</td><td>GORETZKA</td><td>FC Schalke 04 (GER)</td><td>189</td><td>76</td></tr><tr><td>Germany</td><td>8</td><td>MF</td><td>KROOS Toni</td><td>1990-01-04</td><td>KROOS</td><td>Real Madrid CF (ESP)</td><td>182</td><td>78</td></tr><tr><td>Germany</td><td>21</td><td>MF</td><td>GUENDOGAN Ilkay</td><td>1990-10-24</td><td>GÜNDOGAN</td><td>Manchester City FC (ENG)</td><td>180</td><td>79</td></tr><tr><td>Germany</td><td>6</td><td>DF</td><td>KHEDIRA Sami</td><td>1987-04-04</td><td>KHEDIRA</td><td>Juventus FC (ITA)</td><td>189</td><td>81</td></tr><tr><td>Germany</td><td>20</td><td>MF</td><td>BRANDT Julian</td><td>1996-05-02</td><td>BRANDT</td><td>Bayer 04 Leverkusen (GER)</td><td>183</td><td>82</td></tr><tr><td>Germany</td><td>23</td><td>FW</td><td>GOMEZ Mario</td><td>1985-07-10</td><td>GOMEZ</td><td>VfB Stuttgart (GER)</td><td>189</td><td>82</td></tr><tr><td>Germany</td><td>4</td><td>DF</td><td>GINTER Matthias</td><td>1994-01-19</td><td>GINTER</td><td>VfL Borussia Mönchengladbach (GER)</td><td>189</td><td>85</td></tr><tr><td>Germany</td><td>16</td><td>DF</td><td>RUEDIGER Antonio</td><td>1993-03-03</td><td>RÜDIGER</td><td>Chelsea FC (ENG)</td><td>191</td><td>85</td></tr><tr><td>Germany</td><td>22</td><td>GK</td><td>TER STEGEN Marc-Andre</td><td>1992-04-30</td><td>TER STEGEN</td><td>FC Barcelona (ESP)</td><td>187</td><td>85</td></tr><tr><td>Germany</td><td>12</td><td>GK</td><td>TRAPP Kevin</td><td>1990-07-08</td><td>TRAPP</td><td>Paris Saint-Germain FC (FRA)</td><td>189</td><td>88</td></tr><tr><td>Germany</td><td>15</td><td>DF</td><td>SUELE Niklas</td><td>1995-09-03</td><td>SÜLE</td><td>FC Bayern München (GER)</td><td>195</td><td>89</td></tr><tr><td>Germany</td><td>5</td><td>DF</td><td>HUMMELS Mats</td><td>1988-12-16</td><td>HUMMELS</td><td>FC Bayern München (GER)</td><td>192</td><td>90</td></tr><tr><td>Germany</td><td>17</td><td>DF</td><td>BOATENG Jerome</td><td>1988-09-03</td><td>BOATENG</td><td>FC Bayern München (GER)</td><td>192</td><td>90</td></tr><tr><td>Germany</td><td>1</td><td>GK</td><td>NEUER Manuel</td><td>1986-03-27</td><td>NEUER</td><td>FC Bayern München (GER)</td><td>193</td><td>93</td></tr><tr><td>Iceland</td><td>23</td><td>DF</td><td>SKULASON Ari</td><td>1987-05-14</td><td>A. SKÚLASON</td><td>KSC Lokeren (BEL)</td><td>170</td><td>63</td></tr><tr><td>Iceland</td><td>21</td><td>MF</td><td>TRAUSTASON Arnor</td><td>1993-04-30</td><td>TRAUSTASON</td><td>Malmö FF (SWE)</td><td>183</td><td>73</td></tr><tr><td>Iceland</td><td>2</td><td>DF</td><td>SAEVARSSON Birkir</td><td>1984-11-11</td><td>SÆVARSSON</td><td>Valur Reykjavik (ISL)</td><td>186</td><td>75</td></tr><tr><td>Iceland</td><td>13</td><td>GK</td><td>RUNARSSON Runar</td><td>1995-02-18</td><td>RÚNARSSON</td><td>FC Nordsjaelland (DEN)</td><td>186</td><td>76</td></tr><tr><td>Iceland</td><td>7</td><td>MF</td><td>GUDMUNDSSON Johann</td><td>1990-10-27</td><td>J. GUDMUNDSSON</td><td>Burnley FC (ENG)</td><td>179</td><td>77</td></tr><tr><td>Iceland</td><td>8</td><td>MF</td><td>BJARNASON Birkir</td><td>1988-05-27</td><td>B. BJARNASON</td><td>Aston Villa FC (ENG)</td><td>183</td><td>77</td></tr><tr><td>Iceland</td><td>3</td><td>MF</td><td>FRIDJONSSON Samuel</td><td>1996-02-22</td><td>FRIDJÓNSSON</td><td>Valerenga IF (NOR)</td><td>185</td><td>78</td></tr><tr><td>Iceland</td><td>19</td><td>MF</td><td>GISLASON Rurik</td><td>1988-02-25</td><td>GISLASON</td><td>SV Sandhausen (GER)</td><td>184</td><td>78</td></tr><tr><td>Iceland</td><td>11</td><td>FW</td><td>FINNBOGASON Alfred</td><td>1989-02-01</td><td>FINNBOGASON</td><td>FC Augsburg (GER)</td><td>185</td><td>79</td></tr><tr><td>Iceland</td><td>16</td><td>MF</td><td>SKULASON Olafur</td><td>1983-04-01</td><td>Ó. SKÚLASON</td><td>Karabukspor (TUR)</td><td>184</td><td>79</td></tr><tr><td>Iceland</td><td>4</td><td>MF</td><td>GUDMUNDSSON Albert</td><td>1997-06-15</td><td>A. GUDMUNDSSON</td><td>PSV Eindhoven (NED)</td><td>177</td><td>80</td></tr><tr><td>Iceland</td><td>5</td><td>DF</td><td>INGASON Sverrir</td><td>1993-08-05</td><td>INGASON</td><td>FC Rostov (RUS)</td><td>188</td><td>80</td></tr><tr><td>Iceland</td><td>15</td><td>DF</td><td>EYJOLFSSON Holmar</td><td>1990-08-06</td><td>EYJÓLFSSON</td><td>Levski Sofia (BUL)</td><td>188</td><td>81</td></tr><tr><td>Iceland</td><td>10</td><td>MF</td><td>SIGURDSSON Gylfi</td><td>1989-09-08</td><td>G. SIGURDSSON</td><td>Everton FC (ENG)</td><td>186</td><td>82</td></tr><tr><td>Iceland</td><td>14</td><td>DF</td><td>ARNASON Kari</td><td>1982-10-13</td><td>ARNASON</td><td>Aberdeen FC (SCO)</td><td>191</td><td>82</td></tr><tr><td>Iceland</td><td>9</td><td>FW</td><td>SIGURDARSON Bjorn</td><td>1991-02-26</td><td>SIGURDARSON</td><td>FC Rostov (RUS)</td><td>187</td><td>85</td></tr><tr><td>Iceland</td><td>18</td><td>DF</td><td>MAGNUSSON Hordur</td><td>1993-02-11</td><td>MAGNÚSSON</td><td>Bristol City FC (ENG)</td><td>191</td><td>85</td></tr><tr><td>Iceland</td><td>6</td><td>DF</td><td>SIGURDSSON Ragnar</td><td>1986-06-19</td><td>R. SIGURDSSON</td><td>FC Rostov (RUS)</td><td>187</td><td>86</td></tr><tr><td>Iceland</td><td>17</td><td>MF</td><td>GUNNARSSON Aron</td><td>1989-04-22</td><td>GUNNARSSON</td><td>Cardiff City FC (WAL)</td><td>181</td><td>86</td></tr><tr><td>Iceland</td><td>20</td><td>MF</td><td>HALLFREDSSON Emil</td><td>1984-06-29</td><td>HALLFREDSSON</td><td>Udinese Calcio (ITA)</td><td>186</td><td>86</td></tr><tr><td>Iceland</td><td>1</td><td>GK</td><td>HALLDORSSON Hannes</td><td>1984-04-27</td><td>HALLDORSSON</td><td>Randers FC (DEN)</td><td>193</td><td>88</td></tr><tr><td>Iceland</td><td>22</td><td>FW</td><td>BODVARSSON Jon</td><td>1992-05-25</td><td>BÖDVARSSON</td><td>Reading FC (ENG)</td><td>189</td><td>89</td></tr><tr><td>Iceland</td><td>12</td><td>GK</td><td>SCHRAM Frederik</td><td>1995-01-19</td><td>SCHRAM</td><td>Roskilde BK (DEN)</td><td>198</td><td>92</td></tr><tr><td>IR Iran</td><td>5</td><td>DF</td><td>MOHAMMADI Milad</td><td>1993-09-29</td><td>M. MOHAMMADI</td><td>FC Akhmat Grozny (RUS)</td><td>178</td><td>69</td></tr><tr><td>IR Iran</td><td>2</td><td>MF</td><td>TORABI Mehdi</td><td>1994-09-10</td><td>M. TORABI</td><td>Saipa Alborz FC (IRN)</td><td>185</td><td>71</td></tr><tr><td>IR Iran</td><td>11</td><td>MF</td><td>AMIRI Vahid</td><td>1988-04-02</td><td>V. AMIRI</td><td>Persepolis FC (IRN)</td><td>179</td><td>71</td></tr><tr><td>IR Iran</td><td>3</td><td>DF</td><td>HAJI SAFI Ehsan</td><td>1990-02-25</td><td>HAJI SAFI</td><td>Olympiacos Piraeus FC (GRE)</td><td>178</td><td>75</td></tr><tr><td>IR Iran</td><td>9</td><td>MF</td><td>EBRAHIMI Omid</td><td>1987-09-16</td><td>OMID</td><td>Esteghlal Tehran FC (IRN)</td><td>178</td><td>75</td></tr><tr><td>IR Iran</td><td>23</td><td>DF</td><td>REZAEIAN Ramin</td><td>1990-03-21</td><td>RAMIN</td><td>KV Oostende (BEL)</td><td>185</td><td>75</td></tr><tr><td>IR Iran</td><td>15</td><td>DF</td><td>MONTAZERI Pejman</td><td>1983-09-06</td><td>P. MONTAZERI</td><td>Esteghlal Tehran FC (IRN)</td><td>185</td><td>77</td></tr><tr><td>IR Iran</td><td>18</td><td>FW</td><td>JAHANBAKHSH Alireza</td><td>1993-08-11</td><td>A. JAHANBAKHSH</td><td>AZ Alkmaar (NED)</td><td>180</td><td>77</td></tr><tr><td>IR Iran</td><td>19</td><td>DF</td><td>HOSSEINI Majid</td><td>1996-06-20</td><td>M. HOSSEINI</td><td>Esteghlal Tehran FC (IRN)</td><td>183</td><td>78</td></tr><tr><td>IR Iran</td><td>21</td><td>FW</td><td>DEJAGAH Ashkan</td><td>1986-07-05</td><td>DEJAGAH</td><td>Nottingham Forest FC (ENG)</td><td>181</td><td>78</td></tr><tr><td>IR Iran</td><td>7</td><td>MF</td><td>SHOJAEI Masoud</td><td>1984-06-09</td><td>SHOJAEI M.</td><td>AEK Athens (GRE)</td><td>187</td><td>79</td></tr><tr><td>IR Iran</td><td>14</td><td>FW</td><td>GHODDOS  Saman</td><td>1993-09-06</td><td>GHODDOS</td><td>IFK Östersund FK (SWE)</td><td>177</td><td>79</td></tr><tr><td>IR Iran</td><td>16</td><td>FW</td><td>GHOOCHANNEJHAD Reza</td><td>1987-09-20</td><td>REZA</td><td>SC Heerenveen (NED)</td><td>180</td><td>79</td></tr><tr><td>IR Iran</td><td>4</td><td>DF</td><td>CHESHMI Roozbeh</td><td>1993-07-24</td><td>R. CHESHMI</td><td>Esteghlal Tehran FC (IRN)</td><td>192</td><td>80</td></tr><tr><td>IR Iran</td><td>10</td><td>FW</td><td>ANSARIFARD Karim</td><td>1990-04-03</td><td>KARIM</td><td>Olympiacos Piraeus FC (GRE)</td><td>187</td><td>80</td></tr><tr><td>IR Iran</td><td>13</td><td>DF</td><td>KHANZADEH Mohammad Reza</td><td>1991-05-11</td><td>M.R. KHANZADEH</td><td>Padideh FC (IRN)</td><td>186</td><td>80</td></tr><tr><td>IR Iran</td><td>17</td><td>FW</td><td>TAREMI Mehdi</td><td>1992-07-18</td><td>MEHDI</td><td>Al Gharafa SC (QAT)</td><td>187</td><td>80</td></tr><tr><td>IR Iran</td><td>20</td><td>FW</td><td>AZMOUN Sardar</td><td>1995-01-01</td><td>SARDAR</td><td>FC Rubin Kazan (RUS)</td><td>186</td><td>80</td></tr><tr><td>IR Iran</td><td>22</td><td>GK</td><td>ABEDZADEH Amir</td><td>1993-04-26</td><td>ABEDZADEH</td><td>CS Maritimo (POR)</td><td>186</td><td>80</td></tr><tr><td>IR Iran</td><td>6</td><td>MF</td><td>EZATOLAHI Saeid</td><td>1996-10-01</td><td>S. EZATOLAHI</td><td>FK Amkar Perm (RUS)</td><td>190</td><td>82</td></tr><tr><td>IR Iran</td><td>8</td><td>DF</td><td>POURALIGANJI Morteza</td><td>1992-04-19</td><td>M. POURALIGANJI</td><td>Al Sadd SC (QAT)</td><td>187</td><td>83</td></tr><tr><td>IR Iran</td><td>12</td><td>GK</td><td>MAZAHERI Rashid</td><td>1989-05-18</td><td>RASHID</td><td>Zob Ahan Isfahan FC (IRN)</td><td>192</td><td>84</td></tr><tr><td>IR Iran</td><td>1</td><td>GK</td><td>BEIRANVAND Ali</td><td>1992-09-21</td><td>A. BEIRANVAND</td><td>Persepolis FC (IRN)</td><td>194</td><td>85</td></tr><tr><td>Japan</td><td>14</td><td>MF</td><td>INUI Takashi</td><td>1988-06-02</td><td>INUI</td><td>SD Eibar (ESP)</td><td>169</td><td>59</td></tr><tr><td>Japan</td><td>7</td><td>MF</td><td>SHIBASAKI Gaku</td><td>1992-05-28</td><td>SHIBASAKI</td><td>Getafe CF (ESP)</td><td>175</td><td>64</td></tr><tr><td>Japan</td><td>18</td><td>MF</td><td>OSHIMA Ryota</td><td>1993-01-23</td><td>OHSHIMA</td><td>Kawasaki Frontale (JPN)</td><td>168</td><td>64</td></tr><tr><td>Japan</td><td>5</td><td>DF</td><td>NAGATOMO Yuto</td><td>1986-09-12</td><td>NAGATOMO</td><td>Galatasaray SK (TUR)</td><td>170</td><td>68</td></tr><tr><td>Japan</td><td>8</td><td>MF</td><td>HARAGUCHI Genki</td><td>1991-05-09</td><td>HARAGUCHI</td><td>Fortuna Düsseldorf (GER)</td><td>178</td><td>68</td></tr><tr><td>Japan</td><td>10</td><td>MF</td><td>KAGAWA Shinji</td><td>1989-03-17</td><td>KAGAWA</td><td>Borussia Dortmund (GER)</td><td>175</td><td>68</td></tr><tr><td>Japan</td><td>9</td><td>FW</td><td>OKAZAKI Shinji</td><td>1986-04-16</td><td>OKAZAKI</td><td>Leicester City FC (ENG)</td><td>174</td><td>70</td></tr><tr><td>Japan</td><td>19</td><td>DF</td><td>SAKAI Hiroki</td><td>1990-04-12</td><td>H. SAKAI</td><td>Olympique Marseille (FRA)</td><td>183</td><td>70</td></tr><tr><td>Japan</td><td>15</td><td>FW</td><td>OSAKO Yuya</td><td>1990-05-18</td><td>OSAKO</td><td>1. FC Köln (GER)</td><td>182</td><td>71</td></tr><tr><td>Japan</td><td>11</td><td>MF</td><td>USAMI Takashi</td><td>1992-05-06</td><td>USAMI</td><td>Fortuna Düsseldorf (GER)</td><td>178</td><td>72</td></tr><tr><td>Japan</td><td>13</td><td>FW</td><td>MUTO Yoshinori</td><td>1992-07-15</td><td>MUTO</td><td>FSV Mainz 05 (GER)</td><td>179</td><td>72</td></tr><tr><td>Japan</td><td>16</td><td>MF</td><td>YAMAGUCHI Hotaru</td><td>1990-10-06</td><td>YAMAGUCHI</td><td>Cerezo Osaka (JPN)</td><td>173</td><td>72</td></tr><tr><td>Japan</td><td>17</td><td>MF</td><td>HASEBE Makoto</td><td>1984-01-18</td><td>HASEBE</td><td>Eintracht Frankfurt (GER)</td><td>180</td><td>72</td></tr><tr><td>Japan</td><td>23</td><td>GK</td><td>NAKAMURA Kosuke</td><td>1995-02-27</td><td>NAKAMURA</td><td>Kashiwa Reysol (JPN)</td><td>184</td><td>72</td></tr><tr><td>Japan</td><td>1</td><td>GK</td><td>KAWASHIMA Eiji</td><td>1983-03-20</td><td>KAWASHIMA</td><td>FC Metz (FRA)</td><td>185</td><td>74</td></tr><tr><td>Japan</td><td>3</td><td>DF</td><td>SHOJI Gen</td><td>1992-12-11</td><td>SHOJI</td><td>Kashima Antlers (JPN)</td><td>182</td><td>74</td></tr><tr><td>Japan</td><td>4</td><td>MF</td><td>HONDA Keisuke</td><td>1986-06-13</td><td>HONDA</td><td>CF Pachuca (MEX)</td><td>182</td><td>74</td></tr><tr><td>Japan</td><td>21</td><td>DF</td><td>SAKAI Gotoku</td><td>1991-03-14</td><td>G. SAKAI</td><td>Hamburger SV (GER)</td><td>176</td><td>74</td></tr><tr><td>Japan</td><td>6</td><td>DF</td><td>ENDO Wataru</td><td>1993-02-09</td><td>ENDO</td><td>Urawa Reds (JPN)</td><td>178</td><td>75</td></tr><tr><td>Japan</td><td>20</td><td>DF</td><td>MAKINO Tomoaki</td><td>1987-05-11</td><td>MAKINO</td><td>Urawa Reds (JPN)</td><td>182</td><td>77</td></tr><tr><td>Japan</td><td>12</td><td>GK</td><td>HIGASHIGUCHI Masaaki</td><td>1986-05-12</td><td>HIGASHIGUCHI</td><td>Gamba Osaka (JPN)</td><td>184</td><td>78</td></tr><tr><td>Japan</td><td>22</td><td>DF</td><td>YOSHIDA Maya</td><td>1988-08-24</td><td>YOSHIDA</td><td>Southampton FC (ENG)</td><td>189</td><td>78</td></tr><tr><td>Japan</td><td>2</td><td>DF</td><td>UEDA Naomichi</td><td>1994-10-24</td><td>UEDA</td><td>Kashima Antlers (JPN)</td><td>186</td><td>79</td></tr><tr><td>Korea Republic</td><td>10</td><td>MF</td><td>LEE Seungwoo</td><td>1998-01-06</td><td>S W LEE</td><td>Hellas Verona FC (ITA)</td><td>170</td><td>63</td></tr><tr><td>Korea Republic</td><td>22</td><td>DF</td><td>GO Yohan</td><td>1988-03-10</td><td>Y H GO</td><td>FC Seoul (KOR)</td><td>170</td><td>65</td></tr><tr><td>Korea Republic</td><td>14</td><td>DF</td><td>HONG Chul</td><td>1990-09-17</td><td>C HONG</td><td>Sangju Sangmu FC (KOR)</td><td>176</td><td>67</td></tr><tr><td>Korea Republic</td><td>18</td><td>MF</td><td>MOON Seonmin</td><td>1992-06-09</td><td>S M MOON</td><td>Incheon United FC (KOR)</td><td>172</td><td>68</td></tr><tr><td>Korea Republic</td><td>12</td><td>DF</td><td>KIM Minwoo</td><td>1990-02-25</td><td>M W KIM</td><td>Sangju Sangmu FC (KOR)</td><td>172</td><td>69</td></tr><tr><td>Korea Republic</td><td>8</td><td>MF</td><td>JU Sejong</td><td>1990-10-30</td><td>S J JU</td><td>Asan Mugunghwa FC (KOR)</td><td>176</td><td>70</td></tr><tr><td>Korea Republic</td><td>17</td><td>MF</td><td>LEE Jaesung</td><td>1992-08-10</td><td>J S LEE</td><td>Jeonbuk Hyundai (KOR)</td><td>180</td><td>70</td></tr><tr><td>Korea Republic</td><td>6</td><td>DF</td><td>PARK Jooho</td><td>1987-01-16</td><td>J H PARK</td><td>Ulsan Hyundai FC (KOR)</td><td>174</td><td>71</td></tr><tr><td>Korea Republic</td><td>13</td><td>MF</td><td>KOO Jacheol</td><td>1989-02-27</td><td>J C KOO</td><td>FC Augsburg (GER)</td><td>182</td><td>73</td></tr><tr><td>Korea Republic</td><td>2</td><td>DF</td><td>LEE Yong</td><td>1986-12-24</td><td>Y LEE</td><td>Jeonbuk Hyundai (KOR)</td><td>180</td><td>74</td></tr><tr><td>Korea Republic</td><td>3</td><td>DF</td><td>JUNG Seunghyun</td><td>1994-04-03</td><td>S H JUNG</td><td>Sagan Tosu FC (JPN)</td><td>188</td><td>74</td></tr><tr><td>Korea Republic</td><td>19</td><td>DF</td><td>KIM Younggwon</td><td>1990-02-27</td><td>Y G KIM</td><td>Guangzhou Evergrande FC (CHN)</td><td>184</td><td>74</td></tr><tr><td>Korea Republic</td><td>16</td><td>MF</td><td>KI Sungyueng</td><td>1989-01-24</td><td>S Y KI</td><td>Swansea City AFC (WAL)</td><td>186</td><td>75</td></tr><tr><td>Korea Republic</td><td>23</td><td>GK</td><td>JO Hyeonwoo</td><td>1991-09-25</td><td>H W JO</td><td>Daegu FC (KOR)</td><td>189</td><td>75</td></tr><tr><td>Korea Republic</td><td>7</td><td>FW</td><td>SON Heungmin</td><td>1992-07-08</td><td>H M SON</td><td>Tottenham Hotspur FC (ENG)</td><td>183</td><td>76</td></tr><tr><td>Korea Republic</td><td>11</td><td>FW</td><td>HWANG Heechan</td><td>1996-01-26</td><td>H C HWANG</td><td>FC Red Bull Salzburg (AUT)</td><td>177</td><td>77</td></tr><tr><td>Korea Republic</td><td>20</td><td>DF</td><td>JANG Hyunsoo</td><td>1991-09-28</td><td>H S JANG</td><td>FC Tokyo (JPN)</td><td>187</td><td>77</td></tr><tr><td>Korea Republic</td><td>5</td><td>DF</td><td>YUN Youngsun</td><td>1988-10-04</td><td>Y S YUN</td><td>Seongnam FC (KOR)</td><td>185</td><td>78</td></tr><tr><td>Korea Republic</td><td>15</td><td>MF</td><td>JUNG Wooyoung</td><td>1989-12-14</td><td>W Y JUNG</td><td>Vissel Kobe (JPN)</td><td>186</td><td>78</td></tr><tr><td>Korea Republic</td><td>4</td><td>DF</td><td>OH Bansuk</td><td>1988-05-20</td><td>B S OH</td><td>Jeju United (KOR)</td><td>189</td><td>79</td></tr><tr><td>Korea Republic</td><td>1</td><td>GK</td><td>KIM Seunggyu</td><td>1990-09-30</td><td>S G KIM</td><td>Vissel Kobe (JPN)</td><td>187</td><td>80</td></tr><tr><td>Korea Republic</td><td>21</td><td>GK</td><td>KIM Jinhyeon</td><td>1987-07-06</td><td>J H KIM</td><td>Cerezo Osaka (JPN)</td><td>193</td><td>82</td></tr><tr><td>Korea Republic</td><td>9</td><td>FW</td><td>KIM Shinwook</td><td>1988-04-14</td><td>S W KIM</td><td>Jeonbuk Hyundai (KOR)</td><td>197</td><td>97</td></tr><tr><td>Mexico</td><td>20</td><td>MF</td><td>AQUINO Javier</td><td>1990-02-11</td><td>J. AQUINO</td><td>Tigres UANL (MEX)</td><td>166</td><td>59</td></tr><tr><td>Mexico</td><td>18</td><td>MF</td><td>GUARDADO Andres</td><td>1986-09-28</td><td>A. GUARDADO</td><td>Real Betis (ESP)</td><td>167</td><td>63</td></tr><tr><td>Mexico</td><td>22</td><td>FW</td><td>LOZANO Hirving</td><td>1995-07-30</td><td>H. LOZANO</td><td>PSV Eindhoven (NED)</td><td>176</td><td>66</td></tr><tr><td>Mexico</td><td>6</td><td>MF</td><td>DOS SANTOS Jonathan</td><td>1990-04-26</td><td>J. DOS SANTOS</td><td>LA Galaxy (USA)</td><td>173</td><td>69</td></tr><tr><td>Mexico</td><td>17</td><td>MF</td><td>CORONA Jesus</td><td>1993-01-06</td><td>JESÚS C.</td><td>FC Porto (POR)</td><td>174</td><td>69</td></tr><tr><td>Mexico</td><td>8</td><td>FW</td><td>FABIAN Marco</td><td>1989-07-21</td><td>M. FABIÁN</td><td>Eintracht Frankfurt (GER)</td><td>171</td><td>70</td></tr><tr><td>Mexico</td><td>10</td><td>MF</td><td>DOS SANTOS Giovani</td><td>1989-05-11</td><td>G. DOS SANTOS</td><td>LA Galaxy (USA)</td><td>178</td><td>70</td></tr><tr><td>Mexico</td><td>14</td><td>FW</td><td>HERNANDEZ Javier</td><td>1988-06-01</td><td>J. HERNÁNDEZ</td><td>West Ham United FC (ENG)</td><td>175</td><td>71</td></tr><tr><td>Mexico</td><td>7</td><td>MF</td><td>LAYUN Miguel</td><td>1988-06-25</td><td>M. LAYÚN</td><td>Sevilla FC (ESP)</td><td>180</td><td>72</td></tr><tr><td>Mexico</td><td>19</td><td>FW</td><td>PERALTA Oribe</td><td>1984-01-12</td><td>O. PERALTA</td><td>Club América (MEX)</td><td>178</td><td>72</td></tr><tr><td>Mexico</td><td>21</td><td>FW</td><td>ALVAREZ Edson</td><td>1997-10-24</td><td>E. ÁLVAREZ</td><td>Club América (MEX)</td><td>186</td><td>72</td></tr><tr><td>Mexico</td><td>23</td><td>MF</td><td>GALLARDO Jesus</td><td>1994-08-15</td><td>J. GALLARDO</td><td>Pumas UNAM (MEX)</td><td>177</td><td>74</td></tr><tr><td>Mexico</td><td>13</td><td>GK</td><td>OCHOA Guillermo</td><td>1985-07-13</td><td>G. OCHOA</td><td>Standard Liège (BEL)</td><td>185</td><td>76</td></tr><tr><td>Mexico</td><td>4</td><td>DF</td><td>MARQUEZ Rafael</td><td>1979-02-13</td><td>R. MÁRQUEZ</td><td>CF Atlas (MEX)</td><td>184</td><td>77</td></tr><tr><td>Mexico</td><td>5</td><td>DF</td><td>REYES Diego</td><td>1992-09-19</td><td>D. REYES</td><td>FC Porto (POR)</td><td>190</td><td>77</td></tr><tr><td>Mexico</td><td>11</td><td>FW</td><td>VELA Carlos</td><td>1989-03-01</td><td>CARLOS V</td><td>Los Angeles FC (USA)</td><td>178</td><td>78</td></tr><tr><td>Mexico</td><td>9</td><td>FW</td><td>JIMENEZ Raul</td><td>1991-05-05</td><td>RAÚL</td><td>SL Benfica (POR)</td><td>188</td><td>79</td></tr><tr><td>Mexico</td><td>16</td><td>DF</td><td>HERRERA Hector</td><td>1990-04-19</td><td>H. HERRERA</td><td>FC Porto (POR)</td><td>180</td><td>79</td></tr><tr><td>Mexico</td><td>1</td><td>GK</td><td>CORONA Jose</td><td>1981-01-26</td><td>J. CORONA</td><td>Cruz Azul (MEX)</td><td>182</td><td>80</td></tr><tr><td>Mexico</td><td>2</td><td>DF</td><td>AYALA Hugo</td><td>1987-03-31</td><td>H. AYALA</td><td>Tigres UANL (MEX)</td><td>188</td><td>82</td></tr><tr><td>Mexico</td><td>15</td><td>DF</td><td>MORENO Hector</td><td>1988-01-17</td><td>H. MORENO</td><td>Real Sociedad (ESP)</td><td>182</td><td>82</td></tr><tr><td>Mexico</td><td>3</td><td>DF</td><td>SALCEDO Carlos</td><td>1993-09-29</td><td>C. SALCEDO</td><td>Eintracht Frankfurt (GER)</td><td>189</td><td>83</td></tr><tr><td>Mexico</td><td>12</td><td>GK</td><td>TALAVERA Alfredo</td><td>1982-09-18</td><td>A. TALAVERA</td><td>Deportivo Toluca FC (MEX)</td><td>188</td><td>84</td></tr><tr><td>Morocco</td><td>14</td><td>MF</td><td>BOUSSOUFA Mbark</td><td>1984-08-15</td><td>BOUSSOUFA</td><td>Al Jazira (UAE)</td><td>167</td><td>59</td></tr><tr><td>Morocco</td><td>2</td><td>DF</td><td>HAKIMI Achraf</td><td>1998-11-04</td><td>HAKIMI</td><td>Real Madrid CF (ESP)</td><td>179</td><td>65</td></tr><tr><td>Morocco</td><td>18</td><td>MF</td><td>HARIT Amine</td><td>1997-06-18</td><td>HARIT</td><td>FC Schalke 04 (GER)</td><td>179</td><td>66</td></tr><tr><td>Morocco</td><td>23</td><td>MF</td><td>CARCELA Mehdi</td><td>1989-07-01</td><td>CARCELA</td><td>Standard Liège (BEL)</td><td>176</td><td>67</td></tr><tr><td>Morocco</td><td>3</td><td>DF</td><td>MENDYL Hamza</td><td>1997-10-21</td><td>MENDYL</td><td>Lille OSC (FRA)</td><td>179</td><td>70</td></tr><tr><td>Morocco</td><td>7</td><td>MF</td><td>ZIYACH Hakim</td><td>1993-03-19</td><td>ZIYACH</td><td>AFC Ajax (NED)</td><td>180</td><td>70</td></tr><tr><td>Morocco</td><td>22</td><td>GK</td><td>TAGNAOUTI Ahmed</td><td>1996-04-05</td><td>TAGNAOUTI</td><td>IRT Tanger (MAR)</td><td>186</td><td>70</td></tr><tr><td>Morocco</td><td>9</td><td>FW</td><td>EL KAABI Ayoub</td><td>1993-06-25</td><td>EL KAABI</td><td>RS Berkane (MAR)</td><td>182</td><td>72</td></tr><tr><td>Morocco</td><td>11</td><td>MF</td><td>FAJR Faycal</td><td>1988-08-01</td><td>FAJR</td><td>Getafe CF (ESP)</td><td>178</td><td>72</td></tr><tr><td>Morocco</td><td>10</td><td>MF</td><td>BELHANDA Younes</td><td>1990-02-25</td><td>BELHANDA</td><td>Galatasaray SK (TUR)</td><td>174</td><td>75</td></tr><tr><td>Morocco</td><td>15</td><td>MF</td><td>AIT BENNASSER Youssef</td><td>1996-07-07</td><td>AIT BENNASSER</td><td>SM Caen (FRA)</td><td>184</td><td>75</td></tr><tr><td>Morocco</td><td>19</td><td>FW</td><td>EN NESYRI Youssef</td><td>1997-06-01</td><td>EN-NESYRI</td><td>Malaga CF (ESP)</td><td>188</td><td>75</td></tr><tr><td>Morocco</td><td>6</td><td>DF</td><td>SAISS Romain</td><td>1990-03-26</td><td>SAISS</td><td>Wolverhampton Wanderers FC (ENG)</td><td>190</td><td>76</td></tr><tr><td>Morocco</td><td>1</td><td>GK</td><td>BOUNOU Yassine</td><td>1991-04-05</td><td>BOUNOU</td><td>Girona FC (ESP)</td><td>190</td><td>77</td></tr><tr><td>Morocco</td><td>16</td><td>MF</td><td>AMRABAT Noureddine</td><td>1987-03-31</td><td>N. AMRABAT</td><td>CD Leganés (ESP)</td><td>178</td><td>77</td></tr><tr><td>Morocco</td><td>21</td><td>MF</td><td>AMRABAT Sofyan</td><td>1996-08-21</td><td>S. AMRABAT</td><td>Feyenoord Rotterdam (NED)</td><td>183</td><td>77</td></tr><tr><td>Morocco</td><td>4</td><td>DF</td><td>DA COSTA Manuel</td><td>1986-05-06</td><td>DA COSTA</td><td>Istanbul Başakşehir FK (TUR)</td><td>187</td><td>78</td></tr><tr><td>Morocco</td><td>8</td><td>MF</td><td>EL AHMADI Karim</td><td>1985-01-27</td><td>EL AHMADI</td><td>Feyenoord Rotterdam (NED)</td><td>179</td><td>78</td></tr><tr><td>Morocco</td><td>13</td><td>FW</td><td>BOUTAIB Khalid</td><td>1987-04-24</td><td>BOUTAIB</td><td>Yeni Malatyaspor (TUR)</td><td>190</td><td>80</td></tr><tr><td>Morocco</td><td>20</td><td>FW</td><td>BOUHADDOUZ Aziz</td><td>1987-03-30</td><td>BOUHADDOUZ</td><td>FC St. Pauli (GER)</td><td>188</td><td>80</td></tr><tr><td>Morocco</td><td>17</td><td>DF</td><td>DIRAR Nabil</td><td>1986-02-25</td><td>DIRAR</td><td>Fenerbahce SK (TUR)</td><td>187</td><td>82</td></tr><tr><td>Morocco</td><td>5</td><td>DF</td><td>BENATIA Mehdi</td><td>1987-04-17</td><td>BENATIA</td><td>Juventus FC (ITA)</td><td>188</td><td>88</td></tr><tr><td>Morocco</td><td>12</td><td>GK</td><td>EL KAJOUI Monir</td><td>1989-05-10</td><td>EL KAJOUI</td><td>CD Numancia (ESP)</td><td>190</td><td>88</td></tr><tr><td>Nigeria</td><td>7</td><td>FW</td><td>MUSA Ahmed</td><td>1992-10-14</td><td>MUSA</td><td>CSKA Moscow (RUS)</td><td>173</td><td>65</td></tr><tr><td>Nigeria</td><td>4</td><td>MF</td><td>NDIDI Onyinye</td><td>1996-12-16</td><td>NDIDI</td><td>Leicester City FC (ENG)</td><td>184</td><td>73</td></tr><tr><td>Nigeria</td><td>8</td><td>MF</td><td>ETEBO Oghenekaro</td><td>1995-11-09</td><td>ETEBO</td><td>UD Las Palmas (ESP)</td><td>174</td><td>74</td></tr><tr><td>Nigeria</td><td>17</td><td>MF</td><td>ONAZI Ogenyi</td><td>1992-12-25</td><td>ONAZI</td><td>Trabzonspor (TUR)</td><td>172</td><td>74</td></tr><tr><td>Nigeria</td><td>21</td><td>DF</td><td>EBUEHI Tyronne</td><td>1995-12-16</td><td>EBUEHI</td><td>ADO Den Haag (NED)</td><td>187</td><td>74</td></tr><tr><td>Nigeria</td><td>2</td><td>DF</td><td>IDOWU Bryan</td><td>1992-05-18</td><td>IDOWU</td><td>FK Amkar Perm (RUS)</td><td>179</td><td>75</td></tr><tr><td>Nigeria</td><td>11</td><td>FW</td><td>MOSES Victor</td><td>1990-12-12</td><td>MOSES</td><td>Chelsea FC (ENG)</td><td>177</td><td>75</td></tr><tr><td>Nigeria</td><td>12</td><td>DF</td><td>SHEHU Abdullahi</td><td>1993-03-12</td><td>SHEHU</td><td>Bursaspor (TUR)</td><td>182</td><td>75</td></tr><tr><td>Nigeria</td><td>20</td><td>DF</td><td>AWAZIEM Chidozie</td><td>1997-01-01</td><td>AWAZIEM</td><td>FC Nantes (FRA)</td><td>192</td><td>76</td></tr><tr><td>Nigeria</td><td>15</td><td>MF</td><td>OBI Joel</td><td>1991-05-22</td><td>OBI</td><td>Torino FC (ITA)</td><td>177</td><td>77</td></tr><tr><td>Nigeria</td><td>1</td><td>GK</td><td>EZENWA Ikechukwu</td><td>1988-10-16</td><td>EZENWA</td><td>Enyimba FC (NGA)</td><td>181</td><td>80</td></tr><tr><td>Nigeria</td><td>14</td><td>FW</td><td>IHEANACHO Kelechi</td><td>1996-03-10</td><td>IHEANACHO</td><td>Leicester City FC (ENG)</td><td>183</td><td>80</td></tr><tr><td>Nigeria</td><td>3</td><td>DF</td><td>ECHIEJILE Elderson</td><td>1988-01-20</td><td>ECHIEJILE</td><td>Cercle Brugge (BEL)</td><td>185</td><td>82</td></tr><tr><td>Nigeria</td><td>10</td><td>MF</td><td>MIKEL John Obi</td><td>1987-04-22</td><td>MIKEL</td><td>Tianjin Teda (CHN)</td><td>188</td><td>82</td></tr><tr><td>Nigeria</td><td>22</td><td>DF</td><td>OMERUO Kenneth</td><td>1993-10-17</td><td>OMERUO</td><td>Kasimpasa SK (TUR)</td><td>185</td><td>82</td></tr><tr><td>Nigeria</td><td>9</td><td>FW</td><td>IGHALO Odion</td><td>1989-06-16</td><td>IGHALO</td><td>Changchun Yatai (CHN)</td><td>188</td><td>83</td></tr><tr><td>Nigeria</td><td>5</td><td>DF</td><td>EKONG William</td><td>1993-09-01</td><td>EKONG</td><td>Bursaspor (TUR)</td><td>191</td><td>85</td></tr><tr><td>Nigeria</td><td>18</td><td>FW</td><td>IWOBI Alex</td><td>1996-05-03</td><td>IWOBI</td><td>Arsenal FC (ENG)</td><td>185</td><td>86</td></tr><tr><td>Nigeria</td><td>6</td><td>DF</td><td>BALOGUN Leon</td><td>1988-06-28</td><td>BALOGUN</td><td>FSV Mainz 05 (GER)</td><td>190</td><td>89</td></tr><tr><td>Nigeria</td><td>13</td><td>FW</td><td>NWANKWO Simeon</td><td>1992-05-07</td><td>NWANKWO</td><td>FC Crotone (ITA)</td><td>197</td><td>89</td></tr><tr><td>Nigeria</td><td>19</td><td>MF</td><td>OGU John</td><td>1988-04-20</td><td>OGU</td><td>Hapoel Be'er Sheva FC (ISR)</td><td>191</td><td>90</td></tr><tr><td>Nigeria</td><td>23</td><td>GK</td><td>UZOHO Francis</td><td>1998-10-28</td><td>UZOHO</td><td>Deportivo La Coruña (ESP)</td><td>196</td><td>91</td></tr><tr><td>Nigeria</td><td>16</td><td>GK</td><td>AKPEYI Daniel</td><td>1986-03-08</td><td>AKPEYI</td><td>Chippa United FC (RSA)</td><td>187</td><td>94</td></tr><tr><td>Panama</td><td>19</td><td>MF</td><td>QUINTERO Alberto</td><td>1987-12-18</td><td>QUINTERO</td><td>Universitario Lima (PER)</td><td>165</td><td>62</td></tr><tr><td>Panama</td><td>1</td><td>GK</td><td>PENEDO Jaime</td><td>1981-09-26</td><td>PENEDO</td><td>Dinamo Bucharest (ROU)</td><td>183</td><td>70</td></tr><tr><td>Panama</td><td>8</td><td>MF</td><td>BARCENAS Edgar</td><td>1993-10-23</td><td>BARCENAS</td><td>Cafetaleros de Tapachula (MEX)</td><td>175</td><td>72</td></tr><tr><td>Panama</td><td>10</td><td>FW</td><td>DIAZ Ismael</td><td>1997-05-12</td><td>DIAZ</td><td>Deportivo La Coruña (ESP)</td><td>181</td><td>72</td></tr><tr><td>Panama</td><td>11</td><td>MF</td><td>COOPER Armando</td><td>1987-11-26</td><td>COOPER</td><td>Club Universidad de Chile (CHI)</td><td>173</td><td>72</td></tr><tr><td>Panama</td><td>17</td><td>DF</td><td>OVALLE Luis</td><td>1988-09-07</td><td>OVALLE</td><td>CD Olimpia (HON)</td><td>178</td><td>75</td></tr><tr><td>Panama</td><td>9</td><td>FW</td><td>TORRES Gabriel</td><td>1988-10-31</td><td>G. TORRES</td><td>CD Huachipato (CHI)</td><td>180</td><td>77</td></tr><tr><td>Panama</td><td>21</td><td>MF</td><td>RODRIGUEZ Jose Luis</td><td>1998-06-19</td><td>J. RODRIGUEZ</td><td>KAA Gent (BEL)</td><td>180</td><td>77</td></tr><tr><td>Panama</td><td>2</td><td>DF</td><td>MURILLO Michael</td><td>1996-02-11</td><td>MURILLO</td><td>New York Red Bulls (USA)</td><td>183</td><td>78</td></tr><tr><td>Panama</td><td>13</td><td>DF</td><td>MACHADO Adolfo</td><td>1985-02-14</td><td>MACHADO</td><td>Houston Dynamo (USA)</td><td>182</td><td>78</td></tr><tr><td>Panama</td><td>14</td><td>MF</td><td>PIMENTEL Valentin</td><td>1991-05-30</td><td>PIMENTEL</td><td>Plaza Amador (PAN)</td><td>189</td><td>80</td></tr><tr><td>Panama</td><td>15</td><td>DF</td><td>DAVIS Eric</td><td>1991-03-31</td><td>DAVIS</td><td>DAC Dunajska Streda (SVK)</td><td>180</td><td>81</td></tr><tr><td>Panama</td><td>4</td><td>DF</td><td>ESCOBAR Fidel</td><td>1995-01-09</td><td>ESCOBAR</td><td>New York Red Bulls (USA)</td><td>182</td><td>82</td></tr><tr><td>Panama</td><td>6</td><td>MF</td><td>GOMEZ Gabriel</td><td>1984-05-29</td><td>GOMEZ</td><td>Atlético Bucaramanga (COL)</td><td>183</td><td>82</td></tr><tr><td>Panama</td><td>16</td><td>FW</td><td>ARROYO Abdiel</td><td>1993-12-13</td><td>ARROYO</td><td>LD Alajuelense (CRC)</td><td>183</td><td>82</td></tr><tr><td>Panama</td><td>20</td><td>MF</td><td>GODOY Anibal</td><td>1990-02-10</td><td>GODOY</td><td>San Jose Earthquakes (USA)</td><td>183</td><td>82</td></tr><tr><td>Panama</td><td>7</td><td>FW</td><td>PEREZ Blas</td><td>1981-03-13</td><td>PEREZ</td><td>CSD Municipal (GUA)</td><td>187</td><td>83</td></tr><tr><td>Panama</td><td>22</td><td>GK</td><td>RODRIGUEZ Alex</td><td>1990-08-05</td><td>RODRIGUEZ</td><td>San Francisco FC (PAN)</td><td>197</td><td>83</td></tr><tr><td>Panama</td><td>12</td><td>GK</td><td>CALDERON Jose</td><td>1985-08-14</td><td>CALDERON</td><td>Chorrillo FC (PAN)</td><td>187</td><td>87</td></tr><tr><td>Panama</td><td>18</td><td>FW</td><td>TEJADA Luis</td><td>1982-03-28</td><td>TEJADA</td><td>Sport Boys (PER)</td><td>183</td><td>87</td></tr><tr><td>Panama</td><td>23</td><td>DF</td><td>BALOY Felipe</td><td>1981-02-24</td><td>BALOY</td><td>CSD Municipal (GUA)</td><td>185</td><td>87</td></tr><tr><td>Panama</td><td>3</td><td>DF</td><td>CUMMINGS Harold</td><td>1992-03-01</td><td>CUMMINGS</td><td>San Jose Earthquakes (USA)</td><td>183</td><td>92</td></tr><tr><td>Panama</td><td>5</td><td>DF</td><td>TORRES Roman</td><td>1986-03-20</td><td>R. TORRES</td><td>Seattle Sounders FC (USA)</td><td>188</td><td>99</td></tr><tr><td>Peru</td><td>7</td><td>MF</td><td>HURTADO Paolo</td><td>1990-07-27</td><td>HURTADO</td><td>Vitoria Guimaraes (POR)</td><td>174</td><td>66</td></tr><tr><td>Peru</td><td>11</td><td>FW</td><td>RUIDIAZ Raul</td><td>1990-07-25</td><td>RUIDIAZ</td><td>CA Monarcas Morelia (MEX)</td><td>169</td><td>67</td></tr><tr><td>Peru</td><td>22</td><td>DF</td><td>LOYOLA Nilson</td><td>1994-10-26</td><td>LOYOLA</td><td>FBC Melgar (PER)</td><td>179</td><td>68</td></tr><tr><td>Peru</td><td>8</td><td>MF</td><td>CUEVA Christian</td><td>1991-11-23</td><td>CUEVA</td><td>Sao Paulo FC (BRA)</td><td>169</td><td>69</td></tr><tr><td>Peru</td><td>19</td><td>MF</td><td>YOTUN Yoshimar</td><td>1990-04-07</td><td>YOTUN</td><td>Orlando City SC (USA)</td><td>172</td><td>69</td></tr><tr><td>Peru</td><td>14</td><td>MF</td><td>POLO Andy</td><td>1994-09-29</td><td>POLO</td><td>Portland Timbers (USA)</td><td>174</td><td>71</td></tr><tr><td>Peru</td><td>23</td><td>MF</td><td>AQUINO Pedro</td><td>1995-04-13</td><td>AQUINO</td><td>Lobos BUAP (MEX)</td><td>174</td><td>71</td></tr><tr><td>Peru</td><td>15</td><td>DF</td><td>RAMOS Christian</td><td>1988-11-04</td><td>RAMOS</td><td>CD Tiburones Rojos de Veracruz (MEX)</td><td>182</td><td>72</td></tr><tr><td>Peru</td><td>20</td><td>FW</td><td>FLORES Edison</td><td>1994-05-14</td><td>FLORES</td><td>Aalborg BK (DEN)</td><td>170</td><td>72</td></tr><tr><td>Peru</td><td>6</td><td>DF</td><td>TRAUCO Miguel</td><td>1992-08-25</td><td>TRAUCO</td><td>CR Flamengo (BRA)</td><td>169</td><td>74</td></tr><tr><td>Peru</td><td>3</td><td>DF</td><td>CORZO Aldo</td><td>1989-05-20</td><td>CORZO</td><td>Universitario Lima (PER)</td><td>172</td><td>75</td></tr><tr><td>Peru</td><td>16</td><td>MF</td><td>CARTAGENA Wilder</td><td>1994-09-23</td><td>CARTAGENA</td><td>CD Tiburones Rojos de Veracruz (MEX)</td><td>179</td><td>76</td></tr><tr><td>Peru</td><td>5</td><td>DF</td><td>ARAUJO Miguel</td><td>1994-10-24</td><td>ARAUJO</td><td>Alianza Lima (PER)</td><td>178</td><td>77</td></tr><tr><td>Peru</td><td>18</td><td>FW</td><td>CARRILLO Andre</td><td>1991-06-14</td><td>CARRILLO</td><td>Watford FC (ENG)</td><td>182</td><td>77</td></tr><tr><td>Peru</td><td>2</td><td>DF</td><td>RODRIGUEZ Alberto</td><td>1984-03-31</td><td>RODRIGUEZ</td><td>Atletico Junior (COL)</td><td>179</td><td>78</td></tr><tr><td>Peru</td><td>12</td><td>GK</td><td>CACEDA Carlos</td><td>1991-09-27</td><td>CACEDA</td><td>Deportivo Municipal (PER)</td><td>184</td><td>78</td></tr><tr><td>Peru</td><td>1</td><td>GK</td><td>GALLESE Pedro</td><td>1990-02-23</td><td>GALLESE</td><td>CD Tiburones Rojos de Veracruz (MEX)</td><td>189</td><td>79</td></tr><tr><td>Peru</td><td>17</td><td>DF</td><td>ADVINCULA Luis</td><td>1990-03-02</td><td>ADVINCULA</td><td>Lobos BUAP (MEX)</td><td>178</td><td>80</td></tr><tr><td>Peru</td><td>4</td><td>DF</td><td>SANTAMARIA Anderson</td><td>1992-01-10</td><td>SANTAMARIA</td><td>Puebla FC (MEX)</td><td>183</td><td>84</td></tr><tr><td>Peru</td><td>21</td><td>GK</td><td>CARVALLO Jose</td><td>1986-03-01</td><td>CARVALLO</td><td>Universidad Técnica de Cajamarca (PER)</td><td>182</td><td>84</td></tr><tr><td>Peru</td><td>10</td><td>FW</td><td>FARFAN Jefferson</td><td>1984-10-26</td><td>FARFAN</td><td>FC Lokomotiv Moscow (RUS)</td><td>177</td><td>85</td></tr><tr><td>Peru</td><td>13</td><td>MF</td><td>TAPIA Renato</td><td>1995-07-28</td><td>TAPIA</td><td>Feyenoord Rotterdam (NED)</td><td>185</td><td>85</td></tr><tr><td>Peru</td><td>9</td><td>FW</td><td>GUERRERO Paolo</td><td>1984-01-01</td><td>GUERRERO</td><td>CR Flamengo (BRA)</td><td>185</td><td>88</td></tr><tr><td>Poland</td><td>19</td><td>MF</td><td>ZIELINSKI Piotr</td><td>1994-05-20</td><td>ZIELINSKI</td><td>SSC Napoli (ITA)</td><td>177</td><td>64</td></tr><tr><td>Poland</td><td>6</td><td>MF</td><td>GORALSKI Jacek</td><td>1992-09-21</td><td>GORALSKI</td><td>PFC Ludogorets Razgrad (BUL)</td><td>172</td><td>66</td></tr><tr><td>Poland</td><td>17</td><td>MF</td><td>PESZKO Slawomir</td><td>1985-02-19</td><td>PESZKO</td><td>Lechia Gdansk (POL)</td><td>173</td><td>68</td></tr><tr><td>Poland</td><td>16</td><td>MF</td><td>BLASZCZYKOWSKI Jakub</td><td>1985-12-14</td><td>BLASZCZYKOWSKI</td><td>VfL Wolfsburg (GER)</td><td>175</td><td>71</td></tr><tr><td>Poland</td><td>18</td><td>DF</td><td>BERESZYNSKI Bartosz</td><td>1992-07-12</td><td>BERESZYNSKI</td><td>UC Sampdoria (ITA)</td><td>182</td><td>72</td></tr><tr><td>Poland</td><td>8</td><td>MF</td><td>LINETTY Karol</td><td>1995-02-02</td><td>LINETTY</td><td>UC Sampdoria (ITA)</td><td>176</td><td>73</td></tr><tr><td>Poland</td><td>21</td><td>MF</td><td>KURZAWA Rafal</td><td>1993-01-29</td><td>KURZAWA</td><td>Gornik Zabrze (POL)</td><td>182</td><td>73</td></tr><tr><td>Poland</td><td>13</td><td>MF</td><td>RYBUS Maciej</td><td>1989-08-19</td><td>RYBUS</td><td>FC Lokomotiv Moscow (RUS)</td><td>173</td><td>75</td></tr><tr><td>Poland</td><td>23</td><td>FW</td><td>KOWNACKI Dawid</td><td>1997-03-14</td><td>KOWNACKI</td><td>UC Sampdoria (ITA)</td><td>185</td><td>75</td></tr><tr><td>Poland</td><td>5</td><td>DF</td><td>BEDNAREK Jan</td><td>1996-04-12</td><td>BEDNAREK</td><td>Southampton FC (ENG)</td><td>189</td><td>77</td></tr><tr><td>Poland</td><td>2</td><td>DF</td><td>PAZDAN Michal</td><td>1987-09-21</td><td>PAZDAN</td><td>Legia Warsaw (POL)</td><td>181</td><td>78</td></tr><tr><td>Poland</td><td>3</td><td>DF</td><td>JEDRZEJCZYK Artur</td><td>1987-11-04</td><td>JEDRZEJCZYK</td><td>Legia Warsaw (POL)</td><td>189</td><td>78</td></tr><tr><td>Poland</td><td>11</td><td>MF</td><td>GROSICKI Kamil</td><td>1988-06-08</td><td>GROSICKI</td><td>Hull City FC (ENG)</td><td>180</td><td>78</td></tr><tr><td>Poland</td><td>14</td><td>FW</td><td>TEODORCZYK Lukasz</td><td>1991-06-03</td><td>TEODORCZYK</td><td>RSC Anderlecht (BEL)</td><td>185</td><td>78</td></tr><tr><td>Poland</td><td>9</td><td>FW</td><td>LEWANDOWSKI Robert</td><td>1988-08-21</td><td>LEWANDOWSKI</td><td>FC Bayern München (GER)</td><td>185</td><td>79</td></tr><tr><td>Poland</td><td>20</td><td>DF</td><td>PISZCZEK Lukasz</td><td>1985-06-03</td><td>PISZCZEK</td><td>Borussia Dortmund (GER)</td><td>184</td><td>79</td></tr><tr><td>Poland</td><td>15</td><td>DF</td><td>GLIK Kamil</td><td>1988-02-03</td><td>GLIK</td><td>AS Monaco (FRA)</td><td>190</td><td>80</td></tr><tr><td>Poland</td><td>4</td><td>DF</td><td>CIONEK Thiago</td><td>1986-04-21</td><td>CIONEK</td><td>SPAL Ferrara (ITA)</td><td>184</td><td>81</td></tr><tr><td>Poland</td><td>7</td><td>FW</td><td>MILIK Arkadiusz</td><td>1994-02-28</td><td>MILIK</td><td>SSC Napoli (ITA)</td><td>186</td><td>81</td></tr><tr><td>Poland</td><td>10</td><td>MF</td><td>KRYCHOWIAK Grzegorz</td><td>1990-01-29</td><td>KRYCHOWIAK</td><td>West Bromwich Albion FC (ENG)</td><td>186</td><td>83</td></tr><tr><td>Poland</td><td>12</td><td>GK</td><td>BIALKOWSKI Bartosz</td><td>1987-07-06</td><td>BIALKOWSKI</td><td>Ipswich Town FC (ENG)</td><td>194</td><td>83</td></tr><tr><td>Poland</td><td>22</td><td>GK</td><td>FABIANSKI Lukasz</td><td>1985-04-18</td><td>FABIANSKI</td><td>Swansea City AFC (WAL)</td><td>190</td><td>83</td></tr><tr><td>Poland</td><td>1</td><td>GK</td><td>SZCZESNY Wojciech</td><td>1990-04-18</td><td>SZCZESNY</td><td>Juventus FC (ITA)</td><td>195</td><td>84</td></tr><tr><td>Portugal</td><td>8</td><td>MF</td><td>JOAO MOUTINHO</td><td>1986-09-08</td><td>J. MOUTINHO</td><td>AS Monaco (FRA)</td><td>170</td><td>61</td></tr><tr><td>Portugal</td><td>18</td><td>FW</td><td>GELSON MARTINS</td><td>1995-05-11</td><td>GELSON</td><td>Sporting CP (POR)</td><td>173</td><td>63</td></tr><tr><td>Portugal</td><td>5</td><td>DF</td><td>RAPHAEL GUERREIRO</td><td>1993-12-22</td><td>RAPHAEL</td><td>Borussia Dortmund (GER)</td><td>170</td><td>64</td></tr><tr><td>Portugal</td><td>16</td><td>MF</td><td>BRUNO FERNANDES</td><td>1994-09-08</td><td>B. FERNANDES</td><td>Sporting CP (POR)</td><td>183</td><td>64</td></tr><tr><td>Portugal</td><td>11</td><td>MF</td><td>BERNARDO SILVA</td><td>1994-08-10</td><td>BERNARDO</td><td>Manchester City FC (ENG)</td><td>173</td><td>65</td></tr><tr><td>Portugal</td><td>19</td><td>DF</td><td>MARIO RUI</td><td>1991-05-27</td><td>MÁRIO RUI</td><td>SSC Napoli (ITA)</td><td>168</td><td>67</td></tr><tr><td>Portugal</td><td>21</td><td>DF</td><td>CEDRIC</td><td>1991-08-31</td><td>CÉDRIC</td><td>Southampton FC (ENG)</td><td>172</td><td>67</td></tr><tr><td>Portugal</td><td>4</td><td>MF</td><td>MANUEL FERNANDES</td><td>1986-02-05</td><td>M. FERNANDES</td><td>FC Lokomotiv Moscow (RUS)</td><td>174</td><td>69</td></tr><tr><td>Portugal</td><td>15</td><td>DF</td><td>RICARDO</td><td>1993-10-06</td><td>RICARDO</td><td>FC Porto (POR)</td><td>174</td><td>70</td></tr><tr><td>Portugal</td><td>17</td><td>FW</td><td>GONCALO GUEDES</td><td>1996-11-29</td><td>G. GUEDES</td><td>Valencia CF (ESP)</td><td>179</td><td>72</td></tr><tr><td>Portugal</td><td>23</td><td>MF</td><td>ADRIEN SILVA</td><td>1989-03-15</td><td>ADRIEN</td><td>Leicester City FC (ENG)</td><td>176</td><td>72</td></tr><tr><td>Portugal</td><td>10</td><td>MF</td><td>JOAO MARIO</td><td>1993-01-19</td><td>J. MÁRIO</td><td>West Ham United FC (ENG)</td><td>179</td><td>73</td></tr><tr><td>Portugal</td><td>20</td><td>FW</td><td>RICARDO QUARESMA</td><td>1983-09-26</td><td>QUARESMA</td><td>Besiktas JK (TUR)</td><td>175</td><td>73</td></tr><tr><td>Portugal</td><td>9</td><td>FW</td><td>ANDRE SILVA</td><td>1995-11-06</td><td>ANDRÉ SILVA</td><td>AC Milan (ITA)</td><td>184</td><td>78</td></tr><tr><td>Portugal</td><td>22</td><td>GK</td><td>BETO</td><td>1982-05-01</td><td>BETO</td><td>Goztepe SK (TUR)</td><td>183</td><td>79</td></tr><tr><td>Portugal</td><td>7</td><td>FW</td><td>CRISTIANO RONALDO</td><td>1985-02-05</td><td>RONALDO</td><td>Real Madrid CF (ESP)</td><td>185</td><td>80</td></tr><tr><td>Portugal</td><td>14</td><td>MF</td><td>WILLIAM</td><td>1992-04-07</td><td>WILLIAM</td><td>Sporting CP (POR)</td><td>190</td><td>80</td></tr><tr><td>Portugal</td><td>3</td><td>DF</td><td>PEPE</td><td>1983-02-26</td><td>PEPE</td><td>Besiktas JK (TUR)</td><td>188</td><td>81</td></tr><tr><td>Portugal</td><td>12</td><td>GK</td><td>ANTHONY LOPES</td><td>1990-10-01</td><td>LOPES</td><td>Olympique Lyon (FRA)</td><td>184</td><td>81</td></tr><tr><td>Portugal</td><td>2</td><td>DF</td><td>BRUNO ALVES</td><td>1981-11-27</td><td>B. ALVES</td><td>Rangers FC (SCO)</td><td>187</td><td>83</td></tr><tr><td>Portugal</td><td>13</td><td>DF</td><td>RUBEN DIAS</td><td>1997-05-14</td><td>RUBEN DIAS</td><td>SL Benfica (POR)</td><td>187</td><td>83</td></tr><tr><td>Portugal</td><td>1</td><td>GK</td><td>RUI PATRICIO</td><td>1988-02-15</td><td>RUI PATRICIO</td><td>Sporting CP (POR)</td><td>189</td><td>84</td></tr><tr><td>Portugal</td><td>6</td><td>DF</td><td>JOSE FONTE</td><td>1983-12-22</td><td>FONTE</td><td>Dalian Yifang FC (CHN)</td><td>191</td><td>84</td></tr><tr><td>Russia</td><td>16</td><td>MF</td><td>MIRANCHUK Anton</td><td>1995-10-17</td><td>MIRANCHUK AN.</td><td>FC Lokomotiv Moscow (RUS)</td><td>182</td><td>67</td></tr><tr><td>Russia</td><td>6</td><td>MF</td><td>CHERYSHEV Denis</td><td>1990-12-26</td><td>CHERYSHEV</td><td>Villarreal CF (ESP)</td><td>173</td><td>68</td></tr><tr><td>Russia</td><td>17</td><td>MF</td><td>GOLOVIN Aleksandr</td><td>1996-05-30</td><td>GOLOVIN</td><td>CSKA Moscow (RUS)</td><td>178</td><td>70</td></tr><tr><td>Russia</td><td>23</td><td>DF</td><td>SMOLNIKOV Igor</td><td>1988-08-08</td><td>SMOLNIKOV</td><td>FC Zenit St. Petersburg (RUS)</td><td>179</td><td>72</td></tr><tr><td>Russia</td><td>9</td><td>MF</td><td>DZAGOEV Alan</td><td>1990-06-17</td><td>DZAGOEV</td><td>CSKA Moscow (RUS)</td><td>178</td><td>73</td></tr><tr><td>Russia</td><td>7</td><td>MF</td><td>KUZIAEV Daler</td><td>1993-01-15</td><td>KUZIAEV</td><td>FC Zenit St. Petersburg (RUS)</td><td>182</td><td>74</td></tr><tr><td>Russia</td><td>19</td><td>MF</td><td>SAMEDOV Alexander</td><td>1984-07-19</td><td>SAMEDOV</td><td>FC Spartak Moscow (RUS)</td><td>178</td><td>74</td></tr><tr><td>Russia</td><td>8</td><td>MF</td><td>GAZINSKY Iury</td><td>1989-07-20</td><td>GAZINSKII</td><td>FC Krasnodar (RUS)</td><td>180</td><td>75</td></tr><tr><td>Russia</td><td>18</td><td>MF</td><td>ZHIRKOV Yury</td><td>1983-08-20</td><td>ZHIRKOV</td><td>FC Zenit St. Petersburg (RUS)</td><td>180</td><td>76</td></tr><tr><td>Russia</td><td>11</td><td>MF</td><td>ZOBNIN Roman</td><td>1994-02-11</td><td>ZOBNIN</td><td>FC Spartak Moscow (RUS)</td><td>185</td><td>77</td></tr><tr><td>Russia</td><td>15</td><td>MF</td><td>MIRANCHUK Alexey</td><td>1995-10-17</td><td>MIRANCHUK AL.</td><td>FC Lokomotiv Moscow (RUS)</td><td>185</td><td>77</td></tr><tr><td>Russia</td><td>13</td><td>DF</td><td>KUDRIASHOV Fedor</td><td>1987-04-05</td><td>KUDRIASHOV</td><td>FC Rubin Kazan (RUS)</td><td>187</td><td>78</td></tr><tr><td>Russia</td><td>2</td><td>DF</td><td>MARIO FERNANDES</td><td>1990-09-19</td><td>FERNANDES</td><td>CSKA Moscow (RUS)</td><td>187</td><td>79</td></tr><tr><td>Russia</td><td>10</td><td>FW</td><td>SMOLOV Fedor</td><td>1990-02-09</td><td>SMOLOV</td><td>FC Krasnodar (RUS)</td><td>185</td><td>79</td></tr><tr><td>Russia</td><td>21</td><td>MF</td><td>EROKHIN Aleksandr</td><td>1989-10-13</td><td>EROKHIN</td><td>FC Zenit St. Petersburg (RUS)</td><td>191</td><td>79</td></tr><tr><td>Russia</td><td>12</td><td>GK</td><td>LUNEV Andrei</td><td>1991-11-13</td><td>LUNEV</td><td>FC Zenit St. Petersburg (RUS)</td><td>189</td><td>80</td></tr><tr><td>Russia</td><td>14</td><td>DF</td><td>GRANAT Vladimir</td><td>1987-05-22</td><td>GRANAT</td><td>FC Rubin Kazan (RUS)</td><td>184</td><td>80</td></tr><tr><td>Russia</td><td>20</td><td>GK</td><td>GABULOV Vladimir</td><td>1983-10-19</td><td>GABULOV</td><td>Club Brugge KV (BEL)</td><td>190</td><td>81</td></tr><tr><td>Russia</td><td>3</td><td>DF</td><td>KUTEPOV Ilya</td><td>1993-07-29</td><td>KUTEPOV</td><td>FC Spartak Moscow (RUS)</td><td>190</td><td>82</td></tr><tr><td>Russia</td><td>1</td><td>GK</td><td>AKINFEEV Igor</td><td>1986-04-08</td><td>AKINFEEV</td><td>CSKA Moscow (RUS)</td><td>185</td><td>83</td></tr><tr><td>Russia</td><td>4</td><td>DF</td><td>IGNASHEVICH Sergey</td><td>1979-07-14</td><td>IGNASHEVICH</td><td>CSKA Moscow (RUS)</td><td>186</td><td>84</td></tr><tr><td>Russia</td><td>5</td><td>DF</td><td>SEMENOV Andrey</td><td>1989-03-24</td><td>SEMENOV</td><td>FC Akhmat Grozny (RUS)</td><td>191</td><td>87</td></tr><tr><td>Russia</td><td>22</td><td>FW</td><td>DZYUBA Artem</td><td>1988-08-22</td><td>DZYUBA</td><td>FC Arsenal Tula (RUS)</td><td>196</td><td>90</td></tr><tr><td>Saudi Arabia</td><td>6</td><td>DF</td><td>MOHAMMED ALBURAYK</td><td>1992-09-15</td><td>ALBURAYK</td><td>Al Hilal SFC (KSA)</td><td>173</td><td>61</td></tr><tr><td>Saudi Arabia</td><td>7</td><td>MF</td><td>SALMAN ALFARAJ</td><td>1989-08-01</td><td>SALMAN</td><td>Al Hilal SFC (KSA)</td><td>179</td><td>63</td></tr><tr><td>Saudi Arabia</td><td>8</td><td>MF</td><td>YAHIA ALSHEHRI</td><td>1990-06-26</td><td>YAHIA</td><td>CD Leganés (ESP)</td><td>165</td><td>63</td></tr><tr><td>Saudi Arabia</td><td>13</td><td>DF</td><td>YASIR ALSHAHRANI</td><td>1992-05-25</td><td>YASIR</td><td>Al Hilal SFC (KSA)</td><td>170</td><td>63</td></tr><tr><td>Saudi Arabia</td><td>19</td><td>FW</td><td>FAHAD ALMUWALLAD</td><td>1994-09-14</td><td>FAHAD</td><td>Levante UD (ESP)</td><td>168</td><td>65</td></tr><tr><td>Saudi Arabia</td><td>9</td><td>MF</td><td>HATAN BAHBIR</td><td>1992-07-16</td><td>HATAN</td><td>Al Shabab FC (KSA)</td><td>170</td><td>66</td></tr><tr><td>Saudi Arabia</td><td>14</td><td>MF</td><td>ABDULLAH OTAYF</td><td>1992-08-03</td><td>OTAYF</td><td>Al Hilal SFC (KSA)</td><td>177</td><td>66</td></tr><tr><td>Saudi Arabia</td><td>15</td><td>MF</td><td>ABDULLAH ALKHAIBARI</td><td>1996-08-16</td><td>ALKHAIBARI</td><td>Al Shabab FC (KSA)</td><td>175</td><td>66</td></tr><tr><td>Saudi Arabia</td><td>2</td><td>DF</td><td>MANSOUR ALHARBI</td><td>1987-10-19</td><td>MANSOUR</td><td>Al Ahli SC (KSA)</td><td>173</td><td>68</td></tr><tr><td>Saudi Arabia</td><td>18</td><td>MF</td><td>SALEM ALDAWSARI</td><td>1991-08-19</td><td>SALEM</td><td>Villarreal CF (ESP)</td><td>174</td><td>68</td></tr><tr><td>Saudi Arabia</td><td>17</td><td>MF</td><td>TAISEER ALJASSAM</td><td>1984-07-25</td><td>TAISEER</td><td>Al Ahli SC (KSA)</td><td>169</td><td>69</td></tr><tr><td>Saudi Arabia</td><td>11</td><td>MF</td><td>ABDULMALEK ALKHAIBRI</td><td>1986-03-13</td><td>ABDULMALEK</td><td>Al Hilal SFC (KSA)</td><td>177</td><td>73</td></tr><tr><td>Saudi Arabia</td><td>12</td><td>MF</td><td>MOHAMED KANNO</td><td>1994-09-22</td><td>KANNO</td><td>Al Hilal SFC (KSA)</td><td>192</td><td>73</td></tr><tr><td>Saudi Arabia</td><td>10</td><td>FW</td><td>MOHAMMED ALSAHLAWI</td><td>1987-01-10</td><td>ALSAHLAWI</td><td>Al Nassr FC (KSA)</td><td>179</td><td>75</td></tr><tr><td>Saudi Arabia</td><td>5</td><td>DF</td><td>OMAR OTHMAN</td><td>1985-09-27</td><td>OMAR</td><td>Al Nassr FC (KSA)</td><td>185</td><td>76</td></tr><tr><td>Saudi Arabia</td><td>16</td><td>MF</td><td>HUSSAIN ALMOQAHWI</td><td>1988-03-24</td><td>HUSSAIN</td><td>Al Ahli SC (KSA)</td><td>174</td><td>76</td></tr><tr><td>Saudi Arabia</td><td>20</td><td>FW</td><td>MUHANNAD ASIRI</td><td>1986-10-14</td><td>MUHANNAD</td><td>Al Ahli SC (KSA)</td><td>185</td><td>79</td></tr><tr><td>Saudi Arabia</td><td>22</td><td>GK</td><td>MOHAMMED ALOWAIS</td><td>1991-10-10</td><td>ALOWAIS</td><td>Al Ahli SC (KSA)</td><td>187</td><td>79</td></tr><tr><td>Saudi Arabia</td><td>23</td><td>DF</td><td>MOTAZ HAWSAWI</td><td>1992-02-17</td><td>MOTAZ</td><td>Al Ahli SC (KSA)</td><td>180</td><td>79</td></tr><tr><td>Saudi Arabia</td><td>3</td><td>DF</td><td>OSAMA HAWSAWI</td><td>1984-03-31</td><td>OSAMA</td><td>Al Hilal SFC (KSA)</td><td>188</td><td>83</td></tr><tr><td>Saudi Arabia</td><td>4</td><td>DF</td><td>ALI ALBULAYHI</td><td>1989-11-21</td><td>ALI</td><td>Al Hilal SFC (KSA)</td><td>182</td><td>83</td></tr><tr><td>Saudi Arabia</td><td>21</td><td>GK</td><td>YASSER ALMOSAILEM</td><td>1984-02-27</td><td>ALMOSAILEM</td><td>Al Ahli SC (KSA)</td><td>186</td><td>88</td></tr><tr><td>Saudi Arabia</td><td>1</td><td>GK</td><td>ABDULLAH ALMUAIOUF</td><td>1987-01-23</td><td>ABDULLAH</td><td>Al Hilal SFC (KSA)</td><td>178</td><td>98</td></tr><tr><td>Senegal</td><td>5</td><td>MF</td><td>GUEYE Idrissa Gana</td><td>1989-09-26</td><td>GANA</td><td>Everton FC (ENG)</td><td>174</td><td>64</td></tr><tr><td>Senegal</td><td>2</td><td>DF</td><td>CISS Saliou</td><td>1989-06-15</td><td>CISS</td><td>Valenciennes FC (FRA)</td><td>173</td><td>69</td></tr><tr><td>Senegal</td><td>10</td><td>FW</td><td>MANE Sadio</td><td>1992-04-10</td><td>MANE</td><td>Liverpool FC (ENG)</td><td>175</td><td>69</td></tr><tr><td>Senegal</td><td>18</td><td>FW</td><td>SARR Ismaila</td><td>1998-02-25</td><td>ISMAÏLA</td><td>Stade Rennais FC (FRA)</td><td>175</td><td>70</td></tr><tr><td>Senegal</td><td>22</td><td>DF</td><td>WAGUE Moussa</td><td>1998-10-04</td><td>M. WAGUE</td><td>KAS Eupen (BEL)</td><td>177</td><td>70</td></tr><tr><td>Senegal</td><td>12</td><td>DF</td><td>SABALY Youssouf</td><td>1993-03-05</td><td>SABALY</td><td>FC Girondins Bordeaux (FRA)</td><td>174</td><td>71</td></tr><tr><td>Senegal</td><td>17</td><td>MF</td><td>NDIAYE Pape Alioune</td><td>1990-10-27</td><td>P.A. NDIAYE</td><td>Stoke City FC (ENG)</td><td>181</td><td>74</td></tr><tr><td>Senegal</td><td>19</td><td>FW</td><td>NIANG Mbaye</td><td>1994-12-19</td><td>NIANG</td><td>Torino FC (ITA)</td><td>184</td><td>74</td></tr><tr><td>Senegal</td><td>21</td><td>DF</td><td>GASSAMA Lamine</td><td>1989-10-20</td><td>GASSAMA</td><td>Adanaspor (TUR)</td><td>181</td><td>74</td></tr><tr><td>Senegal</td><td>7</td><td>FW</td><td>SOW Moussa</td><td>1986-01-19</td><td>SOW</td><td>Bursaspor (TUR)</td><td>180</td><td>75</td></tr><tr><td>Senegal</td><td>8</td><td>MF</td><td>KOUYATE Cheikhou</td><td>1989-12-21</td><td>C. KOUYATE</td><td>West Ham United FC (ENG)</td><td>189</td><td>75</td></tr><tr><td>Senegal</td><td>20</td><td>FW</td><td>BALDE Keita</td><td>1995-03-08</td><td>KEÏTA BALDE</td><td>AS Monaco (FRA)</td><td>181</td><td>77</td></tr><tr><td>Senegal</td><td>14</td><td>FW</td><td>KONATE Moussa</td><td>1993-04-03</td><td>KONATE</td><td>Amiens SC (FRA)</td><td>180</td><td>78</td></tr><tr><td>Senegal</td><td>1</td><td>GK</td><td>DIALLO Abdoulaye</td><td>1992-03-30</td><td>DIALLO</td><td>Stade Rennais FC (FRA)</td><td>189</td><td>79</td></tr><tr><td>Senegal</td><td>15</td><td>FW</td><td>SAKHO Diafra</td><td>1989-12-24</td><td>SAKHO</td><td>Stade Rennais FC (FRA)</td><td>184</td><td>79</td></tr><tr><td>Senegal</td><td>13</td><td>MF</td><td>NDIAYE Alfred</td><td>1990-03-06</td><td>A. NDIAYE</td><td>Wolverhampton Wanderers FC (ENG)</td><td>186</td><td>80</td></tr><tr><td>Senegal</td><td>16</td><td>GK</td><td>NDIAYE Khadim</td><td>1985-04-05</td><td>KH. NDIAYE</td><td>Horoya AC (GUI)</td><td>185</td><td>80</td></tr><tr><td>Senegal</td><td>23</td><td>GK</td><td>GOMIS Alfred</td><td>1993-09-05</td><td>GOMIS</td><td>SPAL Ferrara (ITA)</td><td>196</td><td>80</td></tr><tr><td>Senegal</td><td>9</td><td>FW</td><td>DIOUF Mame</td><td>1987-12-16</td><td>M. DIOUF</td><td>Stoke City FC (ENG)</td><td>185</td><td>81</td></tr><tr><td>Senegal</td><td>6</td><td>MF</td><td>SANE Salif</td><td>1990-08-25</td><td>S. SANE</td><td>Hannover 96 (GER)</td><td>196</td><td>84</td></tr><tr><td>Senegal</td><td>4</td><td>DF</td><td>MBODJI Kara</td><td>1989-11-22</td><td>KARA</td><td>RSC Anderlecht (BEL)</td><td>192</td><td>85</td></tr><tr><td>Senegal</td><td>3</td><td>DF</td><td>KOULIBALY Kalidou</td><td>1991-06-20</td><td>KOULIBALY</td><td>SSC Napoli (ITA)</td><td>195</td><td>89</td></tr><tr><td>Senegal</td><td>11</td><td>MF</td><td>NDOYE Cheikh</td><td>1986-03-29</td><td>CH. NDOYE</td><td>Birmingham City FC (ENG)</td><td>192</td><td>90</td></tr><tr><td>Serbia</td><td>7</td><td>MF</td><td>ZIVKOVIC Andrija</td><td>1996-07-11</td><td>ŽIVKOVIĆ</td><td>SL Benfica (POR)</td><td>169</td><td>68</td></tr><tr><td>Serbia</td><td>14</td><td>DF</td><td>RODIC Milan</td><td>1991-04-02</td><td>RODIĆ</td><td>FK Crvena Zvezda (SRB)</td><td>185</td><td>69</td></tr><tr><td>Serbia</td><td>2</td><td>DF</td><td>RUKAVINA Antonio</td><td>1984-01-26</td><td>RUKAVINA</td><td>Villarreal CF (ESP)</td><td>177</td><td>71</td></tr><tr><td>Serbia</td><td>22</td><td>MF</td><td>LJAJIC Adem</td><td>1991-09-29</td><td>LJAJIĆ</td><td>Torino FC (ITA)</td><td>182</td><td>74</td></tr><tr><td>Serbia</td><td>19</td><td>FW</td><td>JOVIC Luka</td><td>1997-12-23</td><td>JOVIĆ</td><td>Eintracht Frankfurt (GER)</td><td>181</td><td>75</td></tr><tr><td>Serbia</td><td>10</td><td>MF</td><td>TADIC Dusan</td><td>1988-11-20</td><td>TADIĆ</td><td>Southampton FC (ENG)</td><td>181</td><td>76</td></tr><tr><td>Serbia</td><td>18</td><td>FW</td><td>RADONJIC Nemanja</td><td>1996-02-15</td><td>RADONJIĆ</td><td>FK Crvena Zvezda (SRB)</td><td>185</td><td>76</td></tr><tr><td>Serbia</td><td>20</td><td>MF</td><td>MILINKOVIC-SAVIC Sergej</td><td>1995-02-27</td><td>SERGEJ</td><td>SS Lazio (ITA)</td><td>192</td><td>76</td></tr><tr><td>Serbia</td><td>13</td><td>DF</td><td>VELJKOVIC Milos</td><td>1995-09-26</td><td>VELJKOVIĆ</td><td>SV Werder Bremen (GER)</td><td>188</td><td>77</td></tr><tr><td>Serbia</td><td>3</td><td>DF</td><td>TOSIC Dusko</td><td>1985-01-19</td><td>TOŠIĆ</td><td>Besiktas JK (TUR)</td><td>185</td><td>79</td></tr><tr><td>Serbia</td><td>4</td><td>MF</td><td>MILIVOJEVIC Luka</td><td>1991-04-07</td><td>MILIVOJEVIĆ</td><td>Crystal Palace FC (ENG)</td><td>186</td><td>80</td></tr><tr><td>Serbia</td><td>5</td><td>DF</td><td>SPAJIC Uros</td><td>1993-02-13</td><td>SPAJIĆ</td><td>RSC Anderlecht (BEL)</td><td>188</td><td>82</td></tr><tr><td>Serbia</td><td>9</td><td>FW</td><td>MITROVIC Aleksandar</td><td>1994-09-16</td><td>MITROVIĆ</td><td>Fulham FC (ENG)</td><td>189</td><td>82</td></tr><tr><td>Serbia</td><td>16</td><td>MF</td><td>GRUJIC Marko</td><td>1996-04-13</td><td>GRUJIĆ</td><td>Cardiff City FC (WAL)</td><td>190</td><td>82</td></tr><tr><td>Serbia</td><td>17</td><td>MF</td><td>KOSTIC Filip</td><td>1992-11-01</td><td>KOSTIĆ</td><td>Hamburger SV (GER)</td><td>184</td><td>82</td></tr><tr><td>Serbia</td><td>11</td><td>DF</td><td>KOLAROV Aleksandar</td><td>1985-11-10</td><td>KOLAROV</td><td>AS Roma (ITA)</td><td>187</td><td>83</td></tr><tr><td>Serbia</td><td>12</td><td>GK</td><td>RAJKOVIC Predrag</td><td>1995-10-31</td><td>RAJKOVIĆ</td><td>Maccabi Tel-Aviv FC (ISR)</td><td>191</td><td>85</td></tr><tr><td>Serbia</td><td>21</td><td>MF</td><td>MATIC Nemanja</td><td>1988-08-01</td><td>MATIĆ</td><td>Manchester United FC (ENG)</td><td>194</td><td>86</td></tr><tr><td>Serbia</td><td>8</td><td>FW</td><td>PRIJOVIC Aleksandar</td><td>1990-04-21</td><td>PRIJOVIĆ</td><td>PAOK FC (GRE)</td><td>191</td><td>88</td></tr><tr><td>Serbia</td><td>6</td><td>DF</td><td>IVANOVIC Branislav</td><td>1984-02-22</td><td>IVANOVIĆ</td><td>FC Zenit St. Petersburg (RUS)</td><td>185</td><td>89</td></tr><tr><td>Serbia</td><td>15</td><td>DF</td><td>MILENKOVIC Nikola</td><td>1997-10-12</td><td>MILENKOVIĆ</td><td>ACF Fiorentina (ITA)</td><td>195</td><td>90</td></tr><tr><td>Serbia</td><td>23</td><td>GK</td><td>DMITROVIC Marko</td><td>1992-01-24</td><td>DMITROVIĆ</td><td>SD Eibar (ESP)</td><td>194</td><td>90</td></tr><tr><td>Serbia</td><td>1</td><td>GK</td><td>STOJKOVIC Vladimir</td><td>1983-07-28</td><td>STOJKOVIĆ</td><td>FK Partizan (SRB)</td><td>195</td><td>92</td></tr><tr><td>Spain</td><td>12</td><td>DF</td><td>ODRIOZOLA Alvaro</td><td>1995-12-14</td><td>ODRIOZOLA</td><td>Real Sociedad (ESP)</td><td>178</td><td>67</td></tr><tr><td>Spain</td><td>17</td><td>FW</td><td>ASPAS Iago</td><td>1987-08-01</td><td>IAGO ASPAS</td><td>Celta Vigo (ESP)</td><td>176</td><td>67</td></tr><tr><td>Spain</td><td>21</td><td>FW</td><td>SILVA David</td><td>1986-01-08</td><td>SILVA</td><td>Manchester City FC (ENG)</td><td>170</td><td>67</td></tr><tr><td>Spain</td><td>6</td><td>MF</td><td>INIESTA Andres</td><td>1984-05-11</td><td>A. INIESTA</td><td>FC Barcelona (ESP)</td><td>171</td><td>68</td></tr><tr><td>Spain</td><td>18</td><td>DF</td><td>ALBA Jordi</td><td>1989-03-21</td><td>JORDI ALBA</td><td>FC Barcelona (ESP)</td><td>170</td><td>68</td></tr><tr><td>Spain</td><td>10</td><td>MF</td><td>THIAGO</td><td>1991-04-11</td><td>THIAGO</td><td>FC Bayern München (GER)</td><td>174</td><td>70</td></tr><tr><td>Spain</td><td>11</td><td>FW</td><td>VAZQUEZ Lucas</td><td>1991-07-01</td><td>LUCAS V.</td><td>Real Madrid CF (ESP)</td><td>173</td><td>70</td></tr><tr><td>Spain</td><td>1</td><td>GK</td><td>DE GEA David</td><td>1990-11-07</td><td>DE GEA</td><td>Manchester United FC (ENG)</td><td>190</td><td>71</td></tr><tr><td>Spain</td><td>9</td><td>FW</td><td>RODRIGO</td><td>1991-03-06</td><td>RODRIGO M.</td><td>Valencia CF (ESP)</td><td>182</td><td>72</td></tr><tr><td>Spain</td><td>16</td><td>DF</td><td>MONREAL Nacho</td><td>1986-02-26</td><td>MONREAL</td><td>Arsenal FC (ENG)</td><td>179</td><td>72</td></tr><tr><td>Spain</td><td>2</td><td>DF</td><td>CARVAJAL Dani</td><td>1992-01-11</td><td>CARVAJAL</td><td>Real Madrid CF (ESP)</td><td>173</td><td>73</td></tr><tr><td>Spain</td><td>8</td><td>MF</td><td>KOKE</td><td>1992-01-08</td><td>KOKE</td><td>Atletico Madrid (ESP)</td><td>176</td><td>73</td></tr><tr><td>Spain</td><td>22</td><td>MF</td><td>ISCO</td><td>1992-04-21</td><td>ISCO</td><td>Real Madrid CF (ESP)</td><td>176</td><td>74</td></tr><tr><td>Spain</td><td>15</td><td>DF</td><td>RAMOS Sergio</td><td>1986-03-30</td><td>RAMOS</td><td>Real Madrid CF (ESP)</td><td>183</td><td>75</td></tr><tr><td>Spain</td><td>7</td><td>MF</td><td>SAUL</td><td>1994-11-21</td><td>SAÚL</td><td>Atletico Madrid (ESP)</td><td>183</td><td>76</td></tr><tr><td>Spain</td><td>20</td><td>MF</td><td>ASENSIO Marco</td><td>1996-01-21</td><td>ASENSIO</td><td>Real Madrid CF (ESP)</td><td>182</td><td>76</td></tr><tr><td>Spain</td><td>4</td><td>DF</td><td>NACHO</td><td>1990-01-18</td><td>NACHO</td><td>Real Madrid CF (ESP)</td><td>179</td><td>77</td></tr><tr><td>Spain</td><td>5</td><td>MF</td><td>BUSQUETS Sergio</td><td>1988-07-16</td><td>SERGIO</td><td>FC Barcelona (ESP)</td><td>189</td><td>78</td></tr><tr><td>Spain</td><td>14</td><td>DF</td><td>AZPILICUETA Cesar</td><td>1989-08-28</td><td>AZPILICUETA</td><td>Chelsea FC (ENG)</td><td>178</td><td>78</td></tr><tr><td>Spain</td><td>13</td><td>GK</td><td>ARRIZABALAGA Kepa</td><td>1994-10-03</td><td>ARRIZABALAGA</td><td>Athletic Bilbao (ESP)</td><td>189</td><td>84</td></tr><tr><td>Spain</td><td>3</td><td>DF</td><td>PIQUE Gerard</td><td>1987-02-02</td><td>PIQUÉ</td><td>FC Barcelona (ESP)</td><td>194</td><td>85</td></tr><tr><td>Spain</td><td>19</td><td>FW</td><td>COSTA Diego</td><td>1988-10-07</td><td>DIEGO COSTA</td><td>Atletico Madrid (ESP)</td><td>185</td><td>86</td></tr><tr><td>Spain</td><td>23</td><td>GK</td><td>REINA Pepe</td><td>1982-08-31</td><td>REINA</td><td>SSC Napoli (ITA)</td><td>188</td><td>92</td></tr><tr><td>Sweden</td><td>21</td><td>MF</td><td>DURMAZ Jimmy</td><td>1989-03-22</td><td>DURMAZ</td><td>Toulouse FC (FRA)</td><td>180</td><td>69</td></tr><tr><td>Sweden</td><td>7</td><td>MF</td><td>LARSSON Sebastian</td><td>1985-06-06</td><td>LARSSON</td><td>Hull City FC (ENG)</td><td>178</td><td>70</td></tr><tr><td>Sweden</td><td>16</td><td>DF</td><td>KRAFTH Emil</td><td>1994-08-02</td><td>KRAFTH</td><td>Bologna FC (ITA)</td><td>181</td><td>72</td></tr><tr><td>Sweden</td><td>15</td><td>MF</td><td>HILJEMARK Oscar</td><td>1992-06-28</td><td>HILJEMARK</td><td>Genoa CFC (ITA)</td><td>184</td><td>73</td></tr><tr><td>Sweden</td><td>8</td><td>MF</td><td>EKDAL Albin</td><td>1989-07-28</td><td>EKDAL</td><td>Hamburger SV (GER)</td><td>186</td><td>75</td></tr><tr><td>Sweden</td><td>6</td><td>DF</td><td>AUGUSTINSSON Ludwig</td><td>1994-04-21</td><td>AUGUSTINSSON</td><td>SV Werder Bremen (GER)</td><td>181</td><td>76</td></tr><tr><td>Sweden</td><td>9</td><td>FW</td><td>BERG Marcus</td><td>1986-08-17</td><td>BERG</td><td>Al Ain FC (UAE)</td><td>183</td><td>76</td></tr><tr><td>Sweden</td><td>19</td><td>MF</td><td>ROHDEN Marcus</td><td>1991-05-11</td><td>ROHDÉN</td><td>FC Crotone (ITA)</td><td>182</td><td>76</td></tr><tr><td>Sweden</td><td>2</td><td>DF</td><td>LUSTIG Mikael</td><td>1986-12-13</td><td>LUSTIG</td><td>Celtic FC (SCO)</td><td>189</td><td>77</td></tr><tr><td>Sweden</td><td>13</td><td>MF</td><td>SVENSSON Gustav</td><td>1987-02-07</td><td>SVENSSON</td><td>Seattle Sounders FC (USA)</td><td>183</td><td>77</td></tr><tr><td>Sweden</td><td>10</td><td>MF</td><td>FORSBERG Emil</td><td>1991-10-23</td><td>FORSBERG</td><td>RB Leipzig (GER)</td><td>179</td><td>78</td></tr><tr><td>Sweden</td><td>20</td><td>FW</td><td>TOIVONEN Ola</td><td>1986-07-03</td><td>TOIVONEN</td><td>Toulouse FC (FRA)</td><td>192</td><td>78</td></tr><tr><td>Sweden</td><td>11</td><td>FW</td><td>GUIDETTI John</td><td>1992-04-15</td><td>GUIDETTI</td><td>Deportivo Alavés (ESP)</td><td>185</td><td>79</td></tr><tr><td>Sweden</td><td>17</td><td>MF</td><td>CLAESSON Viktor</td><td>1992-01-02</td><td>CLAESSON</td><td>FC Krasnodar (RUS)</td><td>183</td><td>79</td></tr><tr><td>Sweden</td><td>3</td><td>DF</td><td>LINDELOF Victor</td><td>1994-07-17</td><td>LINDELÖF</td><td>Manchester United FC (ENG)</td><td>187</td><td>81</td></tr><tr><td>Sweden</td><td>5</td><td>DF</td><td>OLSSON Martin</td><td>1988-05-17</td><td>OLSSON</td><td>Swansea City AFC (WAL)</td><td>177</td><td>81</td></tr><tr><td>Sweden</td><td>12</td><td>GK</td><td>JOHNSSON Karl-Johan</td><td>1990-01-28</td><td>JOHNSSON</td><td>EA Guingamp (FRA)</td><td>187</td><td>83</td></tr><tr><td>Sweden</td><td>14</td><td>DF</td><td>HELANDER Filip</td><td>1993-04-22</td><td>HELANDER</td><td>Bologna FC (ITA)</td><td>192</td><td>83</td></tr><tr><td>Sweden</td><td>22</td><td>FW</td><td>THELIN Isaac Kiese</td><td>1992-06-24</td><td>KIESE THELIN</td><td>KV Waasland-Beveren (BEL)</td><td>189</td><td>83</td></tr><tr><td>Sweden</td><td>4</td><td>DF</td><td>GRANQVIST Andreas</td><td>1985-04-16</td><td>GRANQVIST</td><td>FC Krasnodar (RUS)</td><td>192</td><td>84</td></tr><tr><td>Sweden</td><td>23</td><td>GK</td><td>NORDFELDT Kristoffer</td><td>1989-06-23</td><td>NORDFELDT</td><td>Swansea City AFC (WAL)</td><td>190</td><td>85</td></tr><tr><td>Sweden</td><td>1</td><td>GK</td><td>OLSEN Robin</td><td>1990-01-08</td><td>OLSEN</td><td>FC Kobenhavn (DEN)</td><td>198</td><td>89</td></tr><tr><td>Sweden</td><td>18</td><td>DF</td><td>JANSSON Pontus</td><td>1991-02-13</td><td>JANSSON</td><td>Leeds United FC (ENG)</td><td>194</td><td>89</td></tr><tr><td>Switzerland</td><td>16</td><td>MF</td><td>FERNANDES Gelson</td><td>1986-09-02</td><td>G. FERNANDES</td><td>Eintracht Frankfurt (GER)</td><td>180</td><td>72</td></tr><tr><td>Switzerland</td><td>8</td><td>MF</td><td>FREULER Remo</td><td>1992-04-15</td><td>FREULER</td><td>Atalanta Bergamo (ITA)</td><td>181</td><td>75</td></tr><tr><td>Switzerland</td><td>18</td><td>FW</td><td>GAVRANOVIC Mario</td><td>1989-11-24</td><td>GAVRANOVIC</td><td>GNK Dinamo Zagreb (CRO)</td><td>175</td><td>75</td></tr><tr><td>Switzerland</td><td>3</td><td>DF</td><td>MOUBANDJE Francois</td><td>1990-06-21</td><td>MOUBANDJE</td><td>Toulouse FC (FRA)</td><td>180</td><td>76</td></tr><tr><td>Switzerland</td><td>2</td><td>DF</td><td>LICHTSTEINER Stephan</td><td>1984-01-16</td><td>LICHTSTEINER</td><td>Juventus FC (ITA)</td><td>181</td><td>77</td></tr><tr><td>Switzerland</td><td>4</td><td>DF</td><td>ELVEDI Nico</td><td>1996-09-30</td><td>ELVEDI</td><td>VfL Borussia Mönchengladbach (GER)</td><td>187</td><td>77</td></tr><tr><td>Switzerland</td><td>15</td><td>MF</td><td>DZEMAILI Blerim</td><td>1986-04-12</td><td>DZEMAILI</td><td>Bologna FC (ITA)</td><td>180</td><td>77</td></tr><tr><td>Switzerland</td><td>17</td><td>MF</td><td>ZAKARIA Denis</td><td>1996-11-20</td><td>ZAKARIA</td><td>VfL Borussia Mönchengladbach (GER)</td><td>189</td><td>77</td></tr><tr><td>Switzerland</td><td>6</td><td>DF</td><td>LANG Michael</td><td>1991-02-08</td><td>LANG</td><td>FC Basel (SUI)</td><td>185</td><td>78</td></tr><tr><td>Switzerland</td><td>11</td><td>MF</td><td>BEHRAMI Valon</td><td>1985-04-19</td><td>BEHRAMI</td><td>Udinese Calcio (ITA)</td><td>184</td><td>78</td></tr><tr><td>Switzerland</td><td>19</td><td>FW</td><td>DRMIC Josip</td><td>1992-08-08</td><td>DRMIC</td><td>VfL Borussia Mönchengladbach (GER)</td><td>184</td><td>78</td></tr><tr><td>Switzerland</td><td>23</td><td>MF</td><td>SHAQIRI Xherdan</td><td>1991-10-10</td><td>SHAQIRI</td><td>Stoke City FC (ENG)</td><td>165</td><td>78</td></tr><tr><td>Switzerland</td><td>13</td><td>DF</td><td>RODRIGUEZ Ricardo</td><td>1992-08-25</td><td>RODRIGUEZ</td><td>AC Milan (ITA)</td><td>180</td><td>79</td></tr><tr><td>Switzerland</td><td>14</td><td>MF</td><td>ZUBER Steven</td><td>1991-08-17</td><td>ZUBER</td><td>TSG 1899 Hoffenheim (GER)</td><td>182</td><td>79</td></tr><tr><td>Switzerland</td><td>1</td><td>GK</td><td>SOMMER Yann</td><td>1988-12-17</td><td>SOMMER</td><td>VfL Borussia Mönchengladbach (GER)</td><td>183</td><td>81</td></tr><tr><td>Switzerland</td><td>10</td><td>MF</td><td>XHAKA Granit</td><td>1992-09-27</td><td>XHAKA</td><td>Arsenal FC (ENG)</td><td>183</td><td>82</td></tr><tr><td>Switzerland</td><td>21</td><td>GK</td><td>BUERKI Roman</td><td>1990-11-14</td><td>BÜRKI</td><td>Borussia Dortmund (GER)</td><td>188</td><td>83</td></tr><tr><td>Switzerland</td><td>22</td><td>DF</td><td>SCHAER Fabian</td><td>1991-12-20</td><td>SCHÄR</td><td>Deportivo La Coruña (ESP)</td><td>186</td><td>83</td></tr><tr><td>Switzerland</td><td>12</td><td>GK</td><td>MVOGO Yvon</td><td>1994-06-06</td><td>MVOGO</td><td>RB Leipzig (GER)</td><td>186</td><td>84</td></tr><tr><td>Switzerland</td><td>5</td><td>DF</td><td>AKANJI Manuel</td><td>1995-07-19</td><td>AKANJI</td><td>Borussia Dortmund (GER)</td><td>186</td><td>85</td></tr><tr><td>Switzerland</td><td>7</td><td>FW</td><td>EMBOLO Breel</td><td>1997-02-14</td><td>EMBOLO</td><td>FC Schalke 04 (GER)</td><td>184</td><td>86</td></tr><tr><td>Switzerland</td><td>9</td><td>FW</td><td>SEFEROVIC Haris</td><td>1992-02-22</td><td>SEFEROVIC</td><td>SL Benfica (POR)</td><td>186</td><td>88</td></tr><tr><td>Switzerland</td><td>20</td><td>DF</td><td>DJOUROU Johan</td><td>1987-01-18</td><td>DJOUROU</td><td>Antalyaspor AS (TUR)</td><td>192</td><td>90</td></tr><tr><td>Tunisia</td><td>23</td><td>FW</td><td>SLITI Naim</td><td>1992-07-27</td><td>SLITI</td><td>Dijon FCO (FRA)</td><td>173</td><td>65</td></tr><tr><td>Tunisia</td><td>17</td><td>MF</td><td>SKHIRI Ellyes</td><td>1995-05-10</td><td>SKHIRI JORIS</td><td>Montpellier HSC (FRA)</td><td>185</td><td>69</td></tr><tr><td>Tunisia</td><td>4</td><td>DF</td><td>MERIAH Yassine</td><td>1993-07-02</td><td>MERIAH</td><td>CS Sfaxien (TUN)</td><td>183</td><td>70</td></tr><tr><td>Tunisia</td><td>9</td><td>MF</td><td>BADRI Anice</td><td>1990-09-18</td><td>BADRI</td><td>ES Tunis (TUN)</td><td>178</td><td>70</td></tr><tr><td>Tunisia</td><td>20</td><td>FW</td><td>CHAALELI Ghaylen</td><td>1994-02-28</td><td>CHAALELI</td><td>ES Tunis (TUN)</td><td>179</td><td>70</td></tr><tr><td>Tunisia</td><td>22</td><td>GK</td><td>HASSEN Mouez</td><td>1995-03-05</td><td>HASSEN</td><td>LB Chateauroux (FRA)</td><td>186</td><td>70</td></tr><tr><td>Tunisia</td><td>18</td><td>FW</td><td>SRARFI Bassem</td><td>1997-06-25</td><td>SRARFI</td><td>OGC Nice (FRA)</td><td>176</td><td>71</td></tr><tr><td>Tunisia</td><td>12</td><td>DF</td><td>MAALOUL Ali</td><td>1990-01-01</td><td>MAALOUL</td><td>Al Ahly SC (EGY)</td><td>170</td><td>72</td></tr><tr><td>Tunisia</td><td>19</td><td>FW</td><td>KHALIFA Saber</td><td>1986-10-14</td><td>KHALIFA</td><td>Club Africain (TUN)</td><td>185</td><td>72</td></tr><tr><td>Tunisia</td><td>3</td><td>DF</td><td>BEN ALOUANE Yohan</td><td>1987-03-28</td><td>BEN ALOUANE</td><td>Leicester City FC (ENG)</td><td>185</td><td>75</td></tr><tr><td>Tunisia</td><td>11</td><td>DF</td><td>BRONN Dylan</td><td>1995-06-19</td><td>BRONN</td><td>KAA Gent (BEL)</td><td>186</td><td>75</td></tr><tr><td>Tunisia</td><td>14</td><td>MF</td><td>BEN AMOR Mohamed</td><td>1992-05-03</td><td>BEN AMOR</td><td>Al Ahli SC (KSA)</td><td>180</td><td>75</td></tr><tr><td>Tunisia</td><td>15</td><td>FW</td><td>KHALIL Ahmed</td><td>1994-12-21</td><td>KHALIL</td><td>Club Africain (TUN)</td><td>187</td><td>75</td></tr><tr><td>Tunisia</td><td>21</td><td>DF</td><td>NAGUEZ Hamdi</td><td>1992-10-28</td><td>NAGUEZ</td><td>Zamalek (EGY)</td><td>186</td><td>75</td></tr><tr><td>Tunisia</td><td>5</td><td>DF</td><td>HADDADI Oussama</td><td>1992-01-28</td><td>HADDADI</td><td>Dijon FCO (FRA)</td><td>185</td><td>76</td></tr><tr><td>Tunisia</td><td>7</td><td>FW</td><td>KHAOUI Saifeddine</td><td>1995-04-27</td><td>KHAOUI</td><td>ES Troyes (FRA)</td><td>180</td><td>76</td></tr><tr><td>Tunisia</td><td>10</td><td>FW</td><td>KHAZRI Wahbi</td><td>1991-02-08</td><td>KHAZRI</td><td>Stade Rennais FC (FRA)</td><td>182</td><td>76</td></tr><tr><td>Tunisia</td><td>6</td><td>DF</td><td>BEDOUI Rami</td><td>1990-01-19</td><td>BEDOUI</td><td>Étoile du Sahel (TUN)</td><td>187</td><td>77</td></tr><tr><td>Tunisia</td><td>8</td><td>FW</td><td>BEN YOUSSEF Fakhreddine</td><td>1991-06-23</td><td>BEN YOUSSEF .F</td><td>Al Ittifaq FC (KSA)</td><td>189</td><td>80</td></tr><tr><td>Tunisia</td><td>13</td><td>MF</td><td>SASSI Ferjani</td><td>1992-03-18</td><td>SASSI</td><td>Al Nassr FC (KSA)</td><td>186</td><td>80</td></tr><tr><td>Tunisia</td><td>16</td><td>GK</td><td>MATHLOUTHI Aymen</td><td>1984-09-14</td><td>MATHLOUTHI .A</td><td>Al Batin FC (KSA)</td><td>182</td><td>84</td></tr><tr><td>Tunisia</td><td>1</td><td>GK</td><td>BEN MUSTAPHA Farouk</td><td>1989-07-01</td><td>BEN MUSTAPHA</td><td>Al Shabab FC (KSA)</td><td>192</td><td>85</td></tr><tr><td>Tunisia</td><td>2</td><td>DF</td><td>BEN YOUSSEF Syam</td><td>1989-03-31</td><td>BEN YOUSSEF .S</td><td>Kasimpasa SK (TUR)</td><td>189</td><td>87</td></tr><tr><td>Uruguay</td><td>8</td><td>MF</td><td>NANDEZ Nahitan</td><td>1995-12-28</td><td>NANDEZ</td><td>CA Boca Juniors (ARG)</td><td>171</td><td>61</td></tr><tr><td>Uruguay</td><td>14</td><td>MF</td><td>TORREIRA Lucas</td><td>1996-02-11</td><td>TORREIRA</td><td>UC Sampdoria (ITA)</td><td>168</td><td>61</td></tr><tr><td>Uruguay</td><td>10</td><td>FW</td><td>DE ARRASCAETA Giorgian</td><td>1994-06-01</td><td>DE ARRASCAETA</td><td>Cruzeiro EC (BRA)</td><td>172</td><td>64</td></tr><tr><td>Uruguay</td><td>17</td><td>MF</td><td>LAXALT Diego</td><td>1993-02-07</td><td>LAXALT</td><td>Genoa CFC (ITA)</td><td>178</td><td>66</td></tr><tr><td>Uruguay</td><td>20</td><td>FW</td><td>URRETAVISCAYA Jonathan</td><td>1990-03-19</td><td>URRETAVISCAYA</td><td>CF Monterrey (MEX)</td><td>172</td><td>66</td></tr><tr><td>Uruguay</td><td>4</td><td>DF</td><td>VARELA Guillermo</td><td>1993-03-24</td><td>VARELA</td><td>CA Penarol (URU)</td><td>173</td><td>70</td></tr><tr><td>Uruguay</td><td>3</td><td>DF</td><td>GODIN Diego</td><td>1986-02-16</td><td>GODIN</td><td>Atletico Madrid (ESP)</td><td>185</td><td>73</td></tr><tr><td>Uruguay</td><td>6</td><td>MF</td><td>BENTANCUR Rodrigo</td><td>1997-06-25</td><td>BENTANCUR</td><td>Juventus FC (ITA)</td><td>187</td><td>73</td></tr><tr><td>Uruguay</td><td>16</td><td>DF</td><td>PEREIRA Maximiliano</td><td>1984-06-08</td><td>M. PEREIRA</td><td>FC Porto (POR)</td><td>173</td><td>73</td></tr><tr><td>Uruguay</td><td>1</td><td>GK</td><td>MUSLERA Fernando</td><td>1986-06-16</td><td>MUSLERA</td><td>Galatasaray SK (TUR)</td><td>190</td><td>74</td></tr><tr><td>Uruguay</td><td>5</td><td>MF</td><td>SANCHEZ Carlos</td><td>1984-12-02</td><td>SANCHEZ</td><td>CF Monterrey (MEX)</td><td>171</td><td>74</td></tr><tr><td>Uruguay</td><td>13</td><td>DF</td><td>SILVA Gaston</td><td>1994-03-05</td><td>G. SILVA</td><td>CA Independiente (ARG)</td><td>185</td><td>74</td></tr><tr><td>Uruguay</td><td>22</td><td>DF</td><td>CACERES Martin</td><td>1987-04-07</td><td>CACERES</td><td>SS Lazio (ITA)</td><td>178</td><td>75</td></tr><tr><td>Uruguay</td><td>2</td><td>DF</td><td>GIMENEZ Jose</td><td>1995-01-20</td><td>J.M. GIMENEZ</td><td>Atletico Madrid (ESP)</td><td>185</td><td>77</td></tr><tr><td>Uruguay</td><td>11</td><td>FW</td><td>STUANI Cristhian</td><td>1986-10-12</td><td>STUANI</td><td>Girona FC (ESP)</td><td>186</td><td>78</td></tr><tr><td>Uruguay</td><td>21</td><td>FW</td><td>CAVANI Edinson</td><td>1987-02-14</td><td>CAVANI</td><td>Paris Saint-Germain FC (FRA)</td><td>188</td><td>78</td></tr><tr><td>Uruguay</td><td>7</td><td>MF</td><td>RODRIGUEZ Cristian</td><td>1985-09-30</td><td>C. RODRIGUEZ</td><td>CA Penarol (URU)</td><td>178</td><td>79</td></tr><tr><td>Uruguay</td><td>12</td><td>GK</td><td>CAMPANA Martin</td><td>1989-05-29</td><td>CAMPAÑA</td><td>CA Independiente (ARG)</td><td>184</td><td>79</td></tr><tr><td>Uruguay</td><td>15</td><td>MF</td><td>VECINO Matias</td><td>1991-08-24</td><td>VECINO</td><td>FC Internazionale (ITA)</td><td>189</td><td>80</td></tr><tr><td>Uruguay</td><td>23</td><td>GK</td><td>SILVA Martin</td><td>1983-03-25</td><td>M. SILVA</td><td>CR Vasco da Gama (BRA)</td><td>187</td><td>82</td></tr><tr><td>Uruguay</td><td>9</td><td>FW</td><td>SUAREZ Luis</td><td>1987-01-24</td><td>SUAREZ</td><td>FC Barcelona (ESP)</td><td>182</td><td>85</td></tr><tr><td>Uruguay</td><td>18</td><td>FW</td><td>GOMEZ Maximiliano</td><td>1996-08-14</td><td>M. GOMEZ</td><td>Celta Vigo (ESP)</td><td>186</td><td>85</td></tr><tr><td>Uruguay</td><td>19</td><td>DF</td><td>COATES Sebastian</td><td>1990-10-07</td><td>COATES</td><td>Sporting CP (POR)</td><td>196</td><td>89</td></tr></tbody></table></div>"
      ]
     },
     "metadata": {
      "application/vnd.databricks.v1+output": {
       "addedWidgets": {},
       "aggData": [],
       "aggError": "",
       "aggOverflow": false,
       "aggSchema": [],
       "aggSeriesLimitReached": false,
       "aggType": "",
       "arguments": {},
       "columnCustomDisplayInfos": {},
       "data": [
        [
         "Argentina",
         3,
         "DF",
         "TAGLIAFICO Nicolas",
         "1992-08-31",
         "TAGLIAFICO",
         "AFC Ajax (NED)",
         169,
         65
        ],
        [
         "Argentina",
         22,
         "MF",
         "PAVON Cristian",
         "1996-01-21",
         "PAVÓN",
         "CA Boca Juniors (ARG)",
         169,
         65
        ],
        [
         "Argentina",
         15,
         "MF",
         "LANZINI Manuel",
         "1993-02-15",
         "LANZINI",
         "West Ham United FC (ENG)",
         167,
         66
        ],
        [
         "Argentina",
         18,
         "DF",
         "SALVIO Eduardo",
         "1990-07-13",
         "SALVIO",
         "SL Benfica (POR)",
         167,
         69
        ],
        [
         "Argentina",
         10,
         "FW",
         "MESSI Lionel",
         "1987-06-24",
         "MESSI",
         "FC Barcelona (ESP)",
         170,
         72
        ],
        [
         "Argentina",
         4,
         "DF",
         "ANSALDI Cristian",
         "1986-09-20",
         "ANSALDI",
         "Torino FC (ITA)",
         181,
         73
        ],
        [
         "Argentina",
         5,
         "MF",
         "BIGLIA Lucas",
         "1986-01-30",
         "BIGLIA",
         "AC Milan (ITA)",
         175,
         73
        ],
        [
         "Argentina",
         7,
         "MF",
         "BANEGA Ever",
         "1988-06-29",
         "BANEGA",
         "Sevilla FC (ESP)",
         175,
         73
        ],
        [
         "Argentina",
         14,
         "DF",
         "MASCHERANO Javier",
         "1984-06-08",
         "MASCHERANO",
         "Hebei China Fortune FC (CHN)",
         174,
         73
        ],
        [
         "Argentina",
         21,
         "FW",
         "DYBALA Paulo",
         "1993-11-15",
         "DYBALA",
         "Juventus FC (ITA)",
         177,
         73
        ],
        [
         "Argentina",
         19,
         "FW",
         "AGUERO Sergio",
         "1988-06-02",
         "AGÜERO",
         "Manchester City FC (ENG)",
         172,
         74
        ],
        [
         "Argentina",
         9,
         "FW",
         "HIGUAIN Gonzalo",
         "1987-12-10",
         "HIGUAÍN",
         "Juventus FC (ITA)",
         184,
         75
        ],
        [
         "Argentina",
         11,
         "MF",
         "DI MARIA Angel",
         "1988-02-14",
         "DI MARÍA",
         "Paris Saint-Germain FC (FRA)",
         178,
         75
        ],
        [
         "Argentina",
         20,
         "MF",
         "LO CELSO Giovani",
         "1996-04-09",
         "LO CELSO",
         "Paris Saint-Germain FC (FRA)",
         177,
         75
        ],
        [
         "Argentina",
         13,
         "MF",
         "MEZA Maximiliano",
         "1992-12-15",
         "MEZA",
         "CA Independiente (ARG)",
         180,
         76
        ],
        [
         "Argentina",
         8,
         "DF",
         "ACUNA Marcos",
         "1991-10-28",
         "ACUÑA",
         "Sporting CP (POR)",
         172,
         77
        ],
        [
         "Argentina",
         23,
         "GK",
         "CABALLERO Wilfredo",
         "1981-09-28",
         "CABALLERO",
         "Chelsea FC (ENG)",
         186,
         80
        ],
        [
         "Argentina",
         2,
         "DF",
         "MERCADO Gabriel",
         "1987-03-18",
         "MERCADO",
         "Sevilla FC (ESP)",
         181,
         81
        ],
        [
         "Argentina",
         17,
         "DF",
         "OTAMENDI Nicolas",
         "1988-02-12",
         "OTAMENDI",
         "Manchester City FC (ENG)",
         181,
         81
        ],
        [
         "Argentina",
         16,
         "DF",
         "ROJO Marcos",
         "1990-03-20",
         "ROJO",
         "Manchester United FC (ENG)",
         189,
         82
        ],
        [
         "Argentina",
         6,
         "DF",
         "FAZIO Federico",
         "1987-03-17",
         "FAZIO",
         "AS Roma (ITA)",
         199,
         85
        ],
        [
         "Argentina",
         12,
         "GK",
         "ARMANI Franco",
         "1986-10-16",
         "ARMANI",
         "CA River Plate (ARG)",
         189,
         85
        ],
        [
         "Argentina",
         1,
         "GK",
         "GUZMAN Nahuel",
         "1986-02-10",
         "GUZMÁN",
         "Tigres UANL (MEX)",
         192,
         90
        ],
        [
         "Australia",
         16,
         "DF",
         "BEHICH Aziz",
         "1990-12-16",
         "BEHICH",
         "Bursaspor (TUR)",
         170,
         63
        ],
        [
         "Australia",
         10,
         "FW",
         "KRUSE Robbie",
         "1988-10-05",
         "KRUSE",
         "VfL Bochum (GER)",
         180,
         66
        ],
        [
         "Australia",
         19,
         "DF",
         "RISDON Joshua",
         "1992-07-27",
         "RISDON",
         "WS Wanderers FC (AUS)",
         169,
         70
        ],
        [
         "Australia",
         3,
         "DF",
         "MEREDITH James",
         "1988-04-05",
         "MEREDITH",
         "Millwall FC (ENG)",
         179,
         71
        ],
        [
         "Australia",
         13,
         "MF",
         "MOOY Aaron",
         "1990-09-15",
         "MOOY",
         "Huddersfield Town FC (ENG)",
         173,
         72
        ],
        [
         "Australia",
         14,
         "FW",
         "MacLAREN Jamie",
         "1993-07-29",
         "MACLAREN",
         "Hibernian FC (SCO)",
         178,
         72
        ],
        [
         "Australia",
         21,
         "FW",
         "PETRATOS Dimitrios",
         "1992-11-10",
         "PETRATOS",
         "Newcastle United Jets FC (AUS)",
         176,
         72
        ],
        [
         "Australia",
         17,
         "FW",
         "ARZANI Daniel",
         "1999-01-04",
         "ARZANI",
         "Melbourne City FC (AUS)",
         171,
         73
        ],
        [
         "Australia",
         4,
         "FW",
         "CAHILL Tim",
         "1979-12-06",
         "CAHILL",
         "Millwall FC (ENG)",
         180,
         76
        ],
        [
         "Australia",
         8,
         "MF",
         "LUONGO Massimo",
         "1992-09-25",
         "LUONGO",
         "Queens Park Rangers FC (ENG)",
         176,
         76
        ],
        [
         "Australia",
         20,
         "DF",
         "SAINSBURY Trent",
         "1992-01-05",
         "SAINSBURY",
         "Grasshopper Club (SUI)",
         183,
         76
        ],
        [
         "Australia",
         22,
         "MF",
         "IRVINE Jackson",
         "1993-03-07",
         "IRVINE",
         "Hull City FC (ENG)",
         180,
         77
        ],
        [
         "Australia",
         5,
         "DF",
         "MILLIGAN Mark",
         "1985-08-04",
         "MILLIGAN",
         "Al Ahli SC (KSA)",
         178,
         78
        ],
        [
         "Australia",
         15,
         "MF",
         "JEDINAK Mile",
         "1984-08-03",
         "JEDINAK",
         "Aston Villa FC (ENG)",
         188,
         78
        ],
        [
         "Australia",
         9,
         "FW",
         "JURIC Tomi",
         "1991-07-22",
         "JURIC",
         "FC Luzern (SUI)",
         190,
         80
        ],
        [
         "Australia",
         1,
         "GK",
         "RYAN Mathew",
         "1992-04-08",
         "RYAN",
         "Brighton & Hove Albion FC (ENG)",
         184,
         82
        ],
        [
         "Australia",
         6,
         "DF",
         "JURMAN Matthew",
         "1989-12-08",
         "JURMAN",
         "Suwon Samsung Bluewings FC (KOR)",
         190,
         83
        ],
        [
         "Australia",
         7,
         "FW",
         "LECKIE Mathew",
         "1991-02-04",
         "LECKIE",
         "Hertha BSC (GER)",
         181,
         84
        ],
        [
         "Australia",
         2,
         "DF",
         "DEGENEK Milos",
         "1994-04-28",
         "DEGENEK",
         "Yokohama F-Marinos (JPN)",
         187,
         85
        ],
        [
         "Australia",
         11,
         "FW",
         "NABBOUT Andrew",
         "1992-12-17",
         "NABBOUT",
         "Urawa Reds (JPN)",
         178,
         85
        ],
        [
         "Australia",
         12,
         "GK",
         "JONES Brad",
         "1982-03-19",
         "JONES",
         "Feyenoord Rotterdam (NED)",
         193,
         87
        ],
        [
         "Australia",
         23,
         "MF",
         "ROGIC Tom",
         "1992-12-16",
         "ROGIC",
         "Celtic FC (SCO)",
         189,
         88
        ],
        [
         "Australia",
         18,
         "GK",
         "VUKOVIC Danny",
         "1985-03-27",
         "VUKOVIC",
         "KRC Genk (BEL)",
         187,
         94
        ],
        [
         "Belgium",
         14,
         "FW",
         "MERTENS Dries",
         "1987-05-06",
         "MERTENS",
         "SSC Napoli (ITA)",
         169,
         61
        ],
        [
         "Belgium",
         11,
         "MF",
         "CARRASCO Yannick",
         "1993-09-04",
         "CARRASCO",
         "Dalian Yifang FC (CHN)",
         180,
         67
        ],
        [
         "Belgium",
         7,
         "MF",
         "DE BRUYNE Kevin",
         "1991-06-28",
         "DE BRUYNE",
         "Manchester City FC (ENG)",
         181,
         70
        ],
        [
         "Belgium",
         16,
         "MF",
         "HAZARD Thorgan",
         "1993-03-29",
         "T. HAZARD",
         "VfL Borussia Mönchengladbach (GER)",
         174,
         70
        ],
        [
         "Belgium",
         17,
         "MF",
         "TIELEMANS Youri",
         "1997-05-07",
         "TIELEMANS",
         "AS Monaco (FRA)",
         176,
         72
        ],
        [
         "Belgium",
         6,
         "MF",
         "WITSEL Axel",
         "1989-01-12",
         "WITSEL",
         "Tianjin Quanjian FC (CHN)",
         186,
         73
        ],
        [
         "Belgium",
         10,
         "FW",
         "HAZARD Eden",
         "1991-01-07",
         "E. HAZARD",
         "Chelsea FC (ENG)",
         173,
         74
        ],
        [
         "Belgium",
         18,
         "FW",
         "JANUZAJ Adnan",
         "1995-02-05",
         "JANUZAJ",
         "Real Sociedad (ESP)",
         180,
         75
        ],
        [
         "Belgium",
         23,
         "DF",
         "DENDONCKER Leander",
         "1995-04-15",
         "DENDONCKER",
         "RSC Anderlecht (BEL)",
         188,
         76
        ],
        [
         "Belgium",
         21,
         "FW",
         "BATSHUAYI Michy",
         "1993-10-02",
         "BATSHUAYI",
         "Borussia Dortmund (GER)",
         185,
         78
        ],
        [
         "Belgium",
         3,
         "DF",
         "VERMAELEN Thomas",
         "1985-11-14",
         "VERMAELEN",
         "FC Barcelona (ESP)",
         183,
         80
        ],
        [
         "Belgium",
         2,
         "DF",
         "ALDERWEIRELD Toby",
         "1989-03-02",
         "ALDERWEIRELD",
         "Tottenham Hotspur FC (ENG)",
         186,
         81
        ],
        [
         "Belgium",
         19,
         "MF",
         "DEMBELE Moussa",
         "1987-07-16",
         "DEMBELE",
         "Tottenham Hotspur FC (ENG)",
         185,
         82
        ],
        [
         "Belgium",
         20,
         "DF",
         "BOYATA Dedryck",
         "1990-11-28",
         "BOYATA",
         "Celtic FC (SCO)",
         188,
         84
        ],
        [
         "Belgium",
         4,
         "DF",
         "KOMPANY Vincent",
         "1986-04-10",
         "KOMPANY",
         "Manchester City FC (ENG)",
         190,
         85
        ],
        [
         "Belgium",
         8,
         "MF",
         "FELLAINI Marouane",
         "1987-11-22",
         "FELLAINI",
         "Manchester United FC (ENG)",
         194,
         85
        ],
        [
         "Belgium",
         22,
         "MF",
         "CHADLI Nacer",
         "1989-08-02",
         "CHADLI",
         "West Bromwich Albion FC (ENG)",
         187,
         85
        ],
        [
         "Belgium",
         5,
         "DF",
         "VERTONGHEN Jan",
         "1987-04-24",
         "VERTONGHEN",
         "Tottenham Hotspur FC (ENG)",
         189,
         86
        ],
        [
         "Belgium",
         13,
         "GK",
         "CASTEELS Koen",
         "1992-06-25",
         "CASTEELS",
         "VfL Wolfsburg (GER)",
         197,
         86
        ],
        [
         "Belgium",
         12,
         "GK",
         "MIGNOLET Simon",
         "1988-03-06",
         "MIGNOLET",
         "Liverpool FC (ENG)",
         193,
         87
        ],
        [
         "Belgium",
         15,
         "DF",
         "MEUNIER Thomas",
         "1991-09-12",
         "MEUNIER",
         "Paris Saint-Germain FC (FRA)",
         190,
         88
        ],
        [
         "Belgium",
         1,
         "GK",
         "COURTOIS Thibaut",
         "1992-05-11",
         "COURTOIS",
         "Chelsea FC (ENG)",
         199,
         91
        ],
        [
         "Belgium",
         9,
         "FW",
         "LUKAKU Romelu",
         "1993-05-13",
         "R. LUKAKU",
         "Manchester United FC (ENG)",
         190,
         94
        ],
        [
         "Brazil",
         18,
         "MF",
         "FRED",
         "1993-03-05",
         "FRED",
         "FC Shakhtar Donetsk (UKR)",
         169,
         64
        ],
        [
         "Brazil",
         21,
         "FW",
         "TAISON",
         "1988-01-13",
         "TAISON",
         "FC Shakhtar Donetsk (UKR)",
         172,
         64
        ],
        [
         "Brazil",
         17,
         "MF",
         "FERNANDINHO",
         "1985-05-04",
         "FERNANDINHO",
         "Manchester City FC (ENG)",
         179,
         67
        ],
        [
         "Brazil",
         22,
         "DF",
         "FAGNER",
         "1989-06-11",
         "FAGNER",
         "SC Corinthians (BRA)",
         168,
         67
        ],
        [
         "Brazil",
         10,
         "FW",
         "NEYMAR",
         "1992-02-05",
         "NEYMAR JR",
         "Paris Saint-Germain FC (FRA)",
         175,
         68
        ],
        [
         "Brazil",
         11,
         "MF",
         "PHILIPPE COUTINHO",
         "1992-06-12",
         "P. COUTINHO",
         "FC Barcelona (ESP)",
         172,
         68
        ],
        [
         "Brazil",
         7,
         "FW",
         "DOUGLAS COSTA",
         "1990-09-14",
         "D. COSTA",
         "Juventus FC (ITA)",
         182,
         70
        ],
        [
         "Brazil",
         6,
         "DF",
         "FILIPE LUIS",
         "1985-08-09",
         "FILIPE LUIS",
         "Atletico Madrid (ESP)",
         182,
         73
        ],
        [
         "Brazil",
         9,
         "FW",
         "GABRIEL JESUS",
         "1997-04-03",
         "G. JESUS",
         "Manchester City FC (ENG)",
         175,
         73
        ],
        [
         "Brazil",
         13,
         "DF",
         "MARQUINHOS",
         "1994-05-14",
         "MARQUINHOS",
         "Paris Saint-Germain FC (FRA)",
         183,
         75
        ],
        [
         "Brazil",
         20,
         "FW",
         "ROBERTO FIRMINO",
         "1991-10-02",
         "FIRMINO",
         "Liverpool FC (ENG)",
         181,
         76
        ],
        [
         "Brazil",
         19,
         "MF",
         "WILLIAN",
         "1988-08-09",
         "WILLIAN",
         "Chelsea FC (ENG)",
         175,
         77
        ],
        [
         "Brazil",
         3,
         "DF",
         "MIRANDA",
         "1984-09-07",
         "MIRANDA",
         "FC Internazionale (ITA)",
         186,
         78
        ],
        [
         "Brazil",
         14,
         "DF",
         "DANILO",
         "1991-07-15",
         "DANILO",
         "Manchester City FC (ENG)",
         184,
         78
        ],
        [
         "Brazil",
         2,
         "DF",
         "THIAGO SILVA",
         "1984-09-22",
         "T. SILVA",
         "Paris Saint-Germain FC (FRA)",
         183,
         79
        ],
        [
         "Brazil",
         12,
         "DF",
         "MARCELO",
         "1988-05-12",
         "MARCELO",
         "Real Madrid CF (ESP)",
         174,
         80
        ],
        [
         "Brazil",
         15,
         "MF",
         "PAULINHO",
         "1988-07-25",
         "PAULINHO",
         "FC Barcelona (ESP)",
         181,
         81
        ],
        [
         "Brazil",
         4,
         "DF",
         "PEDRO GEROMEL",
         "1985-09-21",
         "GEROMEL",
         "Grêmio FBPA (BRA)",
         190,
         84
        ],
        [
         "Brazil",
         5,
         "MF",
         "CASEMIRO",
         "1992-02-23",
         "CASEMIRO",
         "Real Madrid CF (ESP)",
         185,
         84
        ],
        [
         "Brazil",
         8,
         "MF",
         "RENATO AUGUSTO",
         "1988-02-08",
         "R. AUGUSTO",
         "Beijing Guoan (CHN)",
         186,
         86
        ],
        [
         "Brazil",
         23,
         "GK",
         "EDERSON",
         "1993-08-17",
         "EDERSON",
         "Manchester City FC (ENG)",
         188,
         86
        ],
        [
         "Brazil",
         1,
         "GK",
         "ALISSON",
         "1992-10-02",
         "A. BECKER",
         "AS Roma (ITA)",
         193,
         91
        ],
        [
         "Brazil",
         16,
         "GK",
         "CASSIO",
         "1987-06-06",
         "CASSIO",
         "SC Corinthians (BRA)",
         195,
         92
        ],
        [
         "Colombia",
         20,
         "MF",
         "QUINTERO Juan",
         "1993-01-18",
         "J. QUINTERO",
         "CA River Plate (ARG)",
         169,
         64
        ],
        [
         "Colombia",
         17,
         "DF",
         "MOJICA Johan",
         "1992-08-21",
         "J. MOJICA",
         "Girona FC (ESP)",
         185,
         66
        ],
        [
         "Colombia",
         16,
         "MF",
         "LERMA Jefferson",
         "1994-10-25",
         "J. LERMA",
         "Levante UD (ESP)",
         179,
         70
        ],
        [
         "Colombia",
         4,
         "DF",
         "ARIAS Santiago",
         "1992-01-13",
         "ARIAS",
         "PSV Eindhoven (NED)",
         177,
         71
        ],
        [
         "Colombia",
         15,
         "MF",
         "URIBE Mateus",
         "1991-03-21",
         "M. URIBE",
         "Club América (MEX)",
         182,
         71
        ],
        [
         "Colombia",
         9,
         "FW",
         "FALCAO Radamel",
         "1986-02-10",
         "FALCAO",
         "AS Monaco (FRA)",
         177,
         72
        ],
        [
         "Colombia",
         11,
         "MF",
         "CUADRADO Juan",
         "1988-05-26",
         "CUADRADO",
         "Juventus FC (ITA)",
         179,
         72
        ],
        [
         "Colombia",
         18,
         "DF",
         "FABRA Frank",
         "1991-02-22",
         "FABRA",
         "CA Boca Juniors (ARG)",
         172,
         72
        ],
        [
         "Colombia",
         21,
         "FW",
         "IZQUIERDO Jose",
         "1992-07-07",
         "IZQUIERDO",
         "Brighton & Hove Albion FC (ENG)",
         171,
         73
        ],
        [
         "Colombia",
         5,
         "MF",
         "BARRIOS  Wilmar",
         "1993-10-16",
         "BARRIOS",
         "CA Boca Juniors (ARG)",
         178,
         74
        ],
        [
         "Colombia",
         19,
         "FW",
         "BORJA Miguel",
         "1993-01-26",
         "M. BORJA",
         "SE Palmeiras (BRA)",
         183,
         74
        ],
        [
         "Colombia",
         10,
         "MF",
         "RODRIGUEZ James",
         "1991-07-12",
         "JAMES",
         "FC Bayern München (GER)",
         180,
         75
        ],
        [
         "Colombia",
         7,
         "FW",
         "BACCA Carlos",
         "1986-09-08",
         "BACCA",
         "Villarreal CF (ESP)",
         181,
         77
        ],
        [
         "Colombia",
         14,
         "FW",
         "MURIEL Luis",
         "1991-04-16",
         "L. MURIEL",
         "Sevilla FC (ESP)",
         178,
         79
        ],
        [
         "Colombia",
         1,
         "GK",
         "OSPINA David",
         "1988-08-31",
         "OSPINA",
         "Arsenal FC (ENG)",
         183,
         80
        ],
        [
         "Colombia",
         3,
         "DF",
         "MURILLO Oscar",
         "1988-04-18",
         "O. MURILLO",
         "CF Pachuca (MEX)",
         184,
         80
        ],
        [
         "Colombia",
         12,
         "GK",
         "VARGAS Camilo",
         "1989-03-09",
         "C. VARGAS",
         "AC Deportivo Cali (COL)",
         185,
         80
        ],
        [
         "Colombia",
         22,
         "GK",
         "CUADRADO Jose",
         "1985-06-01",
         "J.F. CUADRADO",
         "CD Once Caldas (COL)",
         180,
         80
        ],
        [
         "Colombia",
         23,
         "DF",
         "SANCHEZ Davinson",
         "1996-06-12",
         "D. SANCHEZ",
         "Tottenham Hotspur FC (ENG)",
         187,
         81
        ],
        [
         "Colombia",
         2,
         "DF",
         "ZAPATA Cristian",
         "1986-09-30",
         "C. ZAPATA",
         "AC Milan (ITA)",
         187,
         82
        ],
        [
         "Colombia",
         6,
         "MF",
         "SANCHEZ Carlos",
         "1986-02-06",
         "C. SANCHEZ",
         "RCD Espanyol (ESP)",
         182,
         82
        ],
        [
         "Colombia",
         8,
         "MF",
         "AGUILAR Abel",
         "1985-01-06",
         "AGUILAR T.",
         "AC Deportivo Cali (COL)",
         185,
         82
        ],
        [
         "Colombia",
         13,
         "DF",
         "MINA Yerry",
         "1994-09-23",
         "Y. MINA",
         "FC Barcelona (ESP)",
         194,
         95
        ],
        [
         "Costa Rica",
         7,
         "MF",
         "BOLANOS Christian",
         "1984-05-17",
         "C. BOLAÑOS",
         "Deportivo Saprissa (CRC)",
         178,
         67
        ],
        [
         "Costa Rica",
         16,
         "DF",
         "GAMBOA Cristian",
         "1989-10-24",
         "C. GAMBOA",
         "Celtic FC (SCO)",
         175,
         67
        ],
        [
         "Costa Rica",
         17,
         "MF",
         "TEJEDA Yeltsin",
         "1992-03-17",
         "Y. TEJEDA",
         "FC Lausanne-Sport (SUI)",
         179,
         67
        ],
        [
         "Costa Rica",
         4,
         "DF",
         "SMITH Ian",
         "1998-03-06",
         "I. SMITH",
         "IFK Norrkoping FK (SWE)",
         177,
         68
        ],
        [
         "Costa Rica",
         8,
         "DF",
         "OVIEDO Bryan",
         "1990-02-18",
         "B. OVIEDO",
         "Sunderland AFC (ENG)",
         172,
         70
        ],
        [
         "Costa Rica",
         13,
         "MF",
         "WALLACE Rodney",
         "1988-06-17",
         "R. WALLACE",
         "New York City FC (USA)",
         180,
         70
        ],
        [
         "Costa Rica",
         21,
         "FW",
         "URENA Marcos",
         "1990-03-05",
         "M. UREÑA",
         "Los Angeles FC (USA)",
         181,
         70
        ],
        [
         "Costa Rica",
         22,
         "DF",
         "MATARRITA Ronald",
         "1994-07-09",
         "R. MATARRITA",
         "New York City FC (USA)",
         175,
         70
        ],
        [
         "Costa Rica",
         23,
         "GK",
         "MOREIRA Leonel",
         "1990-04-02",
         "L. MOREIRA",
         "CS Herediano (CRC)",
         179,
         70
        ],
        [
         "Costa Rica",
         12,
         "FW",
         "CAMPBELL Joel",
         "1992-06-26",
         "J. CAMPBELL",
         "Real Betis (ESP)",
         178,
         71
        ],
        [
         "Costa Rica",
         18,
         "GK",
         "PEMBERTON Patrick",
         "1982-04-24",
         "P. PEMBERTON",
         "LD Alajuelense (CRC)",
         178,
         72
        ],
        [
         "Costa Rica",
         10,
         "MF",
         "RUIZ Bryan",
         "1985-08-18",
         "BRYAN",
         "Sporting CP (POR)",
         187,
         73
        ],
        [
         "Costa Rica",
         2,
         "DF",
         "ACOSTA Johnny",
         "1983-07-21",
         "J. ACOSTA",
         "Rionegro Águilas (COL)",
         176,
         75
        ],
        [
         "Costa Rica",
         9,
         "MF",
         "COLINDRES Daniel",
         "1985-01-10",
         "D. COLINDRES",
         "Deportivo Saprissa (CRC)",
         180,
         75
        ],
        [
         "Costa Rica",
         11,
         "FW",
         "VENEGAS Johan",
         "1988-11-27",
         "J. VENEGAS",
         "Deportivo Saprissa (CRC)",
         183,
         76
        ],
        [
         "Costa Rica",
         3,
         "DF",
         "GONZALEZ Giancarlo",
         "1988-02-08",
         "G. GONZALEZ",
         "Bologna FC (ITA)",
         186,
         78
        ],
        [
         "Costa Rica",
         15,
         "DF",
         "CALVO Francisco",
         "1992-07-08",
         "F. CALVO",
         "Minnesota United FC (USA)",
         180,
         78
        ],
        [
         "Costa Rica",
         20,
         "MF",
         "GUZMAN David",
         "1990-02-18",
         "D. GUZMAN",
         "Portland Timbers (USA)",
         176,
         78
        ],
        [
         "Costa Rica",
         5,
         "MF",
         "BORGES Celso",
         "1988-05-27",
         "C. BORGES",
         "Deportivo La Coruña (ESP)",
         187,
         79
        ],
        [
         "Costa Rica",
         1,
         "GK",
         "NAVAS Keylor",
         "1986-12-15",
         "K. NAVAS",
         "Real Madrid CF (ESP)",
         185,
         80
        ],
        [
         "Costa Rica",
         6,
         "DF",
         "DUARTE Oscar",
         "1989-06-03",
         "O. DUARTE",
         "RCD Espanyol (ESP)",
         186,
         81
        ],
        [
         "Costa Rica",
         14,
         "MF",
         "AZOFEIFA Randall",
         "1984-12-30",
         "R. AZOFEIFA",
         "CS Herediano (CRC)",
         182,
         83
        ],
        [
         "Costa Rica",
         19,
         "DF",
         "WASTON Kendall",
         "1988-01-01",
         "K. WASTON",
         "Vancouver Whitecaps FC (CAN)",
         196,
         87
        ],
        [
         "Croatia",
         10,
         "MF",
         "MODRIC Luka",
         "1985-09-09",
         "MODRIĆ",
         "Real Madrid CF (ESP)",
         172,
         66
        ],
        [
         "Croatia",
         11,
         "MF",
         "BROZOVIC Marcelo",
         "1992-11-16",
         "BROZOVIĆ",
         "FC Internazionale (ITA)",
         181,
         68
        ],
        [
         "Croatia",
         22,
         "DF",
         "PIVARIC Josip",
         "1989-01-30",
         "PIVARIĆ",
         "FC Dynamo Kyiv (UKR)",
         176,
         69
        ],
        [
         "Croatia",
         9,
         "FW",
         "KRAMARIC Andrej",
         "1991-06-19",
         "KRAMARIĆ",
         "TSG 1899 Hoffenheim (GER)",
         177,
         73
        ],
        [
         "Croatia",
         2,
         "DF",
         "VRSALJKO Sime",
         "1992-01-10",
         "VRSALJKO",
         "Atletico Madrid (ESP)",
         181,
         76
        ],
        [
         "Croatia",
         19,
         "MF",
         "BADELJ Milan",
         "1989-02-25",
         "BADELJ",
         "ACF Fiorentina (ITA)",
         186,
         76
        ],
        [
         "Croatia",
         21,
         "DF",
         "VIDA Domagoj",
         "1989-04-29",
         "VIDA",
         "Besiktas JK (TUR)",
         184,
         76
        ],
        [
         "Croatia",
         3,
         "DF",
         "STRINIC Ivan",
         "1987-07-17",
         "STRINIĆ",
         "UC Sampdoria (ITA)",
         186,
         78
        ],
        [
         "Croatia",
         7,
         "MF",
         "RAKITIC Ivan",
         "1988-03-10",
         "RAKITIĆ",
         "FC Barcelona (ESP)",
         184,
         78
        ],
        [
         "Croatia",
         8,
         "MF",
         "KOVACIC Mateo",
         "1994-05-06",
         "KOVAČIĆ",
         "Real Madrid CF (ESP)",
         178,
         78
        ],
        [
         "Croatia",
         14,
         "MF",
         "BRADARIC Filip",
         "1992-01-11",
         "BRADARIĆ",
         "HNK Rijeka (CRO)",
         186,
         78
        ],
        [
         "Croatia",
         18,
         "FW",
         "REBIC Ante",
         "1993-09-21",
         "REBIĆ",
         "Eintracht Frankfurt (GER)",
         185,
         78
        ],
        [
         "Croatia",
         4,
         "FW",
         "PERISIC Ivan",
         "1989-02-02",
         "PERIŠIĆ",
         "FC Internazionale (ITA)",
         186,
         81
        ],
        [
         "Croatia",
         13,
         "DF",
         "JEDVAJ Tin",
         "1995-11-28",
         "JEDVAJ",
         "Bayer 04 Leverkusen (GER)",
         184,
         81
        ],
        [
         "Croatia",
         16,
         "FW",
         "KALINIC Nikola",
         "1988-01-05",
         "N. KALINIĆ",
         "AC Milan (ITA)",
         187,
         81
        ],
        [
         "Croatia",
         1,
         "GK",
         "LIVAKOVIC Dominik",
         "1995-01-09",
         "LIVAKOVIĆ",
         "GNK Dinamo Zagreb (CRO)",
         188,
         82
        ],
        [
         "Croatia",
         20,
         "FW",
         "PJACA Marko",
         "1995-05-06",
         "PJACA",
         "FC Schalke 04 (GER)",
         186,
         83
        ],
        [
         "Croatia",
         5,
         "DF",
         "CORLUKA Vedran",
         "1986-02-05",
         "ĆORLUKA",
         "FC Lokomotiv Moscow (RUS)",
         192,
         84
        ],
        [
         "Croatia",
         6,
         "DF",
         "LOVREN Dejan",
         "1989-07-05",
         "LOVREN",
         "Liverpool FC (ENG)",
         188,
         84
        ],
        [
         "Croatia",
         23,
         "GK",
         "SUBASIC Danijel",
         "1984-10-27",
         "SUBAŠIĆ",
         "AS Monaco (FRA)",
         191,
         84
        ],
        [
         "Croatia",
         17,
         "FW",
         "MANDZUKIC Mario",
         "1986-05-21",
         "MANDŽUKIĆ",
         "Juventus FC (ITA)",
         190,
         85
        ],
        [
         "Croatia",
         15,
         "DF",
         "CALETA-CAR Duje",
         "1996-09-17",
         "ĆALETA-CAR",
         "FC Red Bull Salzburg (AUT)",
         192,
         89
        ],
        [
         "Croatia",
         12,
         "GK",
         "KALINIC Lovre",
         "1990-04-03",
         "L. KALINIĆ",
         "KAA Gent (BEL)",
         201,
         96
        ],
        [
         "Denmark",
         2,
         "MF",
         "KROHN-DEHLI Michael",
         "1983-06-06",
         "KROHN-DEHLI",
         "Deportivo La Coruña (ESP)",
         171,
         69
        ],
        [
         "Denmark",
         23,
         "FW",
         "SISTO Pione",
         "1995-02-04",
         "SISTO",
         "Celta Vigo (ESP)",
         173,
         69
        ],
        [
         "Denmark",
         11,
         "FW",
         "BRAITHWAITE Martin",
         "1991-06-05",
         "BRAITHWAITE",
         "FC Girondins Bordeaux (FRA)",
         180,
         73
        ],
        [
         "Denmark",
         10,
         "MF",
         "ERIKSEN Christian",
         "1992-02-14",
         "ERIKSEN",
         "Tottenham Hotspur FC (ENG)",
         181,
         76
        ],
        [
         "Denmark",
         8,
         "MF",
         "DELANEY Thomas",
         "1991-09-03",
         "DELANEY",
         "SV Werder Bremen (GER)",
         180,
         78
        ],
        [
         "Denmark",
         7,
         "MF",
         "KVIST William",
         "1985-02-24",
         "KVIST",
         "FC Kobenhavn (DEN)",
         185,
         80
        ],
        [
         "Denmark",
         15,
         "FW",
         "FISCHER Viktor",
         "1994-06-09",
         "FISCHER",
         "FC Kobenhavn (DEN)",
         181,
         80
        ],
        [
         "Denmark",
         19,
         "MF",
         "SCHONE Lasse",
         "1986-05-27",
         "SCHÖNE",
         "AFC Ajax (NED)",
         178,
         80
        ],
        [
         "Denmark",
         14,
         "DF",
         "DALSGAARD Henrik",
         "1989-07-27",
         "DALSGAARD",
         "Brentford FC (ENG)",
         190,
         81
        ],
        [
         "Denmark",
         5,
         "DF",
         "KNUDSEN Jonas",
         "1992-09-16",
         "KNUDSEN",
         "Ipswich Town FC (ENG)",
         187,
         82
        ],
        [
         "Denmark",
         17,
         "DF",
         "STRYGER LARSEN Jens",
         "1991-02-21",
         "STRYGER",
         "Udinese Calcio (ITA)",
         182,
         82
        ],
        [
         "Denmark",
         4,
         "DF",
         "KJAER Simon",
         "1989-03-26",
         "KJÆR",
         "Sevilla FC (ESP)",
         191,
         84
        ],
        [
         "Denmark",
         20,
         "FW",
         "POULSEN Yussuf Yurary",
         "1994-06-15",
         "YURARY",
         "RB Leipzig (GER)",
         193,
         84
        ],
        [
         "Denmark",
         6,
         "DF",
         "CHRISTENSEN Andreas",
         "1996-04-10",
         "CHRISTENSEN",
         "Chelsea FC (ENG)",
         192,
         85
        ],
        [
         "Denmark",
         12,
         "FW",
         "DOLBERG Kasper",
         "1997-10-06",
         "DOLBERG",
         "AFC Ajax (NED)",
         187,
         85
        ],
        [
         "Denmark",
         13,
         "DF",
         "JORGENSEN Mathias",
         "1990-04-23",
         "M. JØRGENSEN",
         "Huddersfield Town FC (ENG)",
         191,
         85
        ],
        [
         "Denmark",
         18,
         "MF",
         "LERAGER Lukas",
         "1993-07-12",
         "LERAGER",
         "FC Girondins Bordeaux (FRA)",
         186,
         85
        ],
        [
         "Denmark",
         22,
         "GK",
         "RONNOW Frederik",
         "1992-08-04",
         "RØNNOW",
         "Brondby IF (DEN)",
         190,
         85
        ],
        [
         "Denmark",
         9,
         "FW",
         "JORGENSEN Nicolai",
         "1991-01-15",
         "N. JØRGENSEN",
         "Feyenoord Rotterdam (NED)",
         194,
         86
        ],
        [
         "Denmark",
         16,
         "GK",
         "LOSSL Jonas",
         "1989-02-01",
         "LÖSSL",
         "Huddersfield Town FC (ENG)",
         195,
         90
        ],
        [
         "Denmark",
         21,
         "FW",
         "CORNELIUS Andreas",
         "1993-03-16",
         "CORNELIUS",
         "Atalanta Bergamo (ITA)",
         195,
         91
        ],
        [
         "Denmark",
         1,
         "GK",
         "SCHMEICHEL Kasper",
         "1986-11-05",
         "SCHMEICHEL",
         "Leicester City FC (ENG)",
         190,
         92
        ],
        [
         "Denmark",
         3,
         "DF",
         "VESTERGAARD Jannik",
         "1992-08-03",
         "VESTERGAARD",
         "VfL Borussia Mönchengladbach (GER)",
         200,
         98
        ],
        [
         "Egypt",
         8,
         "MF",
         "TAREK HAMED",
         "1988-10-24",
         "TAREK HAMED",
         "Zamalek (EGY)",
         169,
         67
        ],
        [
         "Egypt",
         4,
         "MF",
         "OMAR GABER",
         "1992-01-30",
         "O. GABER",
         "Los Angeles FC (USA)",
         175,
         71
        ],
        [
         "Egypt",
         10,
         "FW",
         "MOHAMED SALAH",
         "1992-06-15",
         "M SALAH",
         "Liverpool FC (ENG)",
         175,
         71
        ],
        [
         "Egypt",
         13,
         "DF",
         "MOHAMED ABDELSHAFY",
         "1985-07-01",
         "ABDELSHAFY",
         "Al Fateh FC (KSA)",
         171,
         72
        ],
        [
         "Egypt",
         15,
         "DF",
         "MAHMOUD HAMDY",
         "1995-06-01",
         "M. HAMDY",
         "Zamalek (EGY)",
         173,
         72
        ],
        [
         "Egypt",
         12,
         "DF",
         "AYMAN ASHRAF",
         "1991-04-09",
         "A. ASHRAF",
         "Al Ahly SC (EGY)",
         176,
         73
        ],
        [
         "Egypt",
         17,
         "MF",
         "MOHAMED ELNENY",
         "1992-07-11",
         "M. ELNENY",
         "Arsenal FC (ENG)",
         181,
         74
        ],
        [
         "Egypt",
         5,
         "MF",
         "SAM MORSY",
         "1991-09-10",
         "MORSY",
         "Wigan Athletic FC (ENG)",
         173,
         75
        ],
        [
         "Egypt",
         19,
         "MF",
         "ABDALLA SAID",
         "1985-07-13",
         "ABDALLA",
         "Kuopion PS (FIN)",
         176,
         75
        ],
        [
         "Egypt",
         3,
         "DF",
         "AHMED ELMOHAMADY",
         "1987-09-09",
         "ELMOHAMADY",
         "Aston Villa FC (ENG)",
         183,
         76
        ],
        [
         "Egypt",
         7,
         "DF",
         "AHMED FATHI",
         "1984-11-10",
         "A. FATHI",
         "Al Ahly SC (EGY)",
         176,
         76
        ],
        [
         "Egypt",
         11,
         "FW",
         "KAHRABA",
         "1994-04-13",
         "M. KAHRABA",
         "Al-Ittihad FC (KSA)",
         182,
         76
        ],
        [
         "Egypt",
         14,
         "FW",
         "RAMADAN SOBHY",
         "1997-01-23",
         "RAMADAN",
         "Stoke City FC (ENG)",
         183,
         77
        ],
        [
         "Egypt",
         21,
         "MF",
         "TREZEGUET",
         "1994-10-01",
         "M. TREZEGUET",
         "Kasimpasa SK (TUR)",
         181,
         77
        ],
        [
         "Egypt",
         22,
         "FW",
         "AMR WARDA",
         "1993-09-17",
         "WARDA",
         "Atromitos FC (GRE)",
         179,
         77
        ],
        [
         "Egypt",
         18,
         "FW",
         "SHIKABALA",
         "1986-03-05",
         "SHIKABALA",
         "Al Raed SC (KSA)",
         183,
         80
        ],
        [
         "Egypt",
         9,
         "FW",
         "MARWAN MOHSEN",
         "1989-02-26",
         "MARWAN",
         "Al Ahly SC (EGY)",
         185,
         81
        ],
        [
         "Egypt",
         20,
         "DF",
         "SAMIR SAAD",
         "1989-04-01",
         "S. SAMIR",
         "Al Ahly SC (EGY)",
         183,
         82
        ],
        [
         "Egypt",
         23,
         "GK",
         "MOHAMED ELSHENAWY",
         "1988-12-18",
         "M. ELSHENAWY",
         "Al Ahly SC (EGY)",
         191,
         86
        ],
        [
         "Egypt",
         2,
         "DF",
         "ALI GABR",
         "1989-01-01",
         "ALI GABR",
         "West Bromwich Albion FC (ENG)",
         191,
         88
        ],
        [
         "Egypt",
         1,
         "GK",
         "ESSAM EL HADARY",
         "1973-01-15",
         "ELHADARY",
         "Al Taawoun FC (KSA)",
         190,
         90
        ],
        [
         "Egypt",
         16,
         "GK",
         "SHERIF EKRAMY",
         "1983-07-10",
         "EKRAMY",
         "Al Ahly SC (EGY)",
         193,
         93
        ],
        [
         "Egypt",
         6,
         "DF",
         "AHMED HEGAZY",
         "1991-01-25",
         "A. HEGAZY",
         "West Bromwich Albion FC (ENG)",
         194,
         95
        ],
        [
         "England",
         7,
         "MF",
         "LINGARD Jesse",
         "1992-12-15",
         "LINGARD",
         "Manchester United FC (ENG)",
         175,
         60
        ],
        [
         "England",
         10,
         "FW",
         "STERLING Raheem",
         "1994-12-08",
         "STERLING",
         "Manchester City FC (ENG)",
         170,
         70
        ],
        [
         "England",
         22,
         "DF",
         "ALEXANDER-ARNOLD Trent",
         "1998-10-07",
         "ALEXANDER-ARNOLD",
         "Liverpool FC (ENG)",
         175,
         70
        ],
        [
         "England",
         1,
         "GK",
         "PICKFORD Jordan",
         "1994-03-07",
         "PICKFORD",
         "Everton FC (ENG)",
         185,
         72
        ],
        [
         "England",
         5,
         "DF",
         "STONES John",
         "1994-05-28",
         "STONES",
         "Manchester City FC (ENG)",
         188,
         72
        ],
        [
         "England",
         12,
         "DF",
         "TRIPPIER Kieran",
         "1990-09-19",
         "TRIPPIER",
         "Tottenham Hotspur FC (ENG)",
         178,
         72
        ],
        [
         "England",
         16,
         "DF",
         "JONES Phil",
         "1992-02-21",
         "JONES",
         "Manchester United FC (ENG)",
         182,
         72
        ],
        [
         "England",
         21,
         "MF",
         "LOFTUS-CHEEK Ruben",
         "1996-01-23",
         "LOFTUS-CHEEK",
         "Chelsea FC (ENG)",
         190,
         73
        ],
        [
         "England",
         3,
         "DF",
         "ROSE Danny",
         "1990-07-02",
         "ROSE",
         "Tottenham Hotspur FC (ENG)",
         173,
         76
        ],
        [
         "England",
         20,
         "MF",
         "ALLI Dele",
         "1996-04-11",
         "DELE",
         "Tottenham Hotspur FC (ENG)",
         188,
         76
        ],
        [
         "England",
         23,
         "GK",
         "POPE Nick",
         "1992-04-19",
         "POPE",
         "Burnley FC (ENG)",
         191,
         76
        ],
        [
         "England",
         14,
         "FW",
         "WELBECK Danny",
         "1990-11-26",
         "WELBECK",
         "Arsenal FC (ENG)",
         184,
         78
        ],
        [
         "England",
         17,
         "DF",
         "DELPH Fabian",
         "1989-11-21",
         "DELPH",
         "Manchester City FC (ENG)",
         174,
         78
        ],
        [
         "England",
         18,
         "DF",
         "YOUNG Ashley",
         "1985-07-09",
         "YOUNG",
         "Manchester United FC (ENG)",
         175,
         78
        ],
        [
         "England",
         19,
         "FW",
         "RASHFORD Marcus",
         "1997-10-31",
         "RASHFORD",
         "Manchester United FC (ENG)",
         180,
         78
        ],
        [
         "England",
         11,
         "FW",
         "VARDY Jamie",
         "1987-01-11",
         "VARDY",
         "Leicester City FC (ENG)",
         178,
         80
        ],
        [
         "England",
         8,
         "MF",
         "HENDERSON Jordan",
         "1990-06-17",
         "HENDERSON",
         "Liverpool FC (ENG)",
         183,
         82
        ],
        [
         "England",
         2,
         "DF",
         "WALKER Kyle",
         "1990-05-28",
         "WALKER",
         "Manchester City FC (ENG)",
         178,
         83
        ],
        [
         "England",
         15,
         "DF",
         "CAHILL Gary",
         "1985-12-19",
         "CAHILL",
         "Chelsea FC (ENG)",
         191,
         85
        ],
        [
         "England",
         4,
         "MF",
         "DIER Eric",
         "1994-01-15",
         "DIER",
         "Tottenham Hotspur FC (ENG)",
         188,
         90
        ],
        [
         "England",
         13,
         "GK",
         "BUTLAND Jack",
         "1993-03-10",
         "BUTLAND",
         "Stoke City FC (ENG)",
         196,
         96
        ],
        [
         "England",
         6,
         "DF",
         "MAGUIRE Harry",
         "1993-03-05",
         "MAGUIRE",
         "Leicester City FC (ENG)",
         193,
         98
        ],
        [
         "England",
         9,
         "FW",
         "KANE Harry",
         "1993-07-28",
         "KANE",
         "Tottenham Hotspur FC (ENG)",
         188,
         98
        ],
        [
         "France",
         8,
         "FW",
         "LEMAR Thomas",
         "1995-11-12",
         "LEMAR",
         "AS Monaco (FRA)",
         172,
         65
        ],
        [
         "France",
         11,
         "FW",
         "DEMBELE Ousmane",
         "1997-05-15",
         "DEMBELE",
         "FC Barcelona (ESP)",
         178,
         70
        ],
        [
         "France",
         13,
         "MF",
         "KANTE Ngolo",
         "1991-03-29",
         "KANTE",
         "Chelsea FC (ENG)",
         168,
         70
        ],
        [
         "France",
         7,
         "FW",
         "GRIEZMANN Antoine",
         "1991-03-21",
         "GRIEZMANN",
         "Atletico Madrid (ESP)",
         174,
         72
        ],
        [
         "France",
         14,
         "MF",
         "MATUIDI Blaise",
         "1987-04-09",
         "MATUIDI",
         "Juventus FC (ITA)",
         180,
         74
        ],
        [
         "France",
         2,
         "DF",
         "PAVARD Benjamin",
         "1996-03-28",
         "PAVARD",
         "VfB Stuttgart (GER)",
         186,
         76
        ],
        [
         "France",
         18,
         "FW",
         "FEKIR Nabil",
         "1993-07-18",
         "FEKIR",
         "Olympique Lyon (FRA)",
         173,
         76
        ],
        [
         "France",
         20,
         "FW",
         "THAUVIN Florian",
         "1993-01-26",
         "THAUVIN",
         "Olympique Marseille (FRA)",
         180,
         76
        ],
        [
         "France",
         21,
         "DF",
         "HERNANDEZ Lucas",
         "1996-02-14",
         "HERNANDEZ",
         "Atletico Madrid (ESP)",
         183,
         76
        ],
        [
         "France",
         3,
         "DF",
         "KIMPEMBE Presnel",
         "1995-08-13",
         "KIMPEMBE",
         "Paris Saint-Germain FC (FRA)",
         182,
         78
        ],
        [
         "France",
         10,
         "FW",
         "MBAPPE Kylian",
         "1998-12-20",
         "MBAPPE",
         "Paris Saint-Germain FC (FRA)",
         178,
         78
        ],
        [
         "France",
         4,
         "DF",
         "VARANE Raphael",
         "1993-04-25",
         "VARANE",
         "Real Madrid CF (ESP)",
         191,
         79
        ],
        [
         "France",
         19,
         "DF",
         "SIDIBE Djibril",
         "1992-07-29",
         "SIDIBE",
         "AS Monaco (FRA)",
         184,
         81
        ],
        [
         "France",
         1,
         "GK",
         "LLORIS Hugo",
         "1986-12-26",
         "LLORIS",
         "Tottenham Hotspur FC (ENG)",
         188,
         82
        ],
        [
         "France",
         12,
         "MF",
         "TOLISSO Corentin",
         "1994-08-03",
         "TOLISSO",
         "FC Bayern München (GER)",
         180,
         82
        ],
        [
         "France",
         5,
         "DF",
         "UMTITI Samuel",
         "1993-11-14",
         "UMTITI",
         "FC Barcelona (ESP)",
         183,
         84
        ],
        [
         "France",
         22,
         "DF",
         "MENDY Benjamin",
         "1994-07-17",
         "MENDY",
         "Manchester City FC (ENG)",
         183,
         84
        ],
        [
         "France",
         6,
         "MF",
         "POGBA Paul",
         "1993-03-15",
         "POGBA",
         "Manchester United FC (ENG)",
         191,
         86
        ],
        [
         "France",
         15,
         "MF",
         "NZONZI Steven",
         "1988-12-15",
         "NZONZI",
         "Sevilla FC (ESP)",
         197,
         87
        ],
        [
         "France",
         16,
         "GK",
         "MANDANDA Steve",
         "1985-03-28",
         "MANDANDA",
         "Olympique Marseille (FRA)",
         187,
         88
        ],
        [
         "France",
         17,
         "DF",
         "RAMI Adil",
         "1985-12-27",
         "RAMI",
         "Olympique Marseille (FRA)",
         190,
         90
        ],
        [
         "France",
         9,
         "FW",
         "GIROUD Olivier",
         "1986-09-30",
         "GIROUD",
         "Chelsea FC (ENG)",
         193,
         91
        ],
        [
         "France",
         23,
         "GK",
         "AREOLA Alphonse",
         "1993-02-27",
         "AREOLA",
         "Paris Saint-Germain FC (FRA)",
         195,
         95
        ],
        [
         "Germany",
         11,
         "FW",
         "REUS Marco",
         "1989-05-31",
         "REUS",
         "Borussia Dortmund (GER)",
         180,
         67
        ],
        [
         "Germany",
         10,
         "MF",
         "OEZIL Mesut",
         "1988-10-15",
         "ÖZIL",
         "Arsenal FC (ENG)",
         180,
         70
        ],
        [
         "Germany",
         18,
         "DF",
         "KIMMICH Joshua",
         "1995-02-08",
         "KIMMICH",
         "FC Bayern München (GER)",
         176,
         72
        ],
        [
         "Germany",
         7,
         "MF",
         "DRAXLER Julian",
         "1993-09-20",
         "DRAXLER",
         "Paris Saint-Germain FC (FRA)",
         185,
         74
        ],
        [
         "Germany",
         19,
         "MF",
         "RUDY Sebastian",
         "1990-02-28",
         "RUDY",
         "FC Bayern München (GER)",
         179,
         74
        ],
        [
         "Germany",
         3,
         "DF",
         "HECTOR Jonas",
         "1990-05-27",
         "HECTOR",
         "1. FC Köln (GER)",
         185,
         75
        ],
        [
         "Germany",
         9,
         "FW",
         "WERNER Timo",
         "1996-03-06",
         "WERNER",
         "RB Leipzig (GER)",
         181,
         75
        ],
        [
         "Germany",
         13,
         "MF",
         "MUELLER Thomas",
         "1989-09-13",
         "MÜLLER",
         "FC Bayern München (GER)",
         186,
         75
        ],
        [
         "Germany",
         2,
         "DF",
         "PLATTENHARDT Marvin",
         "1992-01-26",
         "PLATTENHARDT",
         "Hertha BSC (GER)",
         181,
         76
        ],
        [
         "Germany",
         14,
         "MF",
         "GORETZKA Leon",
         "1995-02-06",
         "GORETZKA",
         "FC Schalke 04 (GER)",
         189,
         76
        ],
        [
         "Germany",
         8,
         "MF",
         "KROOS Toni",
         "1990-01-04",
         "KROOS",
         "Real Madrid CF (ESP)",
         182,
         78
        ],
        [
         "Germany",
         21,
         "MF",
         "GUENDOGAN Ilkay",
         "1990-10-24",
         "GÜNDOGAN",
         "Manchester City FC (ENG)",
         180,
         79
        ],
        [
         "Germany",
         6,
         "DF",
         "KHEDIRA Sami",
         "1987-04-04",
         "KHEDIRA",
         "Juventus FC (ITA)",
         189,
         81
        ],
        [
         "Germany",
         20,
         "MF",
         "BRANDT Julian",
         "1996-05-02",
         "BRANDT",
         "Bayer 04 Leverkusen (GER)",
         183,
         82
        ],
        [
         "Germany",
         23,
         "FW",
         "GOMEZ Mario",
         "1985-07-10",
         "GOMEZ",
         "VfB Stuttgart (GER)",
         189,
         82
        ],
        [
         "Germany",
         4,
         "DF",
         "GINTER Matthias",
         "1994-01-19",
         "GINTER",
         "VfL Borussia Mönchengladbach (GER)",
         189,
         85
        ],
        [
         "Germany",
         16,
         "DF",
         "RUEDIGER Antonio",
         "1993-03-03",
         "RÜDIGER",
         "Chelsea FC (ENG)",
         191,
         85
        ],
        [
         "Germany",
         22,
         "GK",
         "TER STEGEN Marc-Andre",
         "1992-04-30",
         "TER STEGEN",
         "FC Barcelona (ESP)",
         187,
         85
        ],
        [
         "Germany",
         12,
         "GK",
         "TRAPP Kevin",
         "1990-07-08",
         "TRAPP",
         "Paris Saint-Germain FC (FRA)",
         189,
         88
        ],
        [
         "Germany",
         15,
         "DF",
         "SUELE Niklas",
         "1995-09-03",
         "SÜLE",
         "FC Bayern München (GER)",
         195,
         89
        ],
        [
         "Germany",
         5,
         "DF",
         "HUMMELS Mats",
         "1988-12-16",
         "HUMMELS",
         "FC Bayern München (GER)",
         192,
         90
        ],
        [
         "Germany",
         17,
         "DF",
         "BOATENG Jerome",
         "1988-09-03",
         "BOATENG",
         "FC Bayern München (GER)",
         192,
         90
        ],
        [
         "Germany",
         1,
         "GK",
         "NEUER Manuel",
         "1986-03-27",
         "NEUER",
         "FC Bayern München (GER)",
         193,
         93
        ],
        [
         "Iceland",
         23,
         "DF",
         "SKULASON Ari",
         "1987-05-14",
         "A. SKÚLASON",
         "KSC Lokeren (BEL)",
         170,
         63
        ],
        [
         "Iceland",
         21,
         "MF",
         "TRAUSTASON Arnor",
         "1993-04-30",
         "TRAUSTASON",
         "Malmö FF (SWE)",
         183,
         73
        ],
        [
         "Iceland",
         2,
         "DF",
         "SAEVARSSON Birkir",
         "1984-11-11",
         "SÆVARSSON",
         "Valur Reykjavik (ISL)",
         186,
         75
        ],
        [
         "Iceland",
         13,
         "GK",
         "RUNARSSON Runar",
         "1995-02-18",
         "RÚNARSSON",
         "FC Nordsjaelland (DEN)",
         186,
         76
        ],
        [
         "Iceland",
         7,
         "MF",
         "GUDMUNDSSON Johann",
         "1990-10-27",
         "J. GUDMUNDSSON",
         "Burnley FC (ENG)",
         179,
         77
        ],
        [
         "Iceland",
         8,
         "MF",
         "BJARNASON Birkir",
         "1988-05-27",
         "B. BJARNASON",
         "Aston Villa FC (ENG)",
         183,
         77
        ],
        [
         "Iceland",
         3,
         "MF",
         "FRIDJONSSON Samuel",
         "1996-02-22",
         "FRIDJÓNSSON",
         "Valerenga IF (NOR)",
         185,
         78
        ],
        [
         "Iceland",
         19,
         "MF",
         "GISLASON Rurik",
         "1988-02-25",
         "GISLASON",
         "SV Sandhausen (GER)",
         184,
         78
        ],
        [
         "Iceland",
         11,
         "FW",
         "FINNBOGASON Alfred",
         "1989-02-01",
         "FINNBOGASON",
         "FC Augsburg (GER)",
         185,
         79
        ],
        [
         "Iceland",
         16,
         "MF",
         "SKULASON Olafur",
         "1983-04-01",
         "Ó. SKÚLASON",
         "Karabukspor (TUR)",
         184,
         79
        ],
        [
         "Iceland",
         4,
         "MF",
         "GUDMUNDSSON Albert",
         "1997-06-15",
         "A. GUDMUNDSSON",
         "PSV Eindhoven (NED)",
         177,
         80
        ],
        [
         "Iceland",
         5,
         "DF",
         "INGASON Sverrir",
         "1993-08-05",
         "INGASON",
         "FC Rostov (RUS)",
         188,
         80
        ],
        [
         "Iceland",
         15,
         "DF",
         "EYJOLFSSON Holmar",
         "1990-08-06",
         "EYJÓLFSSON",
         "Levski Sofia (BUL)",
         188,
         81
        ],
        [
         "Iceland",
         10,
         "MF",
         "SIGURDSSON Gylfi",
         "1989-09-08",
         "G. SIGURDSSON",
         "Everton FC (ENG)",
         186,
         82
        ],
        [
         "Iceland",
         14,
         "DF",
         "ARNASON Kari",
         "1982-10-13",
         "ARNASON",
         "Aberdeen FC (SCO)",
         191,
         82
        ],
        [
         "Iceland",
         9,
         "FW",
         "SIGURDARSON Bjorn",
         "1991-02-26",
         "SIGURDARSON",
         "FC Rostov (RUS)",
         187,
         85
        ],
        [
         "Iceland",
         18,
         "DF",
         "MAGNUSSON Hordur",
         "1993-02-11",
         "MAGNÚSSON",
         "Bristol City FC (ENG)",
         191,
         85
        ],
        [
         "Iceland",
         6,
         "DF",
         "SIGURDSSON Ragnar",
         "1986-06-19",
         "R. SIGURDSSON",
         "FC Rostov (RUS)",
         187,
         86
        ],
        [
         "Iceland",
         17,
         "MF",
         "GUNNARSSON Aron",
         "1989-04-22",
         "GUNNARSSON",
         "Cardiff City FC (WAL)",
         181,
         86
        ],
        [
         "Iceland",
         20,
         "MF",
         "HALLFREDSSON Emil",
         "1984-06-29",
         "HALLFREDSSON",
         "Udinese Calcio (ITA)",
         186,
         86
        ],
        [
         "Iceland",
         1,
         "GK",
         "HALLDORSSON Hannes",
         "1984-04-27",
         "HALLDORSSON",
         "Randers FC (DEN)",
         193,
         88
        ],
        [
         "Iceland",
         22,
         "FW",
         "BODVARSSON Jon",
         "1992-05-25",
         "BÖDVARSSON",
         "Reading FC (ENG)",
         189,
         89
        ],
        [
         "Iceland",
         12,
         "GK",
         "SCHRAM Frederik",
         "1995-01-19",
         "SCHRAM",
         "Roskilde BK (DEN)",
         198,
         92
        ],
        [
         "IR Iran",
         5,
         "DF",
         "MOHAMMADI Milad",
         "1993-09-29",
         "M. MOHAMMADI",
         "FC Akhmat Grozny (RUS)",
         178,
         69
        ],
        [
         "IR Iran",
         2,
         "MF",
         "TORABI Mehdi",
         "1994-09-10",
         "M. TORABI",
         "Saipa Alborz FC (IRN)",
         185,
         71
        ],
        [
         "IR Iran",
         11,
         "MF",
         "AMIRI Vahid",
         "1988-04-02",
         "V. AMIRI",
         "Persepolis FC (IRN)",
         179,
         71
        ],
        [
         "IR Iran",
         3,
         "DF",
         "HAJI SAFI Ehsan",
         "1990-02-25",
         "HAJI SAFI",
         "Olympiacos Piraeus FC (GRE)",
         178,
         75
        ],
        [
         "IR Iran",
         9,
         "MF",
         "EBRAHIMI Omid",
         "1987-09-16",
         "OMID",
         "Esteghlal Tehran FC (IRN)",
         178,
         75
        ],
        [
         "IR Iran",
         23,
         "DF",
         "REZAEIAN Ramin",
         "1990-03-21",
         "RAMIN",
         "KV Oostende (BEL)",
         185,
         75
        ],
        [
         "IR Iran",
         15,
         "DF",
         "MONTAZERI Pejman",
         "1983-09-06",
         "P. MONTAZERI",
         "Esteghlal Tehran FC (IRN)",
         185,
         77
        ],
        [
         "IR Iran",
         18,
         "FW",
         "JAHANBAKHSH Alireza",
         "1993-08-11",
         "A. JAHANBAKHSH",
         "AZ Alkmaar (NED)",
         180,
         77
        ],
        [
         "IR Iran",
         19,
         "DF",
         "HOSSEINI Majid",
         "1996-06-20",
         "M. HOSSEINI",
         "Esteghlal Tehran FC (IRN)",
         183,
         78
        ],
        [
         "IR Iran",
         21,
         "FW",
         "DEJAGAH Ashkan",
         "1986-07-05",
         "DEJAGAH",
         "Nottingham Forest FC (ENG)",
         181,
         78
        ],
        [
         "IR Iran",
         7,
         "MF",
         "SHOJAEI Masoud",
         "1984-06-09",
         "SHOJAEI M.",
         "AEK Athens (GRE)",
         187,
         79
        ],
        [
         "IR Iran",
         14,
         "FW",
         "GHODDOS  Saman",
         "1993-09-06",
         "GHODDOS",
         "IFK Östersund FK (SWE)",
         177,
         79
        ],
        [
         "IR Iran",
         16,
         "FW",
         "GHOOCHANNEJHAD Reza",
         "1987-09-20",
         "REZA",
         "SC Heerenveen (NED)",
         180,
         79
        ],
        [
         "IR Iran",
         4,
         "DF",
         "CHESHMI Roozbeh",
         "1993-07-24",
         "R. CHESHMI",
         "Esteghlal Tehran FC (IRN)",
         192,
         80
        ],
        [
         "IR Iran",
         10,
         "FW",
         "ANSARIFARD Karim",
         "1990-04-03",
         "KARIM",
         "Olympiacos Piraeus FC (GRE)",
         187,
         80
        ],
        [
         "IR Iran",
         13,
         "DF",
         "KHANZADEH Mohammad Reza",
         "1991-05-11",
         "M.R. KHANZADEH",
         "Padideh FC (IRN)",
         186,
         80
        ],
        [
         "IR Iran",
         17,
         "FW",
         "TAREMI Mehdi",
         "1992-07-18",
         "MEHDI",
         "Al Gharafa SC (QAT)",
         187,
         80
        ],
        [
         "IR Iran",
         20,
         "FW",
         "AZMOUN Sardar",
         "1995-01-01",
         "SARDAR",
         "FC Rubin Kazan (RUS)",
         186,
         80
        ],
        [
         "IR Iran",
         22,
         "GK",
         "ABEDZADEH Amir",
         "1993-04-26",
         "ABEDZADEH",
         "CS Maritimo (POR)",
         186,
         80
        ],
        [
         "IR Iran",
         6,
         "MF",
         "EZATOLAHI Saeid",
         "1996-10-01",
         "S. EZATOLAHI",
         "FK Amkar Perm (RUS)",
         190,
         82
        ],
        [
         "IR Iran",
         8,
         "DF",
         "POURALIGANJI Morteza",
         "1992-04-19",
         "M. POURALIGANJI",
         "Al Sadd SC (QAT)",
         187,
         83
        ],
        [
         "IR Iran",
         12,
         "GK",
         "MAZAHERI Rashid",
         "1989-05-18",
         "RASHID",
         "Zob Ahan Isfahan FC (IRN)",
         192,
         84
        ],
        [
         "IR Iran",
         1,
         "GK",
         "BEIRANVAND Ali",
         "1992-09-21",
         "A. BEIRANVAND",
         "Persepolis FC (IRN)",
         194,
         85
        ],
        [
         "Japan",
         14,
         "MF",
         "INUI Takashi",
         "1988-06-02",
         "INUI",
         "SD Eibar (ESP)",
         169,
         59
        ],
        [
         "Japan",
         7,
         "MF",
         "SHIBASAKI Gaku",
         "1992-05-28",
         "SHIBASAKI",
         "Getafe CF (ESP)",
         175,
         64
        ],
        [
         "Japan",
         18,
         "MF",
         "OSHIMA Ryota",
         "1993-01-23",
         "OHSHIMA",
         "Kawasaki Frontale (JPN)",
         168,
         64
        ],
        [
         "Japan",
         5,
         "DF",
         "NAGATOMO Yuto",
         "1986-09-12",
         "NAGATOMO",
         "Galatasaray SK (TUR)",
         170,
         68
        ],
        [
         "Japan",
         8,
         "MF",
         "HARAGUCHI Genki",
         "1991-05-09",
         "HARAGUCHI",
         "Fortuna Düsseldorf (GER)",
         178,
         68
        ],
        [
         "Japan",
         10,
         "MF",
         "KAGAWA Shinji",
         "1989-03-17",
         "KAGAWA",
         "Borussia Dortmund (GER)",
         175,
         68
        ],
        [
         "Japan",
         9,
         "FW",
         "OKAZAKI Shinji",
         "1986-04-16",
         "OKAZAKI",
         "Leicester City FC (ENG)",
         174,
         70
        ],
        [
         "Japan",
         19,
         "DF",
         "SAKAI Hiroki",
         "1990-04-12",
         "H. SAKAI",
         "Olympique Marseille (FRA)",
         183,
         70
        ],
        [
         "Japan",
         15,
         "FW",
         "OSAKO Yuya",
         "1990-05-18",
         "OSAKO",
         "1. FC Köln (GER)",
         182,
         71
        ],
        [
         "Japan",
         11,
         "MF",
         "USAMI Takashi",
         "1992-05-06",
         "USAMI",
         "Fortuna Düsseldorf (GER)",
         178,
         72
        ],
        [
         "Japan",
         13,
         "FW",
         "MUTO Yoshinori",
         "1992-07-15",
         "MUTO",
         "FSV Mainz 05 (GER)",
         179,
         72
        ],
        [
         "Japan",
         16,
         "MF",
         "YAMAGUCHI Hotaru",
         "1990-10-06",
         "YAMAGUCHI",
         "Cerezo Osaka (JPN)",
         173,
         72
        ],
        [
         "Japan",
         17,
         "MF",
         "HASEBE Makoto",
         "1984-01-18",
         "HASEBE",
         "Eintracht Frankfurt (GER)",
         180,
         72
        ],
        [
         "Japan",
         23,
         "GK",
         "NAKAMURA Kosuke",
         "1995-02-27",
         "NAKAMURA",
         "Kashiwa Reysol (JPN)",
         184,
         72
        ],
        [
         "Japan",
         1,
         "GK",
         "KAWASHIMA Eiji",
         "1983-03-20",
         "KAWASHIMA",
         "FC Metz (FRA)",
         185,
         74
        ],
        [
         "Japan",
         3,
         "DF",
         "SHOJI Gen",
         "1992-12-11",
         "SHOJI",
         "Kashima Antlers (JPN)",
         182,
         74
        ],
        [
         "Japan",
         4,
         "MF",
         "HONDA Keisuke",
         "1986-06-13",
         "HONDA",
         "CF Pachuca (MEX)",
         182,
         74
        ],
        [
         "Japan",
         21,
         "DF",
         "SAKAI Gotoku",
         "1991-03-14",
         "G. SAKAI",
         "Hamburger SV (GER)",
         176,
         74
        ],
        [
         "Japan",
         6,
         "DF",
         "ENDO Wataru",
         "1993-02-09",
         "ENDO",
         "Urawa Reds (JPN)",
         178,
         75
        ],
        [
         "Japan",
         20,
         "DF",
         "MAKINO Tomoaki",
         "1987-05-11",
         "MAKINO",
         "Urawa Reds (JPN)",
         182,
         77
        ],
        [
         "Japan",
         12,
         "GK",
         "HIGASHIGUCHI Masaaki",
         "1986-05-12",
         "HIGASHIGUCHI",
         "Gamba Osaka (JPN)",
         184,
         78
        ],
        [
         "Japan",
         22,
         "DF",
         "YOSHIDA Maya",
         "1988-08-24",
         "YOSHIDA",
         "Southampton FC (ENG)",
         189,
         78
        ],
        [
         "Japan",
         2,
         "DF",
         "UEDA Naomichi",
         "1994-10-24",
         "UEDA",
         "Kashima Antlers (JPN)",
         186,
         79
        ],
        [
         "Korea Republic",
         10,
         "MF",
         "LEE Seungwoo",
         "1998-01-06",
         "S W LEE",
         "Hellas Verona FC (ITA)",
         170,
         63
        ],
        [
         "Korea Republic",
         22,
         "DF",
         "GO Yohan",
         "1988-03-10",
         "Y H GO",
         "FC Seoul (KOR)",
         170,
         65
        ],
        [
         "Korea Republic",
         14,
         "DF",
         "HONG Chul",
         "1990-09-17",
         "C HONG",
         "Sangju Sangmu FC (KOR)",
         176,
         67
        ],
        [
         "Korea Republic",
         18,
         "MF",
         "MOON Seonmin",
         "1992-06-09",
         "S M MOON",
         "Incheon United FC (KOR)",
         172,
         68
        ],
        [
         "Korea Republic",
         12,
         "DF",
         "KIM Minwoo",
         "1990-02-25",
         "M W KIM",
         "Sangju Sangmu FC (KOR)",
         172,
         69
        ],
        [
         "Korea Republic",
         8,
         "MF",
         "JU Sejong",
         "1990-10-30",
         "S J JU",
         "Asan Mugunghwa FC (KOR)",
         176,
         70
        ],
        [
         "Korea Republic",
         17,
         "MF",
         "LEE Jaesung",
         "1992-08-10",
         "J S LEE",
         "Jeonbuk Hyundai (KOR)",
         180,
         70
        ],
        [
         "Korea Republic",
         6,
         "DF",
         "PARK Jooho",
         "1987-01-16",
         "J H PARK",
         "Ulsan Hyundai FC (KOR)",
         174,
         71
        ],
        [
         "Korea Republic",
         13,
         "MF",
         "KOO Jacheol",
         "1989-02-27",
         "J C KOO",
         "FC Augsburg (GER)",
         182,
         73
        ],
        [
         "Korea Republic",
         2,
         "DF",
         "LEE Yong",
         "1986-12-24",
         "Y LEE",
         "Jeonbuk Hyundai (KOR)",
         180,
         74
        ],
        [
         "Korea Republic",
         3,
         "DF",
         "JUNG Seunghyun",
         "1994-04-03",
         "S H JUNG",
         "Sagan Tosu FC (JPN)",
         188,
         74
        ],
        [
         "Korea Republic",
         19,
         "DF",
         "KIM Younggwon",
         "1990-02-27",
         "Y G KIM",
         "Guangzhou Evergrande FC (CHN)",
         184,
         74
        ],
        [
         "Korea Republic",
         16,
         "MF",
         "KI Sungyueng",
         "1989-01-24",
         "S Y KI",
         "Swansea City AFC (WAL)",
         186,
         75
        ],
        [
         "Korea Republic",
         23,
         "GK",
         "JO Hyeonwoo",
         "1991-09-25",
         "H W JO",
         "Daegu FC (KOR)",
         189,
         75
        ],
        [
         "Korea Republic",
         7,
         "FW",
         "SON Heungmin",
         "1992-07-08",
         "H M SON",
         "Tottenham Hotspur FC (ENG)",
         183,
         76
        ],
        [
         "Korea Republic",
         11,
         "FW",
         "HWANG Heechan",
         "1996-01-26",
         "H C HWANG",
         "FC Red Bull Salzburg (AUT)",
         177,
         77
        ],
        [
         "Korea Republic",
         20,
         "DF",
         "JANG Hyunsoo",
         "1991-09-28",
         "H S JANG",
         "FC Tokyo (JPN)",
         187,
         77
        ],
        [
         "Korea Republic",
         5,
         "DF",
         "YUN Youngsun",
         "1988-10-04",
         "Y S YUN",
         "Seongnam FC (KOR)",
         185,
         78
        ],
        [
         "Korea Republic",
         15,
         "MF",
         "JUNG Wooyoung",
         "1989-12-14",
         "W Y JUNG",
         "Vissel Kobe (JPN)",
         186,
         78
        ],
        [
         "Korea Republic",
         4,
         "DF",
         "OH Bansuk",
         "1988-05-20",
         "B S OH",
         "Jeju United (KOR)",
         189,
         79
        ],
        [
         "Korea Republic",
         1,
         "GK",
         "KIM Seunggyu",
         "1990-09-30",
         "S G KIM",
         "Vissel Kobe (JPN)",
         187,
         80
        ],
        [
         "Korea Republic",
         21,
         "GK",
         "KIM Jinhyeon",
         "1987-07-06",
         "J H KIM",
         "Cerezo Osaka (JPN)",
         193,
         82
        ],
        [
         "Korea Republic",
         9,
         "FW",
         "KIM Shinwook",
         "1988-04-14",
         "S W KIM",
         "Jeonbuk Hyundai (KOR)",
         197,
         97
        ],
        [
         "Mexico",
         20,
         "MF",
         "AQUINO Javier",
         "1990-02-11",
         "J. AQUINO",
         "Tigres UANL (MEX)",
         166,
         59
        ],
        [
         "Mexico",
         18,
         "MF",
         "GUARDADO Andres",
         "1986-09-28",
         "A. GUARDADO",
         "Real Betis (ESP)",
         167,
         63
        ],
        [
         "Mexico",
         22,
         "FW",
         "LOZANO Hirving",
         "1995-07-30",
         "H. LOZANO",
         "PSV Eindhoven (NED)",
         176,
         66
        ],
        [
         "Mexico",
         6,
         "MF",
         "DOS SANTOS Jonathan",
         "1990-04-26",
         "J. DOS SANTOS",
         "LA Galaxy (USA)",
         173,
         69
        ],
        [
         "Mexico",
         17,
         "MF",
         "CORONA Jesus",
         "1993-01-06",
         "JESÚS C.",
         "FC Porto (POR)",
         174,
         69
        ],
        [
         "Mexico",
         8,
         "FW",
         "FABIAN Marco",
         "1989-07-21",
         "M. FABIÁN",
         "Eintracht Frankfurt (GER)",
         171,
         70
        ],
        [
         "Mexico",
         10,
         "MF",
         "DOS SANTOS Giovani",
         "1989-05-11",
         "G. DOS SANTOS",
         "LA Galaxy (USA)",
         178,
         70
        ],
        [
         "Mexico",
         14,
         "FW",
         "HERNANDEZ Javier",
         "1988-06-01",
         "J. HERNÁNDEZ",
         "West Ham United FC (ENG)",
         175,
         71
        ],
        [
         "Mexico",
         7,
         "MF",
         "LAYUN Miguel",
         "1988-06-25",
         "M. LAYÚN",
         "Sevilla FC (ESP)",
         180,
         72
        ],
        [
         "Mexico",
         19,
         "FW",
         "PERALTA Oribe",
         "1984-01-12",
         "O. PERALTA",
         "Club América (MEX)",
         178,
         72
        ],
        [
         "Mexico",
         21,
         "FW",
         "ALVAREZ Edson",
         "1997-10-24",
         "E. ÁLVAREZ",
         "Club América (MEX)",
         186,
         72
        ],
        [
         "Mexico",
         23,
         "MF",
         "GALLARDO Jesus",
         "1994-08-15",
         "J. GALLARDO",
         "Pumas UNAM (MEX)",
         177,
         74
        ],
        [
         "Mexico",
         13,
         "GK",
         "OCHOA Guillermo",
         "1985-07-13",
         "G. OCHOA",
         "Standard Liège (BEL)",
         185,
         76
        ],
        [
         "Mexico",
         4,
         "DF",
         "MARQUEZ Rafael",
         "1979-02-13",
         "R. MÁRQUEZ",
         "CF Atlas (MEX)",
         184,
         77
        ],
        [
         "Mexico",
         5,
         "DF",
         "REYES Diego",
         "1992-09-19",
         "D. REYES",
         "FC Porto (POR)",
         190,
         77
        ],
        [
         "Mexico",
         11,
         "FW",
         "VELA Carlos",
         "1989-03-01",
         "CARLOS V",
         "Los Angeles FC (USA)",
         178,
         78
        ],
        [
         "Mexico",
         9,
         "FW",
         "JIMENEZ Raul",
         "1991-05-05",
         "RAÚL",
         "SL Benfica (POR)",
         188,
         79
        ],
        [
         "Mexico",
         16,
         "DF",
         "HERRERA Hector",
         "1990-04-19",
         "H. HERRERA",
         "FC Porto (POR)",
         180,
         79
        ],
        [
         "Mexico",
         1,
         "GK",
         "CORONA Jose",
         "1981-01-26",
         "J. CORONA",
         "Cruz Azul (MEX)",
         182,
         80
        ],
        [
         "Mexico",
         2,
         "DF",
         "AYALA Hugo",
         "1987-03-31",
         "H. AYALA",
         "Tigres UANL (MEX)",
         188,
         82
        ],
        [
         "Mexico",
         15,
         "DF",
         "MORENO Hector",
         "1988-01-17",
         "H. MORENO",
         "Real Sociedad (ESP)",
         182,
         82
        ],
        [
         "Mexico",
         3,
         "DF",
         "SALCEDO Carlos",
         "1993-09-29",
         "C. SALCEDO",
         "Eintracht Frankfurt (GER)",
         189,
         83
        ],
        [
         "Mexico",
         12,
         "GK",
         "TALAVERA Alfredo",
         "1982-09-18",
         "A. TALAVERA",
         "Deportivo Toluca FC (MEX)",
         188,
         84
        ],
        [
         "Morocco",
         14,
         "MF",
         "BOUSSOUFA Mbark",
         "1984-08-15",
         "BOUSSOUFA",
         "Al Jazira (UAE)",
         167,
         59
        ],
        [
         "Morocco",
         2,
         "DF",
         "HAKIMI Achraf",
         "1998-11-04",
         "HAKIMI",
         "Real Madrid CF (ESP)",
         179,
         65
        ],
        [
         "Morocco",
         18,
         "MF",
         "HARIT Amine",
         "1997-06-18",
         "HARIT",
         "FC Schalke 04 (GER)",
         179,
         66
        ],
        [
         "Morocco",
         23,
         "MF",
         "CARCELA Mehdi",
         "1989-07-01",
         "CARCELA",
         "Standard Liège (BEL)",
         176,
         67
        ],
        [
         "Morocco",
         3,
         "DF",
         "MENDYL Hamza",
         "1997-10-21",
         "MENDYL",
         "Lille OSC (FRA)",
         179,
         70
        ],
        [
         "Morocco",
         7,
         "MF",
         "ZIYACH Hakim",
         "1993-03-19",
         "ZIYACH",
         "AFC Ajax (NED)",
         180,
         70
        ],
        [
         "Morocco",
         22,
         "GK",
         "TAGNAOUTI Ahmed",
         "1996-04-05",
         "TAGNAOUTI",
         "IRT Tanger (MAR)",
         186,
         70
        ],
        [
         "Morocco",
         9,
         "FW",
         "EL KAABI Ayoub",
         "1993-06-25",
         "EL KAABI",
         "RS Berkane (MAR)",
         182,
         72
        ],
        [
         "Morocco",
         11,
         "MF",
         "FAJR Faycal",
         "1988-08-01",
         "FAJR",
         "Getafe CF (ESP)",
         178,
         72
        ],
        [
         "Morocco",
         10,
         "MF",
         "BELHANDA Younes",
         "1990-02-25",
         "BELHANDA",
         "Galatasaray SK (TUR)",
         174,
         75
        ],
        [
         "Morocco",
         15,
         "MF",
         "AIT BENNASSER Youssef",
         "1996-07-07",
         "AIT BENNASSER",
         "SM Caen (FRA)",
         184,
         75
        ],
        [
         "Morocco",
         19,
         "FW",
         "EN NESYRI Youssef",
         "1997-06-01",
         "EN-NESYRI",
         "Malaga CF (ESP)",
         188,
         75
        ],
        [
         "Morocco",
         6,
         "DF",
         "SAISS Romain",
         "1990-03-26",
         "SAISS",
         "Wolverhampton Wanderers FC (ENG)",
         190,
         76
        ],
        [
         "Morocco",
         1,
         "GK",
         "BOUNOU Yassine",
         "1991-04-05",
         "BOUNOU",
         "Girona FC (ESP)",
         190,
         77
        ],
        [
         "Morocco",
         16,
         "MF",
         "AMRABAT Noureddine",
         "1987-03-31",
         "N. AMRABAT",
         "CD Leganés (ESP)",
         178,
         77
        ],
        [
         "Morocco",
         21,
         "MF",
         "AMRABAT Sofyan",
         "1996-08-21",
         "S. AMRABAT",
         "Feyenoord Rotterdam (NED)",
         183,
         77
        ],
        [
         "Morocco",
         4,
         "DF",
         "DA COSTA Manuel",
         "1986-05-06",
         "DA COSTA",
         "Istanbul Başakşehir FK (TUR)",
         187,
         78
        ],
        [
         "Morocco",
         8,
         "MF",
         "EL AHMADI Karim",
         "1985-01-27",
         "EL AHMADI",
         "Feyenoord Rotterdam (NED)",
         179,
         78
        ],
        [
         "Morocco",
         13,
         "FW",
         "BOUTAIB Khalid",
         "1987-04-24",
         "BOUTAIB",
         "Yeni Malatyaspor (TUR)",
         190,
         80
        ],
        [
         "Morocco",
         20,
         "FW",
         "BOUHADDOUZ Aziz",
         "1987-03-30",
         "BOUHADDOUZ",
         "FC St. Pauli (GER)",
         188,
         80
        ],
        [
         "Morocco",
         17,
         "DF",
         "DIRAR Nabil",
         "1986-02-25",
         "DIRAR",
         "Fenerbahce SK (TUR)",
         187,
         82
        ],
        [
         "Morocco",
         5,
         "DF",
         "BENATIA Mehdi",
         "1987-04-17",
         "BENATIA",
         "Juventus FC (ITA)",
         188,
         88
        ],
        [
         "Morocco",
         12,
         "GK",
         "EL KAJOUI Monir",
         "1989-05-10",
         "EL KAJOUI",
         "CD Numancia (ESP)",
         190,
         88
        ],
        [
         "Nigeria",
         7,
         "FW",
         "MUSA Ahmed",
         "1992-10-14",
         "MUSA",
         "CSKA Moscow (RUS)",
         173,
         65
        ],
        [
         "Nigeria",
         4,
         "MF",
         "NDIDI Onyinye",
         "1996-12-16",
         "NDIDI",
         "Leicester City FC (ENG)",
         184,
         73
        ],
        [
         "Nigeria",
         8,
         "MF",
         "ETEBO Oghenekaro",
         "1995-11-09",
         "ETEBO",
         "UD Las Palmas (ESP)",
         174,
         74
        ],
        [
         "Nigeria",
         17,
         "MF",
         "ONAZI Ogenyi",
         "1992-12-25",
         "ONAZI",
         "Trabzonspor (TUR)",
         172,
         74
        ],
        [
         "Nigeria",
         21,
         "DF",
         "EBUEHI Tyronne",
         "1995-12-16",
         "EBUEHI",
         "ADO Den Haag (NED)",
         187,
         74
        ],
        [
         "Nigeria",
         2,
         "DF",
         "IDOWU Bryan",
         "1992-05-18",
         "IDOWU",
         "FK Amkar Perm (RUS)",
         179,
         75
        ],
        [
         "Nigeria",
         11,
         "FW",
         "MOSES Victor",
         "1990-12-12",
         "MOSES",
         "Chelsea FC (ENG)",
         177,
         75
        ],
        [
         "Nigeria",
         12,
         "DF",
         "SHEHU Abdullahi",
         "1993-03-12",
         "SHEHU",
         "Bursaspor (TUR)",
         182,
         75
        ],
        [
         "Nigeria",
         20,
         "DF",
         "AWAZIEM Chidozie",
         "1997-01-01",
         "AWAZIEM",
         "FC Nantes (FRA)",
         192,
         76
        ],
        [
         "Nigeria",
         15,
         "MF",
         "OBI Joel",
         "1991-05-22",
         "OBI",
         "Torino FC (ITA)",
         177,
         77
        ],
        [
         "Nigeria",
         1,
         "GK",
         "EZENWA Ikechukwu",
         "1988-10-16",
         "EZENWA",
         "Enyimba FC (NGA)",
         181,
         80
        ],
        [
         "Nigeria",
         14,
         "FW",
         "IHEANACHO Kelechi",
         "1996-03-10",
         "IHEANACHO",
         "Leicester City FC (ENG)",
         183,
         80
        ],
        [
         "Nigeria",
         3,
         "DF",
         "ECHIEJILE Elderson",
         "1988-01-20",
         "ECHIEJILE",
         "Cercle Brugge (BEL)",
         185,
         82
        ],
        [
         "Nigeria",
         10,
         "MF",
         "MIKEL John Obi",
         "1987-04-22",
         "MIKEL",
         "Tianjin Teda (CHN)",
         188,
         82
        ],
        [
         "Nigeria",
         22,
         "DF",
         "OMERUO Kenneth",
         "1993-10-17",
         "OMERUO",
         "Kasimpasa SK (TUR)",
         185,
         82
        ],
        [
         "Nigeria",
         9,
         "FW",
         "IGHALO Odion",
         "1989-06-16",
         "IGHALO",
         "Changchun Yatai (CHN)",
         188,
         83
        ],
        [
         "Nigeria",
         5,
         "DF",
         "EKONG William",
         "1993-09-01",
         "EKONG",
         "Bursaspor (TUR)",
         191,
         85
        ],
        [
         "Nigeria",
         18,
         "FW",
         "IWOBI Alex",
         "1996-05-03",
         "IWOBI",
         "Arsenal FC (ENG)",
         185,
         86
        ],
        [
         "Nigeria",
         6,
         "DF",
         "BALOGUN Leon",
         "1988-06-28",
         "BALOGUN",
         "FSV Mainz 05 (GER)",
         190,
         89
        ],
        [
         "Nigeria",
         13,
         "FW",
         "NWANKWO Simeon",
         "1992-05-07",
         "NWANKWO",
         "FC Crotone (ITA)",
         197,
         89
        ],
        [
         "Nigeria",
         19,
         "MF",
         "OGU John",
         "1988-04-20",
         "OGU",
         "Hapoel Be'er Sheva FC (ISR)",
         191,
         90
        ],
        [
         "Nigeria",
         23,
         "GK",
         "UZOHO Francis",
         "1998-10-28",
         "UZOHO",
         "Deportivo La Coruña (ESP)",
         196,
         91
        ],
        [
         "Nigeria",
         16,
         "GK",
         "AKPEYI Daniel",
         "1986-03-08",
         "AKPEYI",
         "Chippa United FC (RSA)",
         187,
         94
        ],
        [
         "Panama",
         19,
         "MF",
         "QUINTERO Alberto",
         "1987-12-18",
         "QUINTERO",
         "Universitario Lima (PER)",
         165,
         62
        ],
        [
         "Panama",
         1,
         "GK",
         "PENEDO Jaime",
         "1981-09-26",
         "PENEDO",
         "Dinamo Bucharest (ROU)",
         183,
         70
        ],
        [
         "Panama",
         8,
         "MF",
         "BARCENAS Edgar",
         "1993-10-23",
         "BARCENAS",
         "Cafetaleros de Tapachula (MEX)",
         175,
         72
        ],
        [
         "Panama",
         10,
         "FW",
         "DIAZ Ismael",
         "1997-05-12",
         "DIAZ",
         "Deportivo La Coruña (ESP)",
         181,
         72
        ],
        [
         "Panama",
         11,
         "MF",
         "COOPER Armando",
         "1987-11-26",
         "COOPER",
         "Club Universidad de Chile (CHI)",
         173,
         72
        ],
        [
         "Panama",
         17,
         "DF",
         "OVALLE Luis",
         "1988-09-07",
         "OVALLE",
         "CD Olimpia (HON)",
         178,
         75
        ],
        [
         "Panama",
         9,
         "FW",
         "TORRES Gabriel",
         "1988-10-31",
         "G. TORRES",
         "CD Huachipato (CHI)",
         180,
         77
        ],
        [
         "Panama",
         21,
         "MF",
         "RODRIGUEZ Jose Luis",
         "1998-06-19",
         "J. RODRIGUEZ",
         "KAA Gent (BEL)",
         180,
         77
        ],
        [
         "Panama",
         2,
         "DF",
         "MURILLO Michael",
         "1996-02-11",
         "MURILLO",
         "New York Red Bulls (USA)",
         183,
         78
        ],
        [
         "Panama",
         13,
         "DF",
         "MACHADO Adolfo",
         "1985-02-14",
         "MACHADO",
         "Houston Dynamo (USA)",
         182,
         78
        ],
        [
         "Panama",
         14,
         "MF",
         "PIMENTEL Valentin",
         "1991-05-30",
         "PIMENTEL",
         "Plaza Amador (PAN)",
         189,
         80
        ],
        [
         "Panama",
         15,
         "DF",
         "DAVIS Eric",
         "1991-03-31",
         "DAVIS",
         "DAC Dunajska Streda (SVK)",
         180,
         81
        ],
        [
         "Panama",
         4,
         "DF",
         "ESCOBAR Fidel",
         "1995-01-09",
         "ESCOBAR",
         "New York Red Bulls (USA)",
         182,
         82
        ],
        [
         "Panama",
         6,
         "MF",
         "GOMEZ Gabriel",
         "1984-05-29",
         "GOMEZ",
         "Atlético Bucaramanga (COL)",
         183,
         82
        ],
        [
         "Panama",
         16,
         "FW",
         "ARROYO Abdiel",
         "1993-12-13",
         "ARROYO",
         "LD Alajuelense (CRC)",
         183,
         82
        ],
        [
         "Panama",
         20,
         "MF",
         "GODOY Anibal",
         "1990-02-10",
         "GODOY",
         "San Jose Earthquakes (USA)",
         183,
         82
        ],
        [
         "Panama",
         7,
         "FW",
         "PEREZ Blas",
         "1981-03-13",
         "PEREZ",
         "CSD Municipal (GUA)",
         187,
         83
        ],
        [
         "Panama",
         22,
         "GK",
         "RODRIGUEZ Alex",
         "1990-08-05",
         "RODRIGUEZ",
         "San Francisco FC (PAN)",
         197,
         83
        ],
        [
         "Panama",
         12,
         "GK",
         "CALDERON Jose",
         "1985-08-14",
         "CALDERON",
         "Chorrillo FC (PAN)",
         187,
         87
        ],
        [
         "Panama",
         18,
         "FW",
         "TEJADA Luis",
         "1982-03-28",
         "TEJADA",
         "Sport Boys (PER)",
         183,
         87
        ],
        [
         "Panama",
         23,
         "DF",
         "BALOY Felipe",
         "1981-02-24",
         "BALOY",
         "CSD Municipal (GUA)",
         185,
         87
        ],
        [
         "Panama",
         3,
         "DF",
         "CUMMINGS Harold",
         "1992-03-01",
         "CUMMINGS",
         "San Jose Earthquakes (USA)",
         183,
         92
        ],
        [
         "Panama",
         5,
         "DF",
         "TORRES Roman",
         "1986-03-20",
         "R. TORRES",
         "Seattle Sounders FC (USA)",
         188,
         99
        ],
        [
         "Peru",
         7,
         "MF",
         "HURTADO Paolo",
         "1990-07-27",
         "HURTADO",
         "Vitoria Guimaraes (POR)",
         174,
         66
        ],
        [
         "Peru",
         11,
         "FW",
         "RUIDIAZ Raul",
         "1990-07-25",
         "RUIDIAZ",
         "CA Monarcas Morelia (MEX)",
         169,
         67
        ],
        [
         "Peru",
         22,
         "DF",
         "LOYOLA Nilson",
         "1994-10-26",
         "LOYOLA",
         "FBC Melgar (PER)",
         179,
         68
        ],
        [
         "Peru",
         8,
         "MF",
         "CUEVA Christian",
         "1991-11-23",
         "CUEVA",
         "Sao Paulo FC (BRA)",
         169,
         69
        ],
        [
         "Peru",
         19,
         "MF",
         "YOTUN Yoshimar",
         "1990-04-07",
         "YOTUN",
         "Orlando City SC (USA)",
         172,
         69
        ],
        [
         "Peru",
         14,
         "MF",
         "POLO Andy",
         "1994-09-29",
         "POLO",
         "Portland Timbers (USA)",
         174,
         71
        ],
        [
         "Peru",
         23,
         "MF",
         "AQUINO Pedro",
         "1995-04-13",
         "AQUINO",
         "Lobos BUAP (MEX)",
         174,
         71
        ],
        [
         "Peru",
         15,
         "DF",
         "RAMOS Christian",
         "1988-11-04",
         "RAMOS",
         "CD Tiburones Rojos de Veracruz (MEX)",
         182,
         72
        ],
        [
         "Peru",
         20,
         "FW",
         "FLORES Edison",
         "1994-05-14",
         "FLORES",
         "Aalborg BK (DEN)",
         170,
         72
        ],
        [
         "Peru",
         6,
         "DF",
         "TRAUCO Miguel",
         "1992-08-25",
         "TRAUCO",
         "CR Flamengo (BRA)",
         169,
         74
        ],
        [
         "Peru",
         3,
         "DF",
         "CORZO Aldo",
         "1989-05-20",
         "CORZO",
         "Universitario Lima (PER)",
         172,
         75
        ],
        [
         "Peru",
         16,
         "MF",
         "CARTAGENA Wilder",
         "1994-09-23",
         "CARTAGENA",
         "CD Tiburones Rojos de Veracruz (MEX)",
         179,
         76
        ],
        [
         "Peru",
         5,
         "DF",
         "ARAUJO Miguel",
         "1994-10-24",
         "ARAUJO",
         "Alianza Lima (PER)",
         178,
         77
        ],
        [
         "Peru",
         18,
         "FW",
         "CARRILLO Andre",
         "1991-06-14",
         "CARRILLO",
         "Watford FC (ENG)",
         182,
         77
        ],
        [
         "Peru",
         2,
         "DF",
         "RODRIGUEZ Alberto",
         "1984-03-31",
         "RODRIGUEZ",
         "Atletico Junior (COL)",
         179,
         78
        ],
        [
         "Peru",
         12,
         "GK",
         "CACEDA Carlos",
         "1991-09-27",
         "CACEDA",
         "Deportivo Municipal (PER)",
         184,
         78
        ],
        [
         "Peru",
         1,
         "GK",
         "GALLESE Pedro",
         "1990-02-23",
         "GALLESE",
         "CD Tiburones Rojos de Veracruz (MEX)",
         189,
         79
        ],
        [
         "Peru",
         17,
         "DF",
         "ADVINCULA Luis",
         "1990-03-02",
         "ADVINCULA",
         "Lobos BUAP (MEX)",
         178,
         80
        ],
        [
         "Peru",
         4,
         "DF",
         "SANTAMARIA Anderson",
         "1992-01-10",
         "SANTAMARIA",
         "Puebla FC (MEX)",
         183,
         84
        ],
        [
         "Peru",
         21,
         "GK",
         "CARVALLO Jose",
         "1986-03-01",
         "CARVALLO",
         "Universidad Técnica de Cajamarca (PER)",
         182,
         84
        ],
        [
         "Peru",
         10,
         "FW",
         "FARFAN Jefferson",
         "1984-10-26",
         "FARFAN",
         "FC Lokomotiv Moscow (RUS)",
         177,
         85
        ],
        [
         "Peru",
         13,
         "MF",
         "TAPIA Renato",
         "1995-07-28",
         "TAPIA",
         "Feyenoord Rotterdam (NED)",
         185,
         85
        ],
        [
         "Peru",
         9,
         "FW",
         "GUERRERO Paolo",
         "1984-01-01",
         "GUERRERO",
         "CR Flamengo (BRA)",
         185,
         88
        ],
        [
         "Poland",
         19,
         "MF",
         "ZIELINSKI Piotr",
         "1994-05-20",
         "ZIELINSKI",
         "SSC Napoli (ITA)",
         177,
         64
        ],
        [
         "Poland",
         6,
         "MF",
         "GORALSKI Jacek",
         "1992-09-21",
         "GORALSKI",
         "PFC Ludogorets Razgrad (BUL)",
         172,
         66
        ],
        [
         "Poland",
         17,
         "MF",
         "PESZKO Slawomir",
         "1985-02-19",
         "PESZKO",
         "Lechia Gdansk (POL)",
         173,
         68
        ],
        [
         "Poland",
         16,
         "MF",
         "BLASZCZYKOWSKI Jakub",
         "1985-12-14",
         "BLASZCZYKOWSKI",
         "VfL Wolfsburg (GER)",
         175,
         71
        ],
        [
         "Poland",
         18,
         "DF",
         "BERESZYNSKI Bartosz",
         "1992-07-12",
         "BERESZYNSKI",
         "UC Sampdoria (ITA)",
         182,
         72
        ],
        [
         "Poland",
         8,
         "MF",
         "LINETTY Karol",
         "1995-02-02",
         "LINETTY",
         "UC Sampdoria (ITA)",
         176,
         73
        ],
        [
         "Poland",
         21,
         "MF",
         "KURZAWA Rafal",
         "1993-01-29",
         "KURZAWA",
         "Gornik Zabrze (POL)",
         182,
         73
        ],
        [
         "Poland",
         13,
         "MF",
         "RYBUS Maciej",
         "1989-08-19",
         "RYBUS",
         "FC Lokomotiv Moscow (RUS)",
         173,
         75
        ],
        [
         "Poland",
         23,
         "FW",
         "KOWNACKI Dawid",
         "1997-03-14",
         "KOWNACKI",
         "UC Sampdoria (ITA)",
         185,
         75
        ],
        [
         "Poland",
         5,
         "DF",
         "BEDNAREK Jan",
         "1996-04-12",
         "BEDNAREK",
         "Southampton FC (ENG)",
         189,
         77
        ],
        [
         "Poland",
         2,
         "DF",
         "PAZDAN Michal",
         "1987-09-21",
         "PAZDAN",
         "Legia Warsaw (POL)",
         181,
         78
        ],
        [
         "Poland",
         3,
         "DF",
         "JEDRZEJCZYK Artur",
         "1987-11-04",
         "JEDRZEJCZYK",
         "Legia Warsaw (POL)",
         189,
         78
        ],
        [
         "Poland",
         11,
         "MF",
         "GROSICKI Kamil",
         "1988-06-08",
         "GROSICKI",
         "Hull City FC (ENG)",
         180,
         78
        ],
        [
         "Poland",
         14,
         "FW",
         "TEODORCZYK Lukasz",
         "1991-06-03",
         "TEODORCZYK",
         "RSC Anderlecht (BEL)",
         185,
         78
        ],
        [
         "Poland",
         9,
         "FW",
         "LEWANDOWSKI Robert",
         "1988-08-21",
         "LEWANDOWSKI",
         "FC Bayern München (GER)",
         185,
         79
        ],
        [
         "Poland",
         20,
         "DF",
         "PISZCZEK Lukasz",
         "1985-06-03",
         "PISZCZEK",
         "Borussia Dortmund (GER)",
         184,
         79
        ],
        [
         "Poland",
         15,
         "DF",
         "GLIK Kamil",
         "1988-02-03",
         "GLIK",
         "AS Monaco (FRA)",
         190,
         80
        ],
        [
         "Poland",
         4,
         "DF",
         "CIONEK Thiago",
         "1986-04-21",
         "CIONEK",
         "SPAL Ferrara (ITA)",
         184,
         81
        ],
        [
         "Poland",
         7,
         "FW",
         "MILIK Arkadiusz",
         "1994-02-28",
         "MILIK",
         "SSC Napoli (ITA)",
         186,
         81
        ],
        [
         "Poland",
         10,
         "MF",
         "KRYCHOWIAK Grzegorz",
         "1990-01-29",
         "KRYCHOWIAK",
         "West Bromwich Albion FC (ENG)",
         186,
         83
        ],
        [
         "Poland",
         12,
         "GK",
         "BIALKOWSKI Bartosz",
         "1987-07-06",
         "BIALKOWSKI",
         "Ipswich Town FC (ENG)",
         194,
         83
        ],
        [
         "Poland",
         22,
         "GK",
         "FABIANSKI Lukasz",
         "1985-04-18",
         "FABIANSKI",
         "Swansea City AFC (WAL)",
         190,
         83
        ],
        [
         "Poland",
         1,
         "GK",
         "SZCZESNY Wojciech",
         "1990-04-18",
         "SZCZESNY",
         "Juventus FC (ITA)",
         195,
         84
        ],
        [
         "Portugal",
         8,
         "MF",
         "JOAO MOUTINHO",
         "1986-09-08",
         "J. MOUTINHO",
         "AS Monaco (FRA)",
         170,
         61
        ],
        [
         "Portugal",
         18,
         "FW",
         "GELSON MARTINS",
         "1995-05-11",
         "GELSON",
         "Sporting CP (POR)",
         173,
         63
        ],
        [
         "Portugal",
         5,
         "DF",
         "RAPHAEL GUERREIRO",
         "1993-12-22",
         "RAPHAEL",
         "Borussia Dortmund (GER)",
         170,
         64
        ],
        [
         "Portugal",
         16,
         "MF",
         "BRUNO FERNANDES",
         "1994-09-08",
         "B. FERNANDES",
         "Sporting CP (POR)",
         183,
         64
        ],
        [
         "Portugal",
         11,
         "MF",
         "BERNARDO SILVA",
         "1994-08-10",
         "BERNARDO",
         "Manchester City FC (ENG)",
         173,
         65
        ],
        [
         "Portugal",
         19,
         "DF",
         "MARIO RUI",
         "1991-05-27",
         "MÁRIO RUI",
         "SSC Napoli (ITA)",
         168,
         67
        ],
        [
         "Portugal",
         21,
         "DF",
         "CEDRIC",
         "1991-08-31",
         "CÉDRIC",
         "Southampton FC (ENG)",
         172,
         67
        ],
        [
         "Portugal",
         4,
         "MF",
         "MANUEL FERNANDES",
         "1986-02-05",
         "M. FERNANDES",
         "FC Lokomotiv Moscow (RUS)",
         174,
         69
        ],
        [
         "Portugal",
         15,
         "DF",
         "RICARDO",
         "1993-10-06",
         "RICARDO",
         "FC Porto (POR)",
         174,
         70
        ],
        [
         "Portugal",
         17,
         "FW",
         "GONCALO GUEDES",
         "1996-11-29",
         "G. GUEDES",
         "Valencia CF (ESP)",
         179,
         72
        ],
        [
         "Portugal",
         23,
         "MF",
         "ADRIEN SILVA",
         "1989-03-15",
         "ADRIEN",
         "Leicester City FC (ENG)",
         176,
         72
        ],
        [
         "Portugal",
         10,
         "MF",
         "JOAO MARIO",
         "1993-01-19",
         "J. MÁRIO",
         "West Ham United FC (ENG)",
         179,
         73
        ],
        [
         "Portugal",
         20,
         "FW",
         "RICARDO QUARESMA",
         "1983-09-26",
         "QUARESMA",
         "Besiktas JK (TUR)",
         175,
         73
        ],
        [
         "Portugal",
         9,
         "FW",
         "ANDRE SILVA",
         "1995-11-06",
         "ANDRÉ SILVA",
         "AC Milan (ITA)",
         184,
         78
        ],
        [
         "Portugal",
         22,
         "GK",
         "BETO",
         "1982-05-01",
         "BETO",
         "Goztepe SK (TUR)",
         183,
         79
        ],
        [
         "Portugal",
         7,
         "FW",
         "CRISTIANO RONALDO",
         "1985-02-05",
         "RONALDO",
         "Real Madrid CF (ESP)",
         185,
         80
        ],
        [
         "Portugal",
         14,
         "MF",
         "WILLIAM",
         "1992-04-07",
         "WILLIAM",
         "Sporting CP (POR)",
         190,
         80
        ],
        [
         "Portugal",
         3,
         "DF",
         "PEPE",
         "1983-02-26",
         "PEPE",
         "Besiktas JK (TUR)",
         188,
         81
        ],
        [
         "Portugal",
         12,
         "GK",
         "ANTHONY LOPES",
         "1990-10-01",
         "LOPES",
         "Olympique Lyon (FRA)",
         184,
         81
        ],
        [
         "Portugal",
         2,
         "DF",
         "BRUNO ALVES",
         "1981-11-27",
         "B. ALVES",
         "Rangers FC (SCO)",
         187,
         83
        ],
        [
         "Portugal",
         13,
         "DF",
         "RUBEN DIAS",
         "1997-05-14",
         "RUBEN DIAS",
         "SL Benfica (POR)",
         187,
         83
        ],
        [
         "Portugal",
         1,
         "GK",
         "RUI PATRICIO",
         "1988-02-15",
         "RUI PATRICIO",
         "Sporting CP (POR)",
         189,
         84
        ],
        [
         "Portugal",
         6,
         "DF",
         "JOSE FONTE",
         "1983-12-22",
         "FONTE",
         "Dalian Yifang FC (CHN)",
         191,
         84
        ],
        [
         "Russia",
         16,
         "MF",
         "MIRANCHUK Anton",
         "1995-10-17",
         "MIRANCHUK AN.",
         "FC Lokomotiv Moscow (RUS)",
         182,
         67
        ],
        [
         "Russia",
         6,
         "MF",
         "CHERYSHEV Denis",
         "1990-12-26",
         "CHERYSHEV",
         "Villarreal CF (ESP)",
         173,
         68
        ],
        [
         "Russia",
         17,
         "MF",
         "GOLOVIN Aleksandr",
         "1996-05-30",
         "GOLOVIN",
         "CSKA Moscow (RUS)",
         178,
         70
        ],
        [
         "Russia",
         23,
         "DF",
         "SMOLNIKOV Igor",
         "1988-08-08",
         "SMOLNIKOV",
         "FC Zenit St. Petersburg (RUS)",
         179,
         72
        ],
        [
         "Russia",
         9,
         "MF",
         "DZAGOEV Alan",
         "1990-06-17",
         "DZAGOEV",
         "CSKA Moscow (RUS)",
         178,
         73
        ],
        [
         "Russia",
         7,
         "MF",
         "KUZIAEV Daler",
         "1993-01-15",
         "KUZIAEV",
         "FC Zenit St. Petersburg (RUS)",
         182,
         74
        ],
        [
         "Russia",
         19,
         "MF",
         "SAMEDOV Alexander",
         "1984-07-19",
         "SAMEDOV",
         "FC Spartak Moscow (RUS)",
         178,
         74
        ],
        [
         "Russia",
         8,
         "MF",
         "GAZINSKY Iury",
         "1989-07-20",
         "GAZINSKII",
         "FC Krasnodar (RUS)",
         180,
         75
        ],
        [
         "Russia",
         18,
         "MF",
         "ZHIRKOV Yury",
         "1983-08-20",
         "ZHIRKOV",
         "FC Zenit St. Petersburg (RUS)",
         180,
         76
        ],
        [
         "Russia",
         11,
         "MF",
         "ZOBNIN Roman",
         "1994-02-11",
         "ZOBNIN",
         "FC Spartak Moscow (RUS)",
         185,
         77
        ],
        [
         "Russia",
         15,
         "MF",
         "MIRANCHUK Alexey",
         "1995-10-17",
         "MIRANCHUK AL.",
         "FC Lokomotiv Moscow (RUS)",
         185,
         77
        ],
        [
         "Russia",
         13,
         "DF",
         "KUDRIASHOV Fedor",
         "1987-04-05",
         "KUDRIASHOV",
         "FC Rubin Kazan (RUS)",
         187,
         78
        ],
        [
         "Russia",
         2,
         "DF",
         "MARIO FERNANDES",
         "1990-09-19",
         "FERNANDES",
         "CSKA Moscow (RUS)",
         187,
         79
        ],
        [
         "Russia",
         10,
         "FW",
         "SMOLOV Fedor",
         "1990-02-09",
         "SMOLOV",
         "FC Krasnodar (RUS)",
         185,
         79
        ],
        [
         "Russia",
         21,
         "MF",
         "EROKHIN Aleksandr",
         "1989-10-13",
         "EROKHIN",
         "FC Zenit St. Petersburg (RUS)",
         191,
         79
        ],
        [
         "Russia",
         12,
         "GK",
         "LUNEV Andrei",
         "1991-11-13",
         "LUNEV",
         "FC Zenit St. Petersburg (RUS)",
         189,
         80
        ],
        [
         "Russia",
         14,
         "DF",
         "GRANAT Vladimir",
         "1987-05-22",
         "GRANAT",
         "FC Rubin Kazan (RUS)",
         184,
         80
        ],
        [
         "Russia",
         20,
         "GK",
         "GABULOV Vladimir",
         "1983-10-19",
         "GABULOV",
         "Club Brugge KV (BEL)",
         190,
         81
        ],
        [
         "Russia",
         3,
         "DF",
         "KUTEPOV Ilya",
         "1993-07-29",
         "KUTEPOV",
         "FC Spartak Moscow (RUS)",
         190,
         82
        ],
        [
         "Russia",
         1,
         "GK",
         "AKINFEEV Igor",
         "1986-04-08",
         "AKINFEEV",
         "CSKA Moscow (RUS)",
         185,
         83
        ],
        [
         "Russia",
         4,
         "DF",
         "IGNASHEVICH Sergey",
         "1979-07-14",
         "IGNASHEVICH",
         "CSKA Moscow (RUS)",
         186,
         84
        ],
        [
         "Russia",
         5,
         "DF",
         "SEMENOV Andrey",
         "1989-03-24",
         "SEMENOV",
         "FC Akhmat Grozny (RUS)",
         191,
         87
        ],
        [
         "Russia",
         22,
         "FW",
         "DZYUBA Artem",
         "1988-08-22",
         "DZYUBA",
         "FC Arsenal Tula (RUS)",
         196,
         90
        ],
        [
         "Saudi Arabia",
         6,
         "DF",
         "MOHAMMED ALBURAYK",
         "1992-09-15",
         "ALBURAYK",
         "Al Hilal SFC (KSA)",
         173,
         61
        ],
        [
         "Saudi Arabia",
         7,
         "MF",
         "SALMAN ALFARAJ",
         "1989-08-01",
         "SALMAN",
         "Al Hilal SFC (KSA)",
         179,
         63
        ],
        [
         "Saudi Arabia",
         8,
         "MF",
         "YAHIA ALSHEHRI",
         "1990-06-26",
         "YAHIA",
         "CD Leganés (ESP)",
         165,
         63
        ],
        [
         "Saudi Arabia",
         13,
         "DF",
         "YASIR ALSHAHRANI",
         "1992-05-25",
         "YASIR",
         "Al Hilal SFC (KSA)",
         170,
         63
        ],
        [
         "Saudi Arabia",
         19,
         "FW",
         "FAHAD ALMUWALLAD",
         "1994-09-14",
         "FAHAD",
         "Levante UD (ESP)",
         168,
         65
        ],
        [
         "Saudi Arabia",
         9,
         "MF",
         "HATAN BAHBIR",
         "1992-07-16",
         "HATAN",
         "Al Shabab FC (KSA)",
         170,
         66
        ],
        [
         "Saudi Arabia",
         14,
         "MF",
         "ABDULLAH OTAYF",
         "1992-08-03",
         "OTAYF",
         "Al Hilal SFC (KSA)",
         177,
         66
        ],
        [
         "Saudi Arabia",
         15,
         "MF",
         "ABDULLAH ALKHAIBARI",
         "1996-08-16",
         "ALKHAIBARI",
         "Al Shabab FC (KSA)",
         175,
         66
        ],
        [
         "Saudi Arabia",
         2,
         "DF",
         "MANSOUR ALHARBI",
         "1987-10-19",
         "MANSOUR",
         "Al Ahli SC (KSA)",
         173,
         68
        ],
        [
         "Saudi Arabia",
         18,
         "MF",
         "SALEM ALDAWSARI",
         "1991-08-19",
         "SALEM",
         "Villarreal CF (ESP)",
         174,
         68
        ],
        [
         "Saudi Arabia",
         17,
         "MF",
         "TAISEER ALJASSAM",
         "1984-07-25",
         "TAISEER",
         "Al Ahli SC (KSA)",
         169,
         69
        ],
        [
         "Saudi Arabia",
         11,
         "MF",
         "ABDULMALEK ALKHAIBRI",
         "1986-03-13",
         "ABDULMALEK",
         "Al Hilal SFC (KSA)",
         177,
         73
        ],
        [
         "Saudi Arabia",
         12,
         "MF",
         "MOHAMED KANNO",
         "1994-09-22",
         "KANNO",
         "Al Hilal SFC (KSA)",
         192,
         73
        ],
        [
         "Saudi Arabia",
         10,
         "FW",
         "MOHAMMED ALSAHLAWI",
         "1987-01-10",
         "ALSAHLAWI",
         "Al Nassr FC (KSA)",
         179,
         75
        ],
        [
         "Saudi Arabia",
         5,
         "DF",
         "OMAR OTHMAN",
         "1985-09-27",
         "OMAR",
         "Al Nassr FC (KSA)",
         185,
         76
        ],
        [
         "Saudi Arabia",
         16,
         "MF",
         "HUSSAIN ALMOQAHWI",
         "1988-03-24",
         "HUSSAIN",
         "Al Ahli SC (KSA)",
         174,
         76
        ],
        [
         "Saudi Arabia",
         20,
         "FW",
         "MUHANNAD ASIRI",
         "1986-10-14",
         "MUHANNAD",
         "Al Ahli SC (KSA)",
         185,
         79
        ],
        [
         "Saudi Arabia",
         22,
         "GK",
         "MOHAMMED ALOWAIS",
         "1991-10-10",
         "ALOWAIS",
         "Al Ahli SC (KSA)",
         187,
         79
        ],
        [
         "Saudi Arabia",
         23,
         "DF",
         "MOTAZ HAWSAWI",
         "1992-02-17",
         "MOTAZ",
         "Al Ahli SC (KSA)",
         180,
         79
        ],
        [
         "Saudi Arabia",
         3,
         "DF",
         "OSAMA HAWSAWI",
         "1984-03-31",
         "OSAMA",
         "Al Hilal SFC (KSA)",
         188,
         83
        ],
        [
         "Saudi Arabia",
         4,
         "DF",
         "ALI ALBULAYHI",
         "1989-11-21",
         "ALI",
         "Al Hilal SFC (KSA)",
         182,
         83
        ],
        [
         "Saudi Arabia",
         21,
         "GK",
         "YASSER ALMOSAILEM",
         "1984-02-27",
         "ALMOSAILEM",
         "Al Ahli SC (KSA)",
         186,
         88
        ],
        [
         "Saudi Arabia",
         1,
         "GK",
         "ABDULLAH ALMUAIOUF",
         "1987-01-23",
         "ABDULLAH",
         "Al Hilal SFC (KSA)",
         178,
         98
        ],
        [
         "Senegal",
         5,
         "MF",
         "GUEYE Idrissa Gana",
         "1989-09-26",
         "GANA",
         "Everton FC (ENG)",
         174,
         64
        ],
        [
         "Senegal",
         2,
         "DF",
         "CISS Saliou",
         "1989-06-15",
         "CISS",
         "Valenciennes FC (FRA)",
         173,
         69
        ],
        [
         "Senegal",
         10,
         "FW",
         "MANE Sadio",
         "1992-04-10",
         "MANE",
         "Liverpool FC (ENG)",
         175,
         69
        ],
        [
         "Senegal",
         18,
         "FW",
         "SARR Ismaila",
         "1998-02-25",
         "ISMAÏLA",
         "Stade Rennais FC (FRA)",
         175,
         70
        ],
        [
         "Senegal",
         22,
         "DF",
         "WAGUE Moussa",
         "1998-10-04",
         "M. WAGUE",
         "KAS Eupen (BEL)",
         177,
         70
        ],
        [
         "Senegal",
         12,
         "DF",
         "SABALY Youssouf",
         "1993-03-05",
         "SABALY",
         "FC Girondins Bordeaux (FRA)",
         174,
         71
        ],
        [
         "Senegal",
         17,
         "MF",
         "NDIAYE Pape Alioune",
         "1990-10-27",
         "P.A. NDIAYE",
         "Stoke City FC (ENG)",
         181,
         74
        ],
        [
         "Senegal",
         19,
         "FW",
         "NIANG Mbaye",
         "1994-12-19",
         "NIANG",
         "Torino FC (ITA)",
         184,
         74
        ],
        [
         "Senegal",
         21,
         "DF",
         "GASSAMA Lamine",
         "1989-10-20",
         "GASSAMA",
         "Adanaspor (TUR)",
         181,
         74
        ],
        [
         "Senegal",
         7,
         "FW",
         "SOW Moussa",
         "1986-01-19",
         "SOW",
         "Bursaspor (TUR)",
         180,
         75
        ],
        [
         "Senegal",
         8,
         "MF",
         "KOUYATE Cheikhou",
         "1989-12-21",
         "C. KOUYATE",
         "West Ham United FC (ENG)",
         189,
         75
        ],
        [
         "Senegal",
         20,
         "FW",
         "BALDE Keita",
         "1995-03-08",
         "KEÏTA BALDE",
         "AS Monaco (FRA)",
         181,
         77
        ],
        [
         "Senegal",
         14,
         "FW",
         "KONATE Moussa",
         "1993-04-03",
         "KONATE",
         "Amiens SC (FRA)",
         180,
         78
        ],
        [
         "Senegal",
         1,
         "GK",
         "DIALLO Abdoulaye",
         "1992-03-30",
         "DIALLO",
         "Stade Rennais FC (FRA)",
         189,
         79
        ],
        [
         "Senegal",
         15,
         "FW",
         "SAKHO Diafra",
         "1989-12-24",
         "SAKHO",
         "Stade Rennais FC (FRA)",
         184,
         79
        ],
        [
         "Senegal",
         13,
         "MF",
         "NDIAYE Alfred",
         "1990-03-06",
         "A. NDIAYE",
         "Wolverhampton Wanderers FC (ENG)",
         186,
         80
        ],
        [
         "Senegal",
         16,
         "GK",
         "NDIAYE Khadim",
         "1985-04-05",
         "KH. NDIAYE",
         "Horoya AC (GUI)",
         185,
         80
        ],
        [
         "Senegal",
         23,
         "GK",
         "GOMIS Alfred",
         "1993-09-05",
         "GOMIS",
         "SPAL Ferrara (ITA)",
         196,
         80
        ],
        [
         "Senegal",
         9,
         "FW",
         "DIOUF Mame",
         "1987-12-16",
         "M. DIOUF",
         "Stoke City FC (ENG)",
         185,
         81
        ],
        [
         "Senegal",
         6,
         "MF",
         "SANE Salif",
         "1990-08-25",
         "S. SANE",
         "Hannover 96 (GER)",
         196,
         84
        ],
        [
         "Senegal",
         4,
         "DF",
         "MBODJI Kara",
         "1989-11-22",
         "KARA",
         "RSC Anderlecht (BEL)",
         192,
         85
        ],
        [
         "Senegal",
         3,
         "DF",
         "KOULIBALY Kalidou",
         "1991-06-20",
         "KOULIBALY",
         "SSC Napoli (ITA)",
         195,
         89
        ],
        [
         "Senegal",
         11,
         "MF",
         "NDOYE Cheikh",
         "1986-03-29",
         "CH. NDOYE",
         "Birmingham City FC (ENG)",
         192,
         90
        ],
        [
         "Serbia",
         7,
         "MF",
         "ZIVKOVIC Andrija",
         "1996-07-11",
         "ŽIVKOVIĆ",
         "SL Benfica (POR)",
         169,
         68
        ],
        [
         "Serbia",
         14,
         "DF",
         "RODIC Milan",
         "1991-04-02",
         "RODIĆ",
         "FK Crvena Zvezda (SRB)",
         185,
         69
        ],
        [
         "Serbia",
         2,
         "DF",
         "RUKAVINA Antonio",
         "1984-01-26",
         "RUKAVINA",
         "Villarreal CF (ESP)",
         177,
         71
        ],
        [
         "Serbia",
         22,
         "MF",
         "LJAJIC Adem",
         "1991-09-29",
         "LJAJIĆ",
         "Torino FC (ITA)",
         182,
         74
        ],
        [
         "Serbia",
         19,
         "FW",
         "JOVIC Luka",
         "1997-12-23",
         "JOVIĆ",
         "Eintracht Frankfurt (GER)",
         181,
         75
        ],
        [
         "Serbia",
         10,
         "MF",
         "TADIC Dusan",
         "1988-11-20",
         "TADIĆ",
         "Southampton FC (ENG)",
         181,
         76
        ],
        [
         "Serbia",
         18,
         "FW",
         "RADONJIC Nemanja",
         "1996-02-15",
         "RADONJIĆ",
         "FK Crvena Zvezda (SRB)",
         185,
         76
        ],
        [
         "Serbia",
         20,
         "MF",
         "MILINKOVIC-SAVIC Sergej",
         "1995-02-27",
         "SERGEJ",
         "SS Lazio (ITA)",
         192,
         76
        ],
        [
         "Serbia",
         13,
         "DF",
         "VELJKOVIC Milos",
         "1995-09-26",
         "VELJKOVIĆ",
         "SV Werder Bremen (GER)",
         188,
         77
        ],
        [
         "Serbia",
         3,
         "DF",
         "TOSIC Dusko",
         "1985-01-19",
         "TOŠIĆ",
         "Besiktas JK (TUR)",
         185,
         79
        ],
        [
         "Serbia",
         4,
         "MF",
         "MILIVOJEVIC Luka",
         "1991-04-07",
         "MILIVOJEVIĆ",
         "Crystal Palace FC (ENG)",
         186,
         80
        ],
        [
         "Serbia",
         5,
         "DF",
         "SPAJIC Uros",
         "1993-02-13",
         "SPAJIĆ",
         "RSC Anderlecht (BEL)",
         188,
         82
        ],
        [
         "Serbia",
         9,
         "FW",
         "MITROVIC Aleksandar",
         "1994-09-16",
         "MITROVIĆ",
         "Fulham FC (ENG)",
         189,
         82
        ],
        [
         "Serbia",
         16,
         "MF",
         "GRUJIC Marko",
         "1996-04-13",
         "GRUJIĆ",
         "Cardiff City FC (WAL)",
         190,
         82
        ],
        [
         "Serbia",
         17,
         "MF",
         "KOSTIC Filip",
         "1992-11-01",
         "KOSTIĆ",
         "Hamburger SV (GER)",
         184,
         82
        ],
        [
         "Serbia",
         11,
         "DF",
         "KOLAROV Aleksandar",
         "1985-11-10",
         "KOLAROV",
         "AS Roma (ITA)",
         187,
         83
        ],
        [
         "Serbia",
         12,
         "GK",
         "RAJKOVIC Predrag",
         "1995-10-31",
         "RAJKOVIĆ",
         "Maccabi Tel-Aviv FC (ISR)",
         191,
         85
        ],
        [
         "Serbia",
         21,
         "MF",
         "MATIC Nemanja",
         "1988-08-01",
         "MATIĆ",
         "Manchester United FC (ENG)",
         194,
         86
        ],
        [
         "Serbia",
         8,
         "FW",
         "PRIJOVIC Aleksandar",
         "1990-04-21",
         "PRIJOVIĆ",
         "PAOK FC (GRE)",
         191,
         88
        ],
        [
         "Serbia",
         6,
         "DF",
         "IVANOVIC Branislav",
         "1984-02-22",
         "IVANOVIĆ",
         "FC Zenit St. Petersburg (RUS)",
         185,
         89
        ],
        [
         "Serbia",
         15,
         "DF",
         "MILENKOVIC Nikola",
         "1997-10-12",
         "MILENKOVIĆ",
         "ACF Fiorentina (ITA)",
         195,
         90
        ],
        [
         "Serbia",
         23,
         "GK",
         "DMITROVIC Marko",
         "1992-01-24",
         "DMITROVIĆ",
         "SD Eibar (ESP)",
         194,
         90
        ],
        [
         "Serbia",
         1,
         "GK",
         "STOJKOVIC Vladimir",
         "1983-07-28",
         "STOJKOVIĆ",
         "FK Partizan (SRB)",
         195,
         92
        ],
        [
         "Spain",
         12,
         "DF",
         "ODRIOZOLA Alvaro",
         "1995-12-14",
         "ODRIOZOLA",
         "Real Sociedad (ESP)",
         178,
         67
        ],
        [
         "Spain",
         17,
         "FW",
         "ASPAS Iago",
         "1987-08-01",
         "IAGO ASPAS",
         "Celta Vigo (ESP)",
         176,
         67
        ],
        [
         "Spain",
         21,
         "FW",
         "SILVA David",
         "1986-01-08",
         "SILVA",
         "Manchester City FC (ENG)",
         170,
         67
        ],
        [
         "Spain",
         6,
         "MF",
         "INIESTA Andres",
         "1984-05-11",
         "A. INIESTA",
         "FC Barcelona (ESP)",
         171,
         68
        ],
        [
         "Spain",
         18,
         "DF",
         "ALBA Jordi",
         "1989-03-21",
         "JORDI ALBA",
         "FC Barcelona (ESP)",
         170,
         68
        ],
        [
         "Spain",
         10,
         "MF",
         "THIAGO",
         "1991-04-11",
         "THIAGO",
         "FC Bayern München (GER)",
         174,
         70
        ],
        [
         "Spain",
         11,
         "FW",
         "VAZQUEZ Lucas",
         "1991-07-01",
         "LUCAS V.",
         "Real Madrid CF (ESP)",
         173,
         70
        ],
        [
         "Spain",
         1,
         "GK",
         "DE GEA David",
         "1990-11-07",
         "DE GEA",
         "Manchester United FC (ENG)",
         190,
         71
        ],
        [
         "Spain",
         9,
         "FW",
         "RODRIGO",
         "1991-03-06",
         "RODRIGO M.",
         "Valencia CF (ESP)",
         182,
         72
        ],
        [
         "Spain",
         16,
         "DF",
         "MONREAL Nacho",
         "1986-02-26",
         "MONREAL",
         "Arsenal FC (ENG)",
         179,
         72
        ],
        [
         "Spain",
         2,
         "DF",
         "CARVAJAL Dani",
         "1992-01-11",
         "CARVAJAL",
         "Real Madrid CF (ESP)",
         173,
         73
        ],
        [
         "Spain",
         8,
         "MF",
         "KOKE",
         "1992-01-08",
         "KOKE",
         "Atletico Madrid (ESP)",
         176,
         73
        ],
        [
         "Spain",
         22,
         "MF",
         "ISCO",
         "1992-04-21",
         "ISCO",
         "Real Madrid CF (ESP)",
         176,
         74
        ],
        [
         "Spain",
         15,
         "DF",
         "RAMOS Sergio",
         "1986-03-30",
         "RAMOS",
         "Real Madrid CF (ESP)",
         183,
         75
        ],
        [
         "Spain",
         7,
         "MF",
         "SAUL",
         "1994-11-21",
         "SAÚL",
         "Atletico Madrid (ESP)",
         183,
         76
        ],
        [
         "Spain",
         20,
         "MF",
         "ASENSIO Marco",
         "1996-01-21",
         "ASENSIO",
         "Real Madrid CF (ESP)",
         182,
         76
        ],
        [
         "Spain",
         4,
         "DF",
         "NACHO",
         "1990-01-18",
         "NACHO",
         "Real Madrid CF (ESP)",
         179,
         77
        ],
        [
         "Spain",
         5,
         "MF",
         "BUSQUETS Sergio",
         "1988-07-16",
         "SERGIO",
         "FC Barcelona (ESP)",
         189,
         78
        ],
        [
         "Spain",
         14,
         "DF",
         "AZPILICUETA Cesar",
         "1989-08-28",
         "AZPILICUETA",
         "Chelsea FC (ENG)",
         178,
         78
        ],
        [
         "Spain",
         13,
         "GK",
         "ARRIZABALAGA Kepa",
         "1994-10-03",
         "ARRIZABALAGA",
         "Athletic Bilbao (ESP)",
         189,
         84
        ],
        [
         "Spain",
         3,
         "DF",
         "PIQUE Gerard",
         "1987-02-02",
         "PIQUÉ",
         "FC Barcelona (ESP)",
         194,
         85
        ],
        [
         "Spain",
         19,
         "FW",
         "COSTA Diego",
         "1988-10-07",
         "DIEGO COSTA",
         "Atletico Madrid (ESP)",
         185,
         86
        ],
        [
         "Spain",
         23,
         "GK",
         "REINA Pepe",
         "1982-08-31",
         "REINA",
         "SSC Napoli (ITA)",
         188,
         92
        ],
        [
         "Sweden",
         21,
         "MF",
         "DURMAZ Jimmy",
         "1989-03-22",
         "DURMAZ",
         "Toulouse FC (FRA)",
         180,
         69
        ],
        [
         "Sweden",
         7,
         "MF",
         "LARSSON Sebastian",
         "1985-06-06",
         "LARSSON",
         "Hull City FC (ENG)",
         178,
         70
        ],
        [
         "Sweden",
         16,
         "DF",
         "KRAFTH Emil",
         "1994-08-02",
         "KRAFTH",
         "Bologna FC (ITA)",
         181,
         72
        ],
        [
         "Sweden",
         15,
         "MF",
         "HILJEMARK Oscar",
         "1992-06-28",
         "HILJEMARK",
         "Genoa CFC (ITA)",
         184,
         73
        ],
        [
         "Sweden",
         8,
         "MF",
         "EKDAL Albin",
         "1989-07-28",
         "EKDAL",
         "Hamburger SV (GER)",
         186,
         75
        ],
        [
         "Sweden",
         6,
         "DF",
         "AUGUSTINSSON Ludwig",
         "1994-04-21",
         "AUGUSTINSSON",
         "SV Werder Bremen (GER)",
         181,
         76
        ],
        [
         "Sweden",
         9,
         "FW",
         "BERG Marcus",
         "1986-08-17",
         "BERG",
         "Al Ain FC (UAE)",
         183,
         76
        ],
        [
         "Sweden",
         19,
         "MF",
         "ROHDEN Marcus",
         "1991-05-11",
         "ROHDÉN",
         "FC Crotone (ITA)",
         182,
         76
        ],
        [
         "Sweden",
         2,
         "DF",
         "LUSTIG Mikael",
         "1986-12-13",
         "LUSTIG",
         "Celtic FC (SCO)",
         189,
         77
        ],
        [
         "Sweden",
         13,
         "MF",
         "SVENSSON Gustav",
         "1987-02-07",
         "SVENSSON",
         "Seattle Sounders FC (USA)",
         183,
         77
        ],
        [
         "Sweden",
         10,
         "MF",
         "FORSBERG Emil",
         "1991-10-23",
         "FORSBERG",
         "RB Leipzig (GER)",
         179,
         78
        ],
        [
         "Sweden",
         20,
         "FW",
         "TOIVONEN Ola",
         "1986-07-03",
         "TOIVONEN",
         "Toulouse FC (FRA)",
         192,
         78
        ],
        [
         "Sweden",
         11,
         "FW",
         "GUIDETTI John",
         "1992-04-15",
         "GUIDETTI",
         "Deportivo Alavés (ESP)",
         185,
         79
        ],
        [
         "Sweden",
         17,
         "MF",
         "CLAESSON Viktor",
         "1992-01-02",
         "CLAESSON",
         "FC Krasnodar (RUS)",
         183,
         79
        ],
        [
         "Sweden",
         3,
         "DF",
         "LINDELOF Victor",
         "1994-07-17",
         "LINDELÖF",
         "Manchester United FC (ENG)",
         187,
         81
        ],
        [
         "Sweden",
         5,
         "DF",
         "OLSSON Martin",
         "1988-05-17",
         "OLSSON",
         "Swansea City AFC (WAL)",
         177,
         81
        ],
        [
         "Sweden",
         12,
         "GK",
         "JOHNSSON Karl-Johan",
         "1990-01-28",
         "JOHNSSON",
         "EA Guingamp (FRA)",
         187,
         83
        ],
        [
         "Sweden",
         14,
         "DF",
         "HELANDER Filip",
         "1993-04-22",
         "HELANDER",
         "Bologna FC (ITA)",
         192,
         83
        ],
        [
         "Sweden",
         22,
         "FW",
         "THELIN Isaac Kiese",
         "1992-06-24",
         "KIESE THELIN",
         "KV Waasland-Beveren (BEL)",
         189,
         83
        ],
        [
         "Sweden",
         4,
         "DF",
         "GRANQVIST Andreas",
         "1985-04-16",
         "GRANQVIST",
         "FC Krasnodar (RUS)",
         192,
         84
        ],
        [
         "Sweden",
         23,
         "GK",
         "NORDFELDT Kristoffer",
         "1989-06-23",
         "NORDFELDT",
         "Swansea City AFC (WAL)",
         190,
         85
        ],
        [
         "Sweden",
         1,
         "GK",
         "OLSEN Robin",
         "1990-01-08",
         "OLSEN",
         "FC Kobenhavn (DEN)",
         198,
         89
        ],
        [
         "Sweden",
         18,
         "DF",
         "JANSSON Pontus",
         "1991-02-13",
         "JANSSON",
         "Leeds United FC (ENG)",
         194,
         89
        ],
        [
         "Switzerland",
         16,
         "MF",
         "FERNANDES Gelson",
         "1986-09-02",
         "G. FERNANDES",
         "Eintracht Frankfurt (GER)",
         180,
         72
        ],
        [
         "Switzerland",
         8,
         "MF",
         "FREULER Remo",
         "1992-04-15",
         "FREULER",
         "Atalanta Bergamo (ITA)",
         181,
         75
        ],
        [
         "Switzerland",
         18,
         "FW",
         "GAVRANOVIC Mario",
         "1989-11-24",
         "GAVRANOVIC",
         "GNK Dinamo Zagreb (CRO)",
         175,
         75
        ],
        [
         "Switzerland",
         3,
         "DF",
         "MOUBANDJE Francois",
         "1990-06-21",
         "MOUBANDJE",
         "Toulouse FC (FRA)",
         180,
         76
        ],
        [
         "Switzerland",
         2,
         "DF",
         "LICHTSTEINER Stephan",
         "1984-01-16",
         "LICHTSTEINER",
         "Juventus FC (ITA)",
         181,
         77
        ],
        [
         "Switzerland",
         4,
         "DF",
         "ELVEDI Nico",
         "1996-09-30",
         "ELVEDI",
         "VfL Borussia Mönchengladbach (GER)",
         187,
         77
        ],
        [
         "Switzerland",
         15,
         "MF",
         "DZEMAILI Blerim",
         "1986-04-12",
         "DZEMAILI",
         "Bologna FC (ITA)",
         180,
         77
        ],
        [
         "Switzerland",
         17,
         "MF",
         "ZAKARIA Denis",
         "1996-11-20",
         "ZAKARIA",
         "VfL Borussia Mönchengladbach (GER)",
         189,
         77
        ],
        [
         "Switzerland",
         6,
         "DF",
         "LANG Michael",
         "1991-02-08",
         "LANG",
         "FC Basel (SUI)",
         185,
         78
        ],
        [
         "Switzerland",
         11,
         "MF",
         "BEHRAMI Valon",
         "1985-04-19",
         "BEHRAMI",
         "Udinese Calcio (ITA)",
         184,
         78
        ],
        [
         "Switzerland",
         19,
         "FW",
         "DRMIC Josip",
         "1992-08-08",
         "DRMIC",
         "VfL Borussia Mönchengladbach (GER)",
         184,
         78
        ],
        [
         "Switzerland",
         23,
         "MF",
         "SHAQIRI Xherdan",
         "1991-10-10",
         "SHAQIRI",
         "Stoke City FC (ENG)",
         165,
         78
        ],
        [
         "Switzerland",
         13,
         "DF",
         "RODRIGUEZ Ricardo",
         "1992-08-25",
         "RODRIGUEZ",
         "AC Milan (ITA)",
         180,
         79
        ],
        [
         "Switzerland",
         14,
         "MF",
         "ZUBER Steven",
         "1991-08-17",
         "ZUBER",
         "TSG 1899 Hoffenheim (GER)",
         182,
         79
        ],
        [
         "Switzerland",
         1,
         "GK",
         "SOMMER Yann",
         "1988-12-17",
         "SOMMER",
         "VfL Borussia Mönchengladbach (GER)",
         183,
         81
        ],
        [
         "Switzerland",
         10,
         "MF",
         "XHAKA Granit",
         "1992-09-27",
         "XHAKA",
         "Arsenal FC (ENG)",
         183,
         82
        ],
        [
         "Switzerland",
         21,
         "GK",
         "BUERKI Roman",
         "1990-11-14",
         "BÜRKI",
         "Borussia Dortmund (GER)",
         188,
         83
        ],
        [
         "Switzerland",
         22,
         "DF",
         "SCHAER Fabian",
         "1991-12-20",
         "SCHÄR",
         "Deportivo La Coruña (ESP)",
         186,
         83
        ],
        [
         "Switzerland",
         12,
         "GK",
         "MVOGO Yvon",
         "1994-06-06",
         "MVOGO",
         "RB Leipzig (GER)",
         186,
         84
        ],
        [
         "Switzerland",
         5,
         "DF",
         "AKANJI Manuel",
         "1995-07-19",
         "AKANJI",
         "Borussia Dortmund (GER)",
         186,
         85
        ],
        [
         "Switzerland",
         7,
         "FW",
         "EMBOLO Breel",
         "1997-02-14",
         "EMBOLO",
         "FC Schalke 04 (GER)",
         184,
         86
        ],
        [
         "Switzerland",
         9,
         "FW",
         "SEFEROVIC Haris",
         "1992-02-22",
         "SEFEROVIC",
         "SL Benfica (POR)",
         186,
         88
        ],
        [
         "Switzerland",
         20,
         "DF",
         "DJOUROU Johan",
         "1987-01-18",
         "DJOUROU",
         "Antalyaspor AS (TUR)",
         192,
         90
        ],
        [
         "Tunisia",
         23,
         "FW",
         "SLITI Naim",
         "1992-07-27",
         "SLITI",
         "Dijon FCO (FRA)",
         173,
         65
        ],
        [
         "Tunisia",
         17,
         "MF",
         "SKHIRI Ellyes",
         "1995-05-10",
         "SKHIRI JORIS",
         "Montpellier HSC (FRA)",
         185,
         69
        ],
        [
         "Tunisia",
         4,
         "DF",
         "MERIAH Yassine",
         "1993-07-02",
         "MERIAH",
         "CS Sfaxien (TUN)",
         183,
         70
        ],
        [
         "Tunisia",
         9,
         "MF",
         "BADRI Anice",
         "1990-09-18",
         "BADRI",
         "ES Tunis (TUN)",
         178,
         70
        ],
        [
         "Tunisia",
         20,
         "FW",
         "CHAALELI Ghaylen",
         "1994-02-28",
         "CHAALELI",
         "ES Tunis (TUN)",
         179,
         70
        ],
        [
         "Tunisia",
         22,
         "GK",
         "HASSEN Mouez",
         "1995-03-05",
         "HASSEN",
         "LB Chateauroux (FRA)",
         186,
         70
        ],
        [
         "Tunisia",
         18,
         "FW",
         "SRARFI Bassem",
         "1997-06-25",
         "SRARFI",
         "OGC Nice (FRA)",
         176,
         71
        ],
        [
         "Tunisia",
         12,
         "DF",
         "MAALOUL Ali",
         "1990-01-01",
         "MAALOUL",
         "Al Ahly SC (EGY)",
         170,
         72
        ],
        [
         "Tunisia",
         19,
         "FW",
         "KHALIFA Saber",
         "1986-10-14",
         "KHALIFA",
         "Club Africain (TUN)",
         185,
         72
        ],
        [
         "Tunisia",
         3,
         "DF",
         "BEN ALOUANE Yohan",
         "1987-03-28",
         "BEN ALOUANE",
         "Leicester City FC (ENG)",
         185,
         75
        ],
        [
         "Tunisia",
         11,
         "DF",
         "BRONN Dylan",
         "1995-06-19",
         "BRONN",
         "KAA Gent (BEL)",
         186,
         75
        ],
        [
         "Tunisia",
         14,
         "MF",
         "BEN AMOR Mohamed",
         "1992-05-03",
         "BEN AMOR",
         "Al Ahli SC (KSA)",
         180,
         75
        ],
        [
         "Tunisia",
         15,
         "FW",
         "KHALIL Ahmed",
         "1994-12-21",
         "KHALIL",
         "Club Africain (TUN)",
         187,
         75
        ],
        [
         "Tunisia",
         21,
         "DF",
         "NAGUEZ Hamdi",
         "1992-10-28",
         "NAGUEZ",
         "Zamalek (EGY)",
         186,
         75
        ],
        [
         "Tunisia",
         5,
         "DF",
         "HADDADI Oussama",
         "1992-01-28",
         "HADDADI",
         "Dijon FCO (FRA)",
         185,
         76
        ],
        [
         "Tunisia",
         7,
         "FW",
         "KHAOUI Saifeddine",
         "1995-04-27",
         "KHAOUI",
         "ES Troyes (FRA)",
         180,
         76
        ],
        [
         "Tunisia",
         10,
         "FW",
         "KHAZRI Wahbi",
         "1991-02-08",
         "KHAZRI",
         "Stade Rennais FC (FRA)",
         182,
         76
        ],
        [
         "Tunisia",
         6,
         "DF",
         "BEDOUI Rami",
         "1990-01-19",
         "BEDOUI",
         "Étoile du Sahel (TUN)",
         187,
         77
        ],
        [
         "Tunisia",
         8,
         "FW",
         "BEN YOUSSEF Fakhreddine",
         "1991-06-23",
         "BEN YOUSSEF .F",
         "Al Ittifaq FC (KSA)",
         189,
         80
        ],
        [
         "Tunisia",
         13,
         "MF",
         "SASSI Ferjani",
         "1992-03-18",
         "SASSI",
         "Al Nassr FC (KSA)",
         186,
         80
        ],
        [
         "Tunisia",
         16,
         "GK",
         "MATHLOUTHI Aymen",
         "1984-09-14",
         "MATHLOUTHI .A",
         "Al Batin FC (KSA)",
         182,
         84
        ],
        [
         "Tunisia",
         1,
         "GK",
         "BEN MUSTAPHA Farouk",
         "1989-07-01",
         "BEN MUSTAPHA",
         "Al Shabab FC (KSA)",
         192,
         85
        ],
        [
         "Tunisia",
         2,
         "DF",
         "BEN YOUSSEF Syam",
         "1989-03-31",
         "BEN YOUSSEF .S",
         "Kasimpasa SK (TUR)",
         189,
         87
        ],
        [
         "Uruguay",
         8,
         "MF",
         "NANDEZ Nahitan",
         "1995-12-28",
         "NANDEZ",
         "CA Boca Juniors (ARG)",
         171,
         61
        ],
        [
         "Uruguay",
         14,
         "MF",
         "TORREIRA Lucas",
         "1996-02-11",
         "TORREIRA",
         "UC Sampdoria (ITA)",
         168,
         61
        ],
        [
         "Uruguay",
         10,
         "FW",
         "DE ARRASCAETA Giorgian",
         "1994-06-01",
         "DE ARRASCAETA",
         "Cruzeiro EC (BRA)",
         172,
         64
        ],
        [
         "Uruguay",
         17,
         "MF",
         "LAXALT Diego",
         "1993-02-07",
         "LAXALT",
         "Genoa CFC (ITA)",
         178,
         66
        ],
        [
         "Uruguay",
         20,
         "FW",
         "URRETAVISCAYA Jonathan",
         "1990-03-19",
         "URRETAVISCAYA",
         "CF Monterrey (MEX)",
         172,
         66
        ],
        [
         "Uruguay",
         4,
         "DF",
         "VARELA Guillermo",
         "1993-03-24",
         "VARELA",
         "CA Penarol (URU)",
         173,
         70
        ],
        [
         "Uruguay",
         3,
         "DF",
         "GODIN Diego",
         "1986-02-16",
         "GODIN",
         "Atletico Madrid (ESP)",
         185,
         73
        ],
        [
         "Uruguay",
         6,
         "MF",
         "BENTANCUR Rodrigo",
         "1997-06-25",
         "BENTANCUR",
         "Juventus FC (ITA)",
         187,
         73
        ],
        [
         "Uruguay",
         16,
         "DF",
         "PEREIRA Maximiliano",
         "1984-06-08",
         "M. PEREIRA",
         "FC Porto (POR)",
         173,
         73
        ],
        [
         "Uruguay",
         1,
         "GK",
         "MUSLERA Fernando",
         "1986-06-16",
         "MUSLERA",
         "Galatasaray SK (TUR)",
         190,
         74
        ],
        [
         "Uruguay",
         5,
         "MF",
         "SANCHEZ Carlos",
         "1984-12-02",
         "SANCHEZ",
         "CF Monterrey (MEX)",
         171,
         74
        ],
        [
         "Uruguay",
         13,
         "DF",
         "SILVA Gaston",
         "1994-03-05",
         "G. SILVA",
         "CA Independiente (ARG)",
         185,
         74
        ],
        [
         "Uruguay",
         22,
         "DF",
         "CACERES Martin",
         "1987-04-07",
         "CACERES",
         "SS Lazio (ITA)",
         178,
         75
        ],
        [
         "Uruguay",
         2,
         "DF",
         "GIMENEZ Jose",
         "1995-01-20",
         "J.M. GIMENEZ",
         "Atletico Madrid (ESP)",
         185,
         77
        ],
        [
         "Uruguay",
         11,
         "FW",
         "STUANI Cristhian",
         "1986-10-12",
         "STUANI",
         "Girona FC (ESP)",
         186,
         78
        ],
        [
         "Uruguay",
         21,
         "FW",
         "CAVANI Edinson",
         "1987-02-14",
         "CAVANI",
         "Paris Saint-Germain FC (FRA)",
         188,
         78
        ],
        [
         "Uruguay",
         7,
         "MF",
         "RODRIGUEZ Cristian",
         "1985-09-30",
         "C. RODRIGUEZ",
         "CA Penarol (URU)",
         178,
         79
        ],
        [
         "Uruguay",
         12,
         "GK",
         "CAMPANA Martin",
         "1989-05-29",
         "CAMPAÑA",
         "CA Independiente (ARG)",
         184,
         79
        ],
        [
         "Uruguay",
         15,
         "MF",
         "VECINO Matias",
         "1991-08-24",
         "VECINO",
         "FC Internazionale (ITA)",
         189,
         80
        ],
        [
         "Uruguay",
         23,
         "GK",
         "SILVA Martin",
         "1983-03-25",
         "M. SILVA",
         "CR Vasco da Gama (BRA)",
         187,
         82
        ],
        [
         "Uruguay",
         9,
         "FW",
         "SUAREZ Luis",
         "1987-01-24",
         "SUAREZ",
         "FC Barcelona (ESP)",
         182,
         85
        ],
        [
         "Uruguay",
         18,
         "FW",
         "GOMEZ Maximiliano",
         "1996-08-14",
         "M. GOMEZ",
         "Celta Vigo (ESP)",
         186,
         85
        ],
        [
         "Uruguay",
         19,
         "DF",
         "COATES Sebastian",
         "1990-10-07",
         "COATES",
         "Sporting CP (POR)",
         196,
         89
        ]
       ],
       "datasetInfos": [],
       "dbfsResultPath": null,
       "isJsonSchema": true,
       "metadata": {},
       "overflow": false,
       "plotOptions": {
        "customPlotOptions": {},
        "displayType": "table",
        "pivotAggregation": null,
        "pivotColumns": null,
        "xColumns": null,
        "yColumns": null
       },
       "removedWidgets": [],
       "schema": [
        {
         "metadata": "{}",
         "name": "Team",
         "type": "\"string\""
        },
        {
         "metadata": "{}",
         "name": "#",
         "type": "\"integer\""
        },
        {
         "metadata": "{}",
         "name": "Pos.",
         "type": "\"string\""
        },
        {
         "metadata": "{}",
         "name": "FIFA Popular Name",
         "type": "\"string\""
        },
        {
         "metadata": "{\"__detected_date_formats\":\"d.M.yyyy\"}",
         "name": "Birth Date",
         "type": "\"date\""
        },
        {
         "metadata": "{}",
         "name": "Shirt Name",
         "type": "\"string\""
        },
        {
         "metadata": "{}",
         "name": "Club",
         "type": "\"string\""
        },
        {
         "metadata": "{}",
         "name": "Height",
         "type": "\"integer\""
        },
        {
         "metadata": "{}",
         "name": "Weight",
         "type": "\"integer\""
        }
       ],
       "type": "table"
      }
     },
     "output_type": "display_data"
    }
   ],
   "source": [
    "# é melhor de visualizar\n",
    "display(df)"
   ]
  },
  {
   "cell_type": "markdown",
   "metadata": {
    "application/vnd.databricks.v1+cell": {
     "cellMetadata": {},
     "inputWidgets": {},
     "nuid": "38fafbf3-e5ba-431d-9f66-dccc6752a955",
     "showTitle": false,
     "tableResultSettingsMap": {},
     "title": ""
    }
   },
   "source": [
    "## Verificar tipos de colunas\n",
    "---"
   ]
  },
  {
   "cell_type": "code",
   "execution_count": 0,
   "metadata": {
    "application/vnd.databricks.v1+cell": {
     "cellMetadata": {
      "byteLimit": 2048000,
      "rowLimit": 10000
     },
     "inputWidgets": {},
     "nuid": "c5087379-7fca-4d62-a2f9-74ed7f08b143",
     "showTitle": false,
     "tableResultSettingsMap": {},
     "title": ""
    }
   },
   "outputs": [
    {
     "name": "stdout",
     "output_type": "stream",
     "text": [
      "root\n",
      " |-- Team: string (nullable = true)\n",
      " |-- #: integer (nullable = true)\n",
      " |-- Pos.: string (nullable = true)\n",
      " |-- FIFA Popular Name: string (nullable = true)\n",
      " |-- Birth Date: date (nullable = true)\n",
      " |-- Shirt Name: string (nullable = true)\n",
      " |-- Club: string (nullable = true)\n",
      " |-- Height: integer (nullable = true)\n",
      " |-- Weight: integer (nullable = true)\n",
      "\n"
     ]
    }
   ],
   "source": [
    "# é como se fosse o df.info() do pandas\n",
    "df.printSchema()"
   ]
  },
  {
   "cell_type": "markdown",
   "metadata": {
    "application/vnd.databricks.v1+cell": {
     "cellMetadata": {},
     "inputWidgets": {},
     "nuid": "ca6f3a9c-6083-4dd2-9737-be605e4dc1db",
     "showTitle": false,
     "tableResultSettingsMap": {},
     "title": ""
    }
   },
   "source": [
    "## Verificando dados nulos\n",
    "---"
   ]
  },
  {
   "cell_type": "code",
   "execution_count": 0,
   "metadata": {
    "application/vnd.databricks.v1+cell": {
     "cellMetadata": {
      "byteLimit": 2048000,
      "rowLimit": 10000
     },
     "inputWidgets": {},
     "nuid": "dd639de7-4714-4ef2-a8db-cf3b12bb8a79",
     "showTitle": false,
     "tableResultSettingsMap": {},
     "title": ""
    }
   },
   "outputs": [
    {
     "data": {
      "text/plain": [
       "Team                 0\n",
       "#                    0\n",
       "Pos.                 0\n",
       "FIFA Popular Name    0\n",
       "Birth Date           0\n",
       "Shirt Name           0\n",
       "Club                 0\n",
       "Height               0\n",
       "Weight               0\n",
       "dtype: int64"
      ]
     },
     "execution_count": 11,
     "metadata": {},
     "output_type": "execute_result"
    }
   ],
   "source": [
    "# no caso de um df menor, transformar para pandas e fazer uma contagem de valores nulos\n",
    "# pois o pyspark não tem uma função nativa de verificação de nulos\n",
    "df.toPandas().isna().sum()"
   ]
  },
  {
   "cell_type": "code",
   "execution_count": 0,
   "metadata": {
    "application/vnd.databricks.v1+cell": {
     "cellMetadata": {
      "byteLimit": 2048000,
      "rowLimit": 10000
     },
     "inputWidgets": {},
     "nuid": "6a749635-fb83-4b31-b920-b86bb348a8ec",
     "showTitle": false,
     "tableResultSettingsMap": {},
     "title": ""
    }
   },
   "outputs": [
    {
     "name": "stdout",
     "output_type": "stream",
     "text": [
      "Team 0\n",
      "# 0\n"
     ]
    },
    {
     "data": {
      "text/plain": [
       "\u001b[0;31m---------------------------------------------------------------------------\u001b[0m\n",
       "\u001b[0;31mAnalysisException\u001b[0m                         Traceback (most recent call last)\n",
       "File \u001b[0;32m<command-4853991865760292>, line 3\u001b[0m\n",
       "\u001b[1;32m      1\u001b[0m \u001b[38;5;66;03m# jeito que funciona no caso de um df grande, utilizando pyspark mesmo\u001b[39;00m\n",
       "\u001b[1;32m      2\u001b[0m \u001b[38;5;28;01mfor\u001b[39;00m coluna \u001b[38;5;129;01min\u001b[39;00m df\u001b[38;5;241m.\u001b[39mcolumns:\n",
       "\u001b[0;32m----> 3\u001b[0m     \u001b[38;5;28mprint\u001b[39m(coluna, df\u001b[38;5;241m.\u001b[39mfilter(df[coluna]\u001b[38;5;241m.\u001b[39misNull())\u001b[38;5;241m.\u001b[39mcount())\n",
       "\n",
       "File \u001b[0;32m/databricks/spark/python/pyspark/sql/connect/dataframe.py:1861\u001b[0m, in \u001b[0;36mDataFrame.__getitem__\u001b[0;34m(self, item)\u001b[0m\n",
       "\u001b[1;32m   1858\u001b[0m             \u001b[38;5;66;03m# Try best to verify the column name with cached schema\u001b[39;00m\n",
       "\u001b[1;32m   1859\u001b[0m             \u001b[38;5;66;03m# If fails, fall back to the server side validation\u001b[39;00m\n",
       "\u001b[1;32m   1860\u001b[0m             \u001b[38;5;28;01mif\u001b[39;00m \u001b[38;5;129;01mnot\u001b[39;00m verify_col_name(item, \u001b[38;5;28mself\u001b[39m\u001b[38;5;241m.\u001b[39mschema):\n",
       "\u001b[0;32m-> 1861\u001b[0m                 \u001b[38;5;28mself\u001b[39m\u001b[38;5;241m.\u001b[39mselect(item)\u001b[38;5;241m.\u001b[39misLocal()\n",
       "\u001b[1;32m   1863\u001b[0m         \u001b[38;5;28;01mreturn\u001b[39;00m \u001b[38;5;28mself\u001b[39m\u001b[38;5;241m.\u001b[39m_col(item)\n",
       "\u001b[1;32m   1864\u001b[0m \u001b[38;5;28;01melif\u001b[39;00m \u001b[38;5;28misinstance\u001b[39m(item, Column):\n",
       "\n",
       "File \u001b[0;32m/databricks/spark/python/pyspark/sql/connect/dataframe.py:2008\u001b[0m, in \u001b[0;36mDataFrame.isLocal\u001b[0;34m(self)\u001b[0m\n",
       "\u001b[1;32m   2005\u001b[0m \u001b[38;5;129m@functools\u001b[39m\u001b[38;5;241m.\u001b[39mcache\n",
       "\u001b[1;32m   2006\u001b[0m \u001b[38;5;28;01mdef\u001b[39;00m \u001b[38;5;21misLocal\u001b[39m(\u001b[38;5;28mself\u001b[39m) \u001b[38;5;241m-\u001b[39m\u001b[38;5;241m>\u001b[39m \u001b[38;5;28mbool\u001b[39m:\n",
       "\u001b[1;32m   2007\u001b[0m     query \u001b[38;5;241m=\u001b[39m \u001b[38;5;28mself\u001b[39m\u001b[38;5;241m.\u001b[39m_plan\u001b[38;5;241m.\u001b[39mto_proto(\u001b[38;5;28mself\u001b[39m\u001b[38;5;241m.\u001b[39m_session\u001b[38;5;241m.\u001b[39mclient)\n",
       "\u001b[0;32m-> 2008\u001b[0m     result \u001b[38;5;241m=\u001b[39m \u001b[38;5;28mself\u001b[39m\u001b[38;5;241m.\u001b[39m_session\u001b[38;5;241m.\u001b[39mclient\u001b[38;5;241m.\u001b[39m_analyze(method\u001b[38;5;241m=\u001b[39m\u001b[38;5;124m\"\u001b[39m\u001b[38;5;124mis_local\u001b[39m\u001b[38;5;124m\"\u001b[39m, plan\u001b[38;5;241m=\u001b[39mquery)\u001b[38;5;241m.\u001b[39mis_local\n",
       "\u001b[1;32m   2009\u001b[0m     \u001b[38;5;28;01massert\u001b[39;00m result \u001b[38;5;129;01mis\u001b[39;00m \u001b[38;5;129;01mnot\u001b[39;00m \u001b[38;5;28;01mNone\u001b[39;00m\n",
       "\u001b[1;32m   2010\u001b[0m     \u001b[38;5;28;01mreturn\u001b[39;00m result\n",
       "\n",
       "File \u001b[0;32m/databricks/spark/python/pyspark/sql/connect/client/core.py:1540\u001b[0m, in \u001b[0;36mSparkConnectClient._analyze\u001b[0;34m(self, method, **kwargs)\u001b[0m\n",
       "\u001b[1;32m   1538\u001b[0m     \u001b[38;5;28;01mraise\u001b[39;00m SparkConnectException(\u001b[38;5;124m\"\u001b[39m\u001b[38;5;124mInvalid state during retry exception handling.\u001b[39m\u001b[38;5;124m\"\u001b[39m)\n",
       "\u001b[1;32m   1539\u001b[0m \u001b[38;5;28;01mexcept\u001b[39;00m \u001b[38;5;167;01mException\u001b[39;00m \u001b[38;5;28;01mas\u001b[39;00m error:\n",
       "\u001b[0;32m-> 1540\u001b[0m     \u001b[38;5;28mself\u001b[39m\u001b[38;5;241m.\u001b[39m_handle_error(error)\n",
       "\n",
       "File \u001b[0;32m/databricks/spark/python/pyspark/sql/connect/client/core.py:2047\u001b[0m, in \u001b[0;36mSparkConnectClient._handle_error\u001b[0;34m(self, error)\u001b[0m\n",
       "\u001b[1;32m   2045\u001b[0m \u001b[38;5;28mself\u001b[39m\u001b[38;5;241m.\u001b[39mthread_local\u001b[38;5;241m.\u001b[39minside_error_handling \u001b[38;5;241m=\u001b[39m \u001b[38;5;28;01mTrue\u001b[39;00m\n",
       "\u001b[1;32m   2046\u001b[0m \u001b[38;5;28;01mif\u001b[39;00m \u001b[38;5;28misinstance\u001b[39m(error, grpc\u001b[38;5;241m.\u001b[39mRpcError):\n",
       "\u001b[0;32m-> 2047\u001b[0m     \u001b[38;5;28mself\u001b[39m\u001b[38;5;241m.\u001b[39m_handle_rpc_error(error)\n",
       "\u001b[1;32m   2048\u001b[0m \u001b[38;5;28;01melif\u001b[39;00m \u001b[38;5;28misinstance\u001b[39m(error, \u001b[38;5;167;01mValueError\u001b[39;00m):\n",
       "\u001b[1;32m   2049\u001b[0m     \u001b[38;5;28;01mif\u001b[39;00m \u001b[38;5;124m\"\u001b[39m\u001b[38;5;124mCannot invoke RPC\u001b[39m\u001b[38;5;124m\"\u001b[39m \u001b[38;5;129;01min\u001b[39;00m \u001b[38;5;28mstr\u001b[39m(error) \u001b[38;5;129;01mand\u001b[39;00m \u001b[38;5;124m\"\u001b[39m\u001b[38;5;124mclosed\u001b[39m\u001b[38;5;124m\"\u001b[39m \u001b[38;5;129;01min\u001b[39;00m \u001b[38;5;28mstr\u001b[39m(error):\n",
       "\n",
       "File \u001b[0;32m/databricks/spark/python/pyspark/sql/connect/client/core.py:2149\u001b[0m, in \u001b[0;36mSparkConnectClient._handle_rpc_error\u001b[0;34m(self, rpc_error)\u001b[0m\n",
       "\u001b[1;32m   2134\u001b[0m                 \u001b[38;5;28;01mraise\u001b[39;00m \u001b[38;5;167;01mException\u001b[39;00m(\n",
       "\u001b[1;32m   2135\u001b[0m                     \u001b[38;5;124m\"\u001b[39m\u001b[38;5;124mPython versions in the Spark Connect client and server are different. \u001b[39m\u001b[38;5;124m\"\u001b[39m\n",
       "\u001b[1;32m   2136\u001b[0m                     \u001b[38;5;124m\"\u001b[39m\u001b[38;5;124mTo execute user-defined functions, client and server should have the \u001b[39m\u001b[38;5;124m\"\u001b[39m\n",
       "\u001b[0;32m   (...)\u001b[0m\n",
       "\u001b[1;32m   2145\u001b[0m                     \u001b[38;5;124m\"\u001b[39m\u001b[38;5;124mhttps://docs.databricks.com/en/release-notes/serverless.html.\u001b[39m\u001b[38;5;124m\"\u001b[39m\n",
       "\u001b[1;32m   2146\u001b[0m                 )\n",
       "\u001b[1;32m   2147\u001b[0m             \u001b[38;5;66;03m# END-EDGE\u001b[39;00m\n",
       "\u001b[0;32m-> 2149\u001b[0m             \u001b[38;5;28;01mraise\u001b[39;00m convert_exception(\n",
       "\u001b[1;32m   2150\u001b[0m                 info,\n",
       "\u001b[1;32m   2151\u001b[0m                 status\u001b[38;5;241m.\u001b[39mmessage,\n",
       "\u001b[1;32m   2152\u001b[0m                 \u001b[38;5;28mself\u001b[39m\u001b[38;5;241m.\u001b[39m_fetch_enriched_error(info),\n",
       "\u001b[1;32m   2153\u001b[0m                 \u001b[38;5;28mself\u001b[39m\u001b[38;5;241m.\u001b[39m_display_server_stack_trace(),\n",
       "\u001b[1;32m   2154\u001b[0m             ) \u001b[38;5;28;01mfrom\u001b[39;00m \u001b[38;5;28;01mNone\u001b[39;00m\n",
       "\u001b[1;32m   2156\u001b[0m     \u001b[38;5;28;01mraise\u001b[39;00m SparkConnectGrpcException(status\u001b[38;5;241m.\u001b[39mmessage) \u001b[38;5;28;01mfrom\u001b[39;00m \u001b[38;5;28;01mNone\u001b[39;00m\n",
       "\u001b[1;32m   2157\u001b[0m \u001b[38;5;28;01melse\u001b[39;00m:\n",
       "\n",
       "\u001b[0;31mAnalysisException\u001b[0m: Syntax error in attribute name: Pos..\n",
       "\n",
       "JVM stacktrace:\n",
       "org.apache.spark.sql.AnalysisException\n",
       "\tat org.apache.spark.sql.errors.DataTypeErrors$.attributeNameSyntaxError(DataTypeErrors.scala:151)\n",
       "\tat org.apache.spark.sql.catalyst.util.AttributeNameParser.e$1(AttributeNameParser.scala:29)\n",
       "\tat org.apache.spark.sql.catalyst.util.AttributeNameParser.parseAttributeName(AttributeNameParser.scala:53)\n",
       "\tat org.apache.spark.sql.catalyst.util.AttributeNameParser.parseAttributeName$(AttributeNameParser.scala:28)\n",
       "\tat org.apache.spark.sql.catalyst.analysis.UnresolvedAttribute$.parseAttributeName(unresolved.scala:337)\n",
       "\tat org.apache.spark.sql.catalyst.analysis.UnresolvedAttribute$.quotedString(unresolved.scala:356)\n",
       "\tat org.apache.spark.sql.connect.planner.SparkConnectPlanner.transformUnresolvedAttribute(SparkConnectPlanner.scala:1630)\n",
       "\tat org.apache.spark.sql.connect.planner.SparkConnectPlanner.doTransformExpression(SparkConnectPlanner.scala:1581)\n",
       "\tat org.apache.spark.sql.connect.planner.SparkConnectPlanner.transformExpression(SparkConnectPlanner.scala:1574)\n",
       "\tat org.apache.spark.sql.connect.planner.SparkConnectPlanner.$anonfun$transformProject$1(SparkConnectPlanner.scala:1547)\n",
       "\tat scala.collection.TraversableLike.$anonfun$map$1(TraversableLike.scala:286)\n",
       "\tat scala.collection.Iterator.foreach(Iterator.scala:943)\n",
       "\tat scala.collection.Iterator.foreach$(Iterator.scala:943)\n",
       "\tat scala.collection.AbstractIterator.foreach(Iterator.scala:1431)\n",
       "\tat scala.collection.IterableLike.foreach(IterableLike.scala:74)\n",
       "\tat scala.collection.IterableLike.foreach$(IterableLike.scala:73)\n",
       "\tat scala.collection.AbstractIterable.foreach(Iterable.scala:56)\n",
       "\tat scala.collection.TraversableLike.map(TraversableLike.scala:286)\n",
       "\tat scala.collection.TraversableLike.map$(TraversableLike.scala:279)\n",
       "\tat scala.collection.AbstractTraversable.map(Traversable.scala:108)\n",
       "\tat org.apache.spark.sql.connect.planner.SparkConnectPlanner.transformProject(SparkConnectPlanner.scala:1547)\n",
       "\tat org.apache.spark.sql.connect.planner.SparkConnectPlanner.$anonfun$transformRelation$1(SparkConnectPlanner.scala:177)\n",
       "\tat org.apache.spark.sql.connect.service.SessionHolder.$anonfun$usePlanCache$3(SessionHolder.scala:493)\n",
       "\tat scala.Option.getOrElse(Option.scala:189)\n",
       "\tat org.apache.spark.sql.connect.service.SessionHolder.usePlanCache(SessionHolder.scala:492)\n",
       "\tat org.apache.spark.sql.connect.planner.SparkConnectPlanner.transformRelation(SparkConnectPlanner.scala:171)\n",
       "\tat org.apache.spark.sql.connect.service.SparkConnectAnalyzeHandler.transformRelation$1(SparkConnectAnalyzeHandler.scala:62)\n",
       "\tat org.apache.spark.sql.connect.service.SparkConnectAnalyzeHandler.process(SparkConnectAnalyzeHandler.scala:115)\n",
       "\tat org.apache.spark.sql.connect.service.SparkConnectAnalyzeHandler.$anonfun$handle$1(SparkConnectAnalyzeHandler.scala:49)\n",
       "\tat org.apache.spark.sql.connect.service.SparkConnectAnalyzeHandler.$anonfun$handle$1$adapted(SparkConnectAnalyzeHandler.scala:48)\n",
       "\tat org.apache.spark.sql.connect.service.SessionHolder.$anonfun$withSession$2(SessionHolder.scala:356)\n",
       "\tat org.apache.spark.sql.SparkSession.withActive(SparkSession.scala:1180)\n",
       "\tat org.apache.spark.sql.connect.service.SessionHolder.$anonfun$withSession$1(SessionHolder.scala:356)\n",
       "\tat org.apache.spark.JobArtifactSet$.withActiveJobArtifactState(JobArtifactSet.scala:97)\n",
       "\tat org.apache.spark.sql.artifact.ArtifactManager.$anonfun$withResources$1(ArtifactManager.scala:84)\n",
       "\tat org.apache.spark.util.Utils$.withContextClassLoader(Utils.scala:239)\n",
       "\tat org.apache.spark.sql.artifact.ArtifactManager.withResources(ArtifactManager.scala:83)\n",
       "\tat org.apache.spark.sql.connect.service.SessionHolder.withSession(SessionHolder.scala:355)\n",
       "\tat org.apache.spark.sql.connect.service.SparkConnectAnalyzeHandler.handle(SparkConnectAnalyzeHandler.scala:48)\n",
       "\tat org.apache.spark.sql.connect.service.SparkConnectService.analyzePlan(SparkConnectService.scala:102)\n",
       "\tat org.apache.spark.connect.proto.SparkConnectServiceGrpc$MethodHandlers.invoke(SparkConnectServiceGrpc.java:801)\n",
       "\tat grpc_shaded.io.grpc.stub.ServerCalls$UnaryServerCallHandler$UnaryServerCallListener.onHalfClose(ServerCalls.java:182)\n",
       "\tat com.databricks.spark.connect.service.AuthenticationInterceptor$AuthenticatedServerCallListener.$anonfun$onHalfClose$1(AuthenticationInterceptor.scala:310)\n",
       "\tat scala.runtime.java8.JFunction0$mcV$sp.apply(JFunction0$mcV$sp.java:23)\n",
       "\tat com.databricks.unity.UCSEphemeralState$Handle.runWith(UCSEphemeralState.scala:51)\n",
       "\tat com.databricks.unity.HandleImpl.runWith(UCSHandle.scala:104)\n",
       "\tat com.databricks.spark.connect.service.RequestContext.$anonfun$runWith$3(RequestContext.scala:286)\n",
       "\tat com.databricks.spark.connect.service.RequestContext$.com$databricks$spark$connect$service$RequestContext$$withLocalProperties(RequestContext.scala:473)\n",
       "\tat com.databricks.spark.connect.service.RequestContext.$anonfun$runWith$2(RequestContext.scala:286)\n",
       "\tat com.databricks.logging.AttributionContextTracing.$anonfun$withAttributionContext$1(AttributionContextTracing.scala:48)\n",
       "\tat com.databricks.logging.AttributionContext$.$anonfun$withValue$1(AttributionContext.scala:276)\n",
       "\tat scala.util.DynamicVariable.withValue(DynamicVariable.scala:62)\n",
       "\tat com.databricks.logging.AttributionContext$.withValue(AttributionContext.scala:272)\n",
       "\tat com.databricks.logging.AttributionContextTracing.withAttributionContext(AttributionContextTracing.scala:46)\n",
       "\tat com.databricks.logging.AttributionContextTracing.withAttributionContext$(AttributionContextTracing.scala:43)\n",
       "\tat com.databricks.spark.util.PublicDBLogging.withAttributionContext(DatabricksSparkUsageLogger.scala:29)\n",
       "\tat com.databricks.spark.util.UniverseAttributionContextWrapper.withValue(AttributionContextUtils.scala:228)\n",
       "\tat com.databricks.spark.connect.service.RequestContext.$anonfun$runWith$1(RequestContext.scala:285)\n",
       "\tat com.databricks.spark.connect.service.RequestContext.withContext(RequestContext.scala:298)\n",
       "\tat com.databricks.spark.connect.service.RequestContext.runWith(RequestContext.scala:278)\n",
       "\tat com.databricks.spark.connect.service.AuthenticationInterceptor$AuthenticatedServerCallListener.onHalfClose(AuthenticationInterceptor.scala:310)\n",
       "\tat grpc_shaded.io.grpc.PartialForwardingServerCallListener.onHalfClose(PartialForwardingServerCallListener.java:35)\n",
       "\tat grpc_shaded.io.grpc.ForwardingServerCallListener.onHalfClose(ForwardingServerCallListener.java:23)\n",
       "\tat grpc_shaded.io.grpc.ForwardingServerCallListener$SimpleForwardingServerCallListener.onHalfClose(ForwardingServerCallListener.java:40)\n",
       "\tat grpc_shaded.io.grpc.internal.ServerCallImpl$ServerStreamListenerImpl.halfClosed(ServerCallImpl.java:351)\n",
       "\tat grpc_shaded.io.grpc.internal.ServerImpl$JumpToApplicationThreadServerStreamListener$1HalfClosed.runInContext(ServerImpl.java:861)\n",
       "\tat grpc_shaded.io.grpc.internal.ContextRunnable.run(ContextRunnable.java:37)\n",
       "\tat grpc_shaded.io.grpc.internal.SerializingExecutor.run(SerializingExecutor.java:133)\n",
       "\tat org.apache.spark.util.threads.SparkThreadLocalCapturingRunnable.$anonfun$run$1(SparkThreadLocalForwardingThreadPoolExecutor.scala:157)\n",
       "\tat scala.runtime.java8.JFunction0$mcV$sp.apply(JFunction0$mcV$sp.java:23)\n",
       "\tat com.databricks.spark.util.IdentityClaim$.withClaim(IdentityClaim.scala:48)\n",
       "\tat org.apache.spark.util.threads.SparkThreadLocalCapturingHelper.$anonfun$runWithCaptured$4(SparkThreadLocalForwardingThreadPoolExecutor.scala:113)\n",
       "\tat com.databricks.unity.UCSEphemeralState$Handle.runWith(UCSEphemeralState.scala:51)\n",
       "\tat org.apache.spark.util.threads.SparkThreadLocalCapturingHelper.runWithCaptured(SparkThreadLocalForwardingThreadPoolExecutor.scala:112)\n",
       "\tat org.apache.spark.util.threads.SparkThreadLocalCapturingHelper.runWithCaptured$(SparkThreadLocalForwardingThreadPoolExecutor.scala:89)\n",
       "\tat org.apache.spark.util.threads.SparkThreadLocalCapturingRunnable.runWithCaptured(SparkThreadLocalForwardingThreadPoolExecutor.scala:154)\n",
       "\tat org.apache.spark.util.threads.SparkThreadLocalCapturingRunnable.run(SparkThreadLocalForwardingThreadPoolExecutor.scala:157)\n",
       "\tat java.util.concurrent.ThreadPoolExecutor.runWorker(ThreadPoolExecutor.java:1149)\n",
       "\tat java.util.concurrent.ThreadPoolExecutor$Worker.run(ThreadPoolExecutor.java:624)\n",
       "\tat java.lang.Thread.run(Thread.java:750)"
      ]
     },
     "metadata": {
      "application/vnd.databricks.v1+output": {
       "addedWidgets": {},
       "arguments": {},
       "datasetInfos": [],
       "jupyterProps": {
        "ename": "AnalysisException",
        "evalue": "Syntax error in attribute name: Pos..\n\nJVM stacktrace:\norg.apache.spark.sql.AnalysisException\n\tat org.apache.spark.sql.errors.DataTypeErrors$.attributeNameSyntaxError(DataTypeErrors.scala:151)\n\tat org.apache.spark.sql.catalyst.util.AttributeNameParser.e$1(AttributeNameParser.scala:29)\n\tat org.apache.spark.sql.catalyst.util.AttributeNameParser.parseAttributeName(AttributeNameParser.scala:53)\n\tat org.apache.spark.sql.catalyst.util.AttributeNameParser.parseAttributeName$(AttributeNameParser.scala:28)\n\tat org.apache.spark.sql.catalyst.analysis.UnresolvedAttribute$.parseAttributeName(unresolved.scala:337)\n\tat org.apache.spark.sql.catalyst.analysis.UnresolvedAttribute$.quotedString(unresolved.scala:356)\n\tat org.apache.spark.sql.connect.planner.SparkConnectPlanner.transformUnresolvedAttribute(SparkConnectPlanner.scala:1630)\n\tat org.apache.spark.sql.connect.planner.SparkConnectPlanner.doTransformExpression(SparkConnectPlanner.scala:1581)\n\tat org.apache.spark.sql.connect.planner.SparkConnectPlanner.transformExpression(SparkConnectPlanner.scala:1574)\n\tat org.apache.spark.sql.connect.planner.SparkConnectPlanner.$anonfun$transformProject$1(SparkConnectPlanner.scala:1547)\n\tat scala.collection.TraversableLike.$anonfun$map$1(TraversableLike.scala:286)\n\tat scala.collection.Iterator.foreach(Iterator.scala:943)\n\tat scala.collection.Iterator.foreach$(Iterator.scala:943)\n\tat scala.collection.AbstractIterator.foreach(Iterator.scala:1431)\n\tat scala.collection.IterableLike.foreach(IterableLike.scala:74)\n\tat scala.collection.IterableLike.foreach$(IterableLike.scala:73)\n\tat scala.collection.AbstractIterable.foreach(Iterable.scala:56)\n\tat scala.collection.TraversableLike.map(TraversableLike.scala:286)\n\tat scala.collection.TraversableLike.map$(TraversableLike.scala:279)\n\tat scala.collection.AbstractTraversable.map(Traversable.scala:108)\n\tat org.apache.spark.sql.connect.planner.SparkConnectPlanner.transformProject(SparkConnectPlanner.scala:1547)\n\tat org.apache.spark.sql.connect.planner.SparkConnectPlanner.$anonfun$transformRelation$1(SparkConnectPlanner.scala:177)\n\tat org.apache.spark.sql.connect.service.SessionHolder.$anonfun$usePlanCache$3(SessionHolder.scala:493)\n\tat scala.Option.getOrElse(Option.scala:189)\n\tat org.apache.spark.sql.connect.service.SessionHolder.usePlanCache(SessionHolder.scala:492)\n\tat org.apache.spark.sql.connect.planner.SparkConnectPlanner.transformRelation(SparkConnectPlanner.scala:171)\n\tat org.apache.spark.sql.connect.service.SparkConnectAnalyzeHandler.transformRelation$1(SparkConnectAnalyzeHandler.scala:62)\n\tat org.apache.spark.sql.connect.service.SparkConnectAnalyzeHandler.process(SparkConnectAnalyzeHandler.scala:115)\n\tat org.apache.spark.sql.connect.service.SparkConnectAnalyzeHandler.$anonfun$handle$1(SparkConnectAnalyzeHandler.scala:49)\n\tat org.apache.spark.sql.connect.service.SparkConnectAnalyzeHandler.$anonfun$handle$1$adapted(SparkConnectAnalyzeHandler.scala:48)\n\tat org.apache.spark.sql.connect.service.SessionHolder.$anonfun$withSession$2(SessionHolder.scala:356)\n\tat org.apache.spark.sql.SparkSession.withActive(SparkSession.scala:1180)\n\tat org.apache.spark.sql.connect.service.SessionHolder.$anonfun$withSession$1(SessionHolder.scala:356)\n\tat org.apache.spark.JobArtifactSet$.withActiveJobArtifactState(JobArtifactSet.scala:97)\n\tat org.apache.spark.sql.artifact.ArtifactManager.$anonfun$withResources$1(ArtifactManager.scala:84)\n\tat org.apache.spark.util.Utils$.withContextClassLoader(Utils.scala:239)\n\tat org.apache.spark.sql.artifact.ArtifactManager.withResources(ArtifactManager.scala:83)\n\tat org.apache.spark.sql.connect.service.SessionHolder.withSession(SessionHolder.scala:355)\n\tat org.apache.spark.sql.connect.service.SparkConnectAnalyzeHandler.handle(SparkConnectAnalyzeHandler.scala:48)\n\tat org.apache.spark.sql.connect.service.SparkConnectService.analyzePlan(SparkConnectService.scala:102)\n\tat org.apache.spark.connect.proto.SparkConnectServiceGrpc$MethodHandlers.invoke(SparkConnectServiceGrpc.java:801)\n\tat grpc_shaded.io.grpc.stub.ServerCalls$UnaryServerCallHandler$UnaryServerCallListener.onHalfClose(ServerCalls.java:182)\n\tat com.databricks.spark.connect.service.AuthenticationInterceptor$AuthenticatedServerCallListener.$anonfun$onHalfClose$1(AuthenticationInterceptor.scala:310)\n\tat scala.runtime.java8.JFunction0$mcV$sp.apply(JFunction0$mcV$sp.java:23)\n\tat com.databricks.unity.UCSEphemeralState$Handle.runWith(UCSEphemeralState.scala:51)\n\tat com.databricks.unity.HandleImpl.runWith(UCSHandle.scala:104)\n\tat com.databricks.spark.connect.service.RequestContext.$anonfun$runWith$3(RequestContext.scala:286)\n\tat com.databricks.spark.connect.service.RequestContext$.com$databricks$spark$connect$service$RequestContext$$withLocalProperties(RequestContext.scala:473)\n\tat com.databricks.spark.connect.service.RequestContext.$anonfun$runWith$2(RequestContext.scala:286)\n\tat com.databricks.logging.AttributionContextTracing.$anonfun$withAttributionContext$1(AttributionContextTracing.scala:48)\n\tat com.databricks.logging.AttributionContext$.$anonfun$withValue$1(AttributionContext.scala:276)\n\tat scala.util.DynamicVariable.withValue(DynamicVariable.scala:62)\n\tat com.databricks.logging.AttributionContext$.withValue(AttributionContext.scala:272)\n\tat com.databricks.logging.AttributionContextTracing.withAttributionContext(AttributionContextTracing.scala:46)\n\tat com.databricks.logging.AttributionContextTracing.withAttributionContext$(AttributionContextTracing.scala:43)\n\tat com.databricks.spark.util.PublicDBLogging.withAttributionContext(DatabricksSparkUsageLogger.scala:29)\n\tat com.databricks.spark.util.UniverseAttributionContextWrapper.withValue(AttributionContextUtils.scala:228)\n\tat com.databricks.spark.connect.service.RequestContext.$anonfun$runWith$1(RequestContext.scala:285)\n\tat com.databricks.spark.connect.service.RequestContext.withContext(RequestContext.scala:298)\n\tat com.databricks.spark.connect.service.RequestContext.runWith(RequestContext.scala:278)\n\tat com.databricks.spark.connect.service.AuthenticationInterceptor$AuthenticatedServerCallListener.onHalfClose(AuthenticationInterceptor.scala:310)\n\tat grpc_shaded.io.grpc.PartialForwardingServerCallListener.onHalfClose(PartialForwardingServerCallListener.java:35)\n\tat grpc_shaded.io.grpc.ForwardingServerCallListener.onHalfClose(ForwardingServerCallListener.java:23)\n\tat grpc_shaded.io.grpc.ForwardingServerCallListener$SimpleForwardingServerCallListener.onHalfClose(ForwardingServerCallListener.java:40)\n\tat grpc_shaded.io.grpc.internal.ServerCallImpl$ServerStreamListenerImpl.halfClosed(ServerCallImpl.java:351)\n\tat grpc_shaded.io.grpc.internal.ServerImpl$JumpToApplicationThreadServerStreamListener$1HalfClosed.runInContext(ServerImpl.java:861)\n\tat grpc_shaded.io.grpc.internal.ContextRunnable.run(ContextRunnable.java:37)\n\tat grpc_shaded.io.grpc.internal.SerializingExecutor.run(SerializingExecutor.java:133)\n\tat org.apache.spark.util.threads.SparkThreadLocalCapturingRunnable.$anonfun$run$1(SparkThreadLocalForwardingThreadPoolExecutor.scala:157)\n\tat scala.runtime.java8.JFunction0$mcV$sp.apply(JFunction0$mcV$sp.java:23)\n\tat com.databricks.spark.util.IdentityClaim$.withClaim(IdentityClaim.scala:48)\n\tat org.apache.spark.util.threads.SparkThreadLocalCapturingHelper.$anonfun$runWithCaptured$4(SparkThreadLocalForwardingThreadPoolExecutor.scala:113)\n\tat com.databricks.unity.UCSEphemeralState$Handle.runWith(UCSEphemeralState.scala:51)\n\tat org.apache.spark.util.threads.SparkThreadLocalCapturingHelper.runWithCaptured(SparkThreadLocalForwardingThreadPoolExecutor.scala:112)\n\tat org.apache.spark.util.threads.SparkThreadLocalCapturingHelper.runWithCaptured$(SparkThreadLocalForwardingThreadPoolExecutor.scala:89)\n\tat org.apache.spark.util.threads.SparkThreadLocalCapturingRunnable.runWithCaptured(SparkThreadLocalForwardingThreadPoolExecutor.scala:154)\n\tat org.apache.spark.util.threads.SparkThreadLocalCapturingRunnable.run(SparkThreadLocalForwardingThreadPoolExecutor.scala:157)\n\tat java.util.concurrent.ThreadPoolExecutor.runWorker(ThreadPoolExecutor.java:1149)\n\tat java.util.concurrent.ThreadPoolExecutor$Worker.run(ThreadPoolExecutor.java:624)\n\tat java.lang.Thread.run(Thread.java:750)"
       },
       "metadata": {
        "errorSummary": "Syntax error in attribute name: Pos.."
       },
       "removedWidgets": [],
       "sqlProps": {
        "errorClass": "_LEGACY_ERROR_TEMP_1049",
        "pysparkCallSite": null,
        "pysparkFragment": null,
        "sqlState": null,
        "stackTrace": null,
        "startIndex": null,
        "stopIndex": null
       },
       "stackFrames": [
        "\u001b[0;31m---------------------------------------------------------------------------\u001b[0m",
        "\u001b[0;31mAnalysisException\u001b[0m                         Traceback (most recent call last)",
        "File \u001b[0;32m<command-4853991865760292>, line 3\u001b[0m\n\u001b[1;32m      1\u001b[0m \u001b[38;5;66;03m# jeito que funciona no caso de um df grande, utilizando pyspark mesmo\u001b[39;00m\n\u001b[1;32m      2\u001b[0m \u001b[38;5;28;01mfor\u001b[39;00m coluna \u001b[38;5;129;01min\u001b[39;00m df\u001b[38;5;241m.\u001b[39mcolumns:\n\u001b[0;32m----> 3\u001b[0m     \u001b[38;5;28mprint\u001b[39m(coluna, df\u001b[38;5;241m.\u001b[39mfilter(df[coluna]\u001b[38;5;241m.\u001b[39misNull())\u001b[38;5;241m.\u001b[39mcount())\n",
        "File \u001b[0;32m/databricks/spark/python/pyspark/sql/connect/dataframe.py:1861\u001b[0m, in \u001b[0;36mDataFrame.__getitem__\u001b[0;34m(self, item)\u001b[0m\n\u001b[1;32m   1858\u001b[0m             \u001b[38;5;66;03m# Try best to verify the column name with cached schema\u001b[39;00m\n\u001b[1;32m   1859\u001b[0m             \u001b[38;5;66;03m# If fails, fall back to the server side validation\u001b[39;00m\n\u001b[1;32m   1860\u001b[0m             \u001b[38;5;28;01mif\u001b[39;00m \u001b[38;5;129;01mnot\u001b[39;00m verify_col_name(item, \u001b[38;5;28mself\u001b[39m\u001b[38;5;241m.\u001b[39mschema):\n\u001b[0;32m-> 1861\u001b[0m                 \u001b[38;5;28mself\u001b[39m\u001b[38;5;241m.\u001b[39mselect(item)\u001b[38;5;241m.\u001b[39misLocal()\n\u001b[1;32m   1863\u001b[0m         \u001b[38;5;28;01mreturn\u001b[39;00m \u001b[38;5;28mself\u001b[39m\u001b[38;5;241m.\u001b[39m_col(item)\n\u001b[1;32m   1864\u001b[0m \u001b[38;5;28;01melif\u001b[39;00m \u001b[38;5;28misinstance\u001b[39m(item, Column):\n",
        "File \u001b[0;32m/databricks/spark/python/pyspark/sql/connect/dataframe.py:2008\u001b[0m, in \u001b[0;36mDataFrame.isLocal\u001b[0;34m(self)\u001b[0m\n\u001b[1;32m   2005\u001b[0m \u001b[38;5;129m@functools\u001b[39m\u001b[38;5;241m.\u001b[39mcache\n\u001b[1;32m   2006\u001b[0m \u001b[38;5;28;01mdef\u001b[39;00m \u001b[38;5;21misLocal\u001b[39m(\u001b[38;5;28mself\u001b[39m) \u001b[38;5;241m-\u001b[39m\u001b[38;5;241m>\u001b[39m \u001b[38;5;28mbool\u001b[39m:\n\u001b[1;32m   2007\u001b[0m     query \u001b[38;5;241m=\u001b[39m \u001b[38;5;28mself\u001b[39m\u001b[38;5;241m.\u001b[39m_plan\u001b[38;5;241m.\u001b[39mto_proto(\u001b[38;5;28mself\u001b[39m\u001b[38;5;241m.\u001b[39m_session\u001b[38;5;241m.\u001b[39mclient)\n\u001b[0;32m-> 2008\u001b[0m     result \u001b[38;5;241m=\u001b[39m \u001b[38;5;28mself\u001b[39m\u001b[38;5;241m.\u001b[39m_session\u001b[38;5;241m.\u001b[39mclient\u001b[38;5;241m.\u001b[39m_analyze(method\u001b[38;5;241m=\u001b[39m\u001b[38;5;124m\"\u001b[39m\u001b[38;5;124mis_local\u001b[39m\u001b[38;5;124m\"\u001b[39m, plan\u001b[38;5;241m=\u001b[39mquery)\u001b[38;5;241m.\u001b[39mis_local\n\u001b[1;32m   2009\u001b[0m     \u001b[38;5;28;01massert\u001b[39;00m result \u001b[38;5;129;01mis\u001b[39;00m \u001b[38;5;129;01mnot\u001b[39;00m \u001b[38;5;28;01mNone\u001b[39;00m\n\u001b[1;32m   2010\u001b[0m     \u001b[38;5;28;01mreturn\u001b[39;00m result\n",
        "File \u001b[0;32m/databricks/spark/python/pyspark/sql/connect/client/core.py:1540\u001b[0m, in \u001b[0;36mSparkConnectClient._analyze\u001b[0;34m(self, method, **kwargs)\u001b[0m\n\u001b[1;32m   1538\u001b[0m     \u001b[38;5;28;01mraise\u001b[39;00m SparkConnectException(\u001b[38;5;124m\"\u001b[39m\u001b[38;5;124mInvalid state during retry exception handling.\u001b[39m\u001b[38;5;124m\"\u001b[39m)\n\u001b[1;32m   1539\u001b[0m \u001b[38;5;28;01mexcept\u001b[39;00m \u001b[38;5;167;01mException\u001b[39;00m \u001b[38;5;28;01mas\u001b[39;00m error:\n\u001b[0;32m-> 1540\u001b[0m     \u001b[38;5;28mself\u001b[39m\u001b[38;5;241m.\u001b[39m_handle_error(error)\n",
        "File \u001b[0;32m/databricks/spark/python/pyspark/sql/connect/client/core.py:2047\u001b[0m, in \u001b[0;36mSparkConnectClient._handle_error\u001b[0;34m(self, error)\u001b[0m\n\u001b[1;32m   2045\u001b[0m \u001b[38;5;28mself\u001b[39m\u001b[38;5;241m.\u001b[39mthread_local\u001b[38;5;241m.\u001b[39minside_error_handling \u001b[38;5;241m=\u001b[39m \u001b[38;5;28;01mTrue\u001b[39;00m\n\u001b[1;32m   2046\u001b[0m \u001b[38;5;28;01mif\u001b[39;00m \u001b[38;5;28misinstance\u001b[39m(error, grpc\u001b[38;5;241m.\u001b[39mRpcError):\n\u001b[0;32m-> 2047\u001b[0m     \u001b[38;5;28mself\u001b[39m\u001b[38;5;241m.\u001b[39m_handle_rpc_error(error)\n\u001b[1;32m   2048\u001b[0m \u001b[38;5;28;01melif\u001b[39;00m \u001b[38;5;28misinstance\u001b[39m(error, \u001b[38;5;167;01mValueError\u001b[39;00m):\n\u001b[1;32m   2049\u001b[0m     \u001b[38;5;28;01mif\u001b[39;00m \u001b[38;5;124m\"\u001b[39m\u001b[38;5;124mCannot invoke RPC\u001b[39m\u001b[38;5;124m\"\u001b[39m \u001b[38;5;129;01min\u001b[39;00m \u001b[38;5;28mstr\u001b[39m(error) \u001b[38;5;129;01mand\u001b[39;00m \u001b[38;5;124m\"\u001b[39m\u001b[38;5;124mclosed\u001b[39m\u001b[38;5;124m\"\u001b[39m \u001b[38;5;129;01min\u001b[39;00m \u001b[38;5;28mstr\u001b[39m(error):\n",
        "File \u001b[0;32m/databricks/spark/python/pyspark/sql/connect/client/core.py:2149\u001b[0m, in \u001b[0;36mSparkConnectClient._handle_rpc_error\u001b[0;34m(self, rpc_error)\u001b[0m\n\u001b[1;32m   2134\u001b[0m                 \u001b[38;5;28;01mraise\u001b[39;00m \u001b[38;5;167;01mException\u001b[39;00m(\n\u001b[1;32m   2135\u001b[0m                     \u001b[38;5;124m\"\u001b[39m\u001b[38;5;124mPython versions in the Spark Connect client and server are different. \u001b[39m\u001b[38;5;124m\"\u001b[39m\n\u001b[1;32m   2136\u001b[0m                     \u001b[38;5;124m\"\u001b[39m\u001b[38;5;124mTo execute user-defined functions, client and server should have the \u001b[39m\u001b[38;5;124m\"\u001b[39m\n\u001b[0;32m   (...)\u001b[0m\n\u001b[1;32m   2145\u001b[0m                     \u001b[38;5;124m\"\u001b[39m\u001b[38;5;124mhttps://docs.databricks.com/en/release-notes/serverless.html.\u001b[39m\u001b[38;5;124m\"\u001b[39m\n\u001b[1;32m   2146\u001b[0m                 )\n\u001b[1;32m   2147\u001b[0m             \u001b[38;5;66;03m# END-EDGE\u001b[39;00m\n\u001b[0;32m-> 2149\u001b[0m             \u001b[38;5;28;01mraise\u001b[39;00m convert_exception(\n\u001b[1;32m   2150\u001b[0m                 info,\n\u001b[1;32m   2151\u001b[0m                 status\u001b[38;5;241m.\u001b[39mmessage,\n\u001b[1;32m   2152\u001b[0m                 \u001b[38;5;28mself\u001b[39m\u001b[38;5;241m.\u001b[39m_fetch_enriched_error(info),\n\u001b[1;32m   2153\u001b[0m                 \u001b[38;5;28mself\u001b[39m\u001b[38;5;241m.\u001b[39m_display_server_stack_trace(),\n\u001b[1;32m   2154\u001b[0m             ) \u001b[38;5;28;01mfrom\u001b[39;00m \u001b[38;5;28;01mNone\u001b[39;00m\n\u001b[1;32m   2156\u001b[0m     \u001b[38;5;28;01mraise\u001b[39;00m SparkConnectGrpcException(status\u001b[38;5;241m.\u001b[39mmessage) \u001b[38;5;28;01mfrom\u001b[39;00m \u001b[38;5;28;01mNone\u001b[39;00m\n\u001b[1;32m   2157\u001b[0m \u001b[38;5;28;01melse\u001b[39;00m:\n",
        "\u001b[0;31mAnalysisException\u001b[0m: Syntax error in attribute name: Pos..\n\nJVM stacktrace:\norg.apache.spark.sql.AnalysisException\n\tat org.apache.spark.sql.errors.DataTypeErrors$.attributeNameSyntaxError(DataTypeErrors.scala:151)\n\tat org.apache.spark.sql.catalyst.util.AttributeNameParser.e$1(AttributeNameParser.scala:29)\n\tat org.apache.spark.sql.catalyst.util.AttributeNameParser.parseAttributeName(AttributeNameParser.scala:53)\n\tat org.apache.spark.sql.catalyst.util.AttributeNameParser.parseAttributeName$(AttributeNameParser.scala:28)\n\tat org.apache.spark.sql.catalyst.analysis.UnresolvedAttribute$.parseAttributeName(unresolved.scala:337)\n\tat org.apache.spark.sql.catalyst.analysis.UnresolvedAttribute$.quotedString(unresolved.scala:356)\n\tat org.apache.spark.sql.connect.planner.SparkConnectPlanner.transformUnresolvedAttribute(SparkConnectPlanner.scala:1630)\n\tat org.apache.spark.sql.connect.planner.SparkConnectPlanner.doTransformExpression(SparkConnectPlanner.scala:1581)\n\tat org.apache.spark.sql.connect.planner.SparkConnectPlanner.transformExpression(SparkConnectPlanner.scala:1574)\n\tat org.apache.spark.sql.connect.planner.SparkConnectPlanner.$anonfun$transformProject$1(SparkConnectPlanner.scala:1547)\n\tat scala.collection.TraversableLike.$anonfun$map$1(TraversableLike.scala:286)\n\tat scala.collection.Iterator.foreach(Iterator.scala:943)\n\tat scala.collection.Iterator.foreach$(Iterator.scala:943)\n\tat scala.collection.AbstractIterator.foreach(Iterator.scala:1431)\n\tat scala.collection.IterableLike.foreach(IterableLike.scala:74)\n\tat scala.collection.IterableLike.foreach$(IterableLike.scala:73)\n\tat scala.collection.AbstractIterable.foreach(Iterable.scala:56)\n\tat scala.collection.TraversableLike.map(TraversableLike.scala:286)\n\tat scala.collection.TraversableLike.map$(TraversableLike.scala:279)\n\tat scala.collection.AbstractTraversable.map(Traversable.scala:108)\n\tat org.apache.spark.sql.connect.planner.SparkConnectPlanner.transformProject(SparkConnectPlanner.scala:1547)\n\tat org.apache.spark.sql.connect.planner.SparkConnectPlanner.$anonfun$transformRelation$1(SparkConnectPlanner.scala:177)\n\tat org.apache.spark.sql.connect.service.SessionHolder.$anonfun$usePlanCache$3(SessionHolder.scala:493)\n\tat scala.Option.getOrElse(Option.scala:189)\n\tat org.apache.spark.sql.connect.service.SessionHolder.usePlanCache(SessionHolder.scala:492)\n\tat org.apache.spark.sql.connect.planner.SparkConnectPlanner.transformRelation(SparkConnectPlanner.scala:171)\n\tat org.apache.spark.sql.connect.service.SparkConnectAnalyzeHandler.transformRelation$1(SparkConnectAnalyzeHandler.scala:62)\n\tat org.apache.spark.sql.connect.service.SparkConnectAnalyzeHandler.process(SparkConnectAnalyzeHandler.scala:115)\n\tat org.apache.spark.sql.connect.service.SparkConnectAnalyzeHandler.$anonfun$handle$1(SparkConnectAnalyzeHandler.scala:49)\n\tat org.apache.spark.sql.connect.service.SparkConnectAnalyzeHandler.$anonfun$handle$1$adapted(SparkConnectAnalyzeHandler.scala:48)\n\tat org.apache.spark.sql.connect.service.SessionHolder.$anonfun$withSession$2(SessionHolder.scala:356)\n\tat org.apache.spark.sql.SparkSession.withActive(SparkSession.scala:1180)\n\tat org.apache.spark.sql.connect.service.SessionHolder.$anonfun$withSession$1(SessionHolder.scala:356)\n\tat org.apache.spark.JobArtifactSet$.withActiveJobArtifactState(JobArtifactSet.scala:97)\n\tat org.apache.spark.sql.artifact.ArtifactManager.$anonfun$withResources$1(ArtifactManager.scala:84)\n\tat org.apache.spark.util.Utils$.withContextClassLoader(Utils.scala:239)\n\tat org.apache.spark.sql.artifact.ArtifactManager.withResources(ArtifactManager.scala:83)\n\tat org.apache.spark.sql.connect.service.SessionHolder.withSession(SessionHolder.scala:355)\n\tat org.apache.spark.sql.connect.service.SparkConnectAnalyzeHandler.handle(SparkConnectAnalyzeHandler.scala:48)\n\tat org.apache.spark.sql.connect.service.SparkConnectService.analyzePlan(SparkConnectService.scala:102)\n\tat org.apache.spark.connect.proto.SparkConnectServiceGrpc$MethodHandlers.invoke(SparkConnectServiceGrpc.java:801)\n\tat grpc_shaded.io.grpc.stub.ServerCalls$UnaryServerCallHandler$UnaryServerCallListener.onHalfClose(ServerCalls.java:182)\n\tat com.databricks.spark.connect.service.AuthenticationInterceptor$AuthenticatedServerCallListener.$anonfun$onHalfClose$1(AuthenticationInterceptor.scala:310)\n\tat scala.runtime.java8.JFunction0$mcV$sp.apply(JFunction0$mcV$sp.java:23)\n\tat com.databricks.unity.UCSEphemeralState$Handle.runWith(UCSEphemeralState.scala:51)\n\tat com.databricks.unity.HandleImpl.runWith(UCSHandle.scala:104)\n\tat com.databricks.spark.connect.service.RequestContext.$anonfun$runWith$3(RequestContext.scala:286)\n\tat com.databricks.spark.connect.service.RequestContext$.com$databricks$spark$connect$service$RequestContext$$withLocalProperties(RequestContext.scala:473)\n\tat com.databricks.spark.connect.service.RequestContext.$anonfun$runWith$2(RequestContext.scala:286)\n\tat com.databricks.logging.AttributionContextTracing.$anonfun$withAttributionContext$1(AttributionContextTracing.scala:48)\n\tat com.databricks.logging.AttributionContext$.$anonfun$withValue$1(AttributionContext.scala:276)\n\tat scala.util.DynamicVariable.withValue(DynamicVariable.scala:62)\n\tat com.databricks.logging.AttributionContext$.withValue(AttributionContext.scala:272)\n\tat com.databricks.logging.AttributionContextTracing.withAttributionContext(AttributionContextTracing.scala:46)\n\tat com.databricks.logging.AttributionContextTracing.withAttributionContext$(AttributionContextTracing.scala:43)\n\tat com.databricks.spark.util.PublicDBLogging.withAttributionContext(DatabricksSparkUsageLogger.scala:29)\n\tat com.databricks.spark.util.UniverseAttributionContextWrapper.withValue(AttributionContextUtils.scala:228)\n\tat com.databricks.spark.connect.service.RequestContext.$anonfun$runWith$1(RequestContext.scala:285)\n\tat com.databricks.spark.connect.service.RequestContext.withContext(RequestContext.scala:298)\n\tat com.databricks.spark.connect.service.RequestContext.runWith(RequestContext.scala:278)\n\tat com.databricks.spark.connect.service.AuthenticationInterceptor$AuthenticatedServerCallListener.onHalfClose(AuthenticationInterceptor.scala:310)\n\tat grpc_shaded.io.grpc.PartialForwardingServerCallListener.onHalfClose(PartialForwardingServerCallListener.java:35)\n\tat grpc_shaded.io.grpc.ForwardingServerCallListener.onHalfClose(ForwardingServerCallListener.java:23)\n\tat grpc_shaded.io.grpc.ForwardingServerCallListener$SimpleForwardingServerCallListener.onHalfClose(ForwardingServerCallListener.java:40)\n\tat grpc_shaded.io.grpc.internal.ServerCallImpl$ServerStreamListenerImpl.halfClosed(ServerCallImpl.java:351)\n\tat grpc_shaded.io.grpc.internal.ServerImpl$JumpToApplicationThreadServerStreamListener$1HalfClosed.runInContext(ServerImpl.java:861)\n\tat grpc_shaded.io.grpc.internal.ContextRunnable.run(ContextRunnable.java:37)\n\tat grpc_shaded.io.grpc.internal.SerializingExecutor.run(SerializingExecutor.java:133)\n\tat org.apache.spark.util.threads.SparkThreadLocalCapturingRunnable.$anonfun$run$1(SparkThreadLocalForwardingThreadPoolExecutor.scala:157)\n\tat scala.runtime.java8.JFunction0$mcV$sp.apply(JFunction0$mcV$sp.java:23)\n\tat com.databricks.spark.util.IdentityClaim$.withClaim(IdentityClaim.scala:48)\n\tat org.apache.spark.util.threads.SparkThreadLocalCapturingHelper.$anonfun$runWithCaptured$4(SparkThreadLocalForwardingThreadPoolExecutor.scala:113)\n\tat com.databricks.unity.UCSEphemeralState$Handle.runWith(UCSEphemeralState.scala:51)\n\tat org.apache.spark.util.threads.SparkThreadLocalCapturingHelper.runWithCaptured(SparkThreadLocalForwardingThreadPoolExecutor.scala:112)\n\tat org.apache.spark.util.threads.SparkThreadLocalCapturingHelper.runWithCaptured$(SparkThreadLocalForwardingThreadPoolExecutor.scala:89)\n\tat org.apache.spark.util.threads.SparkThreadLocalCapturingRunnable.runWithCaptured(SparkThreadLocalForwardingThreadPoolExecutor.scala:154)\n\tat org.apache.spark.util.threads.SparkThreadLocalCapturingRunnable.run(SparkThreadLocalForwardingThreadPoolExecutor.scala:157)\n\tat java.util.concurrent.ThreadPoolExecutor.runWorker(ThreadPoolExecutor.java:1149)\n\tat java.util.concurrent.ThreadPoolExecutor$Worker.run(ThreadPoolExecutor.java:624)\n\tat java.lang.Thread.run(Thread.java:750)"
       ],
       "type": "baseError"
      }
     },
     "output_type": "display_data"
    }
   ],
   "source": [
    "# jeito que funciona no caso de um df grande, utilizando pyspark mesmo\n",
    "for coluna in df.columns:\n",
    "    print(coluna, df.filter(df[coluna].isNull()).count())"
   ]
  },
  {
   "cell_type": "markdown",
   "metadata": {
    "application/vnd.databricks.v1+cell": {
     "cellMetadata": {},
     "inputWidgets": {},
     "nuid": "f7ba98ae-5f63-45d1-baa1-d81275980cf0",
     "showTitle": false,
     "tableResultSettingsMap": {},
     "title": ""
    }
   },
   "source": [
    "## Renomeando Colunas\n",
    "---"
   ]
  },
  {
   "cell_type": "code",
   "execution_count": 0,
   "metadata": {
    "application/vnd.databricks.v1+cell": {
     "cellMetadata": {
      "byteLimit": 2048000,
      "rowLimit": 10000
     },
     "inputWidgets": {},
     "nuid": "d59edbd7-9edb-4897-90c6-9e4f7001287a",
     "showTitle": false,
     "tableResultSettingsMap": {},
     "title": ""
    }
   },
   "outputs": [
    {
     "name": "stdout",
     "output_type": "stream",
     "text": [
      "+---------+------+-------+------------------+----------+-------------+--------------------+------+----+\n",
      "|  Selecao|Numero|Posicao|         Nome_FIFA|Nascimento|Nome Camiseta|                Time|Altura|Peso|\n",
      "+---------+------+-------+------------------+----------+-------------+--------------------+------+----+\n",
      "|Argentina|     3|     DF|TAGLIAFICO Nicolas|1992-08-31|   TAGLIAFICO|      AFC Ajax (NED)|   169|  65|\n",
      "|Argentina|    22|     MF|    PAVON Cristian|1996-01-21|        PAVÓN|CA Boca Juniors (...|   169|  65|\n",
      "|Argentina|    15|     MF|    LANZINI Manuel|1993-02-15|      LANZINI|West Ham United F...|   167|  66|\n",
      "|Argentina|    18|     DF|    SALVIO Eduardo|1990-07-13|       SALVIO|    SL Benfica (POR)|   167|  69|\n",
      "|Argentina|    10|     FW|      MESSI Lionel|1987-06-24|        MESSI|  FC Barcelona (ESP)|   170|  72|\n",
      "+---------+------+-------+------------------+----------+-------------+--------------------+------+----+\n",
      "only showing top 5 rows\n",
      "\n"
     ]
    }
   ],
   "source": [
    "# no pyspark não conseguimos usar o replace, igual no pandas, pois os dfs são imutáveis\n",
    "# temos que atribuir novamente a uma variável o df modificado\n",
    "# a \\ no final serve pra ignorar o próximo caractere, fazendo ela ignorar o 'enter' permitindo pular para a próxima linha\n",
    "df = df.withColumnRenamed('Team', 'Selecao').withColumnRenamed('#', 'Numero').withColumnRenamed('Pos.', 'Posicao')\\\n",
    "    .withColumnRenamed('FIFA Popular Name', 'Nome_FIFA').withColumnRenamed('Birth Date', 'Nascimento').withColumnRenamed('Shirt Name', 'Nome Camiseta')\\\n",
    "    .withColumnRenamed('Club', 'Time').withColumnRenamed('Height', 'Altura').withColumnRenamed('Weight', 'Peso')\n",
    "\n",
    "df.show(5)"
   ]
  },
  {
   "cell_type": "code",
   "execution_count": 0,
   "metadata": {
    "application/vnd.databricks.v1+cell": {
     "cellMetadata": {
      "byteLimit": 2048000,
      "rowLimit": 10000
     },
     "inputWidgets": {},
     "nuid": "de951a77-4be0-414e-934d-e45be0d2527f",
     "showTitle": false,
     "tableResultSettingsMap": {},
     "title": ""
    }
   },
   "outputs": [
    {
     "data": {
      "text/plain": [
       "['Selecao',\n",
       " 'Numero',\n",
       " 'Posicao',\n",
       " 'Nome_FIFA',\n",
       " 'Nascimento',\n",
       " 'Nome Camiseta',\n",
       " 'Time',\n",
       " 'Altura',\n",
       " 'Peso']"
      ]
     },
     "execution_count": 16,
     "metadata": {},
     "output_type": "execute_result"
    }
   ],
   "source": [
    "# mostra todas as colunas que temos no df\n",
    "df.columns"
   ]
  },
  {
   "cell_type": "code",
   "execution_count": 0,
   "metadata": {
    "application/vnd.databricks.v1+cell": {
     "cellMetadata": {
      "byteLimit": 2048000,
      "rowLimit": 10000
     },
     "inputWidgets": {},
     "nuid": "6e247d6d-81a5-47ca-9112-933bd1a9b0df",
     "showTitle": false,
     "tableResultSettingsMap": {},
     "title": ""
    }
   },
   "outputs": [
    {
     "name": "stdout",
     "output_type": "stream",
     "text": [
      "Selecao 0\n",
      "Numero 0\n",
      "Posicao 0\n",
      "Nome_FIFA 0\n",
      "Nascimento 0\n",
      "Nome Camiseta 0\n",
      "Time 0\n",
      "Altura 0\n",
      "Peso 0\n"
     ]
    }
   ],
   "source": [
    "# se for um df grande é demorado pois o spark não foi feito para rodar de maneira procedural (uma sequência única), mas sim de maneira paralela\n",
    "for coluna in df.columns:\n",
    "    print(coluna, df.filter(df[coluna].isNull()).count())"
   ]
  },
  {
   "cell_type": "markdown",
   "metadata": {
    "application/vnd.databricks.v1+cell": {
     "cellMetadata": {},
     "inputWidgets": {},
     "nuid": "7f92197a-72b8-419a-8742-247560f3d02e",
     "showTitle": false,
     "tableResultSettingsMap": {},
     "title": ""
    }
   },
   "source": [
    "## Selecionar Colunas\n",
    "---"
   ]
  },
  {
   "cell_type": "code",
   "execution_count": 0,
   "metadata": {
    "application/vnd.databricks.v1+cell": {
     "cellMetadata": {
      "byteLimit": 2048000,
      "rowLimit": 10000
     },
     "inputWidgets": {},
     "nuid": "8e372b84-cf29-4e88-a8c6-5f3fff62f80b",
     "showTitle": false,
     "tableResultSettingsMap": {},
     "title": ""
    }
   },
   "outputs": [
    {
     "name": "stdout",
     "output_type": "stream",
     "text": [
      "+---------+------------------+\n",
      "|  Selecao|         Nome_FIFA|\n",
      "+---------+------------------+\n",
      "|Argentina|TAGLIAFICO Nicolas|\n",
      "|Argentina|    PAVON Cristian|\n",
      "|Argentina|    LANZINI Manuel|\n",
      "|Argentina|    SALVIO Eduardo|\n",
      "|Argentina|      MESSI Lionel|\n",
      "|Argentina|  ANSALDI Cristian|\n",
      "|Argentina|      BIGLIA Lucas|\n",
      "|Argentina|       BANEGA Ever|\n",
      "|Argentina| MASCHERANO Javier|\n",
      "|Argentina|      DYBALA Paulo|\n",
      "|Argentina|     AGUERO Sergio|\n",
      "|Argentina|   HIGUAIN Gonzalo|\n",
      "|Argentina|    DI MARIA Angel|\n",
      "|Argentina|  LO CELSO Giovani|\n",
      "|Argentina|  MEZA Maximiliano|\n",
      "|Argentina|      ACUNA Marcos|\n",
      "|Argentina|CABALLERO Wilfredo|\n",
      "|Argentina|   MERCADO Gabriel|\n",
      "|Argentina|  OTAMENDI Nicolas|\n",
      "|Argentina|       ROJO Marcos|\n",
      "+---------+------------------+\n",
      "only showing top 20 rows\n",
      "\n"
     ]
    }
   ],
   "source": [
    "# tendo em vista que o pyspark é mesclado com o sql, utiliza-se um pouco da sintaxe do sql dentro do pyspark\n",
    "# o nome das colunas no select não é case sensitive, ou seja, vai ficar do jeito que eu escrever\n",
    "df.select('Selecao', 'Nome_FIFA').show()"
   ]
  },
  {
   "cell_type": "code",
   "execution_count": 0,
   "metadata": {
    "application/vnd.databricks.v1+cell": {
     "cellMetadata": {
      "byteLimit": 2048000,
      "rowLimit": 10000
     },
     "inputWidgets": {},
     "nuid": "d89ba384-fbff-47b1-a229-75e86afe7023",
     "showTitle": false,
     "tableResultSettingsMap": {},
     "title": ""
    }
   },
   "outputs": [
    {
     "name": "stdout",
     "output_type": "stream",
     "text": [
      "+---------+------+\n",
      "|  Selecao|Altura|\n",
      "+---------+------+\n",
      "|Argentina|   169|\n",
      "|Argentina|   169|\n",
      "|Argentina|   167|\n",
      "|Argentina|   167|\n",
      "|Argentina|   170|\n",
      "+---------+------+\n",
      "only showing top 5 rows\n",
      "\n"
     ]
    }
   ],
   "source": [
    "from pyspark.sql.functions import col\n",
    "# é necessário importar essa função pra utiliar ela\n",
    "df.select(col('Selecao'), col('Altura')).show(5)"
   ]
  },
  {
   "cell_type": "code",
   "execution_count": 0,
   "metadata": {
    "application/vnd.databricks.v1+cell": {
     "cellMetadata": {
      "byteLimit": 2048000,
      "rowLimit": 10000
     },
     "inputWidgets": {},
     "nuid": "40764261-06b7-45db-a0da-b90fd6432046",
     "showTitle": false,
     "tableResultSettingsMap": {},
     "title": ""
    }
   },
   "outputs": [
    {
     "name": "stdout",
     "output_type": "stream",
     "text": [
      "+---------+\n",
      "|  Selecao|\n",
      "+---------+\n",
      "|Argentina|\n",
      "|Argentina|\n",
      "|Argentina|\n",
      "|Argentina|\n",
      "|Argentina|\n",
      "+---------+\n",
      "only showing top 5 rows\n",
      "\n"
     ]
    }
   ],
   "source": [
    "df.select(df['Selecao']).show(5)"
   ]
  },
  {
   "cell_type": "markdown",
   "metadata": {
    "application/vnd.databricks.v1+cell": {
     "cellMetadata": {},
     "inputWidgets": {},
     "nuid": "f7b48d5e-338c-48b9-8059-2ef7e5cb28f1",
     "showTitle": false,
     "tableResultSettingsMap": {},
     "title": ""
    }
   },
   "source": [
    "## Selecionar Colunas com ALIAS\n",
    "---"
   ]
  },
  {
   "cell_type": "code",
   "execution_count": 0,
   "metadata": {
    "application/vnd.databricks.v1+cell": {
     "cellMetadata": {
      "byteLimit": 2048000,
      "rowLimit": 10000
     },
     "inputWidgets": {},
     "nuid": "1d1ecf57-f603-43ee-a0cb-7851f6260bc0",
     "showTitle": false,
     "tableResultSettingsMap": {},
     "title": ""
    }
   },
   "outputs": [
    {
     "data": {
      "text/plain": [
       "\u001b[0;31m---------------------------------------------------------------------------\u001b[0m\n",
       "\u001b[0;31mAttributeError\u001b[0m                            Traceback (most recent call last)\n",
       "File \u001b[0;32m<command-4853991865760310>, line 1\u001b[0m\n",
       "\u001b[0;32m----> 1\u001b[0m df\u001b[38;5;241m.\u001b[39mselect(\u001b[38;5;124m'\u001b[39m\u001b[38;5;124mSelecao\u001b[39m\u001b[38;5;124m'\u001b[39m\u001b[38;5;241m.\u001b[39malias(\u001b[38;5;124m'\u001b[39m\u001b[38;5;124mTime\u001b[39m\u001b[38;5;124m'\u001b[39m))\u001b[38;5;241m.\u001b[39mshow(\u001b[38;5;241m5\u001b[39m)\n",
       "\n",
       "\u001b[0;31mAttributeError\u001b[0m: 'str' object has no attribute 'alias'"
      ]
     },
     "metadata": {
      "application/vnd.databricks.v1+output": {
       "addedWidgets": {},
       "arguments": {},
       "datasetInfos": [],
       "jupyterProps": {
        "ename": "AttributeError",
        "evalue": "'str' object has no attribute 'alias'"
       },
       "metadata": {
        "errorSummary": "<span class='ansi-red-fg'>AttributeError</span>: 'str' object has no attribute 'alias'"
       },
       "removedWidgets": [],
       "sqlProps": null,
       "stackFrames": [
        "\u001b[0;31m---------------------------------------------------------------------------\u001b[0m",
        "\u001b[0;31mAttributeError\u001b[0m                            Traceback (most recent call last)",
        "File \u001b[0;32m<command-4853991865760310>, line 1\u001b[0m\n\u001b[0;32m----> 1\u001b[0m df\u001b[38;5;241m.\u001b[39mselect(\u001b[38;5;124m'\u001b[39m\u001b[38;5;124mSelecao\u001b[39m\u001b[38;5;124m'\u001b[39m\u001b[38;5;241m.\u001b[39malias(\u001b[38;5;124m'\u001b[39m\u001b[38;5;124mTime\u001b[39m\u001b[38;5;124m'\u001b[39m))\u001b[38;5;241m.\u001b[39mshow(\u001b[38;5;241m5\u001b[39m)\n",
        "\u001b[0;31mAttributeError\u001b[0m: 'str' object has no attribute 'alias'"
       ],
       "type": "baseError"
      }
     },
     "output_type": "display_data"
    }
   ],
   "source": [
    "df.select('Selecao'.alias('Time')).show(5)"
   ]
  },
  {
   "cell_type": "code",
   "execution_count": 0,
   "metadata": {
    "application/vnd.databricks.v1+cell": {
     "cellMetadata": {
      "byteLimit": 2048000,
      "rowLimit": 10000
     },
     "inputWidgets": {},
     "nuid": "b5b1aa27-be94-40bd-a762-cdefc089b988",
     "showTitle": false,
     "tableResultSettingsMap": {},
     "title": ""
    }
   },
   "outputs": [
    {
     "name": "stdout",
     "output_type": "stream",
     "text": [
      "+---------+\n",
      "|     Time|\n",
      "+---------+\n",
      "|Argentina|\n",
      "|Argentina|\n",
      "|Argentina|\n",
      "|Argentina|\n",
      "|Argentina|\n",
      "+---------+\n",
      "only showing top 5 rows\n",
      "\n"
     ]
    }
   ],
   "source": [
    "df.select(df['Selecao'].alias('Time')).show(5)"
   ]
  },
  {
   "cell_type": "code",
   "execution_count": 0,
   "metadata": {
    "application/vnd.databricks.v1+cell": {
     "cellMetadata": {
      "byteLimit": 2048000,
      "rowLimit": 10000
     },
     "inputWidgets": {},
     "nuid": "30d474d4-e079-42df-abac-9168d535d99a",
     "showTitle": false,
     "tableResultSettingsMap": {},
     "title": ""
    }
   },
   "outputs": [
    {
     "name": "stdout",
     "output_type": "stream",
     "text": [
      "+---------+\n",
      "|     Time|\n",
      "+---------+\n",
      "|Argentina|\n",
      "|Argentina|\n",
      "|Argentina|\n",
      "|Argentina|\n",
      "|Argentina|\n",
      "+---------+\n",
      "only showing top 5 rows\n",
      "\n"
     ]
    }
   ],
   "source": [
    "df.select(col('Selecao').alias('Time')).show(5)"
   ]
  },
  {
   "cell_type": "code",
   "execution_count": 0,
   "metadata": {
    "application/vnd.databricks.v1+cell": {
     "cellMetadata": {
      "byteLimit": 2048000,
      "rowLimit": 10000
     },
     "inputWidgets": {},
     "nuid": "da66de9d-ab8a-47f8-a861-5f490dbf6d32",
     "showTitle": false,
     "tableResultSettingsMap": {},
     "title": ""
    }
   },
   "outputs": [
    {
     "name": "stdout",
     "output_type": "stream",
     "text": [
      "+---------+------------------+------+\n",
      "|  Selecao|         Nome_FIFA|Altura|\n",
      "+---------+------------------+------+\n",
      "|Argentina|TAGLIAFICO Nicolas|   169|\n",
      "|Argentina|    PAVON Cristian|   169|\n",
      "|Argentina|    LANZINI Manuel|   167|\n",
      "|Argentina|    SALVIO Eduardo|   167|\n",
      "|Argentina|      MESSI Lionel|   170|\n",
      "+---------+------------------+------+\n",
      "only showing top 5 rows\n",
      "\n"
     ]
    }
   ],
   "source": [
    "# meio inútil mas funciona\n",
    "df.select('Selecao Nome_FIFA Altura'.split()).show(5)"
   ]
  }
 ],
 "metadata": {
  "application/vnd.databricks.v1+notebook": {
   "computePreferences": null,
   "dashboards": [],
   "environmentMetadata": {
    "base_environment": "",
    "client": "1"
   },
   "language": "python",
   "notebookMetadata": {
    "pythonIndentUnit": 4
   },
   "notebookName": "PySpark Fundamentos",
   "widgets": {}
  },
  "kernelspec": {
   "display_name": ".venv",
   "language": "python",
   "name": "python3"
  },
  "language_info": {
   "codemirror_mode": {
    "name": "ipython",
    "version": 3
   },
   "file_extension": ".py",
   "mimetype": "text/x-python",
   "name": "python",
   "nbconvert_exporter": "python",
   "pygments_lexer": "ipython3",
   "version": "3.12.3"
  }
 },
 "nbformat": 4,
 "nbformat_minor": 0
}
