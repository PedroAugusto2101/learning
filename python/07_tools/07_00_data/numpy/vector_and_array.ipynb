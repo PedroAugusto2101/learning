{
 "cells": [
  {
   "cell_type": "markdown",
   "metadata": {},
   "source": [
    "# **NumPy**\n",
    "---\n",
    "## **What is NumPy?**\n",
    "- NumPy is a **linear algebra library for Python**.\n",
    "- It serves as the **foundation** for many other data analysis libraries.\n",
    "- **Highly optimized and fast**, as its core functions are implemented in **C**.\n",
    "\n",
    "## **NumPy Arrays**\n",
    "- One of the **most powerful tools** in NumPy.\n",
    "- Can be visualized in two primary forms:\n",
    "  - **Vectors**: **1D arrays**, containing a single row or column of elements.\n",
    "  - **Matrices**: **2D arrays**, which can have multiple rows and columns (even if they contain only one row or column).\n",
    "\n",
    "## **Why Use NumPy?**\n",
    "- Efficient handling of **large datasets**.\n",
    "- **Optimized performance** compared to Python lists.\n",
    "- Essential for **scientific computing**, machine learning, and data analysis.\n",
    "\n",
    "### **How to install and import?**"
   ]
  },
  {
   "cell_type": "code",
   "execution_count": 2,
   "metadata": {},
   "outputs": [],
   "source": [
    "# !pip install numpy"
   ]
  },
  {
   "cell_type": "code",
   "execution_count": 3,
   "metadata": {},
   "outputs": [],
   "source": [
    "import numpy as np # labeling as 'np' to simplify the code"
   ]
  },
  {
   "cell_type": "code",
   "execution_count": 4,
   "metadata": {},
   "outputs": [],
   "source": [
    "my_list = [1, 2, 3]"
   ]
  },
  {
   "cell_type": "code",
   "execution_count": 5,
   "metadata": {},
   "outputs": [
    {
     "data": {
      "text/plain": [
       "[1, 2, 3]"
      ]
     },
     "execution_count": 5,
     "metadata": {},
     "output_type": "execute_result"
    }
   ],
   "source": [
    "my_list"
   ]
  },
  {
   "cell_type": "markdown",
   "metadata": {},
   "source": [
    "## **Function - `np.array`**\n",
    "- Creates an array object in NumPy\n",
    "- Parameters: np.array(object, dtype, copy, order, subok, ndmin)\n",
    "    - object: The input data, typically a list or list of lists\n",
    "    - dtype (optional): The desired data type of the array elements\n",
    "    - copy (optional): If True, the object is copied\n",
    "    - order (optional): The desired memory layout order ('C' for row-major, 'F' for column-major)\n",
    "    - subok (optional): If True, subclasses are passed through\n",
    "    - ndmin (optional): Specifies the minimum number of dimensions"
   ]
  },
  {
   "cell_type": "code",
   "execution_count": null,
   "metadata": {},
   "outputs": [
    {
     "data": {
      "text/plain": [
       "array([1, 2, 3])"
      ]
     },
     "execution_count": 6,
     "metadata": {},
     "output_type": "execute_result"
    }
   ],
   "source": [
    "np.array(my_list) # 1 dimensional array"
   ]
  },
  {
   "cell_type": "code",
   "execution_count": 7,
   "metadata": {},
   "outputs": [],
   "source": [
    "my_matrix = [[1, 2, 3], [4, 5, 6], [7, 8, 9]]"
   ]
  },
  {
   "cell_type": "code",
   "execution_count": 9,
   "metadata": {},
   "outputs": [
    {
     "data": {
      "text/plain": [
       "array([[1, 2, 3],\n",
       "       [4, 5, 6],\n",
       "       [7, 8, 9]])"
      ]
     },
     "execution_count": 9,
     "metadata": {},
     "output_type": "execute_result"
    }
   ],
   "source": [
    "np.array(my_matrix) # 2 dimensional array"
   ]
  },
  {
   "cell_type": "markdown",
   "metadata": {},
   "source": [
    "## **Function - `np.arange`**\n",
    "- Creates an array  with evenly spaced values\n",
    "- Parameters: np.arange(start, stop, step)\n",
    "  - start - starting value of the sequence\n",
    "  - stop - end value (exclusive, doesn't appear in the sequence)\n",
    "  - step - spacing between values"
   ]
  },
  {
   "cell_type": "code",
   "execution_count": null,
   "metadata": {},
   "outputs": [
    {
     "data": {
      "text/plain": [
       "array([0, 1, 2, 3, 4, 5, 6, 7, 8, 9])"
      ]
     },
     "execution_count": 10,
     "metadata": {},
     "output_type": "execute_result"
    }
   ],
   "source": [
    "np.arange(0, 10) "
   ]
  },
  {
   "cell_type": "code",
   "execution_count": null,
   "metadata": {},
   "outputs": [
    {
     "data": {
      "text/plain": [
       "array([0, 2, 4, 6, 8])"
      ]
     },
     "execution_count": 11,
     "metadata": {},
     "output_type": "execute_result"
    }
   ],
   "source": [
    "np.arange(0, 10, 2) "
   ]
  },
  {
   "cell_type": "markdown",
   "metadata": {},
   "source": [
    "## **Function - `np.zeros`**\n",
    "- Creates an array filled with zeros\n",
    "- Parameters: np.zeros(shape, dtype)\n",
    "  - shape: The shape of the array (e.g., (3, 4) for a 3x4 array)\n",
    "  - dtype (optional): The desired data type of the array elements"
   ]
  },
  {
   "cell_type": "code",
   "execution_count": 13,
   "metadata": {},
   "outputs": [],
   "source": [
    "arr = np.zeros(3)"
   ]
  },
  {
   "cell_type": "code",
   "execution_count": 14,
   "metadata": {},
   "outputs": [
    {
     "data": {
      "text/plain": [
       "array([0., 0., 0.])"
      ]
     },
     "execution_count": 14,
     "metadata": {},
     "output_type": "execute_result"
    }
   ],
   "source": [
    "arr"
   ]
  },
  {
   "cell_type": "code",
   "execution_count": 15,
   "metadata": {},
   "outputs": [
    {
     "data": {
      "text/plain": [
       "array([[0., 0., 0., 0.],\n",
       "       [0., 0., 0., 0.],\n",
       "       [0., 0., 0., 0.]])"
      ]
     },
     "execution_count": 15,
     "metadata": {},
     "output_type": "execute_result"
    }
   ],
   "source": [
    "arr = np.zeros((3, 4)) # 3 rows and 4 columns\n",
    "arr"
   ]
  },
  {
   "cell_type": "markdown",
   "metadata": {},
   "source": [
    "## **Function - `np.ones`**\n",
    "- Creates an array filled with ones in NumPy\n",
    "- Parameters: `np.ones(shape, dtype, order, like)`\n",
    "    - `shape`: The shape of the output array (tuple or int)\n",
    "    - `dtype` (optional): The desired data type of the array elements\n",
    "    - `order` (optional): Memory layout order ('C' for row-major, 'F' for column-major)\n",
    "    - `like` (optional): Reference array defining the output array’s attributes"
   ]
  },
  {
   "cell_type": "code",
   "execution_count": 16,
   "metadata": {},
   "outputs": [
    {
     "data": {
      "text/plain": [
       "array([[1., 1., 1.],\n",
       "       [1., 1., 1.],\n",
       "       [1., 1., 1.]])"
      ]
     },
     "execution_count": 16,
     "metadata": {},
     "output_type": "execute_result"
    }
   ],
   "source": [
    "np.ones((3, 3)) # 3 rows and 3 columns"
   ]
  },
  {
   "cell_type": "markdown",
   "metadata": {},
   "source": [
    "## **Function - `np.eye`**\n",
    "- Creates a 2D identity matrix in NumPy\n",
    "- Parameters: `np.eye(N, M, k, dtype, order, like)`\n",
    "    - `N`: Number of rows in the output matrix\n",
    "    - `M` (optional): Number of columns (default is `N`)\n",
    "    - `k` (optional): Index of the diagonal (0 for main diagonal, positive for upper, negative for lower)\n",
    "    - `dtype` (optional): The desired data type of the matrix elements\n",
    "    - `order` (optional): Memory layout order ('C' for row-major, 'F' for column-major)\n",
    "    - `like` (optional): Reference array defining the output array’s attributes\n"
   ]
  },
  {
   "cell_type": "code",
   "execution_count": 17,
   "metadata": {},
   "outputs": [
    {
     "data": {
      "text/plain": [
       "array([[1., 0., 0., 0.],\n",
       "       [0., 1., 0., 0.],\n",
       "       [0., 0., 1., 0.],\n",
       "       [0., 0., 0., 1.]])"
      ]
     },
     "execution_count": 17,
     "metadata": {},
     "output_type": "execute_result"
    }
   ],
   "source": [
    "np.eye(4)"
   ]
  },
  {
   "cell_type": "markdown",
   "metadata": {},
   "source": [
    "## **Function - `np.linspace`**  \n",
    "- Generates evenly spaced values over a specified range in NumPy  \n",
    "- Parameters: `np.linspace(start, stop, num, endpoint, retstep, dtype, axis)`  \n",
    "    - `start`: The starting value of the sequence  \n",
    "    - `stop`: The ending value of the sequence  \n",
    "    - `num` (optional): Number of samples to generate (default is `50`)  \n",
    "    - `endpoint` (optional): If `True`, includes `stop`; if `False`, excludes `stop`  \n",
    "    - `retstep` (optional): If `True`, returns the step size along with the array  \n",
    "    - `dtype` (optional): The desired data type of the output array  \n",
    "    - `axis` (optional): The axis along which the values are stored (default is `0`)  \n"
   ]
  },
  {
   "cell_type": "code",
   "execution_count": 19,
   "metadata": {},
   "outputs": [
    {
     "data": {
      "text/plain": [
       "array([ 0.,  5., 10.])"
      ]
     },
     "execution_count": 19,
     "metadata": {},
     "output_type": "execute_result"
    }
   ],
   "source": [
    "np.linspace(0, 10, 3) # 3 numbers between 0 and 10"
   ]
  },
  {
   "cell_type": "markdown",
   "metadata": {},
   "source": [
    "## **Function - `np.random`**  \n",
    "- NumPy’s random module for generating random numbers  \n",
    "- Common functions:  \n",
    "    - `np.random.rand(d0, d1, ..., dn)`: Generates random values in `[0, 1)`  \n",
    "    - `np.random.randn(d0, d1, ..., dn)`: Generates samples from a standard normal distribution  \n",
    "    - `np.random.randint(low, high, size, dtype)`: Generates random integers in a given range  \n",
    "    - `np.random.random(size)`: Generates random floats in `[0, 1)`  \n",
    "    - `np.random.choice(a, size, replace, p)`: Randomly selects elements from an array  \n",
    "    - `np.random.seed(seed)`: Sets the random seed for reproducibility  \n"
   ]
  },
  {
   "cell_type": "code",
   "execution_count": 20,
   "metadata": {},
   "outputs": [
    {
     "data": {
      "text/plain": [
       "array([0.2551159 , 0.97718665, 0.97038453, 0.92767536, 0.38852482])"
      ]
     },
     "execution_count": 20,
     "metadata": {},
     "output_type": "execute_result"
    }
   ],
   "source": [
    "np.random.rand(5) # 5 random numbers between 0 and 1"
   ]
  },
  {
   "cell_type": "code",
   "execution_count": 21,
   "metadata": {},
   "outputs": [
    {
     "data": {
      "text/plain": [
       "array([[0.62410441, 0.60441859, 0.9966889 , 0.21071749],\n",
       "       [0.81017363, 0.39068305, 0.51831093, 0.55615279],\n",
       "       [0.46808878, 0.29376189, 0.69821935, 0.55784863],\n",
       "       [0.53935953, 0.04799325, 0.4816203 , 0.22671075],\n",
       "       [0.45822871, 0.42885918, 0.68708336, 0.75533128]])"
      ]
     },
     "execution_count": 21,
     "metadata": {},
     "output_type": "execute_result"
    }
   ],
   "source": [
    "np.random.rand(5, 4) # 5 rows and 4 columns of random numbers between 0 and 1"
   ]
  },
  {
   "cell_type": "code",
   "execution_count": 22,
   "metadata": {},
   "outputs": [
    {
     "data": {
      "text/plain": [
       "array([[[0.70022989, 0.83114165, 0.68998722],\n",
       "        [0.89354908, 0.17626338, 0.17799395],\n",
       "        [0.78806202, 0.22744074, 0.13046493],\n",
       "        [0.03385916, 0.89371839, 0.46052176]],\n",
       "\n",
       "       [[0.6920547 , 0.3928198 , 0.20406412],\n",
       "        [0.62499875, 0.68881866, 0.79385383],\n",
       "        [0.67680487, 0.01365964, 0.02456698],\n",
       "        [0.78160214, 0.76089877, 0.8966341 ]],\n",
       "\n",
       "       [[0.8806856 , 0.14630684, 0.76675896],\n",
       "        [0.33762797, 0.55821201, 0.51687587],\n",
       "        [0.43769361, 0.57514987, 0.30591697],\n",
       "        [0.54866399, 0.08677931, 0.15702761]],\n",
       "\n",
       "       [[0.74559318, 0.93590338, 0.09845336],\n",
       "        [0.59502829, 0.91205196, 0.43134052],\n",
       "        [0.92681728, 0.3862972 , 0.76342236],\n",
       "        [0.01611257, 0.6090748 , 0.6381193 ]],\n",
       "\n",
       "       [[0.71864629, 0.76738358, 0.7276156 ],\n",
       "        [0.12653846, 0.75876004, 0.92601597],\n",
       "        [0.98076167, 0.50736631, 0.08024637],\n",
       "        [0.79687262, 0.46768092, 0.70836305]]])"
      ]
     },
     "execution_count": 22,
     "metadata": {},
     "output_type": "execute_result"
    }
   ],
   "source": [
    "np.random.rand(5, 4, 3) # 5 rows, 4 columns, and 3 depth of random numbers between 0 and 1"
   ]
  },
  {
   "cell_type": "code",
   "execution_count": 24,
   "metadata": {},
   "outputs": [
    {
     "data": {
      "text/plain": [
       "array([-0.6308434 , -0.67457749, -0.6520939 ,  1.19422544])"
      ]
     },
     "execution_count": 24,
     "metadata": {},
     "output_type": "execute_result"
    }
   ],
   "source": [
    "np.random.randn(4) # 4 random numbers from a standard normal distribution"
   ]
  },
  {
   "cell_type": "code",
   "execution_count": 25,
   "metadata": {},
   "outputs": [
    {
     "data": {
      "text/plain": [
       "array([10, 13, 53, 10, 20, 20, 21, 64, 89, 72], dtype=int32)"
      ]
     },
     "execution_count": 25,
     "metadata": {},
     "output_type": "execute_result"
    }
   ],
   "source": [
    "np.random.randint(0, 100, 10) # 10 random integers between 0 and 100"
   ]
  },
  {
   "cell_type": "markdown",
   "metadata": {},
   "source": [
    "## **Function - `np.round`**  \n",
    "- Rounds elements of an array to the specified number of decimals in NumPy  \n",
    "- Parameters: `np.round(a, decimals, out)`  \n",
    "    - `a`: Input array to be rounded  \n",
    "    - `decimals` (optional): Number of decimal places (default is `0`)  \n",
    "    - `out` (optional): Output array to store the result (must have the same shape as `a`)  \n"
   ]
  },
  {
   "cell_type": "code",
   "execution_count": 26,
   "metadata": {},
   "outputs": [
    {
     "data": {
      "text/plain": [
       "array([84.,  8., 47., 47., 96.])"
      ]
     },
     "execution_count": 26,
     "metadata": {},
     "output_type": "execute_result"
    }
   ],
   "source": [
    "np.round(np.random.rand(5) * 100, 0) # 5 random numbers between 0 and 100, rounded to the nearest integer"
   ]
  },
  {
   "cell_type": "markdown",
   "metadata": {},
   "source": [
    "## **Method - `.reshape`**  \n",
    "- Reshapes an array without changing its data in NumPy  \n",
    "- Parameters: `array.reshape(newshape, order)`  \n",
    "    - `newshape`: The desired shape (tuple or int, must be compatible with the original size)  \n",
    "    - `order` (optional): Memory layout order ('C' for row-major, 'F' for column-major, 'A' for automatic)  "
   ]
  },
  {
   "cell_type": "code",
   "execution_count": 27,
   "metadata": {},
   "outputs": [],
   "source": [
    "arr = np.random.rand(25)"
   ]
  },
  {
   "cell_type": "code",
   "execution_count": 28,
   "metadata": {},
   "outputs": [
    {
     "data": {
      "text/plain": [
       "array([0.81916972, 0.54019973, 0.33087804, 0.97111584, 0.20402698,\n",
       "       0.7959643 , 0.14792776, 0.31136955, 0.05290453, 0.93175781,\n",
       "       0.13917552, 0.90431162, 0.0326843 , 0.80983984, 0.85725812,\n",
       "       0.24107486, 0.13168135, 0.33980873, 0.77779334, 0.73405625,\n",
       "       0.70037844, 0.09228726, 0.03037639, 0.76563703, 0.01085554])"
      ]
     },
     "execution_count": 28,
     "metadata": {},
     "output_type": "execute_result"
    }
   ],
   "source": [
    "arr"
   ]
  },
  {
   "cell_type": "code",
   "execution_count": null,
   "metadata": {},
   "outputs": [
    {
     "data": {
      "text/plain": [
       "array([[0.81916972, 0.54019973, 0.33087804, 0.97111584, 0.20402698],\n",
       "       [0.7959643 , 0.14792776, 0.31136955, 0.05290453, 0.93175781],\n",
       "       [0.13917552, 0.90431162, 0.0326843 , 0.80983984, 0.85725812],\n",
       "       [0.24107486, 0.13168135, 0.33980873, 0.77779334, 0.73405625],\n",
       "       [0.70037844, 0.09228726, 0.03037639, 0.76563703, 0.01085554]])"
      ]
     },
     "execution_count": 29,
     "metadata": {},
     "output_type": "execute_result"
    }
   ],
   "source": [
    "arr = arr.reshape((5, 5)) # reshaping the array to 5 rows and 5 columns"
   ]
  },
  {
   "cell_type": "code",
   "execution_count": null,
   "metadata": {},
   "outputs": [],
   "source": [
    "arr"
   ]
  }
 ],
 "metadata": {
  "kernelspec": {
   "display_name": "Python 3",
   "language": "python",
   "name": "python3"
  },
  "language_info": {
   "codemirror_mode": {
    "name": "ipython",
    "version": 3
   },
   "file_extension": ".py",
   "mimetype": "text/x-python",
   "name": "python",
   "nbconvert_exporter": "python",
   "pygments_lexer": "ipython3",
   "version": "3.12.0"
  }
 },
 "nbformat": 4,
 "nbformat_minor": 2
}
