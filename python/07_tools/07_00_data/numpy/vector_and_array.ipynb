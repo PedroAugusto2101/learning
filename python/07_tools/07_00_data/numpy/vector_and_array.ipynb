{
 "cells": [
  {
   "cell_type": "markdown",
   "metadata": {},
   "source": [
    "# NumPy\n",
    "---\n",
    "## **What is NumPy?**\n",
    "- NumPy is a **linear algebra library for Python**.\n",
    "- It serves as the **foundation** for many other data analysis libraries.\n",
    "- **Highly optimized and fast**, as its core functions are implemented in **C**.\n",
    "\n",
    "## **NumPy Arrays**\n",
    "- One of the **most powerful tools** in NumPy.\n",
    "- Can be visualized in two primary forms:\n",
    "  - **Vectors**: **1D arrays**, containing a single row or column of elements.\n",
    "  - **Matrices**: **2D arrays**, which can have multiple rows and columns (even if they contain only one row or column).\n",
    "\n",
    "## **Why Use NumPy?**\n",
    "- Efficient handling of **large datasets**.\n",
    "- **Optimized performance** compared to Python lists.\n",
    "- Essential for **scientific computing**, machine learning, and data analysis.\n"
   ]
  },
  {
   "cell_type": "code",
   "execution_count": null,
   "metadata": {},
   "outputs": [],
   "source": []
  }
 ],
 "metadata": {
  "language_info": {
   "name": "python"
  }
 },
 "nbformat": 4,
 "nbformat_minor": 2
}
